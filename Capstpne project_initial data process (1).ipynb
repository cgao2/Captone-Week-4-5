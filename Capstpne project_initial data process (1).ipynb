{
 "cells": [
  {
   "cell_type": "markdown",
   "metadata": {},
   "source": [
    "# **Main script**"
   ]
  },
  {
   "cell_type": "markdown",
   "metadata": {},
   "source": [
    "## Step 1. Import libraries"
   ]
  },
  {
   "cell_type": "code",
   "execution_count": null,
   "metadata": {},
   "outputs": [],
   "source": [
    "!conda install pandas --yes"
   ]
  },
  {
   "cell_type": "code",
   "execution_count": null,
   "metadata": {},
   "outputs": [],
   "source": [
    "import numpy as np # library to handle data in a vectorized manner\n",
    "import pandas as pd # library for data analsysis\n",
    "import requests \n",
    "#from bs4 import BeautifulSoup\n",
    "#import html5lib"
   ]
  },
  {
   "cell_type": "code",
   "execution_count": null,
   "metadata": {},
   "outputs": [],
   "source": [
    "import itertools\n",
    "\n",
    "import matplotlib.pyplot as plt\n",
    "from matplotlib.ticker import NullFormatter\n",
    "\n",
    "import matplotlib.ticker as ticker\n",
    "from sklearn import preprocessing\n",
    "%matplotlib inline\n",
    "# notice: installing seaborn might takes a few minutes\n",
    "!conda install -c anaconda seaborn -y\n",
    "import seaborn as sns"
   ]
  },
  {
   "cell_type": "code",
   "execution_count": null,
   "metadata": {},
   "outputs": [],
   "source": [
    "pd.set_option('display.max_columns', None)\n",
    "pd.set_option('display.max_rows', None)\n",
    "\n",
    "import json # library to handle JSON files\n",
    "\n",
    "!conda install -c conda-forge geopy --yes # uncomment this line if you haven't completed the Foursquare API lab\n",
    "from geopy.geocoders import Nominatim # convert an address into latitude and longitude values\n",
    "\n",
    "import requests # library to handle requests\n",
    "from pandas.io.json import json_normalize # tranform JSON file into a pandas dataframe\n",
    "\n",
    "# Matplotlib and associated plotting modules\n",
    "import matplotlib.cm as cm\n",
    "import matplotlib.colors as colors\n",
    "\n",
    "# import k-means from clustering stage\n",
    "from sklearn.cluster import KMeans\n",
    "\n",
    "!conda install -c conda-forge folium=0.11.0 --yes # uncomment this line if you haven't completed the Foursquare API lab\n",
    "import folium # map rendering library\n",
    "\n",
    "print('Libraries imported.')"
   ]
  },
  {
   "cell_type": "code",
   "execution_count": null,
   "metadata": {},
   "outputs": [],
   "source": [
    "!pip install geocoder #get latitude and longtitude if know address/postalcode"
   ]
  },
  {
   "cell_type": "code",
   "execution_count": null,
   "metadata": {},
   "outputs": [],
   "source": [
    "!conda install -c districtdatalabs yellowbrick --yes"
   ]
  },
  {
   "cell_type": "code",
   "execution_count": null,
   "metadata": {},
   "outputs": [],
   "source": [
    "!pip install lxml"
   ]
  },
  {
   "cell_type": "code",
   "execution_count": null,
   "metadata": {},
   "outputs": [],
   "source": [
    "!pip install BeautifulSoup4\n",
    "from bs4 import BeautifulSoup"
   ]
  },
  {
   "cell_type": "markdown",
   "metadata": {},
   "source": [
    "## Step 2. Import datas"
   ]
  },
  {
   "cell_type": "code",
   "execution_count": null,
   "metadata": {},
   "outputs": [],
   "source": [
    "import html5lib\n",
    "\n",
    "url = 'https://en.wikipedia.org/wiki/List_of_postal_codes_of_Canada:_T'\n",
    "\n",
    "dfs = pd.read_html(url)\n",
    "df = dfs[1] #import the nth table \n",
    "df.reset_index(drop=True, inplace=True)\n",
    "df"
   ]
  },
  {
   "cell_type": "code",
   "execution_count": null,
   "metadata": {},
   "outputs": [],
   "source": [
    "df.dtypes"
   ]
  },
  {
   "cell_type": "code",
   "execution_count": null,
   "metadata": {},
   "outputs": [],
   "source": [
    "type(df.index)"
   ]
  },
  {
   "cell_type": "code",
   "execution_count": null,
   "metadata": {},
   "outputs": [],
   "source": [
    "df.shape"
   ]
  },
  {
   "cell_type": "markdown",
   "metadata": {},
   "source": [
    "Only consider Edmonton related data"
   ]
  },
  {
   "cell_type": "code",
   "execution_count": null,
   "metadata": {},
   "outputs": [],
   "source": [
    "df_EDMONTON = df[df['Borough'] == 'Edmonton'].reset_index(drop=True)\n",
    "df_EDMONTON.tail()"
   ]
  },
  {
   "cell_type": "markdown",
   "metadata": {},
   "source": [
    "## Step 3. Clean data"
   ]
  },
  {
   "cell_type": "markdown",
   "metadata": {},
   "source": [
    "3.1 Let dataframe will consist of three columns: PostalCode, Borough, and Neighborhood"
   ]
  },
  {
   "cell_type": "code",
   "execution_count": null,
   "metadata": {},
   "outputs": [],
   "source": [
    "df=df.rename(columns={\"Postal Code\": \"PostalCode\"})\n",
    "df.head()"
   ]
  },
  {
   "cell_type": "markdown",
   "metadata": {},
   "source": [
    "3.2 Only process the cells that have an assigned borough. Ignore cells with a borough that is Not assigned"
   ]
  },
  {
   "cell_type": "code",
   "execution_count": null,
   "metadata": {},
   "outputs": [],
   "source": [
    "df=df[df['Borough']!='Not assigned']\n",
    "df.index = range(len(df))\n",
    "df.tail()"
   ]
  },
  {
   "cell_type": "markdown",
   "metadata": {},
   "source": [
    "3.3 Only process the cells that have an assigned LATITUDE or LONGITUDE. Ignore cells with a borough that is Not assigned."
   ]
  },
  {
   "cell_type": "code",
   "execution_count": null,
   "metadata": {},
   "outputs": [],
   "source": [
    "df=df[df['Latitude']!='Not assigned']\n",
    "df.index = range(len(df))\n",
    "df.tail()"
   ]
  },
  {
   "cell_type": "markdown",
   "metadata": {},
   "source": [
    "3.4 If a cell has a borough but a Not assigned neighborhood, then the neighborhood will be the same as the borough."
   ]
  },
  {
   "cell_type": "code",
   "execution_count": null,
   "metadata": {},
   "outputs": [],
   "source": [
    "#check if there any row contains \"Not assigned\" Neighborhood\n",
    "df1 = df[df['Neighborhood'].str.contains(\"Not assigned\")]\n",
    "#check numbers of rows in the df1 dataframe contains \"Not assigned\" Neighborhood\n",
    "a = len(df1.index) \n",
    "\n",
    "if a > 0:\n",
    "    df.loc[df['Neighborhood'] == 'Not assigned','Neighborhood'] = df['Borough']\n",
    "    df.head()\n",
    "else:\n",
    "    print(\"At current step, no row in the dataframe contains Not assigned neighborhood.\")\n",
    "    print(df.tail())"
   ]
  },
  {
   "cell_type": "markdown",
   "metadata": {},
   "source": [
    "3.5 More than one neighborhood can exist in one postal code area. These two rows will be combined into one row with the neighborhoods separated with a comma as shown in row 11 in the above table"
   ]
  },
  {
   "cell_type": "code",
   "execution_count": null,
   "metadata": {},
   "outputs": [],
   "source": [
    "#check whether there is repeated postalcode exist in the current dataframe\n",
    "df2 = df.copy()\n",
    "df3 = df2.drop_duplicates('PostalCode')\n",
    "a2 = len(df2.index) \n",
    "a3 = len(df3.index) \n",
    "print('The original dataframe contains '+str(a2)+' rows and the simplyfied dataframe contains '+str(a3)+' rows')\n",
    "\n",
    "if a3 == a2:\n",
    "    print(\"The current dataframe is good to go. We may estimate the number of rows in the dataframe.\")\n",
    "    df_new=df\n",
    "else:\n",
    "    print(\"We need to further clean the data.\")\n",
    "    df_clean = df.groupby(['Postalcode','Borough'], sort=False).agg( ', '.join)\n",
    "    print(df_clean.head())\n",
    "    df_new=df_clean.reset_index() #add back the index which is 0,1,2,3,4,5,.... to the first column"
   ]
  },
  {
   "cell_type": "code",
   "execution_count": null,
   "metadata": {},
   "outputs": [],
   "source": [
    "df_new"
   ]
  },
  {
   "cell_type": "markdown",
   "metadata": {},
   "source": [
    "## Step 4. Visualization the neighborhoods in Edmonton    "
   ]
  },
  {
   "cell_type": "markdown",
   "metadata": {},
   "source": [
    "4.1 Obtain only Edmonton related data"
   ]
  },
  {
   "cell_type": "code",
   "execution_count": null,
   "metadata": {},
   "outputs": [],
   "source": [
    "df_EDMONTON = df[df['Borough'] == 'Edmonton'].reset_index(drop=True)\n",
    "df_EDMONTON"
   ]
  },
  {
   "cell_type": "code",
   "execution_count": null,
   "metadata": {},
   "outputs": [],
   "source": [
    "print('The dataframe has {} boroughs and {} neighborhoods.'.format(\n",
    "        len(df_EDMONTON['Borough'].unique()),\n",
    "        df_EDMONTON.shape[0]\n",
    "    ))"
   ]
  },
  {
   "cell_type": "code",
   "execution_count": null,
   "metadata": {},
   "outputs": [],
   "source": [
    "df_EDMONTON.dtypes"
   ]
  },
  {
   "cell_type": "code",
   "execution_count": null,
   "metadata": {},
   "outputs": [],
   "source": [
    "df_EDMONTON['Latitude'] = df_EDMONTON['Latitude'].astype(float)\n",
    "df_EDMONTON['Longitude'] = df_EDMONTON['Longitude'].astype(float)"
   ]
  },
  {
   "cell_type": "markdown",
   "metadata": {},
   "source": [
    "4.2 Get the geographical coordinates for each borough in Edmonton"
   ]
  },
  {
   "cell_type": "code",
   "execution_count": null,
   "metadata": {},
   "outputs": [],
   "source": [
    "address = 'Edmonton, AB'\n",
    "\n",
    "geolocator = Nominatim(user_agent=\"ny_explorer\")\n",
    "location = geolocator.geocode(address)\n",
    "latitude = location.latitude\n",
    "longitude = location.longitude\n",
    "print('The geograpical coordinate of Edmonton are {}, {}.'.format(latitude, longitude))"
   ]
  },
  {
   "cell_type": "markdown",
   "metadata": {},
   "source": [
    "4.3 Visualize neighborhoods of Edmonton on map"
   ]
  },
  {
   "cell_type": "code",
   "execution_count": null,
   "metadata": {},
   "outputs": [],
   "source": [
    "neighborhoods=df_EDMONTON.copy()\n",
    "# create map of Edmonton using latitude and longitude values\n",
    "map_edmonton = folium.Map(location=[latitude, longitude], zoom_start=10)\n",
    "\n",
    "# add markers to map\n",
    "for lat, lng, borough, neighborhood in zip(neighborhoods['Latitude'], neighborhoods['Longitude'], neighborhoods['Borough'], neighborhoods['Neighborhood']):\n",
    "    label = '{}, {}'.format(neighborhood, borough)\n",
    "    label = folium.Popup(label, parse_html=True)\n",
    "    folium.CircleMarker(\n",
    "        [lat, lng],\n",
    "        radius=9,\n",
    "        popup=label,\n",
    "        color='blue',\n",
    "        fill=True,\n",
    "        fill_color='#3186cc',\n",
    "        fill_opacity=0.7,\n",
    "        parse_html=False).add_to(map_edmonton)  \n",
    "    \n",
    "map_edmonton"
   ]
  },
  {
   "cell_type": "code",
   "execution_count": null,
   "metadata": {},
   "outputs": [],
   "source": [
    "!pip install geopandas"
   ]
  },
  {
   "cell_type": "markdown",
   "metadata": {},
   "source": [
    "### 4.0 HEAT MAP - FSA"
   ]
  },
  {
   "cell_type": "code",
   "execution_count": null,
   "metadata": {},
   "outputs": [],
   "source": [
    "import geopandas as gpd\n",
    "response = requests.get(r\"https://github.com/simon8907/FSA_Data/raw/master/Canadian_FSA.geojson\")\n",
    "data = response.json()\n",
    "\n",
    "NeisA = gpd.GeoDataFrame.from_features(data, crs='EPSG:4326')\n",
    "NeisA.tail()"
   ]
  },
  {
   "cell_type": "code",
   "execution_count": null,
   "metadata": {},
   "outputs": [],
   "source": [
    "df_FSAedm=df_EDMONTON.copy()\n",
    "df_FSAedm['CFSAUID_ID']=list(range(1,(len(df_FSAedm)+1)))\n",
    "df_FSAedm.rename(columns={'PostalCode':'CFSAUID'}, inplace=True)\n",
    "df_FSAedm.tail()"
   ]
  },
  {
   "cell_type": "code",
   "execution_count": null,
   "metadata": {},
   "outputs": [],
   "source": [
    "#NeisA.rename(columns={'name':'Neighbourhood'}, inplace=True)\n",
    "NeiAmerge = pd.merge(NeisA,\n",
    "                df_FSAedm[['CFSAUID','CFSAUID_ID']],\n",
    "                 on='CFSAUID')\n",
    "NeiAmerge['centroid_long']=NeiAmerge.centroid.x\n",
    "NeiAmerge['centroid_lag']=NeiAmerge.centroid.y\n",
    "NeiAmerge.tail()"
   ]
  },
  {
   "cell_type": "code",
   "execution_count": null,
   "metadata": {},
   "outputs": [],
   "source": [
    "import branca.colormap as cm\n",
    "#colormap = cm.linear.YlGnBu_09\n",
    "colormap = cm.linear.Paired_12.scale(NeiAmerge['CFSAUID_ID'].min(),NeiAmerge['CFSAUID_ID'].max()).to_step(NeiAmerge['CFSAUID_ID'].max()) \n",
    "colormap"
   ]
  },
  {
   "cell_type": "code",
   "execution_count": null,
   "metadata": {},
   "outputs": [],
   "source": [
    "from folium.features import GeoJson, GeoJsonTooltip, GeoJsonPopup\n",
    "\n",
    "\n",
    "# create a plain world map\n",
    "edmA_map = folium.Map(location=[latitude, longitude], zoom_start=10, tiles='CartoDB positron') #, tiles = 'Stamen Toner')\n",
    "\n",
    "\n",
    "style_function = lambda x: {\"weight\":0.5, \n",
    "                            'color':'black',\n",
    "                            'fillColor':colormap(x['properties']['CFSAUID_ID']), \n",
    "                            'fillOpacity':0.75}\n",
    "highlight_function = lambda x: {'fillColor': '#000000', \n",
    "                                'color':'#000000', \n",
    "                                'fillOpacity': 0.50, \n",
    "                                'weight': 0.1}\n",
    "\n",
    "\n",
    "g = folium.GeoJson(\n",
    "    NeiAmerge,\n",
    "    style_function=style_function,\n",
    "    control=False,\n",
    "    highlight_function=highlight_function,\n",
    "    tooltip=folium.features.GeoJsonTooltip(\n",
    "        fields=['CFSAUID','CFSAUID_ID'],\n",
    "        aliases=['PostalCode','PostalCode_ID'],\n",
    "        style=(\"background-color: white; color: #333333; font-family: arial; font-size: 12px; padding: 10px;\"),\n",
    "        sticky=True\n",
    "        )).add_to(edmA_map)\n",
    "\n",
    "colormap.add_to(edmA_map)\n",
    "\n",
    "edmA_map"
   ]
  },
  {
   "cell_type": "code",
   "execution_count": null,
   "metadata": {},
   "outputs": [],
   "source": [
    "from branca.element import Template, MacroElement\n",
    "class DivIcon(MacroElement):\n",
    "    def __init__(self, html='', size=(1,1), anchor=(0,0), style=''):\n",
    "        \"\"\"TODO : docstring here\"\"\"\n",
    "        super(DivIcon, self).__init__()\n",
    "        self._name = 'DivIcon'\n",
    "        self.size = size\n",
    "        self.anchor = anchor\n",
    "        self.html = html\n",
    "        self.style = style\n",
    "\n",
    "        self._template = Template(u\"\"\"\n",
    "            {% macro header(this, kwargs) %}\n",
    "              <style>\n",
    "                .{{this.get_name()}} {\n",
    "                    {{this.style}}\n",
    "                    }\n",
    "              </style>\n",
    "            {% endmacro %}\n",
    "            {% macro script(this, kwargs) %}\n",
    "                var {{this.get_name()}} = L.divIcon({\n",
    "                    className: '{{this.get_name()}}',\n",
    "                    iconSize: [{{ this.size[0] }},{{ this.size[1] }}],\n",
    "                    iconAnchor: [{{ this.anchor[0] }},{{ this.anchor[1] }}],\n",
    "                    html : \"{{this.html}}\",\n",
    "                    });\n",
    "                {{this._parent.get_name()}}.setIcon({{this.get_name()}});\n",
    "            {% endmacro %}\n",
    "            \"\"\")\n",
    "for i in range(len(NeiAmerge)):\n",
    "    lag=NeiAmerge.iloc[i][6]\n",
    "    log=NeiAmerge.iloc[i][5]\n",
    "    text=NeiAmerge.iloc[i][1]\n",
    "    folium.map.Marker(\n",
    "        [lag, log],\n",
    "        icon=DivIcon(\n",
    "            size=(1,1),\n",
    "            anchor=(0,0),\n",
    "            html=text,\n",
    "            style=\"\"\"\n",
    "            font-size:12px;\n",
    "            background-color: transparent;\n",
    "            border-color: transparent;\n",
    "            text-align: center;\n",
    "            \"\"\"\n",
    "        )\n",
    "    ).add_to(edmA_map)\n",
    "edmA_map"
   ]
  },
  {
   "cell_type": "markdown",
   "metadata": {},
   "source": [
    "**---------------------------------------------------------------------------------------------------------------------------------------**"
   ]
  },
  {
   "cell_type": "markdown",
   "metadata": {},
   "source": [
    "### **According to City of Edmonton, Edmonton is shaped using political Ward boundaries or Neibourhood boundaries**  (Not based on postal code)\n",
    "references:\n",
    " https://data.edmonton.ca/browse?category=Geospatial+Boundaries&page=2 search page\n",
    " - https://data.edmonton.ca/Geospatial-Boundaries/City-of-Edmonton-Ward-Boundaries-effective-to-23-5/yhng-294h Ward related geo-information\n",
    " - https://data.edmonton.ca/Geospatial-Boundaries/City-of-Edmonton-Neighbourhood-Boundaries/jfvj-x253 Neighbourhood related geo-information\n",
    " - https://data.edmonton.ca/dataset/City-Of-Edmonton-Neighbourhood-Boundaries-Spatial-/tvcx-3vrx Neighbourhood related geo-information\n",
    " - https://dashboard.edmonton.ca/Geospatial-Boundaries/City-of-Edmonton-Neighbourhood-Boundaries/jfvj-x253 Neighbourhood related geo-information\n",
    " - https://dashboard.edmonton.ca/Geospatial-Boundaries/City-of-Edmonton-Neighbourhood-Boundaries/jfvj-x253/data Neighbourhood related geo-info\n",
    " - https://data.edmonton.ca/Administrative/zone-53-map/6v4j-wnrz Neighbourhood related geo-info\n",
    " - https://data.edmonton.ca/Geospatial-Boundaries/Mature-Neighbourhoods-Map/3jmw-i9z8 only present mature neighbourhood geo-info\n",
    " - https://www.edmonton.ca/city_government/municipal_elections/civic-election-maps.aspx Ward map in pdf only\n",
    " - https://www.edmonton.ca/city_government/documents/WBC_Final_Report_2020.pdf Ward information in pdf\n",
    " - https://data.edmonton.ca/Geospatial-Boundaries/Mosquito-Program-Boundaries/esxr-3x66 only present the city and its nearby cities"
   ]
  },
  {
   "cell_type": "markdown",
   "metadata": {},
   "source": [
    "### **4.1 Visualization of Wards**"
   ]
  },
  {
   "cell_type": "code",
   "execution_count": null,
   "metadata": {},
   "outputs": [],
   "source": [
    "import pandas as pd\n",
    "\n",
    "dataward = {'Ward':  ['WARD 01', 'WARD 02','WARD 03', 'WARD 04','WARD 05', 'WARD 06','WARD 07', 'WARD 08','WARD 09', 'WARD 10','WARD 11', 'WARD 12'],\n",
    "        'WardID': [1,2,3,4,5,6,7,8,9,10,11,12],\n",
    "        }\n",
    "\n",
    "df_ward = pd.DataFrame (dataward, columns = ['Ward','WardID'])\n",
    "df_ward.head()"
   ]
  },
  {
   "cell_type": "code",
   "execution_count": null,
   "metadata": {},
   "outputs": [],
   "source": [
    "df_ward.dtypes"
   ]
  },
  {
   "cell_type": "code",
   "execution_count": null,
   "metadata": {},
   "outputs": [],
   "source": [
    "# download edmonton geojson file\n",
    "#!wget --quiet https://data.edmonton.ca/api/geospatial/yhng-294h?method=export&format=GeoJSON -O edmonton.json\n",
    "!pip install wget\n",
    "import wget\n",
    "wget.download('https://data.edmonton.ca/api/geospatial/yhng-294h?method=export&format=GeoJSON', 'edmonton.json')\n",
    "    \n",
    "print('GeoJSON file downloaded!')"
   ]
  },
  {
   "cell_type": "code",
   "execution_count": null,
   "metadata": {},
   "outputs": [],
   "source": [
    "edmonton_geo = r'edmonton.json' ######## geojson file"
   ]
  },
  {
   "cell_type": "markdown",
   "metadata": {},
   "source": [
    "**--------------------------------------------------------------------------------------------------------------------------------------**"
   ]
  },
  {
   "cell_type": "markdown",
   "metadata": {},
   "source": [
    "**The following lines are just some examples to load GeoJson file**"
   ]
  },
  {
   "cell_type": "markdown",
   "metadata": {},
   "source": [
    "\n",
    "!wget --quiet https://s3-api.us-geo.objectstorage.softlayer.net/cf-courses-data/CognitiveClass/DV0101EN/labs/Data_Files/world_countries.json -O # download countries all over the world geojson fileworld_countries.json\n",
    "    \n",
    "print('GeoJSON file downloaded!')"
   ]
  },
  {
   "cell_type": "markdown",
   "metadata": {},
   "source": [
    "world_geo = r'world_countries.json' ######## geojson file"
   ]
  },
  {
   "cell_type": "markdown",
   "metadata": {},
   "source": [
    "!wget --quiet https://cocl.us/sanfran_geojson -O sanfran.json # download countries geojson file\n",
    "    \n",
    "print('GeoJSON file downloaded!')"
   ]
  },
  {
   "cell_type": "markdown",
   "metadata": {},
   "source": [
    "sanfran_geo = r'sanfran.json' # geojson file"
   ]
  },
  {
   "cell_type": "markdown",
   "metadata": {},
   "source": [
    "**--------------------------------------------------------------------------------------------------------------------------------------**"
   ]
  },
  {
   "cell_type": "markdown",
   "metadata": {},
   "source": [
    "**Following code is code to open and read the GeoJson files**"
   ]
  },
  {
   "cell_type": "markdown",
   "metadata": {},
   "source": [
    "import urllib.request\n",
    "import urllib, json\n",
    "\n",
    "with urllib.request.urlopen(\"https://data.edmonton.ca/api/geospatial/yhng-294h?method=export&format=GeoJSON\") as url:\n",
    "    edmonton_geo = url.read()\n",
    "    ######### this would output the html source code\n",
    "    #########print(edmonton_geo)"
   ]
  },
  {
   "cell_type": "markdown",
   "metadata": {},
   "source": [
    "import urllib.request\n",
    "import urllib, json\n",
    "\n",
    "with urllib.request.urlopen(\"https://s3-api.us-geo.objectstorage.softlayer.net/cf-courses-data/CognitiveClass/DV0101EN/labs/Data_Files/world_countries.json\") as url:\n",
    "    world_geo = url.read()\n",
    "    ######## this would output the html source code\n",
    "    ########print(world_geo)"
   ]
  },
  {
   "cell_type": "markdown",
   "metadata": {},
   "source": [
    "**--------------------------------------------------------------------------------------------------------------------------------------**"
   ]
  },
  {
   "cell_type": "code",
   "execution_count": null,
   "metadata": {},
   "outputs": [],
   "source": [
    "# create a plain world map\n",
    "edm_map = folium.Map(location=[latitude, longitude], zoom_start=10) #, tiles = 'Stamen Toner')"
   ]
  },
  {
   "cell_type": "code",
   "execution_count": null,
   "metadata": {},
   "outputs": [],
   "source": [
    "# display map\n",
    "#edm_map   # un-# if wanna see map"
   ]
  },
  {
   "cell_type": "code",
   "execution_count": null,
   "metadata": {},
   "outputs": [],
   "source": [
    "# create a numpy array of length 6 and has linear spacing from the minium total immigration to the maximum total immigration\n",
    "#threshold_scale = np.linspace(df_ward['WardID'].min(),\n",
    "#                              df_ward['WardID'].max(),\n",
    "#                              6, dtype=int)\n",
    "#threshold_scale = threshold_scale.tolist() # change the numpy array to a list\n",
    "#threshold_scale[-1] = threshold_scale[-1] + 1 # make sure that the last value of the list is greater than the maximum immigration\n",
    "\n",
    "# generate choropleth map \n",
    "edm_map.choropleth(\n",
    "    geo_data=edmonton_geo,\n",
    "    data=df_ward,\n",
    "    columns=['Ward', 'WardID'],\n",
    "    key_on='feature.properties.name',\n",
    "    #threshold_scale=threshold_scale,\n",
    "    fill_color='YlOrRd', \n",
    "    fill_opacity=0.7, \n",
    "    line_opacity=0.2,\n",
    "    legend_name='Wards in Edmonton'\n",
    ")\n",
    "\n",
    "# display map\n",
    "edm_map"
   ]
  },
  {
   "cell_type": "code",
   "execution_count": null,
   "metadata": {},
   "outputs": [],
   "source": [
    "\n",
    "import geopandas as gpd\n",
    "response = requests.get(r\"https://data.edmonton.ca/api/geospatial/yhng-294h?method=export&format=GeoJSON\")\n",
    "data = response.json()\n",
    "wards = gpd.GeoDataFrame.from_features(data, crs='EPSG:4326')\n",
    "\n",
    "wards.head()"
   ]
  },
  {
   "cell_type": "code",
   "execution_count": null,
   "metadata": {},
   "outputs": [],
   "source": [
    "wards.rename(columns={'name':'Ward'}, inplace=True)\n",
    "wardsmerge = pd.merge(wards,\n",
    "                df_ward[['Ward','WardID']],\n",
    "                 on='Ward')\n",
    "wardsmerge['centroid_long']=wardsmerge.centroid.x\n",
    "wardsmerge['centroid_lag']=wardsmerge.centroid.y\n",
    "wardsmerge"
   ]
  },
  {
   "cell_type": "code",
   "execution_count": null,
   "metadata": {},
   "outputs": [],
   "source": [
    "import branca.colormap as cm\n",
    "#colormap = cm.linear.YlGnBu_09\n",
    "colormap = cm.linear.Set1_09.scale(df_ward['WardID'].min(), df_ward['WardID'].max()).to_step(12) \n",
    "colormap"
   ]
  },
  {
   "cell_type": "code",
   "execution_count": null,
   "metadata": {},
   "outputs": [],
   "source": [
    "from folium.features import GeoJson, GeoJsonTooltip, GeoJsonPopup\n",
    "\n",
    "# create a plain world map\n",
    "edmward_map = folium.Map(location=[latitude, longitude], zoom_start=10, tiles='CartoDB positron') #, tiles = 'Stamen Toner')\n",
    "\n",
    "\n",
    "style_function = lambda x: {\"weight\":0.5, \n",
    "                            'color':'black',\n",
    "                            'fillColor':colormap(x['properties']['WardID']), \n",
    "                            'fillOpacity':0.75}\n",
    "highlight_function = lambda x: {'fillColor': '#000000', \n",
    "                                'color':'#000000', \n",
    "                                'fillOpacity': 0.50, \n",
    "                                'weight': 0.1}\n",
    "\n",
    "\n",
    "\n",
    "# tooltip=folium.features.GeoJsonTooltip(fields=['Ward','WardID'],\n",
    "#            aliases=['Ward','Ward number'],\n",
    "#            style=(\"background-color: white; color: #333333; font-family: arial; font-size: 12px; padding: 10px;\"),\n",
    "#            sticky=True\n",
    "#        )\n",
    "\n",
    "\n",
    "g = folium.GeoJson(\n",
    "    wardsmerge,\n",
    "    style_function=style_function,\n",
    "    control=False,\n",
    "    highlight_function=highlight_function,\n",
    "    tooltip=folium.features.GeoJsonTooltip(\n",
    "        fields=['Ward','WardID'],\n",
    "        aliases=['Ward','Ward number'],\n",
    "        style=(\"background-color: white; color: #333333; font-family: arial; font-size: 12px; padding: 10px;\"),\n",
    "        sticky=True\n",
    "        )).add_to(edmward_map)\n",
    "\n",
    "colormap.add_to(edmward_map)\n",
    "\n",
    "edmward_map"
   ]
  },
  {
   "cell_type": "code",
   "execution_count": null,
   "metadata": {},
   "outputs": [],
   "source": [
    "class DivIcon(MacroElement):\n",
    "    def __init__(self, html='', size=(5,5), anchor=(0,0), style=''):\n",
    "        \"\"\"TODO : docstring here\"\"\"\n",
    "        super(DivIcon, self).__init__()\n",
    "        self._name = 'DivIcon'\n",
    "        self.size = size\n",
    "        self.anchor = anchor\n",
    "        self.html = html\n",
    "        self.style = style\n",
    "\n",
    "        self._template = Template(u\"\"\"\n",
    "            {% macro header(this, kwargs) %}\n",
    "              <style>\n",
    "                .{{this.get_name()}} {\n",
    "                    {{this.style}}\n",
    "                    }\n",
    "              </style>\n",
    "            {% endmacro %}\n",
    "            {% macro script(this, kwargs) %}\n",
    "                var {{this.get_name()}} = L.divIcon({\n",
    "                    className: '{{this.get_name()}}',\n",
    "                    iconSize: [{{ this.size[0] }},{{ this.size[1] }}],\n",
    "                    iconAnchor: [{{ this.anchor[0] }},{{ this.anchor[1] }}],\n",
    "                    html : \"{{this.html}}\",\n",
    "                    });\n",
    "                {{this._parent.get_name()}}.setIcon({{this.get_name()}});\n",
    "            {% endmacro %}\n",
    "            \"\"\")\n",
    "for i in range(len(wardsmerge)):\n",
    "    lag=wardsmerge.iloc[i][5]\n",
    "    log=wardsmerge.iloc[i][4]\n",
    "    text=wardsmerge.iloc[i][2]\n",
    "    folium.map.Marker(\n",
    "        [lag, log],\n",
    "        icon=DivIcon(\n",
    "            size=(5,5),\n",
    "            anchor=(0,0),\n",
    "            html=text,\n",
    "            style=\"\"\"\n",
    "            font-size:12px;\n",
    "            background-color: transparent;\n",
    "            border-color: transparent;\n",
    "            text-align: center;\n",
    "            \"\"\"\n",
    "        )\n",
    "    ).add_to(edmward_map)\n",
    "edmward_map"
   ]
  },
  {
   "cell_type": "markdown",
   "metadata": {},
   "source": [
    "### **4.2 Visualization of Neighbourhoods**"
   ]
  },
  {
   "cell_type": "markdown",
   "metadata": {},
   "source": [
    "Please refers to section 5.2"
   ]
  },
  {
   "cell_type": "markdown",
   "metadata": {},
   "source": [
    "## Step 5. Data sorting and cleanning -- Wards and corresponding Neighbourhood"
   ]
  },
  {
   "cell_type": "markdown",
   "metadata": {},
   "source": [
    "**------------------------------------------------------------------------------------------------------------------------------------**"
   ]
  },
  {
   "cell_type": "markdown",
   "metadata": {},
   "source": [
    "### 5.0 Import data from any opensource    \n",
    "(These sources cannot be used to correspond wards and neighbourhoods, since Ward boundaries update annually. Data in this section is in year 2012, 2014, 2016 and 2019.)"
   ]
  },
  {
   "cell_type": "markdown",
   "metadata": {},
   "source": [
    "**Information for each ward in Edmonton**    \n",
    "reference:  \n",
    " - https://www.epl.ca/blogs/post/edmonton-ward-profiles/ (2012 census- Dwelling type data)\n",
    " - https://data.edmonton.ca/Census/2014-Census-Population-By-Citizenship-Neighbourhoo/g2i5-7nqy (2014 census- Population)\n",
    " - https://data.edmonton.ca/Census/2012-Census-Dwelling-Unit-By-Structure-Type-Neighb/achm-af7d/data (2016 census- Dwelling type data)\n",
    " - https://data.edmonton.ca/Census/2016-Census-Population-by-Age-Range-Neighbourhood-/phd4-y42v (2016 census- Population by Age Range data)\n",
    " - https://data.edmonton.ca/Census/2016-Census-Population-by-Age-Range-Neighbourhood-/ham9-4niv (2016 census- Population by Age Range data)\n",
    " - https://data.edmonton.ca/Census/2019-Census-Population-by-Age-Range-Neighbourhood-/a6zx-dzqn (2019 census- Population by Age Range data)\n",
    " - https://data.edmonton.ca/Geospatial-Boundaries/Neighbourhoods-and-Wards/gihh-utrc exact Neighbourhood and Wards correspomding data"
   ]
  },
  {
   "cell_type": "markdown",
   "metadata": {},
   "source": [
    "#df_N8BR = pd.read_csv(\"https://data.edmonton.ca/api/views/achm-af7d/rows.csv?accessType=DOWNLOAD\") #2012 census data\n",
    "#df_N8BR = pd.read_csv(\"https://data.edmonton.ca/api/views/phd4-y42v/rows.csv?accessType=DOWNLOAD\")  #2016 census data\n",
    "df_N8BR = pd.read_csv(\"https://data.edmonton.ca/api/views/a6zx-dzqn/rows.csv?accessType=DOWNLOAD\") #2019 census data"
   ]
  },
  {
   "cell_type": "markdown",
   "metadata": {},
   "source": [
    "df_N8BR.tail(3)"
   ]
  },
  {
   "cell_type": "markdown",
   "metadata": {},
   "source": [
    "#df_N8BR.drop(['NEIGHBOURHOOD_NUMBER','SINGLE_DETACHED_HOME','DUPLEX/FOURPLEX','ROW_HOUSE','APARTMENT_(5+_STORIES)','APARTMENT_(1-4_STORIES)','MANUFACTURED/MOBILE_HOME','INSTITUTION/COLLECTIVE_RESIDENCE','HOTEL/MOTEL','RV/TENT/OTHER','NO_RESPONSE'],axis=1, inplace=True)\n",
    "df_N8BR = df_N8BR[['Ward','Neighbourhood Name']]\n",
    "df_N8BR.rename(columns={'Neighbourhood Name':'Neighbourhood'}, inplace=True)\n",
    "df_N8BR.tail()"
   ]
  },
  {
   "cell_type": "markdown",
   "metadata": {},
   "source": [
    "df_N8BR = df_N8BR.drop_duplicates(subset='Neighbourhood', keep=\"first\")\n",
    "df_N8BR=df_N8BR.reset_index(drop=True) #add back the index which is 0,1,2,3,4,5,.... to the first column\n",
    "df_N8BR.tail()"
   ]
  },
  {
   "cell_type": "markdown",
   "metadata": {},
   "source": [
    "df_N8BR.sort_values('Neighbourhood', ascending=True)\n",
    "df_N8BR.reset_index(drop=True).tail() #add back the index which is 0,1,2,3,4,5,.... to the first column"
   ]
  },
  {
   "cell_type": "markdown",
   "metadata": {},
   "source": [
    "df_N8BR.dtypes"
   ]
  },
  {
   "cell_type": "markdown",
   "metadata": {},
   "source": [
    "df_N8BR.shape"
   ]
  },
  {
   "cell_type": "markdown",
   "metadata": {},
   "source": [
    "**----------------------------------------------------------------------------------------------------------------------------------**"
   ]
  },
  {
   "cell_type": "markdown",
   "metadata": {},
   "source": [
    "**Another way to extract neighbourhood list from website**"
   ]
  },
  {
   "cell_type": "markdown",
   "metadata": {},
   "source": [
    "**!!! CODE IN THIS SECTION CONTAINS BUGS... THERE IS UNEXPECTED DATA LOSS !!!**"
   ]
  },
  {
   "cell_type": "markdown",
   "metadata": {},
   "source": [
    "URL = \"https://www.epl.ca/blogs/post/edmonton-ward-profiles/\"\n",
    "r = requests.get(URL) \n",
    "  \n",
    "soup = BeautifulSoup(r.content, 'html5lib') \n",
    "table = soup.find('div', attrs = {'id':'container'}) \n",
    "\n",
    "#print(soup.prettify()) "
   ]
  },
  {
   "cell_type": "markdown",
   "metadata": {},
   "source": [
    "Method 1 for finding neighbors"
   ]
  },
  {
   "cell_type": "markdown",
   "metadata": {},
   "source": [
    "n8b1=[]\n",
    "n8b2=[]\n",
    "for strong_tag in soup.find_all('strong'):\n",
    "    n8b1.append(strong_tag.text)\n",
    "    n8b2.append(strong_tag.next_sibling)\n",
    "    #print(strong_tag.text, strong_tag.next_sibling) #out put is Neighbourhoods:  Aldergrove, Belmead, Britannia, ...\n",
    "\n",
    " \n",
    "column_names = ['#', 'Neighbourhood'] # define the dataframe columns\n",
    "\n",
    "\n",
    "neighbors = pd.DataFrame(columns=column_names) # instantiate the dataframe (add column name)\n",
    "\n",
    "for data in range(0, len(n8b2)-1):\n",
    "    neib = n8b1[data]\n",
    "    neighbourhood = n8b2[data]\n",
    "\n",
    "    neighbors = neighbors.append({ '#': neib,\n",
    "                                   'Neighbourhood': neighbourhood,\n",
    "                                   }, ignore_index=True)\n",
    "neighbors.tail(15)"
   ]
  },
  {
   "cell_type": "markdown",
   "metadata": {},
   "source": [
    "neighbors=neighbors.astype(str)"
   ]
  },
  {
   "cell_type": "markdown",
   "metadata": {},
   "source": [
    "df=neighbors.copy()\n",
    "dfn=df[df['#']=='Neighbourhoods:']\n",
    "dfn"
   ]
  },
  {
   "cell_type": "markdown",
   "metadata": {},
   "source": [
    "Method 2 for finding neighbors"
   ]
  },
  {
   "cell_type": "markdown",
   "metadata": {},
   "source": [
    "for length in soup.find_all(\"strong\", text=\"Neighbourhoods:\"):\n",
    "    print(length.next_sibling.strip())"
   ]
  },
  {
   "cell_type": "markdown",
   "metadata": {},
   "source": [
    "**---------------------------------------------------------------------------------------------------------------------------------------**"
   ]
  },
  {
   "cell_type": "markdown",
   "metadata": {},
   "source": [
    "#### **Exam whether the previous data is complete data** compared with another source"
   ]
  },
  {
   "cell_type": "markdown",
   "metadata": {},
   "source": [
    "This data presents only common neighbour on the official website  \n",
    "https://www.edmonton.ca/residential_neighbourhoods/your-neighbourhood.aspx    \n",
    "(or may use https://data.edmonton.ca/Geospatial-Boundaries/Mature-Neighbourhoods-Map/3jmw-i9z8 alternatively)"
   ]
  },
  {
   "cell_type": "markdown",
   "metadata": {},
   "source": [
    "   \n",
    "URL = \"https://www.edmonton.ca/residential_neighbourhoods/your-neighbourhood.aspx\"\n",
    "r = requests.get(URL) \n",
    "  \n",
    "soup = BeautifulSoup(r.content, 'html5lib') \n",
    "table = soup.find('div', attrs = {'id':'container'}) \n",
    "\n",
    "#print(soup.prettify()) "
   ]
  },
  {
   "cell_type": "markdown",
   "metadata": {},
   "source": [
    "\n",
    "all_options = soup.find_all('option')\n",
    "\n",
    "n8b1=[]\n",
    "for option in all_options:\n",
    "    if option.text: # skip empty options\n",
    "        #print('    text:', option.text)                                          #if need, just un-#\n",
    "        \n",
    "        #print('   value:', option['value']) # without defaul value                #no-use for this case\n",
    "        #print('   value:', option.get('value')) # default value `None`            #no-use for this case\n",
    "        #print('   value:', option.get('value', 'FooBar')) # default value 'FooBar'#no-use for this case\n",
    "        #print('selected:', option.get('selected')) \n",
    "        \n",
    "        n8b1.append(option.text)\n",
    "        \n",
    "        \n",
    "\n",
    "column_names = ['Neighbourhood'] # define the dataframe columns\n",
    "\n",
    "\n",
    "neighbors = pd.DataFrame(columns=column_names) # instantiate the dataframe (add column name)\n",
    "\n",
    "for data in range(0, len(n8b1)-1):\n",
    "    neib = n8b1[data]\n",
    "\n",
    "    neighbors = neighbors.append({ 'Neighbourhood': neib,\n",
    "                                   }, ignore_index=True)\n",
    "\n",
    "neighbors=neighbors[neighbors['Neighbourhood']!='Choose one...']\n",
    "neighbors.head()"
   ]
  },
  {
   "cell_type": "markdown",
   "metadata": {},
   "source": [
    "neighbors.dtypes"
   ]
  },
  {
   "cell_type": "markdown",
   "metadata": {},
   "source": [
    "#### **Compare 2 dataframe obtained from different sources**"
   ]
  },
  {
   "cell_type": "markdown",
   "metadata": {},
   "source": [
    "df1=neighbors.copy()\n",
    "#df1=df1[df1['Neighbourhood']!='Choose one...']\n",
    "#df1.sort_values('Neighbourhood', ascending=False)\n",
    "#df1['Neighbourhood'] = df1['Neighbourhood'].apply(lambda x: ' '.join(sorted(x.split())))\n",
    "df1=df1['Neighbourhood']\n",
    "df1.head()"
   ]
  },
  {
   "cell_type": "markdown",
   "metadata": {},
   "source": [
    "df2=df_N8BR.copy()\n",
    "df2.drop([\"Ward\"],axis=1, inplace=True)\n",
    "#df2.sort_values('Neighbourhood', ascending=True)\n",
    "#df2['Neighbourhood'] = df2['Neighbourhood'].apply(lambda x: ' '.join(sorted(x.split())))\n",
    "df2=df2['Neighbourhood']\n",
    "df2.head()"
   ]
  },
  {
   "cell_type": "markdown",
   "metadata": {},
   "source": [
    "df1[~df1.apply(tuple,1).isin(df2.apply(tuple,1))]"
   ]
  },
  {
   "cell_type": "markdown",
   "metadata": {},
   "source": [
    "#### **!!!!!!Store dataframe(s) df_N8BR which can be used for other notebooks**"
   ]
  },
  {
   "cell_type": "markdown",
   "metadata": {},
   "source": [
    "df_N8BR.tail()"
   ]
  },
  {
   "cell_type": "markdown",
   "metadata": {},
   "source": [
    "%store df_N8BR"
   ]
  },
  {
   "cell_type": "markdown",
   "metadata": {},
   "source": [
    "**-------------------------------------------------------------------------------------------------------------------------------------**"
   ]
  },
  {
   "cell_type": "markdown",
   "metadata": {},
   "source": [
    "### 5.1 NEW UPDATE - THE ACCURATE CORRESPONDING "
   ]
  },
  {
   "cell_type": "markdown",
   "metadata": {},
   "source": [
    "#### 5.1.1 All Neighbourhoods in Edmonton"
   ]
  },
  {
   "cell_type": "markdown",
   "metadata": {},
   "source": [
    "This data is obtained from https://data.edmonton.ca/Geospatial-Boundaries/Neighbourhoods-and-Wards/gihh-utrc/data"
   ]
  },
  {
   "cell_type": "code",
   "execution_count": null,
   "metadata": {},
   "outputs": [],
   "source": [
    "df_neighbourhood = pd.read_csv(\"https://data.edmonton.ca/api/views/gihh-utrc/rows.csv?accessType=DOWNLOAD\")\n",
    "df_neighbourhood.head()"
   ]
  },
  {
   "cell_type": "code",
   "execution_count": null,
   "metadata": {},
   "outputs": [],
   "source": [
    "df_neighbourhood.drop(['Neighbourhood Number','Percentage of Interaction'],axis=1, inplace=True)\n",
    "df_neighbourhood.rename(columns={'Neighbourhood Name':'Neighbourhood'}, inplace=True)\n",
    "df_neighbourhood.tail()"
   ]
  },
  {
   "cell_type": "code",
   "execution_count": null,
   "metadata": {},
   "outputs": [],
   "source": [
    "len(df_neighbourhood)"
   ]
  },
  {
   "cell_type": "markdown",
   "metadata": {},
   "source": [
    "### !!!!!!Store df_neighbourhood (all Neighbourhood V.S. Wards) for other notebook"
   ]
  },
  {
   "cell_type": "code",
   "execution_count": null,
   "metadata": {},
   "outputs": [],
   "source": [
    "df_neighbourhood.sort_values(['Neighbourhood'], inplace=True ,ascending=True)\n",
    "df_neighbourhood.reset_index(drop=True, inplace=True)\n",
    "df_neighbourhood.head()"
   ]
  },
  {
   "cell_type": "code",
   "execution_count": null,
   "metadata": {},
   "outputs": [],
   "source": [
    "%store df_neighbourhood"
   ]
  },
  {
   "cell_type": "markdown",
   "metadata": {},
   "source": [
    "#### 5.1.2 Only Mature Neighbourhoods in Edmonton    \n",
    "Mature neighbourhoods in Edmonton are those generally completed before 1970, the majority of which experienced their greatest growth in the post-WWII era."
   ]
  },
  {
   "cell_type": "markdown",
   "metadata": {},
   "source": [
    "Data is obtained from https://data.edmonton.ca/Geospatial-Boundaries/Mature-Neighbourhoods-Map/3jmw-i9z8"
   ]
  },
  {
   "cell_type": "code",
   "execution_count": null,
   "metadata": {},
   "outputs": [],
   "source": [
    "df_neiborM = pd.read_csv(\"https://data.edmonton.ca/api/views/gnzw-67i5/rows.csv?accessType=DOWNLOAD\")\n",
    "df_neiborM.head()"
   ]
  },
  {
   "cell_type": "code",
   "execution_count": null,
   "metadata": {},
   "outputs": [],
   "source": [
    "df_neiborM.rename(columns={'Neighbourhood Name':'Neighbourhood'}, inplace=True)"
   ]
  },
  {
   "cell_type": "code",
   "execution_count": null,
   "metadata": {},
   "outputs": [],
   "source": [
    "df_neiborMature=df_neiborM.copy()\n",
    "df_neiborMature.drop(['the_geom','area_km2','Neighbourhood Number'],axis=1, inplace=True)\n",
    "df_neiborMature.tail()"
   ]
  },
  {
   "cell_type": "code",
   "execution_count": null,
   "metadata": {},
   "outputs": [],
   "source": [
    "\n",
    "df_neighbourhoodM = pd.merge(df_neighbourhood,\n",
    "                 df_neiborMature[['Neighbourhood']],\n",
    "                 on='Neighbourhood')\n",
    "ID=list(range(1,len(df_neiborMature)+1))\n",
    "df_neighbourhoodM['NeiborID']=ID\n",
    "df_neighbourhoodM.tail()"
   ]
  },
  {
   "cell_type": "markdown",
   "metadata": {},
   "source": [
    "### !!!!!!Store df_neighbourhoodM (Mature Neighbourhood V.S. Wards) for other notebooks"
   ]
  },
  {
   "cell_type": "code",
   "execution_count": null,
   "metadata": {},
   "outputs": [],
   "source": [
    "%store df_neighbourhoodM"
   ]
  },
  {
   "cell_type": "markdown",
   "metadata": {},
   "source": [
    "### 5.2 Visulization of Neighbourhood"
   ]
  },
  {
   "cell_type": "markdown",
   "metadata": {},
   "source": [
    "#### 5.2.1 HEAT MAP - ALL Neighbourhoods in Edmonton"
   ]
  },
  {
   "cell_type": "markdown",
   "metadata": {},
   "source": [
    "Data is obtained from https://data.edmonton.ca/dataset/City-Of-Edmonton-Neighbourhood-Boundaries-Spatial-/tvcx-3vrx"
   ]
  },
  {
   "cell_type": "code",
   "execution_count": null,
   "metadata": {},
   "outputs": [],
   "source": [
    "df_nei=df_neighbourhood.copy()\n",
    "ID=list(range(1,402))\n",
    "df_nei['NeiborID']=ID\n",
    "df_nei.tail()"
   ]
  },
  {
   "cell_type": "code",
   "execution_count": null,
   "metadata": {},
   "outputs": [],
   "source": [
    "# download edmonton geojson file\n",
    "#!pip install wget\n",
    "import wget\n",
    "wget.download('https://data.edmonton.ca/api/geospatial/tvcx-3vrx?method=export&format=GeoJSON', 'edmontonNei.json')\n",
    "    \n",
    "print('GeoJSON file downloaded!')"
   ]
  },
  {
   "cell_type": "code",
   "execution_count": null,
   "metadata": {},
   "outputs": [],
   "source": [
    "edmontonNei_geo = r'edmontonNei.json' ######## read geojson file"
   ]
  },
  {
   "cell_type": "code",
   "execution_count": null,
   "metadata": {},
   "outputs": [],
   "source": [
    "# create a plain world map\n",
    "edmN_map = folium.Map(location=[latitude, longitude], zoom_start=10) #, tiles = 'Stamen Toner')"
   ]
  },
  {
   "cell_type": "code",
   "execution_count": null,
   "metadata": {},
   "outputs": [],
   "source": [
    "\n",
    "# generate choropleth map \n",
    "edmN_map.choropleth(\n",
    "    geo_data=edmontonNei_geo,\n",
    "    data=df_nei,\n",
    "    columns=['Neighbourhood', 'NeiborID'],\n",
    "    key_on='feature.properties.name',\n",
    "    #threshold_scale=threshold_scale,\n",
    "    fill_color='YlOrRd', \n",
    "    fill_opacity=0.7, \n",
    "    line_opacity=0.2,\n",
    "    legend_name='Neighbourhoods in Edmonton'\n",
    ")\n",
    "\n",
    "# display map\n",
    "edmN_map"
   ]
  },
  {
   "cell_type": "code",
   "execution_count": null,
   "metadata": {},
   "outputs": [],
   "source": [
    "import geopandas as gpd\n",
    "response = requests.get(r\"https://data.edmonton.ca/api/geospatial/tvcx-3vrx?method=export&format=GeoJSON\")\n",
    "data = response.json()\n",
    "NeisA = gpd.GeoDataFrame.from_features(data, crs='EPSG:4326')\n",
    "\n",
    "NeisA.tail()"
   ]
  },
  {
   "cell_type": "code",
   "execution_count": null,
   "metadata": {},
   "outputs": [],
   "source": [
    "NeiAmerge=NeisA.copy()\n",
    "#NeiAmerge=NeiAmerge.sort_values('number', ascending=True)\n",
    "NeiAmerge=NeiAmerge.sample(frac=1).reset_index(drop=True)\n",
    "\n",
    "ID=list(range(1,len(NeisA)+1))\n",
    "NeiAmerge['NeiborID']=ID\n",
    "NeiAmerge['centroid_long']=NeiAmerge.centroid.x\n",
    "NeiAmerge['centroid_lag']=NeiAmerge.centroid.y\n",
    "NeiAmerge.tail()"
   ]
  },
  {
   "cell_type": "code",
   "execution_count": null,
   "metadata": {},
   "outputs": [],
   "source": [
    "import branca.colormap as cm\n",
    "#colormap = cm.linear.YlGnBu_09 #Paired_12 #Set1_09\n",
    "colormap = cm.linear.Paired_12.scale(NeiAmerge['NeiborID'].min(), NeiAmerge['NeiborID'].max()).to_step(NeiAmerge['NeiborID'].max()) \n",
    "colormap"
   ]
  },
  {
   "cell_type": "code",
   "execution_count": null,
   "metadata": {},
   "outputs": [],
   "source": [
    "from folium.features import GeoJson, GeoJsonTooltip, GeoJsonPopup\n",
    "\n",
    "\n",
    "# create a plain world map\n",
    "edmA_map = folium.Map(location=[latitude, longitude], zoom_start=10, tiles='CartoDB positron') #, tiles = 'Stamen Toner')\n",
    "\n",
    "\n",
    "style_function = lambda x: {\"weight\":0.5, \n",
    "                            'color':'black',\n",
    "                            'fillColor':colormap(x['properties']['NeiborID']), \n",
    "                            'fillOpacity':0.75}\n",
    "highlight_function = lambda x: {'fillColor': '#000000', \n",
    "                                'color':'#000000', \n",
    "                                'fillOpacity': 0.50, \n",
    "                                'weight': 0.1}\n",
    "\n",
    "\n",
    "g = folium.GeoJson(\n",
    "    NeiAmerge,\n",
    "    style_function=style_function,\n",
    "    control=False,\n",
    "    highlight_function=highlight_function,\n",
    "    tooltip=folium.features.GeoJsonTooltip(\n",
    "        fields=['name','NeiborID'],\n",
    "        aliases=['Neighbourhood','Neighbourhood number'],\n",
    "        style=(\"background-color: white; color: #333333; font-family: arial; font-size: 12px; padding: 10px;\"),\n",
    "        sticky=True\n",
    "        )).add_to(edmA_map)\n",
    "\n",
    "colormap.add_to(edmA_map)\n",
    "\n",
    "edmA_map"
   ]
  },
  {
   "cell_type": "code",
   "execution_count": null,
   "metadata": {},
   "outputs": [],
   "source": [
    "class DivIcon(MacroElement):\n",
    "    def __init__(self, html='', size=(5,5), anchor=(0,0), style=''):\n",
    "        \"\"\"TODO : docstring here\"\"\"\n",
    "        super(DivIcon, self).__init__()\n",
    "        self._name = 'DivIcon'\n",
    "        self.size = size\n",
    "        self.anchor = anchor\n",
    "        self.html = html\n",
    "        self.style = style\n",
    "\n",
    "        self._template = Template(u\"\"\"\n",
    "            {% macro header(this, kwargs) %}\n",
    "              <style>\n",
    "                .{{this.get_name()}} {\n",
    "                    {{this.style}}\n",
    "                    }\n",
    "              </style>\n",
    "            {% endmacro %}\n",
    "            {% macro script(this, kwargs) %}\n",
    "                var {{this.get_name()}} = L.divIcon({\n",
    "                    className: '{{this.get_name()}}',\n",
    "                    iconSize: [{{ this.size[0] }},{{ this.size[1] }}],\n",
    "                    iconAnchor: [{{ this.anchor[0] }},{{ this.anchor[1] }}],\n",
    "                    html : \"{{this.html}}\",\n",
    "                    });\n",
    "                {{this._parent.get_name()}}.setIcon({{this.get_name()}});\n",
    "            {% endmacro %}\n",
    "            \"\"\")\n",
    "for i in range(len(NeiAmerge)):\n",
    "    lag=NeiAmerge.iloc[i][6]\n",
    "    log=NeiAmerge.iloc[i][5]\n",
    "    text=NeiAmerge.iloc[i][2]\n",
    "    folium.map.Marker(\n",
    "        [lag, log],\n",
    "        icon=DivIcon(\n",
    "            size=(5,5),\n",
    "            anchor=(0,0),\n",
    "            html=text,\n",
    "            style=\"\"\"\n",
    "            font-size:4px;\n",
    "            background-color: transparent;\n",
    "            border-color: transparent;\n",
    "            text-align: center;\n",
    "            \"\"\"\n",
    "        )\n",
    "    ).add_to(edmA_map)\n",
    "edmA_map"
   ]
  },
  {
   "cell_type": "markdown",
   "metadata": {},
   "source": [
    "#### 5.2.2 HEAT MAP - ONLY Mature Neighbourhood in Edmonton"
   ]
  },
  {
   "cell_type": "code",
   "execution_count": null,
   "metadata": {},
   "outputs": [],
   "source": [
    "\n",
    "import geopandas as gpd\n",
    "response = requests.get(r\"https://data.edmonton.ca/api/geospatial/gnzw-67i5?method=export&format=GeoJSON\")\n",
    "data = response.json()\n",
    "Neis = gpd.GeoDataFrame.from_features(data, crs='EPSG:4326')\n",
    "\n",
    "Neis.tail()"
   ]
  },
  {
   "cell_type": "code",
   "execution_count": null,
   "metadata": {},
   "outputs": [],
   "source": [
    "Neimerge=Neis.copy()\n",
    "ID=list(range(1,len(Neis)+1))\n",
    "Neimerge['NeiborID']=ID\n",
    "Neimerge.tail()"
   ]
  },
  {
   "cell_type": "code",
   "execution_count": null,
   "metadata": {},
   "outputs": [],
   "source": [
    "import branca.colormap as cm\n",
    "#colormap = cm.linear.YlGnBu_09\n",
    "colormap = cm.linear.YlGnBu_09.scale(Neimerge['NeiborID'].min(), Neimerge['NeiborID'].max()).to_step(len(df_neiborMature)) \n",
    "colormap"
   ]
  },
  {
   "cell_type": "code",
   "execution_count": null,
   "metadata": {},
   "outputs": [],
   "source": [
    "from folium.features import GeoJson, GeoJsonTooltip, GeoJsonPopup\n",
    "\n",
    "# create a plain world map\n",
    "edmM_map = folium.Map(location=[latitude, longitude], zoom_start=10) #, tiles = 'Stamen Toner')\n",
    "\n",
    "\n",
    "style_function = lambda x: {\"weight\":0.5, \n",
    "                            'color':'black',\n",
    "                            'fillColor':colormap(x['properties']['NeiborID']), \n",
    "                            'fillOpacity':0.75}\n",
    "highlight_function = lambda x: {'fillColor': '#000000', \n",
    "                                'color':'#000000', \n",
    "                                'fillOpacity': 0.50, \n",
    "                                'weight': 0.1}\n",
    "\n",
    "\n",
    "g = folium.GeoJson(\n",
    "    Neimerge,\n",
    "    style_function=style_function,\n",
    "    control=False,\n",
    "    highlight_function=highlight_function,\n",
    "    tooltip=folium.features.GeoJsonTooltip(\n",
    "        fields=['name','NeiborID'],\n",
    "        aliases=['Neighbourhood','Neighbourhood number'],\n",
    "        style=(\"background-color: white; color: #333333; font-family: arial; font-size: 12px; padding: 10px;\"),\n",
    "        sticky=True\n",
    "        )).add_to(edmM_map)\n",
    "\n",
    "colormap.add_to(edmM_map)\n",
    "\n",
    "edmM_map"
   ]
  },
  {
   "cell_type": "markdown",
   "metadata": {},
   "source": [
    "## Step 6. Neighbourhood classification  \n",
    "Reference:    \n",
    " - https://www.edmonton.ca/city_government/urban_planning_and_design/growth-analysis.aspx?utm_source=virtualaddress&utm_campaign=growthanalysis\n",
    " - https://www.edmonton.ca/city_government/urban_planning_and_design/building-permit-activities-visualization.aspx"
   ]
  },
  {
   "cell_type": "markdown",
   "metadata": {},
   "source": [
    "### 6.1 Import data"
   ]
  },
  {
   "cell_type": "code",
   "execution_count": null,
   "metadata": {},
   "outputs": [],
   "source": [
    "df_class = pd.read_excel(\"https://www.edmonton.ca/city_government/documents/PDF/Neighbourhood_Building_Permits_2009-2016.xls\",'r2016')\n",
    "df_class.head()"
   ]
  },
  {
   "cell_type": "markdown",
   "metadata": {},
   "source": [
    "### 6.2 Data cleaning"
   ]
  },
  {
   "cell_type": "markdown",
   "metadata": {},
   "source": [
    "#### 6.2.a Give each Neighbourhood a Classification ID (2016)"
   ]
  },
  {
   "cell_type": "code",
   "execution_count": null,
   "metadata": {},
   "outputs": [],
   "source": [
    "col_list = ['Neighbourhood Name', 'Typology']\n",
    "df_class = df_class[col_list]\n",
    "df_class.rename(columns={'Neighbourhood Name':'Neighbourhood', 'Typology':'Classification'}, inplace=True)\n",
    "df_class['Neighbourhood']=df_class['Neighbourhood'].str.title()\n",
    "df_class=df_class[df_class['Neighbourhood']!= 'Grand Total']\n",
    "df_class.tail()"
   ]
  },
  {
   "cell_type": "code",
   "execution_count": null,
   "metadata": {},
   "outputs": [],
   "source": [
    "df=df_class.copy()\n",
    "df=df.groupby('Classification',axis=0).count().reset_index()\n",
    "df.drop(['Neighbourhood'],axis=1, inplace=True)\n",
    "df"
   ]
  },
  {
   "cell_type": "code",
   "execution_count": null,
   "metadata": {},
   "outputs": [],
   "source": [
    "dclassID=df.copy()\n",
    "dclassID['ClassificationID']=list(range(1,(len(df)+1)))\n",
    "dclassID"
   ]
  },
  {
   "cell_type": "code",
   "execution_count": null,
   "metadata": {},
   "outputs": [],
   "source": [
    "dclass=df_class.copy()\n",
    "mymap =  {'Developing':1, 'Established':2, 'Industrial':3, 'Mature Area':4, 'Mature Area - Central Core':5,'Mature Area - Central Core (Downtown)':6,'Planned':7,'River Valley':8,'TUC':9}\n",
    "dclass=dclass.applymap(lambda s: mymap.get(s) if s in mymap else s)\n",
    "dclass.tail()"
   ]
  },
  {
   "cell_type": "markdown",
   "metadata": {},
   "source": [
    "### !!!!!!Store dclassID Class and its ID"
   ]
  },
  {
   "cell_type": "code",
   "execution_count": null,
   "metadata": {},
   "outputs": [],
   "source": [
    "%store dclassID"
   ]
  },
  {
   "cell_type": "markdown",
   "metadata": {},
   "source": [
    "##### 6.2.a2 Part New (data from 2019)\n",
    "Reference:\n",
    " - https://www.edmonton.ca/city_government/urban_planning_and_design/building-permit-activities-visualization.aspx\n",
    " click the above link, then click net unit growth neighbourhood, then go the the underneath download, click data, right click 'Download all rows as a text file', copy link address.\n",
    " Note: The below link may expire for some secure reason."
   ]
  },
  {
   "cell_type": "markdown",
   "metadata": {},
   "source": [
    "df_class = pd.read_csv('https://public.tableau.com/vizql/w/BuildingPermitActivitiesMonthly/v/NetUnitGrowthNeighbourhood/vudcsv/sessions/375DFAA4CCFD4C5BA9F43FD85B4EB815-0:0/views/5918020949447600458_11936424844950092242?summary=true')\n",
    "df_class.tail()"
   ]
  },
  {
   "cell_type": "markdown",
   "metadata": {},
   "source": [
    "###### M1c.1 Connect to the database from SQL\n",
    "Let us first load the SQL extension and establish a connection with the database"
   ]
  },
  {
   "cell_type": "code",
   "execution_count": null,
   "metadata": {},
   "outputs": [],
   "source": [
    "%load_ext sql"
   ]
  },
  {
   "cell_type": "code",
   "execution_count": null,
   "metadata": {},
   "outputs": [],
   "source": [
    "%sql ibm_db_sa://gln55437:v6jk%5Es58hvsjd4lj@dashdb-txn-sbox-yp-dal09-10.services.dal.bluemix.net:50000/BLUDB"
   ]
  },
  {
   "cell_type": "markdown",
   "metadata": {},
   "source": [
    "Import data from http://ace.edmonton.ca/projects/visualizations/crime-vs-average-assessed-value/   \n",
    "1. Download Tableau from the website\n",
    "2. Access 'boundaries+ (crime and assessed tableau)' from tableau and explore all into csv\n",
    "3. upload to IBM_Cloud→Db2-vs→Manage→Open console→Load data (under GLN55437)"
   ]
  },
  {
   "cell_type": "code",
   "execution_count": null,
   "metadata": {},
   "outputs": [],
   "source": [
    "%sql select * from NEIGHBOURHOOD_MAP LIMIT 5"
   ]
  },
  {
   "cell_type": "markdown",
   "metadata": {},
   "source": [
    "Import data from SQL SERVER"
   ]
  },
  {
   "cell_type": "markdown",
   "metadata": {},
   "source": [
    "Identify the database connection credentials"
   ]
  },
  {
   "cell_type": "code",
   "execution_count": null,
   "metadata": {},
   "outputs": [],
   "source": [
    "import ibm_db"
   ]
  },
  {
   "cell_type": "code",
   "execution_count": null,
   "metadata": {},
   "outputs": [],
   "source": [
    "dsn_driver = \"{IBM DB2 ODBC DRIVER}\"\n",
    "dsn_database = \"BLUDB\"\n",
    "dsn_hostname =\"dashdb-txn-sbox-yp-dal09-10.services.dal.bluemix.net\"\n",
    "dsn_port = \"50000\" \n",
    "dsn_protocol = \"TCPIP\"\n",
    "dsn_uid =\"gln55437\"\n",
    "dsn_pwd =\"v6jk^s58hvsjd4lj\"     "
   ]
  },
  {
   "cell_type": "markdown",
   "metadata": {},
   "source": [
    "Create the database connection"
   ]
  },
  {
   "cell_type": "code",
   "execution_count": null,
   "metadata": {},
   "outputs": [],
   "source": [
    "#Create database connection\n",
    "#DO NOT MODIFY THIS CELL. Just RUN it with Shift + Enter\n",
    "dsn = (\n",
    "    \"DRIVER={0};\"\n",
    "    \"DATABASE={1};\"\n",
    "    \"HOSTNAME={2};\"\n",
    "    \"PORT={3};\"\n",
    "    \"PROTOCOL={4};\"\n",
    "    \"UID={5};\"\n",
    "    \"PWD={6};\").format(dsn_driver, dsn_database, dsn_hostname, dsn_port, dsn_protocol, dsn_uid, dsn_pwd)\n",
    "\n",
    "try:\n",
    "    conn = ibm_db.connect(dsn, \"\", \"\")\n",
    "    print (\"Connected to database: \", dsn_database, \"as user: \", dsn_uid, \"on host: \", dsn_hostname)\n",
    "\n",
    "except:\n",
    "    print (\"Unable to connect: \", ibm_db.conn_errormsg() )"
   ]
  },
  {
   "cell_type": "code",
   "execution_count": null,
   "metadata": {},
   "outputs": [],
   "source": [
    "import pandas\n",
    "import ibm_db_dbi"
   ]
  },
  {
   "cell_type": "code",
   "execution_count": null,
   "metadata": {},
   "outputs": [],
   "source": [
    "#connection for pandas\n",
    "pconn = ibm_db_dbi.Connection(conn)"
   ]
  },
  {
   "cell_type": "code",
   "execution_count": null,
   "metadata": {},
   "outputs": [],
   "source": [
    "#query statement to retrieve all rows in INSTRUCTOR table\n",
    "selectQuery = \"select * from NEIGHBOURHOOD_MAP\"\n",
    "\n",
    "#retrieve the query results into a pandas dataframe\n",
    "df_class = pandas.read_sql(selectQuery, pconn)\n",
    "\n",
    "#print just the LNAME for first row in the pandas data frame\n",
    "df_class.head()"
   ]
  },
  {
   "cell_type": "code",
   "execution_count": null,
   "metadata": {},
   "outputs": [],
   "source": [
    "col_list = ['Neighbourhood', 'Neighbourhood_Type']\n",
    "df_class = df_class[col_list]\n",
    "df_class.rename(columns={'Neighbourhood_Type':'Classification'}, inplace=True)\n",
    "#df_class=df_class[df_class['Neighbourhood']!= \"\"] \n",
    "df_class = df_class.dropna()\n",
    "df_class.tail()"
   ]
  },
  {
   "cell_type": "code",
   "execution_count": null,
   "metadata": {},
   "outputs": [],
   "source": [
    "df=df_class.copy()\n",
    "df=df.groupby('Classification',axis=0).count().reset_index()\n",
    "\n",
    "df"
   ]
  },
  {
   "cell_type": "code",
   "execution_count": null,
   "metadata": {},
   "outputs": [],
   "source": [
    "dclass=df_class.copy()\n",
    "mymap =  {'Developing':1, 'Established':2, 'Industrial':3, 'Mature Area':4, 'Mature Area - Central Core':5,'Mature Area - Central Core (Downtown)':6,'Planned':7,'River Valley':8,'TUC':9}\n",
    "dclass=dclass.applymap(lambda s: mymap.get(s) if s in mymap else s)\n",
    "dclass.tail()"
   ]
  },
  {
   "cell_type": "markdown",
   "metadata": {},
   "source": [
    "#### 6.2.b Mannually add classificationID for missing Neighbourhoods"
   ]
  },
  {
   "cell_type": "markdown",
   "metadata": {},
   "source": [
    "##### 6.2.b0 Check whether there is unexpected missing data"
   ]
  },
  {
   "cell_type": "code",
   "execution_count": null,
   "metadata": {},
   "outputs": [],
   "source": [
    "dm1=dclass.copy()\n",
    "dm2=df_neighbourhood.copy()\n",
    "dm1.drop(['Classification'],axis=1, inplace=True)\n",
    "dm2.drop(['Ward'],axis=1, inplace=True)\n",
    "dm2.reset_index(drop=True, inplace=True)"
   ]
  },
  {
   "cell_type": "code",
   "execution_count": null,
   "metadata": {},
   "outputs": [],
   "source": [
    "dmiss=dm2[~dm2.apply(tuple,1).isin(dm1.apply(tuple,1))]\n",
    "\n",
    "dmiss.reset_index(drop=True, inplace=True)\n",
    "dmiss.tail()"
   ]
  },
  {
   "cell_type": "markdown",
   "metadata": {},
   "source": [
    "##### 6.2.b1 Check whether there is unexpected missing data (new)"
   ]
  },
  {
   "cell_type": "code",
   "execution_count": null,
   "metadata": {},
   "outputs": [],
   "source": [
    "import geopandas as gpd\n",
    "response = requests.get(r\"https://data.edmonton.ca/api/geospatial/tvcx-3vrx?method=export&format=GeoJSON\")\n",
    "data = response.json()\n",
    "neighbourhood = gpd.GeoDataFrame.from_features(data, crs='EPSG:4326')\n",
    "\n",
    "neighbourhood.tail()"
   ]
  },
  {
   "cell_type": "code",
   "execution_count": null,
   "metadata": {},
   "outputs": [],
   "source": [
    "neighbourhood.rename(columns={'name':'Neighbourhood'}, inplace=True)"
   ]
  },
  {
   "cell_type": "code",
   "execution_count": null,
   "metadata": {},
   "outputs": [],
   "source": [
    "dm1=dclass.copy()\n",
    "dm2=neighbourhood.copy()\n",
    "dm1.drop(['Classification'],axis=1, inplace=True)\n",
    "dm2.drop(['geometry','area_km2','number'],axis=1, inplace=True)\n",
    "dm2.reset_index(drop=True, inplace=True)"
   ]
  },
  {
   "cell_type": "code",
   "execution_count": null,
   "metadata": {},
   "outputs": [],
   "source": [
    "dmiss=dm2[~dm2.apply(tuple,1).isin(dm1.apply(tuple,1))]\n",
    "dmiss.sort_values(['Neighbourhood'], inplace=True ,ascending=True)\n",
    "dmiss.reset_index(drop=True, inplace=True)\n",
    "dmiss.tail()"
   ]
  },
  {
   "cell_type": "markdown",
   "metadata": {},
   "source": [
    "##### 6.2.b2 Part A keyword check"
   ]
  },
  {
   "cell_type": "code",
   "execution_count": null,
   "metadata": {},
   "outputs": [],
   "source": [
    "a=dmiss['Neighbourhood'].str.strip().str[-10:-1].iloc[43]\n",
    "print(a)"
   ]
  },
  {
   "cell_type": "code",
   "execution_count": null,
   "metadata": {},
   "outputs": [],
   "source": [
    "a=dmiss['Neighbourhood'].iloc[0]\n",
    "print(a)"
   ]
  },
  {
   "cell_type": "code",
   "execution_count": null,
   "metadata": {},
   "outputs": [],
   "source": [
    "a=dmiss['Neighbourhood'].str.strip().str[0:8].iloc[1]\n",
    "print(a)"
   ]
  },
  {
   "cell_type": "code",
   "execution_count": null,
   "metadata": {},
   "outputs": [],
   "source": [
    "a=dmiss['Neighbourhood'].str.strip().str[0:12].iloc[44]\n",
    "print(a)"
   ]
  },
  {
   "cell_type": "code",
   "execution_count": null,
   "metadata": {},
   "outputs": [],
   "source": [
    "a=dmiss['Neighbourhood'].str.contains('River Valley', regex=False).iloc[44]\n",
    "print(a)"
   ]
  },
  {
   "cell_type": "code",
   "execution_count": null,
   "metadata": {},
   "outputs": [],
   "source": [
    "dmiss1a=[]\n",
    "dmiss1b=[]\n",
    "for i in range((len(dmiss)-1)):\n",
    "    #a=dmiss['Neighbourhood'].str.strip().str[-10:-1].iloc[i]\n",
    "    a=dmiss['Neighbourhood'].str.contains('Industrial', regex=False).iloc[i]\n",
    "    b=dmiss['Neighbourhood'].iloc[i]\n",
    "    c=dmiss['Neighbourhood'].str.strip().str[0:7].iloc[i]\n",
    "    d=dmiss['Neighbourhood'].str.strip().str[0:12].iloc[i]\n",
    "    if a == True:  \n",
    "        dmiss1a.append(b)\n",
    "        dmiss1b.append(3)\n",
    "    elif c == 'Anthony':\n",
    "        dmiss1a.append(b)\n",
    "        dmiss1b.append(9)\n",
    "    elif d=='River Valley':\n",
    "        dmiss1a.append(b)\n",
    "        dmiss1b.append(8)\n",
    "    else:\n",
    "        continue\n",
    "    "
   ]
  },
  {
   "cell_type": "code",
   "execution_count": null,
   "metadata": {},
   "outputs": [],
   "source": [
    "dataM = {'Neighbourhood': dmiss1a,\n",
    "            'Classification':dmiss1b,\n",
    "        }\n",
    "\n",
    "dtM = pd.DataFrame (dataM, columns = ['Neighbourhood','Classification'])\n",
    "dtM.tail()"
   ]
  },
  {
   "cell_type": "markdown",
   "metadata": {},
   "source": [
    "##### 6.2.b3 Part B manually add (based on 2017 data)\n",
    "References:\n",
    " - https://public.tableau.com/profile/city.of.edmonton#!/vizhome/NeighbourhoodProfiles_FederalCensus2016/PopulationbyAgeandGender\n",
    " - https://www.edmonton.ca/city_government/documents/Mature_Neighbourhood_Reinvestment_Report_2017.pdf"
   ]
  },
  {
   "cell_type": "code",
   "execution_count": null,
   "metadata": {},
   "outputs": [],
   "source": [
    "dm1=dmiss.copy()\n",
    "dm2=dtM.copy()\n",
    "dm2.drop(['Classification'],axis=1, inplace=True)"
   ]
  },
  {
   "cell_type": "code",
   "execution_count": null,
   "metadata": {},
   "outputs": [],
   "source": [
    "dmiss2=dm1[~dm1.apply(tuple,1).isin(dm2.apply(tuple,1))]\n",
    "\n",
    "dmiss2.reset_index(drop=True, inplace=True)\n",
    "dmiss2.tail()"
   ]
  },
  {
   "cell_type": "code",
   "execution_count": null,
   "metadata": {},
   "outputs": [],
   "source": [
    "#query statement to retrieve all rows in INSTRUCTOR table\n",
    "selectQuery = \"select * from NEIGHBOURHOOD_ADDON\"\n",
    "\n",
    "#retrieve the query results into a pandas dataframe\n",
    "df_addon = pandas.read_sql(selectQuery, pconn)\n",
    "\n",
    "#print just the LNAME for first row in the pandas data frame\n",
    "df_addon.head()"
   ]
  },
  {
   "cell_type": "code",
   "execution_count": null,
   "metadata": {},
   "outputs": [],
   "source": [
    "df_addon =df_addon[df_addon['Classification']!= \"Not assigned\"] \n",
    "df_addon.reset_index(drop=True, inplace=True)\n",
    "df_addon.tail()"
   ]
  },
  {
   "cell_type": "code",
   "execution_count": null,
   "metadata": {},
   "outputs": [],
   "source": [
    "df_addon[\"Classification\"]=df_addon[\"Classification\"].astype(int)\n",
    "#df_addon.astype(int)\n",
    "df_addon.dtypes"
   ]
  },
  {
   "cell_type": "markdown",
   "metadata": {},
   "source": [
    "##### 6.2.b4 Part C Merge"
   ]
  },
  {
   "cell_type": "code",
   "execution_count": null,
   "metadata": {},
   "outputs": [],
   "source": [
    "dclass1=dclass.copy()\n",
    "dclass1 = dclass1.append([dtM,df_addon], ignore_index=True)\n",
    "#dclass1 =dclass1[dclass1['Classification']!= \"University Of Alberta\"] \n",
    "dclass1.sort_values(['Neighbourhood'], inplace=True ,ascending=True)\n",
    "dclass1.reset_index(drop=True, inplace=True)\n",
    "dclass1.tail()"
   ]
  },
  {
   "cell_type": "markdown",
   "metadata": {},
   "source": [
    "### !!!!!!Store dclass1 Neighbourhood and its classification ID"
   ]
  },
  {
   "cell_type": "code",
   "execution_count": null,
   "metadata": {},
   "outputs": [],
   "source": [
    "%store dclass1"
   ]
  },
  {
   "cell_type": "markdown",
   "metadata": {},
   "source": [
    "### 6.3 HEAT MAP - Neighbourhood classification"
   ]
  },
  {
   "cell_type": "code",
   "execution_count": null,
   "metadata": {},
   "outputs": [],
   "source": [
    "import geopandas as gpd\n",
    "response = requests.get(r\"https://data.edmonton.ca/api/geospatial/tvcx-3vrx?method=export&format=GeoJSON\")\n",
    "data = response.json()\n",
    "NeisA = gpd.GeoDataFrame.from_features(data, crs='EPSG:4326')\n",
    "\n",
    "NeisA.tail()"
   ]
  },
  {
   "cell_type": "code",
   "execution_count": null,
   "metadata": {},
   "outputs": [],
   "source": [
    "NeisA.rename(columns={'name':'Neighbourhood'}, inplace=True)\n",
    "NeiAmerge = pd.merge(NeisA,\n",
    "                dclass1[['Neighbourhood','Classification']],\n",
    "                 on='Neighbourhood')\n",
    "\n",
    "NeiAmerge.tail()"
   ]
  },
  {
   "cell_type": "code",
   "execution_count": null,
   "metadata": {},
   "outputs": [],
   "source": [
    "import branca.colormap as cm\n",
    "#colormap = cm.linear.YlGnBu_09\n",
    "colormap = cm.linear.Paired_09.scale(NeiAmerge['Classification'].min(),NeiAmerge['Classification'].max()).to_step(NeiAmerge['Classification'].max()) \n",
    "colormap"
   ]
  },
  {
   "cell_type": "code",
   "execution_count": null,
   "metadata": {},
   "outputs": [],
   "source": [
    "from folium.features import GeoJson, GeoJsonTooltip, GeoJsonPopup\n",
    "\n",
    "\n",
    "# create a plain world map\n",
    "edmA_map = folium.Map(location=[latitude, longitude], zoom_start=10, tiles='CartoDB positron') #, tiles = 'Stamen Toner')\n",
    "\n",
    "\n",
    "style_function = lambda x: {\"weight\":0.5, \n",
    "                            'color':'black',\n",
    "                            'fillColor':colormap(x['properties']['Classification']), \n",
    "                            'fillOpacity':0.75}\n",
    "highlight_function = lambda x: {'fillColor': '#000000', \n",
    "                                'color':'#000000', \n",
    "                                'fillOpacity': 0.50, \n",
    "                                'weight': 0.1}\n",
    "\n",
    "\n",
    "g = folium.GeoJson(\n",
    "    NeiAmerge,\n",
    "    style_function=style_function,\n",
    "    control=False,\n",
    "    highlight_function=highlight_function,\n",
    "    tooltip=folium.features.GeoJsonTooltip(\n",
    "        fields=['Neighbourhood','Classification'],\n",
    "        aliases=['Neighbourhood','Classification number'],\n",
    "        style=(\"background-color: white; color: #333333; font-family: arial; font-size: 12px; padding: 10px;\"),\n",
    "        sticky=True\n",
    "        )).add_to(edmA_map)\n",
    "\n",
    "colormap.add_to(edmA_map)\n",
    "\n",
    "edmA_map"
   ]
  },
  {
   "cell_type": "code",
   "execution_count": null,
   "metadata": {},
   "outputs": [],
   "source": [
    "from branca.element import Template, MacroElement\n",
    "\n",
    "template = \"\"\"\n",
    "{% macro html(this, kwargs) %}\n",
    "\n",
    "<!doctype html>\n",
    "<html lang=\"en\">\n",
    "<head>\n",
    "  <meta charset=\"utf-8\">\n",
    "  <meta name=\"viewport\" content=\"width=device-width, initial-scale=1\">\n",
    "  <title>jQuery UI Draggable - Default functionality</title>\n",
    "  <link rel=\"stylesheet\" href=\"//code.jquery.com/ui/1.12.1/themes/base/jquery-ui.css\">\n",
    "\n",
    "  <script src=\"https://code.jquery.com/jquery-1.12.4.js\"></script>\n",
    "  <script src=\"https://code.jquery.com/ui/1.12.1/jquery-ui.js\"></script>\n",
    "  \n",
    "  <script>\n",
    "  $( function() {\n",
    "    $( \"#maplegend\" ).draggable({\n",
    "                    start: function (event, ui) {\n",
    "                        $(this).css({\n",
    "                            right: \"auto\",\n",
    "                            top: \"auto\",\n",
    "                            bottom: \"auto\"\n",
    "                        });\n",
    "                    }\n",
    "                });\n",
    "});\n",
    "\n",
    "  </script>\n",
    "</head>\n",
    "<body>\n",
    "\n",
    " \n",
    "<div id='maplegend' class='maplegend' \n",
    "    style='position: absolute; z-index:9999; border:2px solid grey; background-color:rgba(255, 255, 255, 0.8);\n",
    "     border-radius:6px; padding: 10px; font-size:14px; right: 20px; bottom: 20px;'>\n",
    "     \n",
    "<div class='legend-title'>Neighbourhood Classification (2017)</div>\n",
    "<div class='legend-scale'>\n",
    "  <ul class='legend-labels'>\n",
    "    <li><span style='background:#a6cee3;opacity:0.7;'></span>Developing</li>\n",
    "    <li><span style='background:#1f78b4;opacity:0.7;'></span>Established</li>\n",
    "    <li><span style='background:#b2df8a;opacity:0.7;'></span>Industrial</li>\n",
    "    <li><span style='background:#33a02c;opacity:0.7;'></span>Mature Area</li>\n",
    "    <li><span style='background:pink;opacity:0.7;'></span>Mature Area-Central Core</li>\n",
    "    <li><span style='background:red;opacity:0.7;'></span>Mature Area-Central Core (Downtown)</li>\n",
    "    <li><span style='background:sandybrown;opacity:0.7;'></span>Planned</li>\n",
    "    <li><span style='background:darkorange;opacity:0.7;'></span>River Valley</li>\n",
    "    <li><span style='background:plum;opacity:0.7;'></span>Transportation and Utility Corridor</li>\n",
    "\n",
    "  </ul>\n",
    "</div>\n",
    "</div>\n",
    " \n",
    "</body>\n",
    "</html>\n",
    "\n",
    "<style type='text/css'>\n",
    "  .maplegend .legend-title {\n",
    "    text-align: left;\n",
    "    margin-bottom: 5px;\n",
    "    font-weight: bold;\n",
    "    font-size: 90%;\n",
    "    }\n",
    "  .maplegend .legend-scale ul {\n",
    "    margin: 0;\n",
    "    margin-bottom: 5px;\n",
    "    padding: 0;\n",
    "    float: left;\n",
    "    list-style: none;\n",
    "    }\n",
    "  .maplegend .legend-scale ul li {\n",
    "    font-size: 80%;\n",
    "    list-style: none;\n",
    "    margin-left: 0;\n",
    "    line-height: 18px;\n",
    "    margin-bottom: 2px;\n",
    "    }\n",
    "  .maplegend ul.legend-labels li span {\n",
    "    display: block;\n",
    "    float: left;\n",
    "    height: 16px;\n",
    "    width: 30px;\n",
    "    margin-right: 5px;\n",
    "    margin-left: 0;\n",
    "    border: 1px solid #999;\n",
    "    }\n",
    "  .maplegend .legend-source {\n",
    "    font-size: 80%;\n",
    "    color: #777;\n",
    "    clear: both;\n",
    "    }\n",
    "  .maplegend a {\n",
    "    color: #777;\n",
    "    }\n",
    "</style>\n",
    "{% endmacro %}\"\"\"\n",
    "\n",
    "macro = MacroElement()\n",
    "macro._template = Template(template)\n",
    "\n",
    "edmA_map.get_root().add_child(macro)\n",
    "\n",
    "edmA_map"
   ]
  },
  {
   "cell_type": "code",
   "execution_count": null,
   "metadata": {},
   "outputs": [],
   "source": [
    "edmA_map.save('Classification_neighbourhood.html')"
   ]
  },
  {
   "cell_type": "markdown",
   "metadata": {},
   "source": [
    "### 6.4 Only conside mature neighbourhood, estblished neighbourhood and developing neighbourhood"
   ]
  },
  {
   "cell_type": "markdown",
   "metadata": {},
   "source": [
    "#### 6.4.1 Data clean"
   ]
  },
  {
   "cell_type": "code",
   "execution_count": null,
   "metadata": {},
   "outputs": [],
   "source": [
    "dclassMED=dclass1.copy()\n",
    "dclassMED=dclassMED[dclassMED['Classification']!= 3]\n",
    "dclassMED=dclassMED[dclassMED['Classification']!= 7]\n",
    "dclassMED=dclassMED[dclassMED['Classification']!= 8]\n",
    "dclassMED=dclassMED[dclassMED['Classification']!= 9]\n",
    "dclassMED.reset_index(drop=True, inplace=True)\n",
    "dclassMED.tail()"
   ]
  },
  {
   "cell_type": "markdown",
   "metadata": {},
   "source": [
    "### !!!!!!Store dclassMED: Mature, Established, Developing Neighbourhood and its classification ID"
   ]
  },
  {
   "cell_type": "code",
   "execution_count": null,
   "metadata": {},
   "outputs": [],
   "source": [
    "%store dclassMED"
   ]
  },
  {
   "cell_type": "markdown",
   "metadata": {},
   "source": [
    "#### 6.4.2 HEAT MAP - Neighbourhood classification"
   ]
  },
  {
   "cell_type": "code",
   "execution_count": null,
   "metadata": {},
   "outputs": [],
   "source": [
    "import geopandas as gpd\n",
    "response = requests.get(r\"https://data.edmonton.ca/api/geospatial/tvcx-3vrx?method=export&format=GeoJSON\")\n",
    "data = response.json()\n",
    "NeisA = gpd.GeoDataFrame.from_features(data, crs='EPSG:4326')\n",
    "\n",
    "NeisA.tail()"
   ]
  },
  {
   "cell_type": "code",
   "execution_count": null,
   "metadata": {},
   "outputs": [],
   "source": [
    "NeisA.rename(columns={'name':'Neighbourhood'}, inplace=True)\n",
    "NeiAmerge = pd.merge(NeisA,\n",
    "                dclassMED[['Neighbourhood','Classification']],\n",
    "                 on='Neighbourhood')\n",
    "\n",
    "NeiAmerge.tail()"
   ]
  },
  {
   "cell_type": "code",
   "execution_count": null,
   "metadata": {},
   "outputs": [],
   "source": [
    "import branca.colormap as cm\n",
    "#colormap = cm.linear.YlGnBu_09\n",
    "colormap = cm.linear.Paired_06.scale(NeiAmerge['Classification'].min(),NeiAmerge['Classification'].max()).to_step(NeiAmerge['Classification'].max()) \n",
    "colormap"
   ]
  },
  {
   "cell_type": "code",
   "execution_count": null,
   "metadata": {},
   "outputs": [],
   "source": [
    "from folium.features import GeoJson, GeoJsonTooltip, GeoJsonPopup\n",
    "\n",
    "\n",
    "# create a plain world map\n",
    "edmA_map = folium.Map(location=[latitude, longitude], zoom_start=10, tiles='CartoDB positron') #, tiles = 'Stamen Toner')\n",
    "colormap.caption = 'Classification ID'\n",
    "#:Developing:1, Established:2, Industrial:3, \\n Mature Area:4,Mature Area - Central Core:5'\n",
    "#Mature Area - Central Core (Downtown):6, \n",
    "#Planned:7, River Valley:8,TUC:9'''\n",
    "\n",
    "style_function = lambda x: {\"weight\":0.5, \n",
    "                            'color':'black',\n",
    "                            'fillColor':colormap(x['properties']['Classification']), \n",
    "                            'fillOpacity':0.75}\n",
    "highlight_function = lambda x: {'fillColor': '#000000', \n",
    "                                'color':'#000000', \n",
    "                                'fillOpacity': 0.50, \n",
    "                                'weight': 0.1}\n",
    "\n",
    "\n",
    "g = folium.GeoJson(\n",
    "    NeiAmerge,\n",
    "    style_function=style_function,\n",
    "    control=False,\n",
    "    highlight_function=highlight_function,\n",
    "    tooltip=folium.features.GeoJsonTooltip(\n",
    "        fields=['Neighbourhood','Classification'],\n",
    "        aliases=['Neighbourhood','Classification number'],\n",
    "        style=(\"background-color: white; color: #333333; font-family: arial; font-size: 12px; padding: 10px;\"),\n",
    "        sticky=True\n",
    "        )).add_to(edmA_map)\n",
    "\n",
    "colormap.add_to(edmA_map)\n",
    "\n",
    "edmA_map"
   ]
  },
  {
   "cell_type": "code",
   "execution_count": null,
   "metadata": {},
   "outputs": [],
   "source": [
    "from branca.element import Template, MacroElement\n",
    "\n",
    "template = \"\"\"\n",
    "{% macro html(this, kwargs) %}\n",
    "\n",
    "<!doctype html>\n",
    "<html lang=\"en\">\n",
    "<head>\n",
    "  <meta charset=\"utf-8\">\n",
    "  <meta name=\"viewport\" content=\"width=device-width, initial-scale=1\">\n",
    "  <title>jQuery UI Draggable - Default functionality</title>\n",
    "  <link rel=\"stylesheet\" href=\"//code.jquery.com/ui/1.12.1/themes/base/jquery-ui.css\">\n",
    "\n",
    "  <script src=\"https://code.jquery.com/jquery-1.12.4.js\"></script>\n",
    "  <script src=\"https://code.jquery.com/ui/1.12.1/jquery-ui.js\"></script>\n",
    "  \n",
    "  <script>\n",
    "  $( function() {\n",
    "    $( \"#maplegend\" ).draggable({\n",
    "                    start: function (event, ui) {\n",
    "                        $(this).css({\n",
    "                            right: \"auto\",\n",
    "                            top: \"auto\",\n",
    "                            bottom: \"auto\"\n",
    "                        });\n",
    "                    }\n",
    "                });\n",
    "});\n",
    "\n",
    "  </script>\n",
    "</head>\n",
    "<body>\n",
    "\n",
    " \n",
    "<div id='maplegend' class='maplegend' \n",
    "    style='position: absolute; z-index:9999; border:2px solid grey; background-color:rgba(255, 255, 255, 0.8);\n",
    "     border-radius:6px; padding: 10px; font-size:14px; right: 20px; bottom: 20px;'>\n",
    "     \n",
    "<div class='legend-title'>Neighbourhoods for further analysis</div>\n",
    "<div class='legend-scale'>\n",
    "  <ul class='legend-labels'>\n",
    "    <li><span style='background:#a6cee3;opacity:0.7;'></span>Developing</li>\n",
    "    <li><span style='background:#1f78b4;opacity:0.7;'></span>Established</li>\n",
    "    <li><span style='background:#33a02c;opacity:0.7;'></span>Mature Area</li>\n",
    "    <li><span style='background:pink;opacity:0.7;'></span>Mature Area-Central Core</li>\n",
    "    <li><span style='background:red;opacity:0.7;'></span>Mature Area-Central Core (Downtown)</li>\n",
    "\n",
    "\n",
    "  </ul>\n",
    "</div>\n",
    "</div>\n",
    " \n",
    "</body>\n",
    "</html>\n",
    "\n",
    "<style type='text/css'>\n",
    "  .maplegend .legend-title {\n",
    "    text-align: left;\n",
    "    margin-bottom: 5px;\n",
    "    font-weight: bold;\n",
    "    font-size: 90%;\n",
    "    }\n",
    "  .maplegend .legend-scale ul {\n",
    "    margin: 0;\n",
    "    margin-bottom: 5px;\n",
    "    padding: 0;\n",
    "    float: left;\n",
    "    list-style: none;\n",
    "    }\n",
    "  .maplegend .legend-scale ul li {\n",
    "    font-size: 80%;\n",
    "    list-style: none;\n",
    "    margin-left: 0;\n",
    "    line-height: 18px;\n",
    "    margin-bottom: 2px;\n",
    "    }\n",
    "  .maplegend ul.legend-labels li span {\n",
    "    display: block;\n",
    "    float: left;\n",
    "    height: 16px;\n",
    "    width: 30px;\n",
    "    margin-right: 5px;\n",
    "    margin-left: 0;\n",
    "    border: 1px solid #999;\n",
    "    }\n",
    "  .maplegend .legend-source {\n",
    "    font-size: 80%;\n",
    "    color: #777;\n",
    "    clear: both;\n",
    "    }\n",
    "  .maplegend a {\n",
    "    color: #777;\n",
    "    }\n",
    "</style>\n",
    "{% endmacro %}\"\"\"\n",
    "\n",
    "macro = MacroElement()\n",
    "macro._template = Template(template)\n",
    "\n",
    "edmA_map.get_root().add_child(macro)\n",
    "\n",
    "edmA_map"
   ]
  },
  {
   "cell_type": "code",
   "execution_count": null,
   "metadata": {},
   "outputs": [],
   "source": [
    "edmA_map.save('DEMCneighbourhood.html')"
   ]
  },
  {
   "cell_type": "markdown",
   "metadata": {},
   "source": [
    "## **End of Main Script**"
   ]
  },
  {
   "cell_type": "code",
   "execution_count": null,
   "metadata": {},
   "outputs": [],
   "source": []
  },
  {
   "cell_type": "code",
   "execution_count": null,
   "metadata": {},
   "outputs": [],
   "source": []
  }
 ],
 "metadata": {
  "kernelspec": {
   "display_name": "Python",
   "language": "python",
   "name": "conda-env-python-py"
  },
  "language_info": {
   "codemirror_mode": {
    "name": "ipython",
    "version": 3
   },
   "file_extension": ".py",
   "mimetype": "text/x-python",
   "name": "python",
   "nbconvert_exporter": "python",
   "pygments_lexer": "ipython3",
   "version": "3.6.11"
  }
 },
 "nbformat": 4,
 "nbformat_minor": 4
}
