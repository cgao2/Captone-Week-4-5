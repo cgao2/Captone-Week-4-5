{
 "cells": [
  {
   "cell_type": "markdown",
   "metadata": {},
   "source": [
    "# **Part C. Consumption level for the selected neighbourhood**"
   ]
  },
  {
   "cell_type": "markdown",
   "metadata": {},
   "source": [
    "## C1. Import libaries"
   ]
  },
  {
   "cell_type": "code",
   "execution_count": null,
   "metadata": {},
   "outputs": [],
   "source": [
    "#!conda install pandas --yes"
   ]
  },
  {
   "cell_type": "code",
   "execution_count": null,
   "metadata": {},
   "outputs": [],
   "source": [
    "import numpy as np # library to handle data in a vectorized manner\n",
    "import pandas as pd # library for data analsysis\n",
    "import requests \n",
    "#from bs4 import BeautifulSoup\n",
    "#import html5lib"
   ]
  },
  {
   "cell_type": "code",
   "execution_count": null,
   "metadata": {},
   "outputs": [],
   "source": [
    "import itertools\n",
    "\n",
    "import matplotlib.pyplot as plt\n",
    "from matplotlib.ticker import NullFormatter\n",
    "\n",
    "import matplotlib.ticker as ticker\n",
    "from sklearn import preprocessing\n",
    "%matplotlib inline\n",
    "# notice: installing seaborn might takes a few minutes\n",
    "!conda install -c anaconda seaborn -y\n",
    "import seaborn as sns"
   ]
  },
  {
   "cell_type": "code",
   "execution_count": null,
   "metadata": {},
   "outputs": [],
   "source": [
    "pd.set_option('display.max_columns', None)\n",
    "pd.set_option('display.max_rows', None)\n",
    "\n",
    "import json # library to handle JSON files\n",
    "\n",
    "!conda install -c conda-forge geopy --yes # uncomment this line if you haven't completed the Foursquare API lab\n",
    "from geopy.geocoders import Nominatim # convert an address into latitude and longitude values\n",
    "\n",
    "import requests # library to handle requests\n",
    "from pandas.io.json import json_normalize # tranform JSON file into a pandas dataframe\n",
    "\n",
    "# Matplotlib and associated plotting modules\n",
    "import matplotlib.cm as cm\n",
    "import matplotlib.colors as colors\n",
    "\n",
    "# import k-means from clustering stage\n",
    "from sklearn.cluster import KMeans\n",
    "\n",
    "!conda install -c conda-forge folium=0.11.0 --yes # uncomment this line if you haven't completed the Foursquare API lab\n",
    "import folium # map rendering library\n",
    "\n",
    "print('Libraries imported.')"
   ]
  },
  {
   "cell_type": "code",
   "execution_count": null,
   "metadata": {},
   "outputs": [],
   "source": [
    "!pip install geocoder #get latitude and longtitude if know address/postalcode\n",
    "\n",
    "!conda install -c districtdatalabs yellowbrick --yes #for kmean\n",
    "\n",
    "!pip install lxml\n",
    "\n",
    "!pip install BeautifulSoup4\n",
    "from bs4 import BeautifulSoup"
   ]
  },
  {
   "cell_type": "code",
   "execution_count": null,
   "metadata": {},
   "outputs": [],
   "source": [
    "!pip install geopandas"
   ]
  },
  {
   "cell_type": "markdown",
   "metadata": {},
   "source": [
    "## Import SQL SERVER"
   ]
  },
  {
   "cell_type": "markdown",
   "metadata": {},
   "source": [
    "Identify the database connection credentials"
   ]
  },
  {
   "cell_type": "code",
   "execution_count": null,
   "metadata": {},
   "outputs": [],
   "source": [
    "import ibm_db"
   ]
  },
  {
   "cell_type": "code",
   "execution_count": null,
   "metadata": {},
   "outputs": [],
   "source": [
    "dsn_driver = \"{IBM DB2 ODBC DRIVER}\"\n",
    "dsn_database = \"BLUDB\"\n",
    "dsn_hostname =\"dashdb-txn-sbox-yp-dal09-10.services.dal.bluemix.net\"\n",
    "dsn_port = \"50000\" \n",
    "dsn_protocol = \"TCPIP\"\n",
    "dsn_uid =\"gln55437\"\n",
    "dsn_pwd =\"v6jk^s58hvsjd4lj\"     "
   ]
  },
  {
   "cell_type": "markdown",
   "metadata": {},
   "source": [
    "Create the database connection"
   ]
  },
  {
   "cell_type": "code",
   "execution_count": null,
   "metadata": {},
   "outputs": [],
   "source": [
    "#Create database connection\n",
    "#DO NOT MODIFY THIS CELL. Just RUN it with Shift + Enter\n",
    "dsn = (\n",
    "    \"DRIVER={0};\"\n",
    "    \"DATABASE={1};\"\n",
    "    \"HOSTNAME={2};\"\n",
    "    \"PORT={3};\"\n",
    "    \"PROTOCOL={4};\"\n",
    "    \"UID={5};\"\n",
    "    \"PWD={6};\").format(dsn_driver, dsn_database, dsn_hostname, dsn_port, dsn_protocol, dsn_uid, dsn_pwd)\n",
    "\n",
    "try:\n",
    "    conn = ibm_db.connect(dsn, \"\", \"\")\n",
    "    print (\"Connected to database: \", dsn_database, \"as user: \", dsn_uid, \"on host: \", dsn_hostname)\n",
    "\n",
    "except:\n",
    "    print (\"Unable to connect: \", ibm_db.conn_errormsg() )"
   ]
  },
  {
   "cell_type": "code",
   "execution_count": null,
   "metadata": {},
   "outputs": [],
   "source": [
    "import pandas\n",
    "import ibm_db_dbi"
   ]
  },
  {
   "cell_type": "code",
   "execution_count": null,
   "metadata": {},
   "outputs": [],
   "source": [
    "#connection for pandas\n",
    "pconn = ibm_db_dbi.Connection(conn)"
   ]
  },
  {
   "cell_type": "markdown",
   "metadata": {},
   "source": [
    "## C2. Import data"
   ]
  },
  {
   "cell_type": "markdown",
   "metadata": {},
   "source": [
    "### C2.1 Core/Mature/Established/Developing Neighbourhood with ≥10 Millennials per net residential hectare"
   ]
  },
  {
   "cell_type": "code",
   "execution_count": null,
   "metadata": {},
   "outputs": [],
   "source": [
    "%store -r dtopNei\n",
    "dtopNei.tail()"
   ]
  },
  {
   "cell_type": "code",
   "execution_count": null,
   "metadata": {},
   "outputs": [],
   "source": [
    "%store -r topNei_Mdensity\n",
    "topNei_Mdensity.tail()"
   ]
  },
  {
   "cell_type": "code",
   "execution_count": null,
   "metadata": {},
   "outputs": [],
   "source": [
    "%store -r dclassMED\n",
    "dclassMED.tail()"
   ]
  },
  {
   "cell_type": "code",
   "execution_count": null,
   "metadata": {},
   "outputs": [],
   "source": [
    "%store -r dN_2016n2"
   ]
  },
  {
   "cell_type": "markdown",
   "metadata": {},
   "source": [
    "## C3. Top neighbourhoods' Dwelling status\n",
    "Reference:\n",
    " - https://data.edmonton.ca/Census/2019-Census-Dwelling-Unit-Status-Neighbourhood-War/522q-3877 2019 Census - Dwelling Unit Status (Neighbourhood/Ward)"
   ]
  },
  {
   "cell_type": "code",
   "execution_count": null,
   "metadata": {},
   "outputs": [],
   "source": [
    "d2019dwellsta = pd.read_csv(\"https://data.edmonton.ca/api/views/522q-3877/rows.csv?accessType=DOWNLOAD\")\n",
    "d2019dwellsta.head()"
   ]
  },
  {
   "cell_type": "code",
   "execution_count": null,
   "metadata": {},
   "outputs": [],
   "source": [
    "d2019dwellsta.rename(columns={'Neighbourhood Name':'Neighbourhood'}, inplace=True)\n",
    "d2019DS = pd.merge(dtopNei,\n",
    "                d2019dwellsta[['Neighbourhood','Occupied','Unoccupied','Refuses to Answer']],\n",
    "                 on='Neighbourhood')\n",
    "d2019DS['Total']=d2019DS['Occupied']+d2019DS['Unoccupied']+d2019DS['Refuses to Answer']\n",
    "d2019DS['Percentage Occupied (%)']=d2019DS['Occupied']/d2019DS['Total']*100\n",
    "d2019DS['Percentage Unoccupied (%)']=d2019DS['Unoccupied']/d2019DS['Total']*100\n",
    "d2019DS['Percentage Refuses to Answer (%)']=d2019DS['Refuses to Answer']/d2019DS['Total']*100\n",
    "d2019DS.sort_values(['Percentage Occupied (%)'], inplace=True ,ascending=True)\n",
    "d2019DS.reset_index(drop=True, inplace=True)\n",
    "d2019DS.tail()"
   ]
  },
  {
   "cell_type": "markdown",
   "metadata": {},
   "source": [
    "### Heat map"
   ]
  },
  {
   "cell_type": "markdown",
   "metadata": {},
   "source": [
    "Get the geographical coordinates for each borough in Edmonton"
   ]
  },
  {
   "cell_type": "code",
   "execution_count": null,
   "metadata": {},
   "outputs": [],
   "source": [
    "address = 'Edmonton, AB'\n",
    "\n",
    "geolocator = Nominatim(user_agent=\"ny_explorer\")\n",
    "location = geolocator.geocode(address)\n",
    "latitude = location.latitude\n",
    "longitude = location.longitude\n",
    "print('The geograpical coordinate of Edmonton are {}, {}.'.format(latitude, longitude))"
   ]
  },
  {
   "cell_type": "code",
   "execution_count": null,
   "metadata": {},
   "outputs": [],
   "source": [
    "import geopandas as gpd\n",
    "response = requests.get(r\"https://data.edmonton.ca/api/geospatial/tvcx-3vrx?method=export&format=GeoJSON\")\n",
    "data = response.json()\n",
    "NeisA = gpd.GeoDataFrame.from_features(data, crs='EPSG:4326')\n",
    "\n",
    "NeisA.tail()"
   ]
  },
  {
   "cell_type": "code",
   "execution_count": null,
   "metadata": {},
   "outputs": [],
   "source": [
    "NeisA.rename(columns={'name':'Neighbourhood'}, inplace=True)\n",
    "NeiAmerge = pd.merge(NeisA,\n",
    "                dtopNei,\n",
    "                 on='Neighbourhood')\n",
    "NeiAmerge = pd.merge(NeiAmerge,\n",
    "                d2019DS[['Neighbourhood','Percentage Occupied (%)']],\n",
    "                 on='Neighbourhood')\n",
    "NeiAmerge.rename(columns={'Neighbourhood':'name'}, inplace=True)\n",
    "NeiAmerge['centroid_long']=NeiAmerge.centroid.x\n",
    "NeiAmerge['centroid_lag']=NeiAmerge.centroid.y\n",
    "NeiAmerge.tail()"
   ]
  },
  {
   "cell_type": "code",
   "execution_count": null,
   "metadata": {},
   "outputs": [],
   "source": [
    "import branca.colormap as cm\n",
    "#colormap = cm.linear.YlGnBu_09#PuOr\n",
    "colormap = cm.linear.Oranges_03.scale(70,100).to_step(3) \n",
    "colormap"
   ]
  },
  {
   "cell_type": "code",
   "execution_count": null,
   "metadata": {},
   "outputs": [],
   "source": [
    "from folium.features import GeoJson, GeoJsonTooltip, GeoJsonPopup\n",
    "\n",
    "# create a plain world map\n",
    "edmA_map = folium.Map(location=[latitude, longitude], zoom_start=10, tiles='CartoDB positron') #, tiles = 'Stamen Toner')\n",
    "colormap.caption = \"Percentage Occupied (%)\"\n",
    "\n",
    "style_function = lambda x: {\"weight\":0.5, \n",
    "                            'color':'black',\n",
    "                            'fillColor':colormap(x['properties'][\"Percentage Occupied (%)\"]), \n",
    "                            'fillOpacity':0.75}\n",
    "highlight_function = lambda x: {'fillColor': '#000000', \n",
    "                                'color':'#000000', \n",
    "                                'fillOpacity': 0.50, \n",
    "                                'weight': 0.1}\n",
    "\n",
    "\n",
    "\n",
    "g = folium.GeoJson(\n",
    "    NeiAmerge,\n",
    "    style_function=style_function,\n",
    "    control=False,\n",
    "    highlight_function=highlight_function,\n",
    "    tooltip=folium.features.GeoJsonTooltip(\n",
    "        fields=['name',\"Percentage Occupied (%)\"],\n",
    "        aliases=['name',\"Percentage Occupied (%)\"],\n",
    "        style=(\"background-color: white; color: #333333; font-family: arial; font-size: 12px; padding: 10px;\"),\n",
    "        sticky=True\n",
    "        )).add_to(edmA_map)\n",
    "\n",
    "colormap.add_to(edmA_map)\n",
    "\n",
    "from branca.element import Template, MacroElement\n",
    "class DivIcon(MacroElement):\n",
    "    def __init__(self, html='', size=(5,5), anchor=(0,0), style=''):\n",
    "        \"\"\"TODO : docstring here\"\"\"\n",
    "        super(DivIcon, self).__init__()\n",
    "        self._name = 'DivIcon'\n",
    "        self.size = size\n",
    "        self.anchor = anchor\n",
    "        self.html = html\n",
    "        self.style = style\n",
    "\n",
    "        self._template = Template(u\"\"\"\n",
    "            {% macro header(this, kwargs) %}\n",
    "              <style>\n",
    "                .{{this.get_name()}} {\n",
    "                    {{this.style}}\n",
    "                    }\n",
    "              </style>\n",
    "            {% endmacro %}\n",
    "            {% macro script(this, kwargs) %}\n",
    "                var {{this.get_name()}} = L.divIcon({\n",
    "                    className: '{{this.get_name()}}',\n",
    "                    iconSize: [{{ this.size[0] }},{{ this.size[1] }}],\n",
    "                    iconAnchor: [{{ this.anchor[0] }},{{ this.anchor[1] }}],\n",
    "                    html : \"{{this.html}}\",\n",
    "                    });\n",
    "                {{this._parent.get_name()}}.setIcon({{this.get_name()}});\n",
    "            {% endmacro %}\n",
    "            \"\"\")\n",
    "for i in range(len(NeiAmerge)):\n",
    "    lag=NeiAmerge.iloc[i][6]\n",
    "    log=NeiAmerge.iloc[i][5]\n",
    "    text=NeiAmerge.iloc[i][2]\n",
    "    folium.map.Marker(\n",
    "        [lag+0.003, log-0.005],\n",
    "        icon=DivIcon(\n",
    "            size=(5,5),\n",
    "            anchor=(0,0),\n",
    "            html=text,\n",
    "            style=\"\"\"\n",
    "            font-size:8px;\n",
    "            background-color: transparent;\n",
    "            border-color: transparent;\n",
    "            text-align: center;\n",
    "            \"\"\"\n",
    "        )\n",
    "    ).add_to(edmA_map)\n",
    "    \n",
    "from branca.element import Template, MacroElement\n",
    "\n",
    "template = \"\"\"\n",
    "{% macro html(this, kwargs) %}\n",
    "\n",
    "<!doctype html>\n",
    "<html lang=\"en\">\n",
    "<head>\n",
    "  <meta charset=\"utf-8\">\n",
    "  <meta name=\"viewport\" content=\"width=device-width, initial-scale=1\">\n",
    "  <title>jQuery UI Draggable - Default functionality</title>\n",
    "  <link rel=\"stylesheet\" href=\"//code.jquery.com/ui/1.12.1/themes/base/jquery-ui.css\">\n",
    "\n",
    "  <script src=\"https://code.jquery.com/jquery-1.12.4.js\"></script>\n",
    "  <script src=\"https://code.jquery.com/ui/1.12.1/jquery-ui.js\"></script>\n",
    "  \n",
    "  <script>\n",
    "  $( function() {\n",
    "    $( \"#maplegend\" ).draggable({\n",
    "                    start: function (event, ui) {\n",
    "                        $(this).css({\n",
    "                            right: \"auto\",\n",
    "                            top: \"auto\",\n",
    "                            bottom: \"auto\"\n",
    "                        });\n",
    "                    }\n",
    "                });\n",
    "});\n",
    "\n",
    "  </script>\n",
    "</head>\n",
    "<body> \n",
    "\n",
    " \n",
    "<div id='maplegend' class='maplegend' \n",
    "    style='position: absolute; z-index:9999; border:2px solid grey; background-color:rgba(255, 255, 255, 0.8);\n",
    "     border-radius:6px; padding: 10px; font-size:14px; right: 20px; bottom: 20px;'>\n",
    "     \n",
    "<div class='legend-title'>Numbers of people in age range 25-39 per net residential hectareper in mature and central core area</div>\n",
    "<div class='legend-scale'>\n",
    "  <ul class='legend-labels'>\n",
    "    <li><span style='background:#fee0b6;opacity:0.7;'></span><80%</li>\n",
    "    <li><span style='background:#f1a340;opacity:0.7;'></span>80%-90%</li>\n",
    "    <li><span style='background:#b35806;opacity:0.7;'></span>>90%</li>\n",
    "\n",
    "\n",
    "  </ul>\n",
    "</div>\n",
    "</div>\n",
    " \n",
    "</body>\n",
    "</html>\n",
    "\n",
    "<style type='text/css'>\n",
    "  .maplegend .legend-title {\n",
    "    text-align: left;\n",
    "    margin-bottom: 5px;\n",
    "    font-weight: bold;\n",
    "    font-size: 90%;\n",
    "    }  \n",
    "  .maplegend .legend-scale ul {\n",
    "    margin: 0;\n",
    "    margin-bottom: 5px;\n",
    "    padding: 0;\n",
    "    float: left;\n",
    "    list-style: none;\n",
    "    }\n",
    "  .maplegend .legend-scale ul li {\n",
    "    font-size: 80%;\n",
    "    list-style: none;\n",
    "    margin-left: 0;\n",
    "    line-height: 18px;\n",
    "    margin-bottom: 2px;\n",
    "    }\n",
    "  .maplegend ul.legend-labels li span {\n",
    "    display: block;\n",
    "    float: left;\n",
    "    height: 16px;\n",
    "    width: 30px;\n",
    "    margin-right: 5px;\n",
    "    margin-left: 0;\n",
    "    border: 1px solid #999;\n",
    "    }\n",
    "  .maplegend .legend-source {\n",
    "    font-size: 80%;\n",
    "    color: #777;\n",
    "    clear: both;\n",
    "    }\n",
    "  .maplegend a {\n",
    "    color: #777;\n",
    "    }\n",
    "</style>\n",
    "{% endmacro %}\"\"\"\n",
    "\n",
    "macro = MacroElement()\n",
    "macro._template = Template(template)\n",
    "\n",
    "edmA_map.get_root().add_child(macro)\n",
    "   \n",
    "edmA_map"
   ]
  },
  {
   "cell_type": "markdown",
   "metadata": {},
   "source": [
    "### Bar chart"
   ]
  },
  {
   "cell_type": "markdown",
   "metadata": {},
   "source": [
    "#check whether respondse% over 25% of the total population\n",
    "check = pd.merge(d2019DS,\n",
    "                dN_2016n2[['Neighbourhood','Total']],\n",
    "                 on='Neighbourhood')\n",
    "check['% respond']=(check['Occupied']+check['Unoccupied'])/check['Total_y']\n"
   ]
  },
  {
   "cell_type": "code",
   "execution_count": null,
   "metadata": {},
   "outputs": [],
   "source": [
    "D2019Ds=d2019DS.copy()\n",
    "D2019Ds.drop(['Total','Occupied','Unoccupied','Refuses to Answer'],axis=1, inplace=True)\n",
    "D2019Ds.set_index('Neighbourhood', inplace=True)\n",
    "D2019Ds.tail()"
   ]
  },
  {
   "cell_type": "code",
   "execution_count": null,
   "metadata": {},
   "outputs": [],
   "source": [
    "color_list = ['plum','khaki','lemonchiffon'] \n",
    "\n",
    "ax = D2019Ds.plot.barh(stacked=True,figsize = (20, 20), width = 0.8, color = color_list, align='center', edgecolor = None);\n",
    "\n",
    "\n",
    "\n",
    "ax.set_title(\"2019 Dwelling Status\", fontsize = '16')#use font size 16 for the title\n",
    "ax.legend(fontsize='14',facecolor='white')#use font size 14 for legend\n",
    "ax.tick_params(axis='x', labelsize='14')#use font size 14 for axis-lable\n",
    "ax.set_xlabel('Percentage') \n",
    "ax.spines['left'].set_visible(False)\n",
    "ax.spines['bottom'].set_visible(True)\n",
    "ax.spines['top'].set_visible(False)\n",
    "ax.spines['right'].set_visible(False)\n",
    "\n",
    "for p in ax.patches:\n",
    "    left, bottom, width, height = p.get_bbox().bounds\n",
    "    ax.annotate(str(width.round(1))+'%', xy=(left+width/2, bottom+height/2), \n",
    "                ha='center', va='center')\n",
    "    \n",
    "#ax.set_xlim(0, 35)\n",
    "    \n",
    "# remove the left, top, and right borders; make sure the color of x axix labels is black\n",
    "ax.set_facecolor('xkcd:white') # change background to white  #ax.set_facecolor('xkcd:white')\n",
    "#ax.set_xticklabels([]) # turn off y ticks\n",
    "ax.tick_params(left=False)\n",
    "ax.axvline(0, color='black') # draw an x axix line \n",
    "ax.tick_params(axis='x', colors='black') # make sure the color of x axix labels is black    "
   ]
  },
  {
   "cell_type": "markdown",
   "metadata": {},
   "source": [
    "## C4. Import Dwelling ownnership status     \n",
    "**(Usually, people own a dwelling spend more on food from restaurant)**    \n",
    "Reference:\n",
    " - https://data.edmonton.ca/Census/2016-Census-Dwelling-Unit-by-Ownership-Neighbourho/d2xp-ctch 2016 Census - Dwelling Unit by Ownership (Neighbourhood/Ward)"
   ]
  },
  {
   "cell_type": "code",
   "execution_count": null,
   "metadata": {},
   "outputs": [],
   "source": [
    "d_ownership = pd.read_csv(\"https://data.edmonton.ca/api/views/d2xp-ctch/rows.csv?accessType=DOWNLOAD\")\n",
    "d_ownership.tail()"
   ]
  },
  {
   "cell_type": "markdown",
   "metadata": {},
   "source": [
    "### C4.1 Clean data"
   ]
  },
  {
   "cell_type": "code",
   "execution_count": null,
   "metadata": {},
   "outputs": [],
   "source": [
    "d_ownership.rename(columns={'Neighbourhood Name':'Neighbourhood'}, inplace=True)\n",
    "d_ownership['Neighbourhood']=d_ownership['Neighbourhood'].str.title()\n",
    "ownership2016 = pd.merge(dtopNei,\n",
    "                d_ownership[['Neighbourhood','Owned','Rented','No Response']],\n",
    "                 on='Neighbourhood')\n",
    "ownership2016.tail()"
   ]
  },
  {
   "cell_type": "code",
   "execution_count": null,
   "metadata": {},
   "outputs": [],
   "source": [
    "dm1=ownership2016.copy()\n",
    "dm2=dtopNei.copy()\n",
    "dm1.drop(['Owned','Rented','No Response'],axis=1, inplace=True)\n",
    "\n",
    "#dm2.reset_index(drop=True, inplace=True)\n",
    "\n",
    "dmiss=dm2[~dm2.apply(tuple,1).isin(dm1.apply(tuple,1))]\n",
    "\n",
    "dmiss.reset_index(drop=True, inplace=True)\n",
    "dmiss.tail()"
   ]
  },
  {
   "cell_type": "code",
   "execution_count": null,
   "metadata": {},
   "outputs": [],
   "source": [
    "dmiss['Owned']=[1231,1216,321,227]\n",
    "dmiss['Rented']=[346,587,73,2471]\n",
    "dmiss['No Response']=[341,431,119,295]\n",
    "dmiss"
   ]
  },
  {
   "cell_type": "code",
   "execution_count": null,
   "metadata": {},
   "outputs": [],
   "source": [
    "ownership2016= ownership2016.append(dmiss, ignore_index=True)\n",
    "\n",
    "ownership2016['Total']=ownership2016['Owned']+ownership2016['Rented']+ownership2016['No Response']\n",
    "ownership2016['Owned (%)']=ownership2016['Owned']/ownership2016['Total']*100\n",
    "ownership2016['Rented (%)']=ownership2016['Rented']/ownership2016['Total']*100\n",
    "ownership2016['No Response (%)']=ownership2016['No Response']/ownership2016['Total']*100\n",
    "ownership2016.sort_values(['Owned (%)'], inplace=True ,ascending=True)\n",
    "ownership2016.reset_index(drop=True, inplace=True)\n",
    "\n",
    "ownership2016.tail()"
   ]
  },
  {
   "cell_type": "markdown",
   "metadata": {},
   "source": [
    "### Heat map"
   ]
  },
  {
   "cell_type": "code",
   "execution_count": null,
   "metadata": {},
   "outputs": [],
   "source": [
    "import geopandas as gpd\n",
    "response = requests.get(r\"https://data.edmonton.ca/api/geospatial/tvcx-3vrx?method=export&format=GeoJSON\")\n",
    "data = response.json()\n",
    "NeisA = gpd.GeoDataFrame.from_features(data, crs='EPSG:4326')\n",
    "\n",
    "NeisA.tail()"
   ]
  },
  {
   "cell_type": "code",
   "execution_count": null,
   "metadata": {},
   "outputs": [],
   "source": [
    "NeisA.rename(columns={'name':'Neighbourhood'}, inplace=True)\n",
    "NeiAmerge = pd.merge(NeisA,\n",
    "                dtopNei,\n",
    "                 on='Neighbourhood')\n",
    "NeiAmerge = pd.merge(NeiAmerge,\n",
    "                ownership2016[['Neighbourhood','Owned (%)']],\n",
    "                 on='Neighbourhood')\n",
    "NeiAmerge.rename(columns={'Neighbourhood':'name'}, inplace=True)\n",
    "NeiAmerge['centroid_long']=NeiAmerge.centroid.x\n",
    "NeiAmerge['centroid_lag']=NeiAmerge.centroid.y\n",
    "NeiAmerge.tail()"
   ]
  },
  {
   "cell_type": "code",
   "execution_count": null,
   "metadata": {},
   "outputs": [],
   "source": [
    "import branca.colormap as cm\n",
    "#colormap = cm.linear.YlGnBu_09#PuOr\n",
    "colormap = cm.linear.PiYG_06.scale(0,90).to_step(6) \n",
    "colormap"
   ]
  },
  {
   "cell_type": "code",
   "execution_count": null,
   "metadata": {},
   "outputs": [],
   "source": [
    "from folium.features import GeoJson, GeoJsonTooltip, GeoJsonPopup\n",
    "\n",
    "# create a plain world map\n",
    "edmA_map = folium.Map(location=[latitude, longitude], zoom_start=10, tiles='CartoDB positron') #, tiles = 'Stamen Toner')\n",
    "colormap.caption = \"Dwelling Owned (%)\"\n",
    "\n",
    "style_function = lambda x: {\"weight\":0.5, \n",
    "                            'color':'black',\n",
    "                            'fillColor':colormap(x['properties'][\"Owned (%)\"]), \n",
    "                            'fillOpacity':0.75}\n",
    "highlight_function = lambda x: {'fillColor': '#000000', \n",
    "                                'color':'#000000', \n",
    "                                'fillOpacity': 0.50, \n",
    "                                'weight': 0.1}\n",
    "\n",
    "\n",
    "\n",
    "g = folium.GeoJson(\n",
    "    NeiAmerge,\n",
    "    style_function=style_function,\n",
    "    control=False,\n",
    "    highlight_function=highlight_function,\n",
    "    tooltip=folium.features.GeoJsonTooltip(\n",
    "        fields=['name',\"Owned (%)\"],\n",
    "        aliases=['name',\"Owned (%)\"],\n",
    "        style=(\"background-color: white; color: #333333; font-family: arial; font-size: 12px; padding: 10px;\"),\n",
    "        sticky=True\n",
    "        )).add_to(edmA_map)\n",
    "\n",
    "colormap.add_to(edmA_map)\n",
    "\n",
    "from branca.element import Template, MacroElement\n",
    "class DivIcon(MacroElement):\n",
    "    def __init__(self, html='', size=(5,5), anchor=(0,0), style=''):\n",
    "        \"\"\"TODO : docstring here\"\"\"\n",
    "        super(DivIcon, self).__init__()\n",
    "        self._name = 'DivIcon'\n",
    "        self.size = size\n",
    "        self.anchor = anchor\n",
    "        self.html = html\n",
    "        self.style = style\n",
    "\n",
    "        self._template = Template(u\"\"\"\n",
    "            {% macro header(this, kwargs) %}\n",
    "              <style>\n",
    "                .{{this.get_name()}} {\n",
    "                    {{this.style}}\n",
    "                    }\n",
    "              </style>\n",
    "            {% endmacro %}\n",
    "            {% macro script(this, kwargs) %}\n",
    "                var {{this.get_name()}} = L.divIcon({\n",
    "                    className: '{{this.get_name()}}',\n",
    "                    iconSize: [{{ this.size[0] }},{{ this.size[1] }}],\n",
    "                    iconAnchor: [{{ this.anchor[0] }},{{ this.anchor[1] }}],\n",
    "                    html : \"{{this.html}}\",\n",
    "                    });\n",
    "                {{this._parent.get_name()}}.setIcon({{this.get_name()}});\n",
    "            {% endmacro %}\n",
    "            \"\"\")\n",
    "for i in range(len(NeiAmerge)):\n",
    "    lag=NeiAmerge.iloc[i][6]\n",
    "    log=NeiAmerge.iloc[i][5]\n",
    "    text=NeiAmerge.iloc[i][2]\n",
    "    folium.map.Marker(\n",
    "        [lag+0.003, log-0.005],\n",
    "        icon=DivIcon(\n",
    "            size=(5,5),\n",
    "            anchor=(0,0),\n",
    "            html=text,\n",
    "            style=\"\"\"\n",
    "            font-size:8px;\n",
    "            background-color: transparent;\n",
    "            border-color: transparent;\n",
    "            text-align: center;\n",
    "            \"\"\"\n",
    "        )\n",
    "    ).add_to(edmA_map)\n",
    "#edmA_map"
   ]
  },
  {
   "cell_type": "code",
   "execution_count": null,
   "metadata": {},
   "outputs": [],
   "source": [
    "from branca.element import Template, MacroElement\n",
    "\n",
    "template = \"\"\"\n",
    "{% macro html(this, kwargs) %}\n",
    "\n",
    "<!doctype html>\n",
    "<html lang=\"en\">\n",
    "<head>\n",
    "  <meta charset=\"utf-8\">\n",
    "  <meta name=\"viewport\" content=\"width=device-width, initial-scale=1\">\n",
    "  <title>jQuery UI Draggable - Default functionality</title>\n",
    "  <link rel=\"stylesheet\" href=\"//code.jquery.com/ui/1.12.1/themes/base/jquery-ui.css\">\n",
    "\n",
    "  <script src=\"https://code.jquery.com/jquery-1.12.4.js\"></script>\n",
    "  <script src=\"https://code.jquery.com/ui/1.12.1/jquery-ui.js\"></script>\n",
    "  \n",
    "  <script>\n",
    "  $( function() {\n",
    "    $( \"#maplegend\" ).draggable({\n",
    "                    start: function (event, ui) {\n",
    "                        $(this).css({\n",
    "                            right: \"auto\",\n",
    "                            top: \"auto\",\n",
    "                            bottom: \"auto\"\n",
    "                        });\n",
    "                    }\n",
    "                });\n",
    "});\n",
    "\n",
    "  </script>\n",
    "</head>\n",
    "<body>\n",
    "\n",
    " \n",
    "<div id='maplegend' class='maplegend' \n",
    "    style='position: absolute; z-index:9999; border:2px solid grey; background-color:rgba(255, 255, 255, 0.8);\n",
    "     border-radius:6px; padding: 10px; font-size:14px; right: 20px; bottom: 20px;'>\n",
    "     \n",
    "<div class='legend-title'>Dwelling Owned (%)</div>\n",
    "<div class='legend-scale'>\n",
    "  <ul class='legend-labels'>\n",
    "    <li><span style='background:#c51b7d;opacity:0.7;'></span><15%</li>\n",
    "    <li><span style='background:#e9a3c9;opacity:0.7;'></span>15% to 30%</li>\n",
    "    <li><span style='background:#fde0ef;opacity:0.7;'></span>30% to 45%</li>\n",
    "    <li><span style='background:#e6f5d0;opacity:0.7;'></span>45% to 60%</li>\n",
    "    <li><span style='background:#a1d76a;opacity:0.7;'></span>60% to 75%</li>\n",
    "    <li><span style='background:#4d9221;opacity:0.7;'></span>>75%</li>\n",
    "\n",
    "\n",
    "  </ul>\n",
    "</div>\n",
    "</div>\n",
    " \n",
    "</body>\n",
    "</html>\n",
    "\n",
    "<style type='text/css'>\n",
    "  .maplegend .legend-title {\n",
    "    text-align: left;\n",
    "    margin-bottom: 5px;\n",
    "    font-weight: bold;\n",
    "    font-size: 90%;\n",
    "    }\n",
    "  .maplegend .legend-scale ul {\n",
    "    margin: 0;\n",
    "    margin-bottom: 5px;\n",
    "    padding: 0;\n",
    "    float: left;\n",
    "    list-style: none;\n",
    "    }\n",
    "  .maplegend .legend-scale ul li {\n",
    "    font-size: 80%;\n",
    "    list-style: none;\n",
    "    margin-left: 0;\n",
    "    line-height: 18px;\n",
    "    margin-bottom: 2px;\n",
    "    }\n",
    "  .maplegend ul.legend-labels li span {\n",
    "    display: block;\n",
    "    float: left;\n",
    "    height: 16px;\n",
    "    width: 30px;\n",
    "    margin-right: 5px;\n",
    "    margin-left: 0;\n",
    "    border: 1px solid #999;\n",
    "    }\n",
    "  .maplegend .legend-source {\n",
    "    font-size: 80%;\n",
    "    color: #777;\n",
    "    clear: both;\n",
    "    }\n",
    "  .maplegend a {\n",
    "    color: #777;\n",
    "    }\n",
    "</style>\n",
    "{% endmacro %}\"\"\"\n",
    "\n",
    "macro = MacroElement()\n",
    "macro._template = Template(template)\n",
    "\n",
    "edmA_map.get_root().add_child(macro)\n",
    "\n",
    "edmA_map"
   ]
  },
  {
   "cell_type": "markdown",
   "metadata": {},
   "source": [
    "### Bar chart"
   ]
  },
  {
   "cell_type": "code",
   "execution_count": null,
   "metadata": {},
   "outputs": [],
   "source": [
    "#check whether respondse% over 25% of the total population\n",
    "check = pd.merge(ownership2016,\n",
    "                dN_2016n2[['Neighbourhood','Total']],\n",
    "                 on='Neighbourhood')\n",
    "check['% respond']=(check['Owned']+check['Rented'])/check['Total_y']\n"
   ]
  },
  {
   "cell_type": "code",
   "execution_count": null,
   "metadata": {},
   "outputs": [],
   "source": [
    "D2016DO=ownership2016.copy()\n",
    "D2016DO.drop(['Total','Owned','Rented','No Response'],axis=1, inplace=True)\n",
    "D2016DO.set_index('Neighbourhood', inplace=True)\n",
    "D2016DO.tail()"
   ]
  },
  {
   "cell_type": "code",
   "execution_count": null,
   "metadata": {},
   "outputs": [],
   "source": [
    "color_list = ['plum','khaki','lemonchiffon'] \n",
    "\n",
    "ax = D2016DO.plot.barh(stacked=True,figsize = (20, 20), width = 0.8, color = color_list, align='center', edgecolor = None);\n",
    "\n",
    "\n",
    "\n",
    "ax.set_title(\"2019 Dwelling Ownership Status\", fontsize = 16)#use font size 16 for the title\n",
    "ax.legend(fontsize='14',facecolor='white')#use font size 14 for legend\n",
    "ax.tick_params(axis='x', labelsize=14)#use font size 14 for axis-lable\n",
    "ax.set_xlabel('Percentage') \n",
    "ax.spines['left'].set_visible(False)\n",
    "ax.spines['bottom'].set_visible(True)\n",
    "ax.spines['top'].set_visible(False)\n",
    "ax.spines['right'].set_visible(False)\n",
    "\n",
    "for p in ax.patches:\n",
    "    left, bottom, width, height = p.get_bbox().bounds\n",
    "    ax.annotate(str(width.round(1))+'%', xy=(left+width/2, bottom+height/2), \n",
    "                ha='center', va='center')\n",
    "    \n",
    "#ax.set_xlim(0, 35)\n",
    "    \n",
    "# remove the left, top, and right borders; make sure the color of x axix labels is black\n",
    "ax.set_facecolor('xkcd:white') # change background to white  #ax.set_facecolor('xkcd:white')\n",
    "#ax.set_xticklabels([]) # turn off y ticks\n",
    "ax.tick_params(left=False)\n",
    "ax.axvline(0, color='black') # draw an x axix line \n",
    "ax.tick_params(axis='x', colors='black') # make sure the color of x axix labels is black    "
   ]
  },
  {
   "cell_type": "markdown",
   "metadata": {},
   "source": [
    "### C4.2 Dwelling ownership status_mortgage"
   ]
  },
  {
   "cell_type": "markdown",
   "metadata": {},
   "source": [
    "###### M1c.1 Connect to the database from SQL"
   ]
  },
  {
   "cell_type": "markdown",
   "metadata": {},
   "source": [
    "Import data from SQL SERVER"
   ]
  },
  {
   "cell_type": "code",
   "execution_count": null,
   "metadata": {},
   "outputs": [],
   "source": [
    "#query statement to retrieve all rows in INSTRUCTOR table\n",
    "selectQuery = \"select * from SHELTER_COST\"\n",
    "\n",
    "#retrieve the query results into a pandas dataframe\n",
    "f_morg = pandas.read_sql(selectQuery, pconn)\n",
    "\n",
    "#print just the LNAME for first row in the pandas data frame\n",
    "f_morg.head(6)"
   ]
  },
  {
   "cell_type": "markdown",
   "metadata": {},
   "source": [
    "### Clean data (Federal census)"
   ]
  },
  {
   "cell_type": "code",
   "execution_count": null,
   "metadata": {},
   "outputs": [],
   "source": [
    "f_morg.rename(columns={'Name':'Neighbourhood','Owner_Measure_Value_PT':'With/Without Mortgage (%)'}, inplace=True)\n",
    "f_morg['Neighbourhood']=f_morg['Neighbourhood'].str.title()\n",
    "f_morg.drop(['COE_OwnerMeaure_Value_PT','1'],axis=1, inplace=True)\n",
    "f_morg['Neighbourhood']=f_morg['Neighbourhood'].replace({'Macewan':'MacEwan','Central Mcdougall': 'Central McDougall','Mcconachie Area':'McConachie Area'})\n",
    "f_morg.sort_values(['Neighbourhood'], inplace=True ,ascending=True)\n",
    "\n",
    "\n",
    "morg2016 = pd.merge(f_morg,\n",
    "                      dtopNei[['Neighbourhood']],\n",
    "                      on='Neighbourhood')\n",
    "morg2016.head(10)"
   ]
  },
  {
   "cell_type": "code",
   "execution_count": null,
   "metadata": {},
   "outputs": [],
   "source": [
    "dm1=morg2016.copy()\n",
    "dm2=dtopNei.copy()\n",
    "dm1=dm1.groupby('Neighbourhood',axis=0)['With/Without Mortgage (%)'].sum().reset_index()\n",
    "dm1=dm1[['Neighbourhood']]\n",
    "dmiss=dm2[~dm2.apply(tuple,1).isin(dm1.apply(tuple,1))]\n",
    "\n",
    "dmiss.reset_index(drop=True, inplace=True)\n",
    "dmiss.tail()"
   ]
  },
  {
   "cell_type": "code",
   "execution_count": null,
   "metadata": {},
   "outputs": [],
   "source": [
    "S_morg2016=morg2016.copy()\n",
    "S_morg2016=S_morg2016.pivot(index='Neighbourhood',columns='Owner_Measure_Type',values='With/Without Mortgage (%)')\n",
    "S_morg2016=S_morg2016.astype(float)\n",
    "S_morg2016.sort_values(['% of HH with a mortgage'], inplace=True ,ascending=True)\n",
    "\n",
    "S_morg2016.head()"
   ]
  },
  {
   "cell_type": "code",
   "execution_count": null,
   "metadata": {},
   "outputs": [],
   "source": [
    "a=S_morg2016.copy()\n",
    "a=a['% of HH with a mortgage'].reset_index()\n",
    "b=S_morg2016.copy()\n",
    "b=b['% of HH without a mortgage'].reset_index()\n",
    "\n",
    "morg2016 = pd.merge(a,\n",
    "                b,\n",
    "                 on='Neighbourhood')\n",
    "\n",
    "morg2016.set_index('Neighbourhood', inplace=True)\n",
    "morg2016.tail()"
   ]
  },
  {
   "cell_type": "code",
   "execution_count": null,
   "metadata": {},
   "outputs": [],
   "source": [
    "color_list = ['plum','khaki','lemonchiffon'] \n",
    "\n",
    "ax = morg2016.plot.barh(stacked=True,figsize = (20, 20), width = 0.8, color = color_list, align='center', edgecolor = None);\n",
    "\n",
    "\n",
    "\n",
    "ax.set_title(\"2019 Education Status\", fontsize = 16)#use font size 16 for the title\n",
    "ax.legend(fontsize='14',facecolor='white',loc=\"lower right\")#use font size 14 for legend\n",
    "ax.tick_params(axis='x', labelsize=14)#use font size 14 for axis-lable\n",
    "ax.set_xlabel('Percentage') \n",
    "ax.spines['left'].set_visible(False)\n",
    "ax.spines['bottom'].set_visible(True)\n",
    "ax.spines['top'].set_visible(False)\n",
    "ax.spines['right'].set_visible(False)\n",
    "\n",
    "for p in ax.patches:\n",
    "    left, bottom, width, height = p.get_bbox().bounds\n",
    "    ax.annotate(str(width.round(1))+'%', xy=(left+width/2, bottom+height/2), \n",
    "                ha='center', va='center')\n",
    "    \n",
    "#ax.set_xlim(0, 35)\n",
    "    \n",
    "# remove the left, top, and right borders; make sure the color of x axix labels is black\n",
    "ax.set_facecolor('xkcd:white') # change background to white  #ax.set_facecolor('xkcd:white')\n",
    "#ax.set_xticklabels([]) # turn off y ticks\n",
    "ax.tick_params(left=False)\n",
    "ax.axvline(0, color='black') # draw an x axix line \n",
    "ax.tick_params(axis='x', colors='black') # make sure the color of x axix labels is black    \n"
   ]
  },
  {
   "cell_type": "markdown",
   "metadata": {},
   "source": [
    "## C5. Import Marital status    \n",
    "**(Usually, for one-person households, the average person food Expenditures tend to the most compared to other types households)**    \n",
    "Reference:    \n",
    " - https://data.edmonton.ca/Census/2016-Census-Population-by-Marital-Status-Neighbour/fcvm-p6fa 2016 Census - Population by Marital Status (Neighbourhood/Ward)"
   ]
  },
  {
   "cell_type": "code",
   "execution_count": null,
   "metadata": {},
   "outputs": [],
   "source": [
    "d_marital = pd.read_csv(\"https://data.edmonton.ca/api/views/fcvm-p6fa/rows.csv?accessType=DOWNLOAD\")\n",
    "d_marital.tail()"
   ]
  },
  {
   "cell_type": "markdown",
   "metadata": {},
   "source": [
    "### C5.1 Clean data"
   ]
  },
  {
   "cell_type": "code",
   "execution_count": null,
   "metadata": {},
   "outputs": [],
   "source": [
    "d_marital.rename(columns={'Neighbourhood Name':'Neighbourhood'}, inplace=True)\n",
    "d_marital['Neighbourhood']=d_marital['Neighbourhood'].str.title()\n",
    "d_marital.drop(['Ward','Neighbourhood Number'],axis=1, inplace=True)\n",
    "\n",
    "d_marital['Neighbourhood']=d_marital['Neighbourhood'].replace({'Mcconachie Area':'McConachie Area','Macewan':'MacEwan','Glenridding Area':'Glenridding Heights','Central Mcdougall': 'Central McDougall'})\n",
    "d_marital.sort_values(['Neighbourhood'], inplace=True ,ascending=True)\n",
    "\n",
    "marital2016 = pd.merge(d_marital,\n",
    "                dtopNei[['Neighbourhood']],\n",
    "                 on='Neighbourhood')\n",
    "marital2016.tail()"
   ]
  },
  {
   "cell_type": "code",
   "execution_count": null,
   "metadata": {},
   "outputs": [],
   "source": [
    "dm1=marital2016.copy()\n",
    "dm2=dtopNei.copy()\n",
    "dm1=dm1[['Neighbourhood']]\n",
    "\n",
    "\n",
    "dmiss=dm2[~dm2.apply(tuple,1).isin(dm1.apply(tuple,1))]\n",
    "\n",
    "dmiss.reset_index(drop=True, inplace=True)\n",
    "dmiss.tail()"
   ]
  },
  {
   "cell_type": "code",
   "execution_count": null,
   "metadata": {},
   "outputs": [],
   "source": [
    "marital2016.set_index('Neighbourhood', inplace=True)\n",
    "marital2016.tail()"
   ]
  },
  {
   "cell_type": "code",
   "execution_count": null,
   "metadata": {},
   "outputs": [],
   "source": [
    "#check whether respondse% over 25% of the total population\n",
    "check = pd.merge(marital2016,\n",
    "                dN_2016n2[['Neighbourhood','Total']],\n",
    "                 on='Neighbourhood')\n",
    "check['% respond']=(check['Married']+check['Common Law']+check['Separated/Divorced']+check['Never Married']+check['Widowed'])/check['Total']\n"
   ]
  },
  {
   "cell_type": "code",
   "execution_count": null,
   "metadata": {},
   "outputs": [],
   "source": [
    "marital2016c=marital2016.copy()\n",
    "marital2016c.drop(['No Response'],axis=1, inplace=True)\n",
    "cols_to_sum = marital2016c.columns[ 0: marital2016.shape[1]]\n",
    "marital2016c['Total']=marital2016c[cols_to_sum].sum(axis=1)\n",
    "\n",
    "marital2016c['Married (%)']=marital2016c['Married']/marital2016c['Total']*100\n",
    "marital2016c['Common Law (%)']=marital2016c['Common Law']/marital2016c['Total']*100\n",
    "\n",
    "marital2016c['Separated/Divorced (%)']=marital2016c['Separated/Divorced']/marital2016c['Total']*100\n",
    "marital2016c['Widowed (%)']=marital2016c['Widowed']/marital2016c['Total']*100\n",
    "\n",
    "marital2016c['1 person household (%)']=marital2016c['Never Married']/marital2016c['Total']*100\n",
    "marital2016c['≥2 person household (%)']=marital2016c['Married (%)']+marital2016c['Common Law (%)']\n",
    "marital2016c['other (%)']=marital2016c['Separated/Divorced (%)']+marital2016c['Widowed (%)']\n",
    "\n",
    "marital2016c.drop(['Married','Common Law','Separated/Divorced','Widowed','Total','Never Married','Married (%)','Common Law (%)','Separated/Divorced (%)','Widowed (%)'],axis=1, inplace=True)\n",
    "marital2016c.sort_values(['1 person household (%)'], inplace=True ,ascending=True)\n",
    "marital2016c.tail()"
   ]
  },
  {
   "cell_type": "markdown",
   "metadata": {},
   "source": [
    "### Heat map"
   ]
  },
  {
   "cell_type": "code",
   "execution_count": null,
   "metadata": {},
   "outputs": [],
   "source": [
    "import geopandas as gpd\n",
    "response = requests.get(r\"https://data.edmonton.ca/api/geospatial/tvcx-3vrx?method=export&format=GeoJSON\")\n",
    "data = response.json()\n",
    "NeisA = gpd.GeoDataFrame.from_features(data, crs='EPSG:4326')\n",
    "\n",
    "NeisA.tail()"
   ]
  },
  {
   "cell_type": "code",
   "execution_count": null,
   "metadata": {},
   "outputs": [],
   "source": [
    "NeisA.rename(columns={'name':'Neighbourhood'}, inplace=True)\n",
    "NeiAmerge = pd.merge(NeisA,\n",
    "                dtopNei,\n",
    "                 on='Neighbourhood')\n",
    "NeiAmerge = pd.merge(NeiAmerge,\n",
    "                marital2016c,\n",
    "                 on='Neighbourhood')\n",
    "NeiAmerge.rename(columns={'Neighbourhood':'name'}, inplace=True)\n",
    "NeiAmerge['centroid_long']=NeiAmerge.centroid.x\n",
    "NeiAmerge['centroid_lag']=NeiAmerge.centroid.y\n",
    "NeiAmerge.tail()"
   ]
  },
  {
   "cell_type": "code",
   "execution_count": null,
   "metadata": {},
   "outputs": [],
   "source": [
    "import branca.colormap as cm\n",
    "#colormap = cm.linear.YlGnBu_09#PuOr\n",
    "colormap = cm.linear.RdBu_06.scale(0,60).to_step(6) \n",
    "colormap"
   ]
  },
  {
   "cell_type": "code",
   "execution_count": null,
   "metadata": {},
   "outputs": [],
   "source": [
    "from folium.features import GeoJson, GeoJsonTooltip, GeoJsonPopup\n",
    "\n",
    "# create a plain world map\n",
    "edmA_map = folium.Map(location=[latitude, longitude], zoom_start=10, tiles='CartoDB positron') #, tiles = 'Stamen Toner')\n",
    "colormap.caption = \"1 person household (%)\"\n",
    "\n",
    "style_function = lambda x: {\"weight\":0.5, \n",
    "                            'color':'black',\n",
    "                            'fillColor':colormap(x['properties'][\"1 person household (%)\"]), \n",
    "                            'fillOpacity':0.75}\n",
    "highlight_function = lambda x: {'fillColor': '#000000', \n",
    "                                'color':'#000000', \n",
    "                                'fillOpacity': 0.50, \n",
    "                                'weight': 0.1}\n",
    "\n",
    "\n",
    "\n",
    "g = folium.GeoJson(\n",
    "    NeiAmerge,\n",
    "    style_function=style_function,\n",
    "    control=False,\n",
    "    highlight_function=highlight_function,\n",
    "    tooltip=folium.features.GeoJsonTooltip(\n",
    "        fields=['name',\"1 person household (%)\"],\n",
    "        aliases=['name',\"1 person household (%)\"],\n",
    "        style=(\"background-color: white; color: #333333; font-family: arial; font-size: 12px; padding: 10px;\"),\n",
    "        sticky=True\n",
    "        )).add_to(edmA_map)\n",
    "\n",
    "colormap.add_to(edmA_map)\n",
    "\n",
    "from branca.element import Template, MacroElement\n",
    "class DivIcon(MacroElement):\n",
    "    def __init__(self, html='', size=(5,5), anchor=(0,0), style=''):\n",
    "        \"\"\"TODO : docstring here\"\"\"\n",
    "        super(DivIcon, self).__init__()\n",
    "        self._name = 'DivIcon'\n",
    "        self.size = size\n",
    "        self.anchor = anchor\n",
    "        self.html = html\n",
    "        self.style = style\n",
    "\n",
    "        self._template = Template(u\"\"\"\n",
    "            {% macro header(this, kwargs) %}\n",
    "              <style>\n",
    "                .{{this.get_name()}} {\n",
    "                    {{this.style}}\n",
    "                    }\n",
    "              </style>\n",
    "            {% endmacro %}\n",
    "            {% macro script(this, kwargs) %}\n",
    "                var {{this.get_name()}} = L.divIcon({\n",
    "                    className: '{{this.get_name()}}',\n",
    "                    iconSize: [{{ this.size[0] }},{{ this.size[1] }}],\n",
    "                    iconAnchor: [{{ this.anchor[0] }},{{ this.anchor[1] }}],\n",
    "                    html : \"{{this.html}}\",\n",
    "                    });\n",
    "                {{this._parent.get_name()}}.setIcon({{this.get_name()}});\n",
    "            {% endmacro %}\n",
    "            \"\"\")\n",
    "for i in range(len(NeiAmerge)):\n",
    "    lag=NeiAmerge.iloc[i][8]\n",
    "    log=NeiAmerge.iloc[i][7]\n",
    "    text=NeiAmerge.iloc[i][2]\n",
    "    folium.map.Marker(\n",
    "        [lag+0.003, log-0.005],\n",
    "        icon=DivIcon(\n",
    "            size=(5,5),\n",
    "            anchor=(0,0),\n",
    "            html=text,\n",
    "            style=\"\"\"\n",
    "            font-size:8px;\n",
    "            background-color: transparent;\n",
    "            border-color: transparent;\n",
    "            text-align: center;\n",
    "            \"\"\"\n",
    "        )\n",
    "    ).add_to(edmA_map)\n",
    "#edmA_map"
   ]
  },
  {
   "cell_type": "code",
   "execution_count": null,
   "metadata": {},
   "outputs": [],
   "source": [
    "from branca.element import Template, MacroElement\n",
    "\n",
    "template = \"\"\"\n",
    "{% macro html(this, kwargs) %}\n",
    "\n",
    "<!doctype html>\n",
    "<html lang=\"en\">\n",
    "<head>\n",
    "  <meta charset=\"utf-8\">\n",
    "  <meta name=\"viewport\" content=\"width=device-width, initial-scale=1\">\n",
    "  <title>jQuery UI Draggable - Default functionality</title>\n",
    "  <link rel=\"stylesheet\" href=\"//code.jquery.com/ui/1.12.1/themes/base/jquery-ui.css\">\n",
    "\n",
    "  <script src=\"https://code.jquery.com/jquery-1.12.4.js\"></script>\n",
    "  <script src=\"https://code.jquery.com/ui/1.12.1/jquery-ui.js\"></script>\n",
    "  \n",
    "  <script>\n",
    "  $( function() {\n",
    "    $( \"#maplegend\" ).draggable({\n",
    "                    start: function (event, ui) {\n",
    "                        $(this).css({\n",
    "                            right: \"auto\",\n",
    "                            top: \"auto\",\n",
    "                            bottom: \"auto\"\n",
    "                        });\n",
    "                    }\n",
    "                });\n",
    "});\n",
    "\n",
    "  </script>\n",
    "</head>\n",
    "<body>\n",
    "\n",
    " \n",
    "<div id='maplegend' class='maplegend' \n",
    "    style='position: absolute; z-index:9999; border:2px solid grey; background-color:rgba(255, 255, 255, 0.8);\n",
    "     border-radius:6px; padding: 10px; font-size:14px; right: 20px; bottom: 20px;'>\n",
    "     \n",
    "<div class='legend-title'>1 person household (%)</div>\n",
    "<div class='legend-scale'>\n",
    "  <ul class='legend-labels'>\n",
    "    <li><span style='background:#b2182b;opacity:0.7;'></span><10%</li>\n",
    "    <li><span style='background:#ef8a62;opacity:0.7;'></span>10% to 20%</li>\n",
    "    <li><span style='background:#fddbc7;opacity:0.7;'></span>20% to 30%</li>\n",
    "    <li><span style='background:#d1e5f0;opacity:0.7;'></span>30% to 40%</li>\n",
    "    <li><span style='background:#67a9cf;opacity:0.7;'></span>50% to 60%</li>\n",
    "    <li><span style='background:#2166ac;opacity:0.7;'></span>>60%</li>\n",
    "\n",
    "\n",
    "  </ul>\n",
    "</div>\n",
    "</div>\n",
    " \n",
    "</body>\n",
    "</html>\n",
    "\n",
    "<style type='text/css'>\n",
    "  .maplegend .legend-title {\n",
    "    text-align: left;\n",
    "    margin-bottom: 5px;\n",
    "    font-weight: bold;\n",
    "    font-size: 90%;\n",
    "    }\n",
    "  .maplegend .legend-scale ul {\n",
    "    margin: 0;\n",
    "    margin-bottom: 5px;\n",
    "    padding: 0;\n",
    "    float: left;\n",
    "    list-style: none;\n",
    "    }\n",
    "  .maplegend .legend-scale ul li {\n",
    "    font-size: 80%;\n",
    "    list-style: none;\n",
    "    margin-left: 0;\n",
    "    line-height: 18px;\n",
    "    margin-bottom: 2px;\n",
    "    }\n",
    "  .maplegend ul.legend-labels li span {\n",
    "    display: block;\n",
    "    float: left;\n",
    "    height: 16px;\n",
    "    width: 30px;\n",
    "    margin-right: 5px;\n",
    "    margin-left: 0;\n",
    "    border: 1px solid #999;\n",
    "    }\n",
    "  .maplegend .legend-source {\n",
    "    font-size: 80%;\n",
    "    color: #777;\n",
    "    clear: both;\n",
    "    }\n",
    "  .maplegend a {\n",
    "    color: #777;\n",
    "    }\n",
    "</style>\n",
    "{% endmacro %}\"\"\"\n",
    "\n",
    "macro = MacroElement()\n",
    "macro._template = Template(template)\n",
    "\n",
    "edmA_map.get_root().add_child(macro)\n",
    "\n",
    "edmA_map"
   ]
  },
  {
   "cell_type": "markdown",
   "metadata": {},
   "source": [
    "### Bar chart"
   ]
  },
  {
   "cell_type": "code",
   "execution_count": null,
   "metadata": {},
   "outputs": [],
   "source": [
    "color_list = ['plum','khaki','lemonchiffon'] \n",
    "\n",
    "ax = marital2016c.plot.barh(stacked=True,figsize = (20, 20), width = 0.8, color = color_list, align='center', edgecolor = None);\n",
    "\n",
    "\n",
    "\n",
    "ax.set_title(\"2019 Marital Status\", fontsize = 16)#use font size 16 for the title\n",
    "ax.legend(fontsize='14',facecolor='white')#use font size 14 for legend\n",
    "ax.tick_params(axis='x', labelsize=14)#use font size 14 for axis-lable\n",
    "ax.set_xlabel('Percentage') \n",
    "ax.spines['left'].set_visible(False)\n",
    "ax.spines['bottom'].set_visible(True)\n",
    "ax.spines['top'].set_visible(False)\n",
    "ax.spines['right'].set_visible(False)\n",
    "\n",
    "for p in ax.patches:\n",
    "    left, bottom, width, height = p.get_bbox().bounds\n",
    "    ax.annotate(str(width.round(1))+'%', xy=(left+width/2, bottom+height/2), \n",
    "                ha='center', va='center')\n",
    "    \n",
    "#ax.set_xlim(0, 35)\n",
    "    \n",
    "# remove the left, top, and right borders; make sure the color of x axix labels is black\n",
    "ax.set_facecolor('xkcd:white') # change background to white  #ax.set_facecolor('xkcd:white')\n",
    "#ax.set_xticklabels([]) # turn off y ticks\n",
    "ax.tick_params(left=False)\n",
    "ax.axvline(0, color='black') # draw an x axix line \n",
    "ax.tick_params(axis='x', colors='black') # make sure the color of x axix labels is black    "
   ]
  },
  {
   "cell_type": "markdown",
   "metadata": {},
   "source": [
    "## C6. Family with/without children\n",
    "Reference：\n",
    " - https://public.tableau.com/profile/city.of.edmonton#!/vizhome/NeighbourhoodProfiles_FederalCensus2016/FamilyandLanguage\n",
    "1. Download Tableau from the website\n",
    "2. Access data by clicking 'data' from tableau and explore all into csv\n",
    "3. upload to IBM_Cloud→Db2-vs→Manage→Open console→Load data (under GLN55437)"
   ]
  },
  {
   "cell_type": "markdown",
   "metadata": {},
   "source": [
    "### Import data"
   ]
  },
  {
   "cell_type": "markdown",
   "metadata": {},
   "source": [
    "###### M1c.1 Connect to the database from SQL"
   ]
  },
  {
   "cell_type": "markdown",
   "metadata": {},
   "source": [
    "Import data from SQL SERVER"
   ]
  },
  {
   "cell_type": "code",
   "execution_count": null,
   "metadata": {},
   "outputs": [],
   "source": [
    "#query statement to retrieve all rows in INSTRUCTOR table\n",
    "selectQuery = \"select * from FAMILY_COUPLE\"\n",
    "\n",
    "#retrieve the query results into a pandas dataframe\n",
    "f_couple = pandas.read_sql(selectQuery, pconn)\n",
    "\n",
    "#print just the LNAME for first row in the pandas data frame\n",
    "f_couple.head()"
   ]
  },
  {
   "cell_type": "code",
   "execution_count": null,
   "metadata": {},
   "outputs": [],
   "source": [
    "#query statement to retrieve all rows in INSTRUCTOR table\n",
    "selectQuery = \"select * from FAMILY_LONEPARENT\"\n",
    "\n",
    "#retrieve the query results into a pandas dataframe\n",
    "f_lone = pandas.read_sql(selectQuery, pconn)\n",
    "\n",
    "#print just the LNAME for first row in the pandas data frame\n",
    "f_lone.head()"
   ]
  },
  {
   "cell_type": "markdown",
   "metadata": {},
   "source": [
    "### C6.1 Clean data"
   ]
  },
  {
   "cell_type": "code",
   "execution_count": null,
   "metadata": {},
   "outputs": [],
   "source": [
    "f_couple.rename(columns={'NAME':'Neighbourhood','Couple_Children_POP':'Family Number','Couple_Children_Group':'Children Group'}, inplace=True)\n",
    "f_couple['Neighbourhood']=f_couple['Neighbourhood'].str.title()\n",
    "f_couple.drop(['Nbhd_Num','Couple_Children_Percentage'],axis=1, inplace=True)\n",
    "f_couple['Neighbourhood']=f_couple['Neighbourhood'].replace({'Macewan':'MacEwan','Central Mcdougall': 'Central McDougall','Mcconachie Area':'McConachie Area'})\n",
    "f_couple.sort_values(['Neighbourhood'], inplace=True ,ascending=True)\n",
    "\n",
    "\n",
    "couple2016 = pd.merge(f_couple,\n",
    "                      dtopNei[['Neighbourhood']],\n",
    "                      on='Neighbourhood')\n",
    "couple2016.tail()"
   ]
  },
  {
   "cell_type": "code",
   "execution_count": null,
   "metadata": {},
   "outputs": [],
   "source": [
    "dm1=couple2016.copy()\n",
    "dm2=dtopNei.copy()\n",
    "dm1=dm1.groupby('Neighbourhood',axis=0)['Family Number'].sum().reset_index()\n",
    "dm1=dm1[['Neighbourhood']]\n",
    "dmiss=dm2[~dm2.apply(tuple,1).isin(dm1.apply(tuple,1))]\n",
    "\n",
    "dmiss.reset_index(drop=True, inplace=True)\n",
    "dmiss.tail()"
   ]
  },
  {
   "cell_type": "code",
   "execution_count": null,
   "metadata": {},
   "outputs": [],
   "source": [
    "f_lone.rename(columns={'NAME':'Neighbourhood','Lone_Parent_Children_POP':'Family Number','Lone_Parent_Children':'Children Group'}, inplace=True)\n",
    "f_lone['Neighbourhood']=f_lone['Neighbourhood'].str.title()\n",
    "f_lone.drop(['Nbhd_Num','Lone_Parent_Children_Percentage'],axis=1, inplace=True)\n",
    "f_lone['Neighbourhood']=f_lone['Neighbourhood'].replace({'Macewan':'MacEwan','Glenridding Area':'Glenridding Heights','Central Mcdougall': 'Central McDougall','Mcconachie Area':'McConachie Area'})\n",
    "f_lone.sort_values(['Neighbourhood'], inplace=True ,ascending=True)\n",
    "\n",
    "\n",
    "lone2016 = pd.merge(f_lone,\n",
    "                      dtopNei[['Neighbourhood']],\n",
    "                      on='Neighbourhood')\n",
    "lone2016.tail()"
   ]
  },
  {
   "cell_type": "code",
   "execution_count": null,
   "metadata": {},
   "outputs": [],
   "source": [
    "fami2016=couple2016.copy()\n",
    "fami2016= fami2016.append(lone2016, ignore_index=True)\n",
    "fami2016.sort_values(['Neighbourhood'], inplace=True ,ascending=True)\n",
    "fami2016.reset_index(drop=True, inplace=True)\n",
    "fami2016.head(10)"
   ]
  },
  {
   "cell_type": "code",
   "execution_count": null,
   "metadata": {},
   "outputs": [],
   "source": [
    "fami2016['Family Number']=fami2016['Family Number'].astype(float)\n",
    "fami2016 = fami2016.groupby(['Children Group','Neighbourhood'],axis=0)['Family Number'].sum().reset_index()\n",
    "fami2016.sort_values(['Neighbourhood'], inplace=True ,ascending=True)\n",
    "fami2016.reset_index(drop=True, inplace=True)\n",
    "fami2016.head(10)"
   ]
  },
  {
   "cell_type": "code",
   "execution_count": null,
   "metadata": {},
   "outputs": [],
   "source": [
    "S_fami2016=fami2016.copy()\n",
    "S_fami2016=S_fami2016.pivot(index='Neighbourhood',columns='Children Group',values='Family Number')\n",
    "S_fami2016['Total']=S_fami2016.sum(axis=1)\n",
    "S_fami2016['Without children (%)']=(S_fami2016['Without children']/S_fami2016['Total']*100).round(2)\n",
    "S_fami2016['With children (%)']=((S_fami2016['One child']+S_fami2016['Two children']+S_fami2016['Three or more children'])/S_fami2016['Total']*100).round(2)\n",
    "S_fami2016.sort_values(['Without children (%)'], inplace=True ,ascending=True)\n",
    "S_fami2016.head(10)"
   ]
  },
  {
   "cell_type": "code",
   "execution_count": null,
   "metadata": {},
   "outputs": [],
   "source": [
    "\n",
    "a=S_fami2016.copy()\n",
    "a=a['Without children (%)'].reset_index()\n",
    "b=S_fami2016.copy()\n",
    "b=b['With children (%)'].reset_index()\n",
    "family2016 = pd.merge(a,\n",
    "                b,\n",
    "                 on='Neighbourhood')\n",
    "family2016.set_index('Neighbourhood', inplace=True)\n",
    "family2016.tail()"
   ]
  },
  {
   "cell_type": "markdown",
   "metadata": {},
   "source": [
    "### Heat map"
   ]
  },
  {
   "cell_type": "code",
   "execution_count": null,
   "metadata": {},
   "outputs": [],
   "source": [
    "import geopandas as gpd\n",
    "response = requests.get(r\"https://data.edmonton.ca/api/geospatial/tvcx-3vrx?method=export&format=GeoJSON\")\n",
    "data = response.json()\n",
    "NeisA = gpd.GeoDataFrame.from_features(data, crs='EPSG:4326')\n",
    "\n",
    "NeisA.tail()"
   ]
  },
  {
   "cell_type": "code",
   "execution_count": null,
   "metadata": {},
   "outputs": [],
   "source": [
    "NeisA.rename(columns={'name':'Neighbourhood'}, inplace=True)\n",
    "NeiAmerge = pd.merge(NeisA,\n",
    "                dtopNei,\n",
    "                 on='Neighbourhood')\n",
    "NeiAmerge = pd.merge(NeiAmerge,\n",
    "                family2016,\n",
    "                 on='Neighbourhood')\n",
    "NeiAmerge.rename(columns={'Neighbourhood':'name'}, inplace=True)\n",
    "NeiAmerge['centroid_long']=NeiAmerge.centroid.x\n",
    "NeiAmerge['centroid_lag']=NeiAmerge.centroid.y\n",
    "NeiAmerge.tail()"
   ]
  },
  {
   "cell_type": "code",
   "execution_count": null,
   "metadata": {},
   "outputs": [],
   "source": [
    "import branca.colormap as cm\n",
    "#colormap = cm.linear.YlGnBu_09#PuOr\n",
    "colormap = cm.linear.PuOr_06.scale(-30,90).to_step(8) \n",
    "colormap"
   ]
  },
  {
   "cell_type": "code",
   "execution_count": null,
   "metadata": {},
   "outputs": [],
   "source": [
    "from folium.features import GeoJson, GeoJsonTooltip, GeoJsonPopup\n",
    "\n",
    "# create a plain world map\n",
    "edmA_map = folium.Map(location=[latitude, longitude], zoom_start=10, tiles='CartoDB positron') #, tiles = 'Stamen Toner')\n",
    "colormap.caption = \"Without children (%)\"\n",
    "\n",
    "style_function = lambda x: {\"weight\":0.5, \n",
    "                            'color':'black',\n",
    "                            'fillColor':colormap(x['properties'][\"Without children (%)\"]), \n",
    "                            'fillOpacity':0.75}\n",
    "highlight_function = lambda x: {'fillColor': '#000000', \n",
    "                                'color':'#000000', \n",
    "                                'fillOpacity': 0.50, \n",
    "                                'weight': 0.1}\n",
    "\n",
    "\n",
    "\n",
    "g = folium.GeoJson(\n",
    "    NeiAmerge,\n",
    "    style_function=style_function,\n",
    "    control=False,\n",
    "    highlight_function=highlight_function,\n",
    "    tooltip=folium.features.GeoJsonTooltip(\n",
    "        fields=['name',\"Without children (%)\"],\n",
    "        aliases=['name',\"Without children (%)\"],\n",
    "        style=(\"background-color: white; color: #333333; font-family: arial; font-size: 12px; padding: 10px;\"),\n",
    "        sticky=True\n",
    "        )).add_to(edmA_map)\n",
    "\n",
    "colormap.add_to(edmA_map)\n",
    "\n",
    "from branca.element import Template, MacroElement\n",
    "class DivIcon(MacroElement):\n",
    "    def __init__(self, html='', size=(5,5), anchor=(0,0), style=''):\n",
    "        \"\"\"TODO : docstring here\"\"\"\n",
    "        super(DivIcon, self).__init__()\n",
    "        self._name = 'DivIcon'\n",
    "        self.size = size\n",
    "        self.anchor = anchor\n",
    "        self.html = html\n",
    "        self.style = style\n",
    "\n",
    "        self._template = Template(u\"\"\"\n",
    "            {% macro header(this, kwargs) %}\n",
    "              <style>\n",
    "                .{{this.get_name()}} {\n",
    "                    {{this.style}}\n",
    "                    }\n",
    "              </style>\n",
    "            {% endmacro %}\n",
    "            {% macro script(this, kwargs) %}\n",
    "                var {{this.get_name()}} = L.divIcon({\n",
    "                    className: '{{this.get_name()}}',\n",
    "                    iconSize: [{{ this.size[0] }},{{ this.size[1] }}],\n",
    "                    iconAnchor: [{{ this.anchor[0] }},{{ this.anchor[1] }}],\n",
    "                    html : \"{{this.html}}\",\n",
    "                    });\n",
    "                {{this._parent.get_name()}}.setIcon({{this.get_name()}});\n",
    "            {% endmacro %}\n",
    "            \"\"\")\n",
    "for i in range(len(NeiAmerge)):\n",
    "    lag=NeiAmerge.iloc[i][7]\n",
    "    log=NeiAmerge.iloc[i][6]\n",
    "    text=NeiAmerge.iloc[i][2]\n",
    "    folium.map.Marker(\n",
    "        [lag+0.003, log-0.005],\n",
    "        icon=DivIcon(\n",
    "            size=(5,5),\n",
    "            anchor=(0,0),\n",
    "            html=text,\n",
    "            style=\"\"\"\n",
    "            font-size:8px;\n",
    "            background-color: transparent;\n",
    "            border-color: transparent;\n",
    "            text-align: center;\n",
    "            \"\"\"\n",
    "        )\n",
    "    ).add_to(edmA_map)\n",
    "#edmA_map"
   ]
  },
  {
   "cell_type": "code",
   "execution_count": null,
   "metadata": {},
   "outputs": [],
   "source": [
    "from branca.element import Template, MacroElement\n",
    "\n",
    "template = \"\"\"\n",
    "{% macro html(this, kwargs) %}\n",
    "\n",
    "<!doctype html>\n",
    "<html lang=\"en\">\n",
    "<head>\n",
    "  <meta charset=\"utf-8\">\n",
    "  <meta name=\"viewport\" content=\"width=device-width, initial-scale=1\">\n",
    "  <title>jQuery UI Draggable - Default functionality</title>\n",
    "  <link rel=\"stylesheet\" href=\"//code.jquery.com/ui/1.12.1/themes/base/jquery-ui.css\">\n",
    "\n",
    "  <script src=\"https://code.jquery.com/jquery-1.12.4.js\"></script>\n",
    "  <script src=\"https://code.jquery.com/ui/1.12.1/jquery-ui.js\"></script>\n",
    "  \n",
    "  <script>\n",
    "  $( function() {\n",
    "    $( \"#maplegend\" ).draggable({\n",
    "                    start: function (event, ui) {\n",
    "                        $(this).css({\n",
    "                            right: \"auto\",\n",
    "                            top: \"auto\",\n",
    "                            bottom: \"auto\"\n",
    "                        });\n",
    "                    }\n",
    "                });\n",
    "});\n",
    "\n",
    "  </script>\n",
    "</head>\n",
    "<body>\n",
    "\n",
    " \n",
    "<div id='maplegend' class='maplegend' \n",
    "    style='position: absolute; z-index:9999; border:2px solid grey; background-color:rgba(255, 255, 255, 0.8);\n",
    "     border-radius:6px; padding: 10px; font-size:14px; right: 20px; bottom: 20px;'>\n",
    "     \n",
    "<div class='legend-title'>Without children (%)</div>\n",
    "<div class='legend-scale'>\n",
    "  <ul class='legend-labels'>\n",
    "    <li><span style='background:#f1a340;opacity:0.7;'></span><15%</li>\n",
    "    <li><span style='background:#fee0b6;opacity:0.7;'></span>15% to 30%</li>\n",
    "    <li><span style='background:#d8daeb;opacity:0.7;'></span>30% to 45%</li>\n",
    "    <li><span style='background:#998ec3;opacity:0.7;'></span>45% to 60%</li>\n",
    "    <li><span style='background:#8856a7;opacity:0.7;'></span>60% to 75%</li>\n",
    "    <li><span style='background:#542788;opacity:0.7;'></span>>75%</li>\n",
    "\n",
    "\n",
    "  </ul>\n",
    "</div>\n",
    "</div>\n",
    " \n",
    "</body>\n",
    "</html>\n",
    "\n",
    "<style type='text/css'>\n",
    "  .maplegend .legend-title {\n",
    "    text-align: left;\n",
    "    margin-bottom: 5px;\n",
    "    font-weight: bold;\n",
    "    font-size: 90%;\n",
    "    }\n",
    "  .maplegend .legend-scale ul {\n",
    "    margin: 0;\n",
    "    margin-bottom: 5px;\n",
    "    padding: 0;\n",
    "    float: left;\n",
    "    list-style: none;\n",
    "    }\n",
    "  .maplegend .legend-scale ul li {\n",
    "    font-size: 80%;\n",
    "    list-style: none;\n",
    "    margin-left: 0;\n",
    "    line-height: 18px;\n",
    "    margin-bottom: 2px;\n",
    "    }\n",
    "  .maplegend ul.legend-labels li span {\n",
    "    display: block;\n",
    "    float: left;\n",
    "    height: 16px;\n",
    "    width: 30px;\n",
    "    margin-right: 5px;\n",
    "    margin-left: 0;\n",
    "    border: 1px solid #999;\n",
    "    }\n",
    "  .maplegend .legend-source {\n",
    "    font-size: 80%;\n",
    "    color: #777;\n",
    "    clear: both;\n",
    "    }\n",
    "  .maplegend a {\n",
    "    color: #777;\n",
    "    }\n",
    "</style>\n",
    "{% endmacro %}\"\"\"\n",
    "\n",
    "macro = MacroElement()\n",
    "macro._template = Template(template)\n",
    "\n",
    "edmA_map.get_root().add_child(macro)\n",
    "\n",
    "edmA_map"
   ]
  },
  {
   "cell_type": "markdown",
   "metadata": {},
   "source": [
    "### Bar chart"
   ]
  },
  {
   "cell_type": "code",
   "execution_count": null,
   "metadata": {},
   "outputs": [],
   "source": [
    "color_list = ['plum','khaki'] \n",
    "\n",
    "ax = family2016.plot.barh(stacked=True,figsize = (20, 20), width = 0.8, color = color_list, align='center', edgecolor = None);\n",
    "\n",
    "\n",
    "\n",
    "ax.set_title(\"2019 Family with/without Children Status\", fontsize = 16)#use font size 16 for the title\n",
    "ax.legend(fontsize='14',facecolor='white')#use font size 14 for legend\n",
    "ax.tick_params(axis='x', labelsize=14)#use font size 14 for axis-lable\n",
    "ax.set_xlabel('Percentage') \n",
    "ax.spines['left'].set_visible(False)\n",
    "ax.spines['bottom'].set_visible(True)\n",
    "ax.spines['top'].set_visible(False)\n",
    "ax.spines['right'].set_visible(False)\n",
    "\n",
    "for p in ax.patches:\n",
    "    left, bottom, width, height = p.get_bbox().bounds\n",
    "    ax.annotate(str(width.round(1))+'%', xy=(left+width/2, bottom+height/2), \n",
    "                ha='center', va='center')\n",
    "    \n",
    "#ax.set_xlim(0, 35)\n",
    "    \n",
    "# remove the left, top, and right borders; make sure the color of x axix labels is black\n",
    "ax.set_facecolor('xkcd:white') # change background to white  #ax.set_facecolor('xkcd:white')\n",
    "#ax.set_xticklabels([]) # turn off y ticks\n",
    "ax.tick_params(left=False)\n",
    "ax.axvline(0, color='black') # draw an x axix line \n",
    "ax.tick_params(axis='x', colors='black') # make sure the color of x axix labels is black    "
   ]
  },
  {
   "cell_type": "markdown",
   "metadata": {},
   "source": [
    "## C7. Import Household Income     \n",
    "**(Usually, people with higher income spend more on food from restaurant)**    \n",
    "Reference:    \n",
    "1. Before income taxes and deductions, during a specified reference period.\n",
    "2. For the population aged 15 years and over\n",
    " - https://data.edmonton.ca/Census/2016-Census-Population-by-Household-Income-Neighbo/jkjx-2hix 2016 Census - Population by Household Income (Neighbourhood/Ward)"
   ]
  },
  {
   "cell_type": "code",
   "execution_count": null,
   "metadata": {},
   "outputs": [],
   "source": [
    "d_income = pd.read_csv(\"https://data.edmonton.ca/api/views/jkjx-2hix/rows.csv?accessType=DOWNLOAD\")\n",
    "d_income.tail()"
   ]
  },
  {
   "cell_type": "markdown",
   "metadata": {},
   "source": [
    "### C7.1 Clean data"
   ]
  },
  {
   "cell_type": "code",
   "execution_count": null,
   "metadata": {},
   "outputs": [],
   "source": [
    "d_income.rename(columns={'Neighbourhood Name':'Neighbourhood','Less than $30,000':'X<30K','$30,000 to less than $60,000':'30K≤X<60K','$60,000 to less than $100,000':'60K≤X<100K','$100,000 to less than $125,000':'100K≤X<125K','$125,000 to less than $150,000':'125K≤X<150K','$150,000 to less than $200,000':'150K≤X<200K','$200,000 to less than $250,000':'200K≤X<250K','$250,000 or more':'X≥250K'}, inplace=True)\n",
    "d_income['Neighbourhood']=d_income['Neighbourhood'].str.title()\n",
    "d_income.drop(['Ward','Neighbourhood Number'],axis=1, inplace=True)\n",
    "\n",
    "\n",
    "d_income['Neighbourhood']=d_income['Neighbourhood'].replace({'Mcconachie Area':'McConachie Area','Macewan':'MacEwan','Glenridding Area':'Glenridding Heights','Central Mcdougall': 'Central McDougall'})\n",
    "d_income.sort_values(['Neighbourhood'], inplace=True ,ascending=True)\n",
    "\n",
    "\n",
    "income2016 = pd.merge(d_income,\n",
    "                dtopNei[['Neighbourhood']],\n",
    "                 on='Neighbourhood')\n",
    "income2016.tail()"
   ]
  },
  {
   "cell_type": "code",
   "execution_count": null,
   "metadata": {},
   "outputs": [],
   "source": [
    "dm1=income2016.copy()\n",
    "dm2=dtopNei.copy()\n",
    "dm1=dm1[['Neighbourhood']]\n",
    "\n",
    "\n",
    "dmiss=dm2[~dm2.apply(tuple,1).isin(dm1.apply(tuple,1))]\n",
    "\n",
    "dmiss.reset_index(drop=True, inplace=True)\n",
    "dmiss.tail()"
   ]
  },
  {
   "cell_type": "code",
   "execution_count": null,
   "metadata": {},
   "outputs": [],
   "source": [
    "#income2016.set_index('Neighbourhood', inplace=True)\n",
    "income2016.tail()"
   ]
  },
  {
   "cell_type": "markdown",
   "metadata": {},
   "source": [
    "### Edmonton - Average householde income (based on 2016 census, statCan)\n",
    "Reference:    \n",
    "1. Before income taxes and deductions, during a specified reference period.\n",
    "2. For the population aged 15 years and over\n",
    " - https://www12.statcan.gc.ca/census-recensement/2016/dp-pd/prof/details/page.cfm?Lang=E&Geo1=CMACA&Code1=835&Geo2=PR&Code2=48&Data=Count&SearchText=edmonton&SearchType=Begins&SearchPR=01&B1=All&TABID=1"
   ]
  },
  {
   "cell_type": "code",
   "execution_count": null,
   "metadata": {},
   "outputs": [],
   "source": [
    "import html5lib\n",
    "\n",
    "url = 'https://www12.statcan.gc.ca/census-recensement/2016/dp-pd/prof/details/page.cfm?Lang=E&Geo1=CMACA&Code1=835&Geo2=PR&Code2=48&SearchText=edmonton&SearchType=Begins&SearchPR=01&B1=Income&TABID=1&type=0'\n",
    "\n",
    "dfs = pd.read_html(url)\n",
    "df = dfs[0] #import the n+1th table \n",
    "df.reset_index(drop=True, inplace=True)\n",
    "df.head()"
   ]
  },
  {
   "cell_type": "code",
   "execution_count": null,
   "metadata": {},
   "outputs": [],
   "source": [
    "df.iloc[3][0] #[i+1th row][j+1th column]"
   ]
  },
  {
   "cell_type": "code",
   "execution_count": null,
   "metadata": {},
   "outputs": [],
   "source": [
    "b=df['Characteristic']['Characteristic']['Characteristic']['Characteristic'].str.strip().str[0:6].iloc[3]\n",
    "print(b)"
   ]
  },
  {
   "cell_type": "code",
   "execution_count": null,
   "metadata": {},
   "outputs": [],
   "source": [
    " a=df['Characteristic']['Characteristic']['Characteristic']['Characteristic'].str.contains('after-tax', regex=False).iloc[5]\n",
    "print(a)"
   ]
  },
  {
   "cell_type": "code",
   "execution_count": null,
   "metadata": {},
   "outputs": [],
   "source": [
    "df.iloc[3][1]"
   ]
  },
  {
   "cell_type": "code",
   "execution_count": null,
   "metadata": {},
   "outputs": [],
   "source": [
    "dra=[]\n",
    "drb=[]\n",
    "drc=[]\n",
    "drd=[]\n",
    "for i in range((len(df['Characteristic']['Characteristic']['Characteristic']['Characteristic'])-1)):\n",
    "    a=df['Characteristic']['Characteristic']['Characteristic']['Characteristic'].str.contains('after-tax', regex=False).iloc[i]\n",
    "    if a == False: \n",
    "        b=df['Characteristic']['Characteristic']['Characteristic']['Characteristic'].str.strip().str[0:7].iloc[i]\n",
    "        bb=df.iloc[i][0]\n",
    "        c=df.iloc[i][1]\n",
    "        d=df.iloc[i][2]\n",
    "        e=df.iloc[i][3]\n",
    "        if b == 'Average':\n",
    "            dra.append(bb)\n",
    "            drb.append(c)\n",
    "            drc.append(d)\n",
    "            drd.append(e)\n",
    "        else:\n",
    "            continue\n",
    "\n",
    "dataAve = {'Characteristic': dra,\n",
    "            'Total':drb,\n",
    "         'Male':drc,\n",
    "         \"Female\":drd\n",
    "        }\n",
    "\n",
    "dtAve = pd.DataFrame (dataAve, columns = ['Characteristic','Total','Male','Female'])\n",
    "dtAve.set_index('Characteristic', inplace=True)\n",
    "dtAve#.tail()"
   ]
  },
  {
   "cell_type": "code",
   "execution_count": null,
   "metadata": {},
   "outputs": [],
   "source": [
    "dra=[]\n",
    "drb=[]\n",
    "drc=[]\n",
    "drd=[]\n",
    "for i in range((len(df['Characteristic']['Characteristic']['Characteristic']['Characteristic'])-1)):\n",
    "    a=df['Characteristic']['Characteristic']['Characteristic']['Characteristic'].str.contains('after-tax', regex=False).iloc[i]\n",
    "    if a == False: \n",
    "        b=df['Characteristic']['Characteristic']['Characteristic']['Characteristic'].str.strip().str[0:6].iloc[i]\n",
    "        bb=df.iloc[i][0]\n",
    "        c=df.iloc[i][1]\n",
    "        d=df.iloc[i][2]\n",
    "        e=df.iloc[i][3]\n",
    "        if b == 'Median':\n",
    "            dra.append(bb)\n",
    "            drb.append(c)\n",
    "            drc.append(d)\n",
    "            drd.append(e)\n",
    "        else:\n",
    "            continue\n",
    "    "
   ]
  },
  {
   "cell_type": "code",
   "execution_count": null,
   "metadata": {},
   "outputs": [],
   "source": [
    "dataMed = {'Characteristic': dra,\n",
    "            'Total':drb,\n",
    "         'Male':drc,\n",
    "         \"Female\":drd\n",
    "        }\n",
    "\n",
    "dtMed = pd.DataFrame (dataMed, columns = ['Characteristic','Total','Male','Female'])\n",
    "dtMed.set_index('Characteristic', inplace=True)\n",
    "dtMed#.tail()"
   ]
  },
  {
   "cell_type": "markdown",
   "metadata": {},
   "source": [
    "### Define income class (based on before tax income)"
   ]
  },
  {
   "cell_type": "markdown",
   "metadata": {},
   "source": [
    "Definition of middle class household (with an income that is 67% to 200% (two-thirds to double) of the overall median household income,Lower-income households have incomes less than 67% of the median, and upper-income households have incomes that are more than double the median.)    \n",
    "lowest-income households (with income less than half of the overall median) and lower-middle income households (with incomes from half to less than two-thirds of the overall median)    \n",
    "upper-middle income households (with more than twice the overall median income and up to three times the median) and highest-income households (with more than three times the overall median income)\n",
    " - https://www.pewsocialtrends.org/2015/12/09/the-american-middle-class-is-losing-ground/"
   ]
  },
  {
   "cell_type": "markdown",
   "metadata": {},
   "source": [
    "Median total income of households in 2015 ($)"
   ]
  },
  {
   "cell_type": "code",
   "execution_count": null,
   "metadata": {},
   "outputs": [],
   "source": [
    "# selecting rows based on condition \n",
    "rslt_df = dtMed[dtMed.index == 'Median total income of households in 2015 ($)']\n",
    "rslt_df.reset_index(drop=True, inplace=True)\n",
    "Med=int(rslt_df.iloc[0][0])\n",
    "print(Med)"
   ]
  },
  {
   "cell_type": "code",
   "execution_count": null,
   "metadata": {},
   "outputs": [],
   "source": [
    "dataclass = {'Income class':['lowest income households','lower-middle income households','middle income households','upper-middle income households','highest income households'],\n",
    "            'Income range': [\"X<\"+\"{:.2f}\".format(0.5*Med),\"{:.2f}\".format(0.5*Med)+\"≤X<\"+\"{:.2f}\".format(2/3*Med),\"{:.2f}\".format(2/3*Med)+\"≤X<\"+\"{:.2f}\".format(2*Med),\"{:.2f}\".format(2*Med)+\"≤X<\"+\"{:.2f}\".format(3*Med),\"{:.2f}\".format(3*Med)+\"≤X\"]\n",
    "        }\n",
    "\n",
    "dtclass = pd.DataFrame (dataclass, columns = ['Income class','Income range'])\n",
    "dtclass.round(2)\n",
    "dtclass#.tail()"
   ]
  },
  {
   "cell_type": "code",
   "execution_count": null,
   "metadata": {},
   "outputs": [],
   "source": [
    "datacl = {'Boundary of each class':['Upper Boundary','Lower Boundary'],\n",
    "            'Lower Income Class':[0,2/3*Med],\n",
    "            'Middle Income Class':[2/3*Med,2*Med],\n",
    "            'Upper Income Class':[2*Med,float('inf')],\n",
    "        }\n",
    "\n",
    "dtcl = pd.DataFrame (datacl, columns = ['Boundary of each class','Lower Income Class','Middle Income Class','Upper Income Class'])\n",
    "dtcl=dtcl.round(2)\n",
    "dtcl#.tail()"
   ]
  },
  {
   "cell_type": "code",
   "execution_count": null,
   "metadata": {},
   "outputs": [],
   "source": [
    "income2016c=income2016.copy()\n",
    "income2016c.drop(['No Response'],axis=1, inplace=True)\n",
    "cols_to_sum = income2016c.columns[ 0: income2016.shape[1]]\n",
    "income2016c['Total']=income2016c[cols_to_sum].sum(axis=1)\n",
    "\n",
    "income2016c['X<30K (%)']=income2016c['X<30K']/income2016c['Total']*100\n",
    "income2016c['30K≤X<60K (%)']=income2016c['30K≤X<60K']/income2016c['Total']*100\n",
    "\n",
    "income2016c['60K≤X<100K (%)']=income2016c['60K≤X<100K']/income2016c['Total']*100\n",
    "income2016c['100K≤X<125K (%)']=income2016c['100K≤X<125K']/income2016c['Total']*100\n",
    "income2016c['125K≤X<150K (%)']=income2016c['125K≤X<150K']/income2016c['Total']*100\n",
    "income2016c['150K≤X<200K (%)']=income2016c['150K≤X<200K']/income2016c['Total']*100\n",
    "\n",
    "income2016c['200K≤X<250K (%)']=income2016c['200K≤X<250K']/income2016c['Total']*100\n",
    "income2016c['X≥250K (%)']=income2016c['X≥250K']/income2016c['Total']*100\n",
    "\n",
    "income2016c['Lower-class (%)']=income2016c['X<30K (%)']+income2016c['30K≤X<60K (%)']\n",
    "income2016c['Middle-class (%)']=income2016c['60K≤X<100K (%)']+income2016c['100K≤X<125K (%)']+income2016c['125K≤X<150K (%)']+income2016c['150K≤X<200K (%)']\n",
    "income2016c['Upper-class (%)']=income2016c['200K≤X<250K (%)']+income2016c['X≥250K (%)']\n",
    "#income2016c['Percentage No Response (%)']=income2016c['No Response']/income2016c['Total']*100\n",
    "\n",
    "\n",
    "#income2016.sort_values(['Percentage Owned (%)'], inplace=True ,ascending=True)\n",
    "#income2016.reset_index(drop=True, inplace=True)\n",
    "\n",
    "income2016c.tail()"
   ]
  },
  {
   "cell_type": "code",
   "execution_count": null,
   "metadata": {},
   "outputs": [],
   "source": [
    "#check whether respondse% over 25% of the total population\n",
    "check = pd.merge(income2016c,\n",
    "                dN_2016n2[['Neighbourhood','Total']],\n",
    "                 on='Neighbourhood')\n",
    "check['% respond']=check['Total_x']/check['Total_y']"
   ]
  },
  {
   "cell_type": "code",
   "execution_count": null,
   "metadata": {},
   "outputs": [],
   "source": [
    "D2016inc=income2016c.copy()\n",
    "D2016inc.iloc[1][(income2016.shape[1]):(income2016c.shape[1]-3)].index"
   ]
  },
  {
   "cell_type": "code",
   "execution_count": null,
   "metadata": {},
   "outputs": [],
   "source": [
    "D2016inc=income2016c.copy()\n",
    "#D2016inc.drop(['X<30K','30K≤X<60K','60K≤X<100K','100K≤X<125K','125K≤X<150K','150K≤X<200K','200K≤X<250K','X≥250K','Total','Bottom-class (%)','Middle-class (%)','Highest-class (%)'],axis=1, inplace=True)D2016inc.sort_values(['X<30K (%)'], inplace=True ,ascending=True)\n",
    "D2016inc=D2016inc[D2016inc.iloc[1][(income2016.shape[1]):(income2016c.shape[1]-3)].index]\n",
    "D2016inc['Neighbourhood']=income2016c['Neighbourhood']\n",
    "D2016inc.sort_values(['X<30K (%)'], inplace=True ,ascending=True)\n",
    "D2016inc=D2016inc.dropna()\n",
    "#D2016inc.reset_index(drop=True, inplace=True)\n",
    "D2016inc.set_index('Neighbourhood', inplace=True)\n",
    "D2016inc.tail()"
   ]
  },
  {
   "cell_type": "code",
   "execution_count": null,
   "metadata": {},
   "outputs": [],
   "source": [
    "D2016inclass=income2016c.copy()\n",
    "D2016inclass=D2016inclass[['Neighbourhood','Middle-class (%)','Lower-class (%)','Upper-class (%)']]\n",
    "D2016inclass.sort_values(['Middle-class (%)'], inplace=True ,ascending=True)\n",
    "D2016inclass=D2016inclass.dropna()\n",
    "D2016inclass.reset_index(drop=True, inplace=True)\n",
    "D2016inclass.set_index('Neighbourhood', inplace=True)\n",
    "D2016inclass.tail()"
   ]
  },
  {
   "cell_type": "markdown",
   "metadata": {},
   "source": [
    "### Heat map"
   ]
  },
  {
   "cell_type": "code",
   "execution_count": null,
   "metadata": {},
   "outputs": [],
   "source": [
    "import geopandas as gpd\n",
    "response = requests.get(r\"https://data.edmonton.ca/api/geospatial/tvcx-3vrx?method=export&format=GeoJSON\")\n",
    "data = response.json()\n",
    "NeisA = gpd.GeoDataFrame.from_features(data, crs='EPSG:4326')\n",
    "\n",
    "NeisA.tail()"
   ]
  },
  {
   "cell_type": "code",
   "execution_count": null,
   "metadata": {},
   "outputs": [],
   "source": [
    "NeisA.rename(columns={'name':'Neighbourhood'}, inplace=True)\n",
    "NeiAmerge = pd.merge(NeisA,\n",
    "                dtopNei,\n",
    "                 on='Neighbourhood')\n",
    "NeiAmerge = pd.merge(NeiAmerge,\n",
    "                D2016inclass,\n",
    "                 on='Neighbourhood')\n",
    "NeiAmerge.rename(columns={'Neighbourhood':'name'}, inplace=True)\n",
    "NeiAmerge['centroid_long']=NeiAmerge.centroid.x\n",
    "NeiAmerge['centroid_lag']=NeiAmerge.centroid.y\n",
    "NeiAmerge.tail()"
   ]
  },
  {
   "cell_type": "code",
   "execution_count": null,
   "metadata": {},
   "outputs": [],
   "source": [
    "import branca.colormap as cm\n",
    "#colormap = cm.linear.YlGnBu_09#PuOr\n",
    "colormap = cm.linear.BrBG_09.scale(-20,100).to_step(6) \n",
    "colormap"
   ]
  },
  {
   "cell_type": "code",
   "execution_count": null,
   "metadata": {},
   "outputs": [],
   "source": [
    "from folium.features import GeoJson, GeoJsonTooltip, GeoJsonPopup\n",
    "\n",
    "# create a plain world map\n",
    "edmA_map = folium.Map(location=[latitude, longitude], zoom_start=10, tiles='CartoDB positron') #, tiles = 'Stamen Toner')\n",
    "colormap.caption = \"Middle-class (%)\"\n",
    "\n",
    "style_function = lambda x: {\"weight\":0.5, \n",
    "                            'color':'black',\n",
    "                            'fillColor':colormap(x['properties'][\"Middle-class (%)\"]), \n",
    "                            'fillOpacity':0.75}\n",
    "highlight_function = lambda x: {'fillColor': '#000000', \n",
    "                                'color':'#000000', \n",
    "                                'fillOpacity': 0.50, \n",
    "                                'weight': 0.1}\n",
    "\n",
    "\n",
    "\n",
    "g = folium.GeoJson(\n",
    "    NeiAmerge,\n",
    "    style_function=style_function,\n",
    "    control=False,\n",
    "    highlight_function=highlight_function,\n",
    "    tooltip=folium.features.GeoJsonTooltip(\n",
    "        fields=['name',\"Middle-class (%)\"],\n",
    "        aliases=['name',\"Middle-class (%)\"],\n",
    "        style=(\"background-color: white; color: #333333; font-family: arial; font-size: 12px; padding: 10px;\"),\n",
    "        sticky=True\n",
    "        )).add_to(edmA_map)\n",
    "\n",
    "colormap.add_to(edmA_map)\n",
    "\n",
    "from branca.element import Template, MacroElement\n",
    "class DivIcon(MacroElement):\n",
    "    def __init__(self, html='', size=(5,5), anchor=(0,0), style=''):\n",
    "        \"\"\"TODO : docstring here\"\"\"\n",
    "        super(DivIcon, self).__init__()\n",
    "        self._name = 'DivIcon'\n",
    "        self.size = size\n",
    "        self.anchor = anchor\n",
    "        self.html = html\n",
    "        self.style = style\n",
    "\n",
    "        self._template = Template(u\"\"\"\n",
    "            {% macro header(this, kwargs) %}\n",
    "              <style>\n",
    "                .{{this.get_name()}} {\n",
    "                    {{this.style}}\n",
    "                    }\n",
    "              </style>\n",
    "            {% endmacro %}\n",
    "            {% macro script(this, kwargs) %}\n",
    "                var {{this.get_name()}} = L.divIcon({\n",
    "                    className: '{{this.get_name()}}',\n",
    "                    iconSize: [{{ this.size[0] }},{{ this.size[1] }}],\n",
    "                    iconAnchor: [{{ this.anchor[0] }},{{ this.anchor[1] }}],\n",
    "                    html : \"{{this.html}}\",\n",
    "                    });\n",
    "                {{this._parent.get_name()}}.setIcon({{this.get_name()}});\n",
    "            {% endmacro %}\n",
    "            \"\"\")\n",
    "for i in range(len(NeiAmerge)):\n",
    "    lag=NeiAmerge.iloc[i][8]\n",
    "    log=NeiAmerge.iloc[i][7]\n",
    "    text=NeiAmerge.iloc[i][2]\n",
    "    folium.map.Marker(\n",
    "        [lag+0.003, log-0.005],\n",
    "        icon=DivIcon(\n",
    "            size=(5,5),\n",
    "            anchor=(0,0),\n",
    "            html=text,\n",
    "            style=\"\"\"\n",
    "            font-size:8px;\n",
    "            background-color: transparent;\n",
    "            border-color: transparent;\n",
    "            text-align: center;\n",
    "            \"\"\"\n",
    "        )\n",
    "    ).add_to(edmA_map)\n",
    "edmA_map"
   ]
  },
  {
   "cell_type": "code",
   "execution_count": null,
   "metadata": {},
   "outputs": [],
   "source": [
    "from branca.element import Template, MacroElement\n",
    "\n",
    "template = \"\"\"\n",
    "{% macro html(this, kwargs) %}\n",
    "\n",
    "<!doctype html>\n",
    "<html lang=\"en\">\n",
    "<head>\n",
    "  <meta charset=\"utf-8\">\n",
    "  <meta name=\"viewport\" content=\"width=device-width, initial-scale=1\">\n",
    "  <title>jQuery UI Draggable - Default functionality</title>\n",
    "  <link rel=\"stylesheet\" href=\"//code.jquery.com/ui/1.12.1/themes/base/jquery-ui.css\">\n",
    "\n",
    "  <script src=\"https://code.jquery.com/jquery-1.12.4.js\"></script>\n",
    "  <script src=\"https://code.jquery.com/ui/1.12.1/jquery-ui.js\"></script>\n",
    "  \n",
    "  <script>\n",
    "  $( function() {\n",
    "    $( \"#maplegend\" ).draggable({\n",
    "                    start: function (event, ui) {\n",
    "                        $(this).css({\n",
    "                            right: \"auto\",\n",
    "                            top: \"auto\",\n",
    "                            bottom: \"auto\"\n",
    "                        });\n",
    "                    }\n",
    "                });\n",
    "});\n",
    "\n",
    "  </script>\n",
    "</head>\n",
    "<body>\n",
    "\n",
    " \n",
    "<div id='maplegend' class='maplegend' \n",
    "    style='position: absolute; z-index:9999; border:2px solid grey; background-color:rgba(255, 255, 255, 0.8);\n",
    "     border-radius:6px; padding: 10px; font-size:14px; right: 20px; bottom: 20px;'>\n",
    "     \n",
    "<div class='legend-title'>Middle-class (%)</div>\n",
    "<div class='legend-scale'>\n",
    "  <ul class='legend-labels'>\n",
    "    <li><span style='background:#d8b365;opacity:0.7;'></span><20%</li>\n",
    "    <li><span style='background:#f6e8c3;opacity:0.7;'></span>20% to 40%</li>\n",
    "    <li><span style='background:#c7eae5;opacity:0.7;'></span>40% to 60%</li>\n",
    "    <li><span style='background:#5ab4ac;opacity:0.7;'></span>60% to 80%</li>\n",
    "    <li><span style='background:#01665e;opacity:0.7;'></span>>80%</li>\n",
    "\n",
    "\n",
    "  </ul>\n",
    "</div>\n",
    "</div>\n",
    " \n",
    "</body>\n",
    "</html>\n",
    "\n",
    "<style type='text/css'>\n",
    "  .maplegend .legend-title {\n",
    "    text-align: left;\n",
    "    margin-bottom: 5px;\n",
    "    font-weight: bold;\n",
    "    font-size: 90%;\n",
    "    }\n",
    "  .maplegend .legend-scale ul {\n",
    "    margin: 0;\n",
    "    margin-bottom: 5px;\n",
    "    padding: 0;\n",
    "    float: left;\n",
    "    list-style: none;\n",
    "    }\n",
    "  .maplegend .legend-scale ul li {\n",
    "    font-size: 80%;\n",
    "    list-style: none;\n",
    "    margin-left: 0;\n",
    "    line-height: 18px;\n",
    "    margin-bottom: 2px;\n",
    "    }\n",
    "  .maplegend ul.legend-labels li span {\n",
    "    display: block;\n",
    "    float: left;\n",
    "    height: 16px;\n",
    "    width: 30px;\n",
    "    margin-right: 5px;\n",
    "    margin-left: 0;\n",
    "    border: 1px solid #999;\n",
    "    }\n",
    "  .maplegend .legend-source {\n",
    "    font-size: 80%;\n",
    "    color: #777;\n",
    "    clear: both;\n",
    "    }\n",
    "  .maplegend a {\n",
    "    color: #777;\n",
    "    }\n",
    "</style>\n",
    "{% endmacro %}\"\"\"\n",
    "\n",
    "macro = MacroElement()\n",
    "macro._template = Template(template)\n",
    "\n",
    "edmA_map.get_root().add_child(macro)\n",
    "\n",
    "edmA_map"
   ]
  },
  {
   "cell_type": "markdown",
   "metadata": {},
   "source": [
    "### Bar chart"
   ]
  },
  {
   "cell_type": "markdown",
   "metadata": {},
   "source": [
    "import seaborn as sns\n",
    "fig, ax = plt.subplots(figsize=(20,20))\n",
    "ax = sns.heatmap(D2016inclass, annot =D2016inclass.round(2), fmt = '',linewidths=1, linecolor='white',cbar=False,cmap=\"YlGnBu\",)\n",
    "\n",
    "plt.xlabel(\"Househole Income\")"
   ]
  },
  {
   "cell_type": "code",
   "execution_count": null,
   "metadata": {},
   "outputs": [],
   "source": [
    "color_list = ['plum','khaki','lemonchiffon'] \n",
    "\n",
    "ax = D2016inclass.plot.barh(stacked=True,figsize = (20, 20), width = 0.8, color = color_list, align='center', edgecolor = None);\n",
    "\n",
    "\n",
    "\n",
    "ax.set_title(\"2019 Househole Income Status\", fontsize = 16)#use font size 16 for the title\n",
    "ax.legend(fontsize='14',facecolor='white')#use font size 14 for legend\n",
    "ax.tick_params(axis='x', labelsize=14)#use font size 14 for axis-lable\n",
    "ax.set_xlabel('Percentage') \n",
    "ax.spines['left'].set_visible(False)\n",
    "ax.spines['bottom'].set_visible(True)\n",
    "ax.spines['top'].set_visible(False)\n",
    "ax.spines['right'].set_visible(False)\n",
    "\n",
    "for p in ax.patches:\n",
    "    left, bottom, width, height = p.get_bbox().bounds\n",
    "    ax.annotate(str(width.round(1))+'%', xy=(left+width/2, bottom+height/2), \n",
    "                ha='center', va='center')\n",
    "    \n",
    "#ax.set_xlim(0, 35)\n",
    "    \n",
    "# remove the left, top, and right borders; make sure the color of x axix labels is black\n",
    "ax.set_facecolor('xkcd:white') # change background to white  #ax.set_facecolor('xkcd:white')\n",
    "#ax.set_xticklabels([]) # turn off y ticks\n",
    "ax.tick_params(left=False)\n",
    "ax.axvline(0, color='black') # draw an x axix line \n",
    "ax.tick_params(axis='x', colors='black') # make sure the color of x axix labels is black    "
   ]
  },
  {
   "cell_type": "markdown",
   "metadata": {},
   "source": [
    "## C8. Import Highest Education Status       \n",
    "Usually, people with higher education level tends to be more frequently consumpt alcohol in Canada\n",
    "Reference:    \n",
    " - https://data.edmonton.ca/Census/2016-Census-Population-by-Highest-Educational-Atta/f7ms-98xd 2016 Census - Population by Highest Educational Attainment (Neighbourhood/Ward)\n",
    " - https://www.statista.com/statistics/895733/frequency-of-alcohol-consumption-by-education-canada/ \n",
    " - http://angusreid.org/wp-content/uploads/2018/08/2018.07.16-alcohol-ReleaseTables.pdf    \n",
    " How frequently Canadians drink alcohol by education 2018    \n",
    " - https://www.nature.com/articles/s41380-019-0535-9 \n",
    " Increased EA are not associated with total amount of weekly drinks, they are associated with reduced frequency of binge drinking ≥6 drinks, reduced total drinks consumed per drinking day, as well as lower weekly distilled spirits intake.\n",
    " Increased EA were associated with increased alcohol intake frequency, and increased weekly white wine and red wine intake"
   ]
  },
  {
   "cell_type": "code",
   "execution_count": null,
   "metadata": {},
   "outputs": [],
   "source": [
    "d_edu = pd.read_csv(\"https://data.edmonton.ca/api/views/f7ms-98xd/rows.csv?accessType=DOWNLOAD\")\n",
    "d_edu.head()"
   ]
  },
  {
   "cell_type": "markdown",
   "metadata": {},
   "source": [
    "### C8.1 Clean data"
   ]
  },
  {
   "cell_type": "code",
   "execution_count": null,
   "metadata": {},
   "outputs": [],
   "source": [
    "d_edu.rename(columns={'Neighbourhood Name':'Neighbourhood'}, inplace=True)\n",
    "d_edu['Neighbourhood']=d_marital['Neighbourhood'].str.title()\n",
    "d_edu.drop(['Ward','Neighbourhood Number'],axis=1, inplace=True)\n",
    "\n",
    "d_edu['Neighbourhood']=d_edu['Neighbourhood'].replace({'Macewan':'MacEwan','Glenridding Area':'Glenridding Heights','Central Mcdougall': 'Central McDougall'})\n",
    "d_edu.sort_values(['Neighbourhood'], inplace=True ,ascending=True)\n",
    "\n",
    "edu2016 = pd.merge(d_edu,\n",
    "                dtopNei[['Neighbourhood']],\n",
    "                 on='Neighbourhood')\n",
    "edu2016.tail()"
   ]
  },
  {
   "cell_type": "code",
   "execution_count": null,
   "metadata": {},
   "outputs": [],
   "source": [
    "dm1=edu2016.copy()\n",
    "dm2=dtopNei.copy()\n",
    "dm1=dm1[['Neighbourhood']]\n",
    "\n",
    "\n",
    "dmiss=dm2[~dm2.apply(tuple,1).isin(dm1.apply(tuple,1))]\n",
    "\n",
    "dmiss.reset_index(drop=True, inplace=True)\n",
    "dmiss.tail()"
   ]
  },
  {
   "cell_type": "markdown",
   "metadata": {},
   "source": [
    "edu2016.set_index('Neighbourhood', inplace=True)\n",
    "edu2016.tail()"
   ]
  },
  {
   "cell_type": "markdown",
   "metadata": {},
   "source": [
    "### Defination of each education level\n",
    "Reference:\n",
    " - https://www12.statcan.gc.ca/nhs-enm/2011/ref/dict/pop038-eng.cfm\n",
    " - https://www23.statcan.gc.ca/imdb/p3VD.pl?Function=getVDStruct&TVD=306216&CVD=306218&CPV=2.2&CST=07042016&CLV=1&MLV=6"
   ]
  },
  {
   "cell_type": "code",
   "execution_count": null,
   "metadata": {},
   "outputs": [],
   "source": [
    "edu2016c=edu2016.copy()\n",
    "edu2016c.iloc[1][0:edu2016.shape[1]].index"
   ]
  },
  {
   "cell_type": "code",
   "execution_count": null,
   "metadata": {},
   "outputs": [],
   "source": [
    "edu2016c=edu2016.copy()\n",
    "edu2016c.drop(['No Response'],axis=1, inplace=True)\n",
    "cols_to_sum = edu2016c.columns[ 0: edu2016c.shape[1]]\n",
    "edu2016c['Total']=edu2016c[cols_to_sum].sum(axis=1)\n",
    "\n",
    "edu2016c['High school or less (%)']=(edu2016c['No Certificate, Diploma or Degree']+edu2016c['High School Diploma or Equivalent'])/edu2016c['Total']*100\n",
    "edu2016c['College/Tech (%)']=(edu2016c['Registered Apprenticeship Certificate']+edu2016c['Trades Certificate']+edu2016c['College Certificate or Diploma'])/edu2016c['Total']*100\n",
    "edu2016c['University+ (%)']=(edu2016c[\"University Certificate Below Bachelor's Level\"]+edu2016c[\"Bachelor's Degree\"]+edu2016c[\"University Certificate or Diploma above Bachelor Level\"]+edu2016c[\"Medical Degree\"]+edu2016c[\"Master's Degree\"]+edu2016c[\"Earned Doctorate\"])/edu2016c['Total']*100\n",
    "\n",
    "edu2016c=edu2016c[['Neighbourhood','University+ (%)','College/Tech (%)','High school or less (%)']]\n",
    "edu2016c.sort_values(['University+ (%)'], inplace=True ,ascending=True)\n",
    "edu2016c.reset_index(drop=True, inplace=True)\n",
    "edu2016c.tail()"
   ]
  },
  {
   "cell_type": "code",
   "execution_count": null,
   "metadata": {},
   "outputs": [],
   "source": [
    "edu2016cc=edu2016c.copy()\n",
    "edu2016cc=edu2016cc.dropna()\n",
    "edu2016cc.reset_index(drop=True, inplace=True)\n",
    "edu2016cc.set_index('Neighbourhood', inplace=True)\n",
    "edu2016cc.tail()"
   ]
  },
  {
   "cell_type": "markdown",
   "metadata": {},
   "source": [
    "### Since the data from city is not complete, import data from Federal census 2016"
   ]
  },
  {
   "cell_type": "markdown",
   "metadata": {},
   "source": [
    "Reference：\n",
    " - https://public.tableau.com/profile/city.of.edmonton#!/vizhome/NeighbourhoodProfiles_FederalCensus2016/FamilyandLanguage\n",
    "1. Download Tableau from the website\n",
    "2. Access data by clicking 'data' from tableau and explore all into csv\n",
    "3. upload to IBM_Cloud→Db2-vs→Manage→Open console→Load data (under GLN55437)"
   ]
  },
  {
   "cell_type": "markdown",
   "metadata": {},
   "source": [
    "### Import new set of data"
   ]
  },
  {
   "cell_type": "markdown",
   "metadata": {},
   "source": [
    "###### M1c.1 Connect to the database from SQL"
   ]
  },
  {
   "cell_type": "markdown",
   "metadata": {},
   "source": [
    "Import data from SQL SERVER"
   ]
  },
  {
   "cell_type": "code",
   "execution_count": null,
   "metadata": {},
   "outputs": [],
   "source": [
    "#query statement to retrieve all rows in INSTRUCTOR table\n",
    "selectQuery = \"select * from Education\"\n",
    "\n",
    "#retrieve the query results into a pandas dataframe\n",
    "f_edu = pandas.read_sql(selectQuery, pconn)\n",
    "\n",
    "#print just the LNAME for first row in the pandas data frame\n",
    "f_edu.head(6)"
   ]
  },
  {
   "cell_type": "markdown",
   "metadata": {},
   "source": [
    "### Clean data (Federal census)"
   ]
  },
  {
   "cell_type": "code",
   "execution_count": null,
   "metadata": {},
   "outputs": [],
   "source": [
    "f_edu.rename(columns={'Name':'Neighbourhood','Education_Level_PT':'Education Level (%)'}, inplace=True)\n",
    "f_edu['Neighbourhood']=f_edu['Neighbourhood'].str.title()\n",
    "f_edu.drop(['Nbhd_Num','COE_Education_Level_Count','COE_Education_Level_PT','Education_Level_Count'],axis=1, inplace=True)\n",
    "f_edu['Neighbourhood']=f_edu['Neighbourhood'].replace({'Macewan':'MacEwan','Central Mcdougall': 'Central McDougall','Mcconachie Area':'McConachie Area'})\n",
    "f_edu.sort_values(['Neighbourhood'], inplace=True ,ascending=True)\n",
    "\n",
    "\n",
    "edu2016 = pd.merge(f_edu,\n",
    "                      dtopNei[['Neighbourhood']],\n",
    "                      on='Neighbourhood')\n",
    "edu2016.head(10)"
   ]
  },
  {
   "cell_type": "code",
   "execution_count": null,
   "metadata": {},
   "outputs": [],
   "source": [
    "dm1=edu2016.copy()\n",
    "dm2=dtopNei.copy()\n",
    "dm1=dm1.groupby('Neighbourhood',axis=0)['Education Level (%)'].sum().reset_index()\n",
    "dm1=dm1[['Neighbourhood']]\n",
    "dmiss=dm2[~dm2.apply(tuple,1).isin(dm1.apply(tuple,1))]\n",
    "\n",
    "dmiss.reset_index(drop=True, inplace=True)\n",
    "dmiss.tail()"
   ]
  },
  {
   "cell_type": "code",
   "execution_count": null,
   "metadata": {},
   "outputs": [],
   "source": [
    "S_edu2016=edu2016.copy()\n",
    "S_edu2016=S_edu2016.pivot(index='Neighbourhood',columns='Education_Level',values='Education Level (%)')\n",
    "\n",
    "S_edu2016=S_edu2016.astype(float)\n",
    "\n",
    "S_edu2016['University+ (%)']=S_edu2016['University certificate or diploma below bachelor level']+S_edu2016['University certificate, diploma or degree at bachelor level or above']\n",
    "S_edu2016['College/Tech (%)']=S_edu2016['Apprenticeship or trades certificate or diploma']+S_edu2016['College, CEGEP or other non-university certificate or diploma']\n",
    "S_edu2016['High school or less (%)']=S_edu2016['High school diploma or equivalency certificate']+S_edu2016['No certificate, diploma or degree']\n",
    "S_edu2016.sort_values(['University+ (%)'], inplace=True ,ascending=True)\n",
    "\n",
    "S_edu2016.head()"
   ]
  },
  {
   "cell_type": "code",
   "execution_count": null,
   "metadata": {},
   "outputs": [],
   "source": [
    "a=S_edu2016.copy()\n",
    "a=a['University+ (%)'].reset_index()\n",
    "b=S_edu2016.copy()\n",
    "b=b['College/Tech (%)'].reset_index()\n",
    "c=S_edu2016.copy()\n",
    "c=c['High school or less (%)'].reset_index()\n",
    "education2016 = pd.merge(a,\n",
    "                b,\n",
    "                 on='Neighbourhood')\n",
    "education2016 = pd.merge(education2016,\n",
    "                c,\n",
    "                 on='Neighbourhood')\n",
    "education2016.set_index('Neighbourhood', inplace=True)\n",
    "education2016.tail()"
   ]
  },
  {
   "cell_type": "markdown",
   "metadata": {},
   "source": [
    "### Heat map"
   ]
  },
  {
   "cell_type": "code",
   "execution_count": null,
   "metadata": {},
   "outputs": [],
   "source": [
    "import geopandas as gpd\n",
    "response = requests.get(r\"https://data.edmonton.ca/api/geospatial/tvcx-3vrx?method=export&format=GeoJSON\")\n",
    "data = response.json()\n",
    "NeisA = gpd.GeoDataFrame.from_features(data, crs='EPSG:4326')\n",
    "\n",
    "NeisA.tail()"
   ]
  },
  {
   "cell_type": "code",
   "execution_count": null,
   "metadata": {},
   "outputs": [],
   "source": [
    "NeisA.rename(columns={'name':'Neighbourhood'}, inplace=True)\n",
    "NeiAmerge = pd.merge(NeisA,\n",
    "                dtopNei,\n",
    "                 on='Neighbourhood')\n",
    "NeiAmerge = pd.merge(NeiAmerge,\n",
    "                education2016,\n",
    "                 on='Neighbourhood')\n",
    "NeiAmerge.rename(columns={'Neighbourhood':'name'}, inplace=True)\n",
    "NeiAmerge['centroid_long']=NeiAmerge.centroid.x\n",
    "NeiAmerge['centroid_lag']=NeiAmerge.centroid.y\n",
    "NeiAmerge.tail()"
   ]
  },
  {
   "cell_type": "code",
   "execution_count": null,
   "metadata": {},
   "outputs": [],
   "source": [
    "import branca.colormap as cm\n",
    "#colormap = cm.linear.YlGnBu_09#PuOr\n",
    "colormap = cm.linear.RdYlBu_06.scale(0,90).to_step(6) \n",
    "colormap"
   ]
  },
  {
   "cell_type": "code",
   "execution_count": null,
   "metadata": {},
   "outputs": [],
   "source": [
    "from folium.features import GeoJson, GeoJsonTooltip, GeoJsonPopup\n",
    "\n",
    "# create a plain world map\n",
    "edmA_map = folium.Map(location=[latitude, longitude], zoom_start=10, tiles='CartoDB positron') #, tiles = 'Stamen Toner')\n",
    "colormap.caption = \"University+ Education(%)\"\n",
    "\n",
    "style_function = lambda x: {\"weight\":0.5, \n",
    "                            'color':'black',\n",
    "                            'fillColor':colormap(x['properties'][\"University+ (%)\"]), \n",
    "                            'fillOpacity':0.75}\n",
    "highlight_function = lambda x: {'fillColor': '#000000', \n",
    "                                'color':'#000000', \n",
    "                                'fillOpacity': 0.50, \n",
    "                                'weight': 0.1}\n",
    "\n",
    "\n",
    "\n",
    "g = folium.GeoJson(\n",
    "    NeiAmerge,\n",
    "    style_function=style_function,\n",
    "    control=False,\n",
    "    highlight_function=highlight_function,\n",
    "    tooltip=folium.features.GeoJsonTooltip(\n",
    "        fields=['name',\"University+ (%)\"],\n",
    "        aliases=['name',\"University+ (%)\"],\n",
    "        style=(\"background-color: white; color: #333333; font-family: arial; font-size: 12px; padding: 10px;\"),\n",
    "        sticky=True\n",
    "        )).add_to(edmA_map)\n",
    "\n",
    "colormap.add_to(edmA_map)\n",
    "\n",
    "from branca.element import Template, MacroElement\n",
    "class DivIcon(MacroElement):\n",
    "    def __init__(self, html='', size=(5,5), anchor=(0,0), style=''):\n",
    "        \"\"\"TODO : docstring here\"\"\"\n",
    "        super(DivIcon, self).__init__()\n",
    "        self._name = 'DivIcon'\n",
    "        self.size = size\n",
    "        self.anchor = anchor\n",
    "        self.html = html\n",
    "        self.style = style\n",
    "\n",
    "        self._template = Template(u\"\"\"\n",
    "            {% macro header(this, kwargs) %}\n",
    "              <style>\n",
    "                .{{this.get_name()}} {\n",
    "                    {{this.style}}\n",
    "                    }\n",
    "              </style>\n",
    "            {% endmacro %}\n",
    "            {% macro script(this, kwargs) %}\n",
    "                var {{this.get_name()}} = L.divIcon({\n",
    "                    className: '{{this.get_name()}}',\n",
    "                    iconSize: [{{ this.size[0] }},{{ this.size[1] }}],\n",
    "                    iconAnchor: [{{ this.anchor[0] }},{{ this.anchor[1] }}],\n",
    "                    html : \"{{this.html}}\",\n",
    "                    });\n",
    "                {{this._parent.get_name()}}.setIcon({{this.get_name()}});\n",
    "            {% endmacro %}\n",
    "            \"\"\")\n",
    "for i in range(len(NeiAmerge)):\n",
    "    lag=NeiAmerge.iloc[i][8]\n",
    "    log=NeiAmerge.iloc[i][7]\n",
    "    text=NeiAmerge.iloc[i][2]\n",
    "    folium.map.Marker(\n",
    "        [lag+0.003, log-0.005],\n",
    "        icon=DivIcon(\n",
    "            size=(5,5),\n",
    "            anchor=(0,0),\n",
    "            html=text,\n",
    "            style=\"\"\"\n",
    "            font-size:8px;\n",
    "            background-color: transparent;\n",
    "            border-color: transparent;\n",
    "            text-align: center;\n",
    "            \"\"\"\n",
    "        )\n",
    "    ).add_to(edmA_map)\n",
    "edmA_map"
   ]
  },
  {
   "cell_type": "code",
   "execution_count": null,
   "metadata": {},
   "outputs": [],
   "source": [
    "from branca.element import Template, MacroElement\n",
    "\n",
    "template = \"\"\"\n",
    "{% macro html(this, kwargs) %}\n",
    "\n",
    "<!doctype html>\n",
    "<html lang=\"en\">\n",
    "<head>\n",
    "  <meta charset=\"utf-8\">\n",
    "  <meta name=\"viewport\" content=\"width=device-width, initial-scale=1\">\n",
    "  <title>jQuery UI Draggable - Default functionality</title>\n",
    "  <link rel=\"stylesheet\" href=\"//code.jquery.com/ui/1.12.1/themes/base/jquery-ui.css\">\n",
    "\n",
    "  <script src=\"https://code.jquery.com/jquery-1.12.4.js\"></script>\n",
    "  <script src=\"https://code.jquery.com/ui/1.12.1/jquery-ui.js\"></script>\n",
    "  \n",
    "  <script>\n",
    "  $( function() {\n",
    "    $( \"#maplegend\" ).draggable({\n",
    "                    start: function (event, ui) {\n",
    "                        $(this).css({\n",
    "                            right: \"auto\",\n",
    "                            top: \"auto\",\n",
    "                            bottom: \"auto\"\n",
    "                        });\n",
    "                    }\n",
    "                });\n",
    "});\n",
    "\n",
    "  </script>\n",
    "</head>\n",
    "<body>\n",
    "\n",
    " \n",
    "<div id='maplegend' class='maplegend' \n",
    "    style='position: absolute; z-index:9999; border:2px solid grey; background-color:rgba(255, 255, 255, 0.8);\n",
    "     border-radius:6px; padding: 10px; font-size:14px; right: 20px; bottom: 20px;'>\n",
    "     \n",
    "<div class='legend-title'>University+ (%)</div>\n",
    "<div class='legend-scale'>\n",
    "  <ul class='legend-labels'>\n",
    "    <li><span style='background:#d73027;opacity:0.7;'></span><15%</li>\n",
    "    <li><span style='background:#fc8d59;opacity:0.7;'></span>15% to 30%</li>\n",
    "    <li><span style='background:#fee090;opacity:0.7;'></span>30% to 45%</li>\n",
    "    <li><span style='background:#e0f3f8;opacity:0.7;'></span>45% to 60%</li>\n",
    "    <li><span style='background:#91bfdb;opacity:0.7;'></span>60% to 75%</li>\n",
    "    <li><span style='background:#4575b4;opacity:0.7;'></span>>75%</li>\n",
    "\n",
    "\n",
    "  </ul>\n",
    "</div>\n",
    "</div>\n",
    " \n",
    "</body>\n",
    "</html>\n",
    "\n",
    "<style type='text/css'>\n",
    "  .maplegend .legend-title {\n",
    "    text-align: left;\n",
    "    margin-bottom: 5px;\n",
    "    font-weight: bold;\n",
    "    font-size: 90%;\n",
    "    }\n",
    "  .maplegend .legend-scale ul {\n",
    "    margin: 0;\n",
    "    margin-bottom: 5px;\n",
    "    padding: 0;\n",
    "    float: left;\n",
    "    list-style: none;\n",
    "    }\n",
    "  .maplegend .legend-scale ul li {\n",
    "    font-size: 80%;\n",
    "    list-style: none;\n",
    "    margin-left: 0;\n",
    "    line-height: 18px;\n",
    "    margin-bottom: 2px;\n",
    "    }\n",
    "  .maplegend ul.legend-labels li span {\n",
    "    display: block;\n",
    "    float: left;\n",
    "    height: 16px;\n",
    "    width: 30px;\n",
    "    margin-right: 5px;\n",
    "    margin-left: 0;\n",
    "    border: 1px solid #999;\n",
    "    }\n",
    "  .maplegend .legend-source {\n",
    "    font-size: 80%;\n",
    "    color: #777;\n",
    "    clear: both;\n",
    "    }\n",
    "  .maplegend a {\n",
    "    color: #777;\n",
    "    }\n",
    "</style>\n",
    "{% endmacro %}\"\"\"\n",
    "\n",
    "macro = MacroElement()\n",
    "macro._template = Template(template)\n",
    "\n",
    "edmA_map.get_root().add_child(macro)\n",
    "\n",
    "edmA_map"
   ]
  },
  {
   "cell_type": "markdown",
   "metadata": {},
   "source": [
    "### Bar chart"
   ]
  },
  {
   "cell_type": "code",
   "execution_count": null,
   "metadata": {},
   "outputs": [],
   "source": [
    "color_list = ['plum','khaki','lemonchiffon'] \n",
    "\n",
    "ax = education2016.plot.barh(stacked=True,figsize = (20, 20), width = 0.8, color = color_list, align='center', edgecolor = None);\n",
    "\n",
    "\n",
    "\n",
    "ax.set_title(\"2019 Education Status\", fontsize = 16)#use font size 16 for the title\n",
    "ax.legend(fontsize='14',facecolor='white',loc=\"lower right\")#use font size 14 for legend\n",
    "ax.tick_params(axis='x', labelsize=14)#use font size 14 for axis-lable\n",
    "ax.set_xlabel('Percentage') \n",
    "ax.spines['left'].set_visible(False)\n",
    "ax.spines['bottom'].set_visible(True)\n",
    "ax.spines['top'].set_visible(False)\n",
    "ax.spines['right'].set_visible(False)\n",
    "\n",
    "for p in ax.patches:\n",
    "    left, bottom, width, height = p.get_bbox().bounds\n",
    "    ax.annotate(str(width.round(1))+'%', xy=(left+width/2, bottom+height/2), \n",
    "                ha='center', va='center')\n",
    "    \n",
    "#ax.set_xlim(0, 35)\n",
    "    \n",
    "# remove the left, top, and right borders; make sure the color of x axix labels is black\n",
    "ax.set_facecolor('xkcd:white') # change background to white  #ax.set_facecolor('xkcd:white')\n",
    "#ax.set_xticklabels([]) # turn off y ticks\n",
    "ax.tick_params(left=False)\n",
    "ax.axvline(0, color='black') # draw an x axix line \n",
    "ax.tick_params(axis='x', colors='black') # make sure the color of x axix labels is black    \n"
   ]
  },
  {
   "cell_type": "markdown",
   "metadata": {},
   "source": [
    "## C9. Commercial accessment lot size\n",
    "1. larger lot size, more people in that are\n",
    "2. The unit of Alberta registered lot size is in meters squared"
   ]
  },
  {
   "cell_type": "markdown",
   "metadata": {},
   "source": [
    "### Obtain commercial zoning ID\n",
    "Reference:\n",
    " - https://webdocs.edmonton.ca/InfraPlan/zoningbylaw/bylaw_12800.htm\n",
    " - https://data.edmonton.ca/Thematic-Features/City-of-Edmonton-Zoning-Bylaw-Map/b4f2-gf2b City of Edmonton Zoning Bylaw"
   ]
  },
  {
   "cell_type": "code",
   "execution_count": null,
   "metadata": {},
   "outputs": [],
   "source": [
    "import geopandas as gpd\n",
    "response = requests.get(r\"https://data.edmonton.ca/api/geospatial/b4f2-gf2b?method=export&format=GeoJSON\") #provde by city of Edmonton\n",
    "\n",
    "data = response.json()\n",
    "BIA = gpd.GeoDataFrame.from_features(data, crs='EPSG:4326')\n",
    "\n",
    "BIA.head()"
   ]
  },
  {
   "cell_type": "code",
   "execution_count": null,
   "metadata": {},
   "outputs": [],
   "source": [
    "Busi=BIA[BIA.descript.str.contains(\"Commercial\")]\n",
    "Busi=Busi.append(BIA[BIA.descript.str.contains(\"Business\")], ignore_index=True)\n",
    "Busi=Busi.append(BIA[BIA.descript.str.contains(\"Corridor\")], ignore_index=True)\n",
    "Busi=Busi.append(BIA[BIA.descript.str.contains(\"Shopping\")], ignore_index=True)\n",
    "Busi=Busi.append(BIA[BIA.zoning.str.contains(\"UW\")], ignore_index=True)\n",
    "Busi=Busi.append(BIA[BIA.descript.str.contains(\"Griesbach Village Centre Zone\")], ignore_index=True)\n",
    "Busi=Busi.append(BIA[BIA.descript.str.contains(\"Heritage Area Zone\")], ignore_index=True)\n",
    "Busi=Busi.append(BIA[BIA.descript.str.contains(\"Marquis\")], ignore_index=True)\n",
    "Busi=Busi.append(BIA[BIA.descript.str.contains(\"Mixed Use Zone\")], ignore_index=True)\n",
    "Busi=Busi.append(BIA[BIA.descript.str.contains(\"Arena and Entertainment District Zone\")], ignore_index=True)\n",
    "\n",
    "Busi=Busi[~Busi.descript.str.contains(\"Industrial\")]\n",
    "Busi=Busi[~Busi.descript.str.contains(\"Residential Mixed Use Zone\")]\n",
    "Busi=Busi[~Busi.zoning.str.contains(\"MA3\")]\n",
    "\n",
    "\n",
    "Busi=Busi.groupby('zoning',axis=0)['id'].count().reset_index()\n",
    "Busi= pd.merge(Busi, BIA[['zoning','descript']],on='zoning')\n",
    "Busi.drop_duplicates(subset=\"zoning\", keep = 'first', inplace = True) \n",
    "Busi.reset_index(drop=True, inplace=True)\n",
    "Busi.drop('id',axis=1, inplace=True)\n",
    "Busi"
   ]
  },
  {
   "cell_type": "markdown",
   "metadata": {},
   "source": [
    "### Assessment.2019"
   ]
  },
  {
   "cell_type": "markdown",
   "metadata": {},
   "source": [
    "Reference:\n",
    " - https://data.edmonton.ca/City-Administration/Property-Assessment-Data-2012-2019-/qi6a-xuwt Property Assessment Data (2012 - 2019)\n",
    " - https://data.edmonton.ca/City-Administration/Property-Assessment-Data-Current-Calendar-Year-/q7d6-ambg Property Assessment Data (Current Calendar Year)\n",
    " - https://data.edmonton.ca/City-Administration/Property-Information-Data-Current-Calendar-Year-/dkk9-cj3x Property Information Data (It is effective from January 1st, 2017 until December 31st, 2017)"
   ]
  },
  {
   "cell_type": "code",
   "execution_count": null,
   "metadata": {},
   "outputs": [],
   "source": [
    "access=pd.read_csv(\"Accessment_EDMC.csv\") "
   ]
  },
  {
   "cell_type": "code",
   "execution_count": null,
   "metadata": {},
   "outputs": [],
   "source": [
    "access.dtypes"
   ]
  },
  {
   "cell_type": "code",
   "execution_count": null,
   "metadata": {},
   "outputs": [],
   "source": [
    "dmiss1 = pd.DataFrame({\"zoning\":['CMX*', 'DC1', 'DC2','DC3','DC4','DC5'], \n",
    "                    \"descript\":['Not assigned','Direct Development Control Provisions', 'Site Specific Development Control Provision','Not assigned','Not assigned','Not assigned'],  \n",
    "                    }) \n",
    "dmiss1"
   ]
  },
  {
   "cell_type": "code",
   "execution_count": null,
   "metadata": {},
   "outputs": [],
   "source": [
    "import math\n",
    "diser_zoning=Busi.append([dmiss1], ignore_index=True)\n",
    "access2019=pd.merge(diser_zoning, access,on='zoning')\n",
    "access2019=access2019[access2019['Assessment Year']==2019]\n",
    "\n",
    "access2019[\"House Number\"]=access2019[\"House Number\"].astype('Int64')\n",
    "access2019[\"Adress\"] = access2019[\"House Number\"].astype(str) +str(' ')+ access2019[\"Street Name\"]\n",
    "access2019.drop(['Suite','Legal Description','Garage','New Georeferenced Column','Assessment Class % 1','Assessment Class % 2','Assessment Class % 3'],axis=1, inplace=True)\n",
    "\n",
    "access2019=access2019[access2019['Assessment Class 1'].str.contains(\"COMMERCIAL\")]\n",
    "access2019=access2019[~access2019['Assessment Class 2'].str.contains(\"FARMLAND\", na=False)]\n",
    "access2019=access2019[~access2019['Assessment Class 3'].str.contains(\"NONRES MUNICIPAL/RES EDUCATION\", na=False)]\n",
    "#access2019 = access2019[access2019['Street Name'].notnull()]\n",
    "access2019.reset_index(drop=True, inplace=True)\n",
    "access2019.head()"
   ]
  },
  {
   "cell_type": "code",
   "execution_count": null,
   "metadata": {},
   "outputs": [],
   "source": [
    "class2=access2019.groupby('Assessment Class 2',axis=0)['Account Number'].count().reset_index()\n",
    "class2"
   ]
  },
  {
   "cell_type": "code",
   "execution_count": null,
   "metadata": {},
   "outputs": [],
   "source": [
    "class3=access2019.groupby('Assessment Class 3',axis=0)['Account Number'].count().reset_index()\n",
    "class3"
   ]
  },
  {
   "cell_type": "code",
   "execution_count": null,
   "metadata": {},
   "outputs": [],
   "source": [
    "access2019.to_csv(\"Accessment2019.csv\",index=False)"
   ]
  },
  {
   "cell_type": "code",
   "execution_count": null,
   "metadata": {},
   "outputs": [],
   "source": [
    "Total_lotsize=access2019.groupby('Neighbourhood',axis=0)['Lot Size'].sum().reset_index()\n",
    "Total_lotsize.sort_values(['Lot Size'], inplace=True ,ascending=False)\n",
    "Total_lotsize.reset_index(drop=True, inplace=True)\n",
    "Total_lotsize.head()"
   ]
  },
  {
   "cell_type": "code",
   "execution_count": null,
   "metadata": {},
   "outputs": [],
   "source": [
    "Num_Business=access2019.groupby('Neighbourhood',axis=0)['Account Number'].count().reset_index()\n",
    "Num_Business.rename(columns={'Account Number':'Commercial Assessment Number'}, inplace=True)\n",
    "Num_Business.sort_values(['Commercial Assessment Number'], inplace=True ,ascending=False)\n",
    "Num_Business.reset_index(drop=True, inplace=True)\n",
    "Num_Business.head()"
   ]
  },
  {
   "cell_type": "code",
   "execution_count": null,
   "metadata": {},
   "outputs": [],
   "source": [
    "commercial_acess2019 = pd.merge(Total_lotsize,\n",
    "                dtopNei[['Neighbourhood']],\n",
    "                 on='Neighbourhood')\n",
    "commercial_acess2019= pd.merge(commercial_acess2019,\n",
    "                Num_Business,\n",
    "                 on='Neighbourhood')\n",
    "commercial_acess2019.sort_values(['Lot Size'], inplace=True ,ascending=True)\n",
    "commercial_acess2019.reset_index(drop=True, inplace=True)\n",
    "commercial_acess2019.tail()"
   ]
  },
  {
   "cell_type": "markdown",
   "metadata": {},
   "source": [
    "### Neighbourhood with ≥10 Millennials per net residential hectare but without commercial assessment by 2019"
   ]
  },
  {
   "cell_type": "code",
   "execution_count": null,
   "metadata": {},
   "outputs": [],
   "source": [
    "dm1=commercial_acess2019.copy()\n",
    "dm2=dtopNei.copy()\n",
    "dm1=dm1[['Neighbourhood']]\n",
    "\n",
    "\n",
    "dmiss=dm2[~dm2.apply(tuple,1).isin(dm1.apply(tuple,1))]\n",
    "\n",
    "dmiss.reset_index(drop=True, inplace=True)\n",
    "dmiss.tail()"
   ]
  },
  {
   "cell_type": "code",
   "execution_count": null,
   "metadata": {},
   "outputs": [],
   "source": [
    "dmiss['Lot Size']=[0]*len(dmiss)\n",
    "dmiss['Commercial Assessment Number']=[0]*len(dmiss)"
   ]
  },
  {
   "cell_type": "code",
   "execution_count": null,
   "metadata": {},
   "outputs": [],
   "source": [
    "commercial2019=dmiss.append([commercial_acess2019], ignore_index=True)"
   ]
  },
  {
   "cell_type": "markdown",
   "metadata": {},
   "source": [
    "### LRT"
   ]
  },
  {
   "cell_type": "markdown",
   "metadata": {},
   "source": [
    "Reference:\n",
    " - https://public.tableau.com/profile/city.of.edmonton#!/vizhome/2019LRTPassengerCountReport_15886048332290/LRTSurvey"
   ]
  },
  {
   "cell_type": "markdown",
   "metadata": {},
   "source": [
    "###### M1c.1 Connect to the database from SQL"
   ]
  },
  {
   "cell_type": "markdown",
   "metadata": {},
   "source": [
    "Import data from SQL SERVER"
   ]
  },
  {
   "cell_type": "code",
   "execution_count": null,
   "metadata": {},
   "outputs": [],
   "source": [
    "#query statement to retrieve all rows in INSTRUCTOR table\n",
    "selectQuery = \"select * from LRT_ACTIVITY1819\"\n",
    "\n",
    "#retrieve the query results into a pandas dataframe\n",
    "f_lrt = pandas.read_sql(selectQuery, pconn)\n",
    "\n",
    "#print just the LNAME for first 5 rows in the pandas data frame\n",
    "f_lrt.tail()"
   ]
  },
  {
   "cell_type": "markdown",
   "metadata": {},
   "source": [
    "### Clean data (Federal census)"
   ]
  },
  {
   "cell_type": "code",
   "execution_count": null,
   "metadata": {},
   "outputs": [],
   "source": [
    "f_lrt=f_lrt[['LRT_Station','2019 Station Total']]\n",
    "f_lrt=f_lrt[f_lrt['LRT_Station']!='TOTAL LRT Station']\n",
    "f_lrt.tail()"
   ]
  },
  {
   "cell_type": "markdown",
   "metadata": {},
   "source": [
    "geolocator = Nominatim(user_agent='cgao2@ualberta.ca')\n",
    "rec1=[]\n",
    "rec2=[]\n",
    "rec3=[]\n",
    "for i in range((len(f_lrt)-2)):\n",
    "    a=f_lrt.iloc[i][0]+', Edmonton, Alberta, Canada'\n",
    "    if a=='South Campus/Ft Edmonton Station, Edmonton, Alberta, Canada':\n",
    "        a='University of alberta South Campus, Edmonton, Alberta, Canada'\n",
    "    elif a=='Grandin/Govt Centre Station, Edmonton, Alberta, Canada':\n",
    "        a='Grandin Station, Edmonton, Alberta, Canada'\n",
    "    location = geolocator.geocode(a)\n",
    "    rec1.append(location.address)\n",
    "    rec2.append(location.latitude)\n",
    "    rec3.append(location.longitude)"
   ]
  },
  {
   "cell_type": "markdown",
   "metadata": {},
   "source": [
    "datalrt = {'Address': rec1,\n",
    "            'Latitude':rec2,\n",
    "         'Longitude':rec3\n",
    "        }\n",
    "dlrt = pd.DataFrame (datalrt, columns = ['Address','Latitude','Longitude'])\n",
    "dlrt.tail()"
   ]
  },
  {
   "cell_type": "markdown",
   "metadata": {},
   "source": [
    "### Heat map Neighbourhood ≥ 10 Millennials per net residential hectare & lrt stations"
   ]
  },
  {
   "cell_type": "markdown",
   "metadata": {},
   "source": [
    "Get the geographical coordinates for each borough in Edmonton"
   ]
  },
  {
   "cell_type": "code",
   "execution_count": null,
   "metadata": {},
   "outputs": [],
   "source": [
    "address = 'Edmonton, AB'\n",
    "\n",
    "geolocator = Nominatim(user_agent=\"ny_explorer\")\n",
    "location = geolocator.geocode(address)\n",
    "latitude = location.latitude\n",
    "longitude = location.longitude\n",
    "print('The geograpical coordinate of Edmonton are {}, {}.'.format(latitude, longitude))"
   ]
  },
  {
   "cell_type": "code",
   "execution_count": null,
   "metadata": {},
   "outputs": [],
   "source": [
    "import geopandas as gpd\n",
    "response = requests.get(r\"https://data.edmonton.ca/api/geospatial/tvcx-3vrx?method=export&format=GeoJSON\")\n",
    "data = response.json()\n",
    "NeisA = gpd.GeoDataFrame.from_features(data, crs='EPSG:4326')\n",
    "\n",
    "NeisA.tail()"
   ]
  },
  {
   "cell_type": "code",
   "execution_count": null,
   "metadata": {},
   "outputs": [],
   "source": [
    "NeisA.rename(columns={'name':'Neighbourhood'}, inplace=True)\n",
    "NeiAmerge = pd.merge(NeisA,\n",
    "                dtopNei,\n",
    "                 on='Neighbourhood')\n",
    "NeiAmerge.rename(columns={'Neighbourhood':'name'}, inplace=True)\n",
    "NeiAmerge['Num']=[1]*len(NeiAmerge)\n",
    "NeiAmerge['centroid_long']=NeiAmerge.centroid.x\n",
    "NeiAmerge['centroid_lag']=NeiAmerge.centroid.y\n",
    "NeiAmerge.tail()"
   ]
  },
  {
   "cell_type": "code",
   "execution_count": null,
   "metadata": {},
   "outputs": [],
   "source": [
    "import geopandas as gpd\n",
    "response = requests.get(r\"https://raw.githubusercontent.com/cgao2/BIA-map-/master/LRT.geojson\") #create by me\n",
    "\n",
    "data = response.json()\n",
    "lrt = gpd.GeoDataFrame.from_features(data, crs='EPSG:4326')\n",
    "lrt['Num']=[2]*len(lrt)\n",
    "lrt.head()"
   ]
  },
  {
   "cell_type": "code",
   "execution_count": null,
   "metadata": {},
   "outputs": [],
   "source": [
    "NeiLRTmerge = lrt.append(NeiAmerge, ignore_index=True)"
   ]
  },
  {
   "cell_type": "code",
   "execution_count": null,
   "metadata": {},
   "outputs": [],
   "source": [
    "import branca.colormap as cm\n",
    "#colormap = cm.linear.YlGnBu_09#PuOr\n",
    "colormap = cm.linear.PiYG_04.scale(0,1)#.to_step(1) \n",
    "colormap"
   ]
  },
  {
   "cell_type": "code",
   "execution_count": null,
   "metadata": {},
   "outputs": [],
   "source": [
    "from folium.features import GeoJson, GeoJsonTooltip, GeoJsonPopup\n",
    "\n",
    "# create a plain world map\n",
    "edmA_map = folium.Map(location=[latitude, longitude], zoom_start=10, tiles='CartoDB positron') #, tiles = 'Stamen Toner')\n",
    "#colormap.caption = \"Numbers of Millennials per net residential hectareper\"\n",
    "\n",
    "style_function = lambda x: {\"weight\":0.5, \n",
    "                            'color':'black',\n",
    "                            'fillColor':colormap(x['properties']['Num']), \n",
    "                            'fillOpacity':0.75}\n",
    "highlight_function = lambda x: {'fillColor': '#000000', \n",
    "                                'color':'#000000', \n",
    "                                'fillOpacity': 0.50, \n",
    "                                'weight': 0.1}\n",
    "\n",
    "\n",
    "\n",
    "g = folium.GeoJson(\n",
    "    NeiLRTmerge,\n",
    "    style_function=style_function,\n",
    "    control=False,\n",
    "    highlight_function=highlight_function,\n",
    "    tooltip=folium.features.GeoJsonTooltip(\n",
    "        fields=['name','Num'],\n",
    "        aliases=['name','Num'],\n",
    "        style=(\"background-color: white; color: #333333; font-family: arial; font-size: 12px; padding: 10px;\"),\n",
    "        sticky=True\n",
    "        )).add_to(edmA_map)\n",
    "\n",
    "#colormap.add_to(edmA_map)\n",
    "\n",
    "from branca.element import Template, MacroElement\n",
    "class DivIcon(MacroElement):\n",
    "    def __init__(self, html='', size=(5,5), anchor=(0,0), style=''):\n",
    "        \"\"\"TODO : docstring here\"\"\"\n",
    "        super(DivIcon, self).__init__()\n",
    "        self._name = 'DivIcon'\n",
    "        self.size = size\n",
    "        self.anchor = anchor\n",
    "        self.html = html\n",
    "        self.style = style\n",
    "\n",
    "        self._template = Template(u\"\"\"\n",
    "            {% macro header(this, kwargs) %}\n",
    "              <style>\n",
    "                .{{this.get_name()}} {\n",
    "                    {{this.style}}\n",
    "                    }\n",
    "              </style>\n",
    "            {% endmacro %}\n",
    "            {% macro script(this, kwargs) %}\n",
    "                var {{this.get_name()}} = L.divIcon({\n",
    "                    className: '{{this.get_name()}}',\n",
    "                    iconSize: [{{ this.size[0] }},{{ this.size[1] }}],\n",
    "                    iconAnchor: [{{ this.anchor[0] }},{{ this.anchor[1] }}],\n",
    "                    html : \"{{this.html}}\",\n",
    "                    });\n",
    "                {{this._parent.get_name()}}.setIcon({{this.get_name()}});\n",
    "            {% endmacro %}\n",
    "            \"\"\")\n",
    "for i in range(len(NeiAmerge)):\n",
    "    lag=NeiAmerge.iloc[i][6]\n",
    "    log=NeiAmerge.iloc[i][5]\n",
    "    text=NeiAmerge.iloc[i][2]\n",
    "    folium.map.Marker(\n",
    "        [lag, log],\n",
    "        icon=DivIcon(\n",
    "            size=(5,5),\n",
    "            anchor=(0,0),\n",
    "            html=text,\n",
    "            style=\"\"\"\n",
    "            font-size:8px;\n",
    "            background-color: transparent;\n",
    "            border-color: transparent;\n",
    "            text-align: center;\n",
    "            \"\"\"\n",
    "        )\n",
    "    ).add_to(edmA_map)\n",
    "edmA_map"
   ]
  },
  {
   "cell_type": "markdown",
   "metadata": {},
   "source": [
    "## C-Final. Score selected neighbourhood for fine dinning restuarant or fast casual restuarant"
   ]
  },
  {
   "cell_type": "code",
   "execution_count": null,
   "metadata": {},
   "outputs": [],
   "source": [
    "Mdensity2019=topNei_Mdensity.copy()\n",
    "Mdensity2019['Millennials density score']=Mdensity2019['Millennials Per Net Residential Hectare']/8\n",
    "Mdensity2019['Millennials density score']=Mdensity2019['Millennials density score'].apply(np.floor)\n",
    "#Mdensity2019=Mdensity2019[['Neighbourhood','Millennials density score']]\n",
    "Mdensity2019.reset_index(drop=True, inplace=True)\n",
    "Mdensity2019.tail()"
   ]
  },
  {
   "cell_type": "code",
   "execution_count": null,
   "metadata": {},
   "outputs": [],
   "source": [
    "occupy2019=D2019Ds.copy()\n",
    "occupy2019=occupy2019[['Percentage Occupied (%)']]\n",
    "occupy2019=occupy2019.reset_index()\n",
    "occupy2019['Dwelling occupied score']=(occupy2019['Percentage Occupied (%)']/100).round(2)\n",
    "#occupy2019=occupy2019[['Neighbourhood','Dwelling occupied score']]\n",
    "Mdensity2019.reset_index(drop=True, inplace=True)\n",
    "occupy2019.tail()"
   ]
  },
  {
   "cell_type": "code",
   "execution_count": null,
   "metadata": {},
   "outputs": [],
   "source": [
    "ownership2016=D2016DO.copy()\n",
    "ownership2016=ownership2016[['Owned (%)']]\n",
    "ownership2016=ownership2016.reset_index()\n",
    "ownership2016['Dwelling Ownership score']=(ownership2016['Owned (%)']/100).round(2)\n",
    "#ownership2016=ownership2016[['Neighbourhood','Dwelling Ownership score']]\n",
    "ownership2016.reset_index(drop=True, inplace=True)\n",
    "ownership2016.tail()"
   ]
  },
  {
   "cell_type": "code",
   "execution_count": null,
   "metadata": {},
   "outputs": [],
   "source": [
    "mortgage2016=morg2016.copy()\n",
    "mortgage2016=mortgage2016[['% of HH with a mortgage']]\n",
    "mortgage2016=mortgage2016.reset_index()\n",
    "mortgage2016['Dwelling mortgage score']=(mortgage2016['% of HH with a mortgage']/400).round(2)\n",
    "#mortgage2016=mortgage2016[['Neighbourhood','Dwelling mortgage score']]\n",
    "mortgage2016.reset_index(drop=True, inplace=True)\n",
    "mortgage2016.tail()"
   ]
  },
  {
   "cell_type": "code",
   "execution_count": null,
   "metadata": {},
   "outputs": [],
   "source": [
    "marital2016=marital2016c.copy()\n",
    "marital2016=marital2016[['1 person household (%)']]\n",
    "marital2016=marital2016.reset_index()\n",
    "marital2016['Single score']=(marital2016['1 person household (%)']/100*3).round(2)\n",
    "#marital2016=marital2016[['Neighbourhood','Single score']]\n",
    "marital2016.reset_index(drop=True, inplace=True)\n",
    "marital2016.tail()"
   ]
  },
  {
   "cell_type": "code",
   "execution_count": null,
   "metadata": {},
   "outputs": [],
   "source": [
    "children2016=family2016.copy()\n",
    "children2016=children2016[['Without children (%)']]\n",
    "children2016=children2016.reset_index()\n",
    "children2016['Without children score']=(children2016['Without children (%)']/100*3).round(2)\n",
    "#children2016=children2016[['Neighbourhood','Without children score']]\n",
    "children2016.reset_index(drop=True, inplace=True)\n",
    "children2016.tail()"
   ]
  },
  {
   "cell_type": "code",
   "execution_count": null,
   "metadata": {},
   "outputs": [],
   "source": [
    "income2016=D2016inclass.copy()\n",
    "income2016=income2016[['Middle-class (%)']]#,'Upper-class (%)']]\n",
    "income2016=income2016.reset_index()\n",
    "income2016['Middle-class score']=(income2016['Middle-class (%)']/100*3).round(2)\n",
    "#income2016=income2016[['Neighbourhood','Middle-class score']]\n",
    "income2016.reset_index(drop=True, inplace=True)\n",
    "income2016.tail()"
   ]
  },
  {
   "cell_type": "code",
   "execution_count": null,
   "metadata": {},
   "outputs": [],
   "source": [
    "educ2016=education2016.copy()\n",
    "educ2016=educ2016[['University+ (%)']]\n",
    "educ2016=educ2016.reset_index()\n",
    "educ2016['Education level score']=(educ2016['University+ (%)']/100*4).round(2)\n",
    "#educ2016=educ2016[['Neighbourhood','Education level score']]\n",
    "educ2016.reset_index(drop=True, inplace=True)\n",
    "educ2016.tail()"
   ]
  },
  {
   "cell_type": "code",
   "execution_count": null,
   "metadata": {},
   "outputs": [],
   "source": [
    "urban2017=dclassMED.copy()\n",
    "urban2017['Urban score']=urban2017['Classification']/4\n",
    "urban2017.loc[urban2017['Urban score'] >= 1, 'Urban score'] = 0.75\n",
    "urban2017.loc[urban2017['Classification'] == 1, 'Classification'] = 'Rural'\n",
    "urban2017.loc[urban2017['Classification'] == 2, 'Classification'] = 'Rural'\n",
    "urban2017.loc[urban2017['Classification'] == 4, 'Classification'] = 'Suburban'\n",
    "urban2017.loc[urban2017['Classification'] == 5, 'Classification'] = 'Urban'\n",
    "urban2017.loc[urban2017['Classification'] == 6, 'Classification'] = 'Urban'\n",
    "#urban2017=urban2017[['Neighbourhood','Urban score']]\n",
    "urban2017.reset_index(drop=True, inplace=True)\n",
    "urban2017.tail()"
   ]
  },
  {
   "cell_type": "code",
   "execution_count": null,
   "metadata": {},
   "outputs": [],
   "source": [
    "Business_lotsize2019=commercial2019.copy()\n",
    "Business_lotsize2019=Business_lotsize2019.reset_index()\n",
    "\n",
    "Business_lotsize2019['Business score1']=(Business_lotsize2019['Lot Size']/100000).round(2)\n",
    "Business_lotsize2019.loc[Business_lotsize2019['Business score1'] >= 2, 'Business score1'] = 2\n",
    "Business_lotsize2019['Business score2']=(Business_lotsize2019['Commercial Assessment Number']/150).round(2)\n",
    "Business_lotsize2019.loc[Business_lotsize2019['Business score2'] >= 2, 'Business score2'] = 2\n",
    "Business_lotsize2019['Business score']=(Business_lotsize2019['Business score1']+Business_lotsize2019['Business score2'])/2\n",
    "Business_lotsize2019.sort_values(['Business score'], inplace=True ,ascending=False)\n",
    "Business_lotsize2019.reset_index(drop=True, inplace=True)\n",
    "Business_lotsize2019.tail(10)"
   ]
  },
  {
   "cell_type": "code",
   "execution_count": null,
   "metadata": {},
   "outputs": [],
   "source": [
    "nearlrt = {'Neighbourhood': ['Blue Quill','Ermineskin','Skyrattler',\n",
    "                             'Malmo Plains','Empire Park',\n",
    "                             'Queen Alexandra','Garneau',\n",
    "                             'Garneau','Strathcona',\n",
    "                             'Garneau','Strathcona',\n",
    "                             'Oliver',\n",
    "                             'Downtown',\n",
    "                             'Downtown',\n",
    "                             'Downtown',\n",
    "                             'Downtown','Boyle Street',\n",
    "                             'Central McDougall',\n",
    "                             'Central McDougall',\n",
    "                             'Boyle Street','Cromdale','Parkdale',\n",
    "                             'Parkdale',\n",
    "                             'Clareview Town Centre'],\n",
    "            'LRT_Station':['Century Park Station','Century Park Station','Century Park Station',\n",
    "                         'Southgate Station','Southgate Station',\n",
    "                         'McKernan/Belgravia Station','McKernan/Belgravia Station',\n",
    "                         'Health Sciences/Jubilee Station','Health Sciences/Jubilee Station',\n",
    "                        'University Station','University Station',\n",
    "                        'Grandin/Govt Centre Station',\n",
    "                        'Corona Station',\n",
    "                        'Bay/Enterprise Square Station',\n",
    "                        'Central Station',\n",
    "                        'Churchill Station','Churchill Station',\n",
    "                        'MacEwan Station',\n",
    "                        'Kingsway/RAH Station',\n",
    "                        'Stadium Station','Stadium Station','Stadium Station',\n",
    "                        'Coliseum Station',\n",
    "                        'Clareview Station']}\n",
    "nlrt = pd.DataFrame (nearlrt, columns = ['Neighbourhood','LRT_Station'])\n",
    "lrtscore = pd.merge(nlrt,f_lrt,on='LRT_Station')\n",
    "lrtscore['2019 Station Total']=lrtscore['2019 Station Total'].astype(float)\n",
    "lrtscore=lrtscore.groupby('Neighbourhood',axis=0)['2019 Station Total'].sum().reset_index()\n",
    "\n",
    "dm1=lrtscore.copy()\n",
    "dm2=dtopNei.copy()\n",
    "dm1=dm1[['Neighbourhood']]\n",
    "dm2=dm2[['Neighbourhood']]\n",
    "dmiss=dm2[~dm2.apply(tuple,1).isin(dm1.apply(tuple,1))]\n",
    "dmiss.reset_index(drop=True, inplace=True)\n",
    "dmiss['2019 Station Total']=[0]*len(dmiss)\n",
    "dmiss.tail()\n",
    "\n",
    "lrtscore2019=lrtscore.append(dmiss, ignore_index=True)\n",
    "\n",
    "lrtscore2019.sort_values(['2019 Station Total'], inplace=True ,ascending=False)\n",
    "lrtscore2019['LRT score']=(lrtscore2019['2019 Station Total']/10000).round(2)\n",
    "lrtscore2019.loc[lrtscore2019['LRT score'] >= 2, 'LRT score'] = 2\n",
    "lrtscore2019.reset_index(drop=True, inplace=True)\n",
    "lrtscore2019.head(15)"
   ]
  },
  {
   "cell_type": "code",
   "execution_count": null,
   "metadata": {},
   "outputs": [],
   "source": [
    "score2016 = pd.merge(ownership2016[['Neighbourhood','Owned (%)']],\n",
    "                     marital2016[['Neighbourhood','1 person household (%)']],on='Neighbourhood')\n",
    "score2016 = pd.merge(score2016,income2016[['Neighbourhood','Middle-class (%)']],on='Neighbourhood')\n",
    "score2016 = pd.merge(score2016,educ2016[['Neighbourhood','University+ (%)']],on='Neighbourhood')\n",
    "score2016 = pd.merge(score2016,children2016[['Neighbourhood','Without children (%)']],on='Neighbourhood')\n",
    "score2016 = pd.merge(score2016,occupy2019[['Neighbourhood','Percentage Occupied (%)']],on='Neighbourhood')\n",
    "score2016 = pd.merge(score2016,mortgage2016[['Neighbourhood','% of HH with a mortgage']],on='Neighbourhood')\n",
    "score2016 = pd.merge(score2016,urban2017[['Neighbourhood','Classification']],on='Neighbourhood')\n",
    "score2016 = pd.merge(score2016,Mdensity2019[['Neighbourhood','Millennials Per Net Residential Hectare']],on='Neighbourhood')\n",
    "score2016 = pd.merge(score2016,Business_lotsize2019[['Neighbourhood','Lot Size','Commercial Assessment Number']],on='Neighbourhood')\n",
    "score2016 = pd.merge(score2016,lrtscore2019[['Neighbourhood','2019 Station Total']],on='Neighbourhood')\n",
    "score2016.rename(columns={'2019 Station Total':'2019 LRT Passanger Boarding/Alighting',\n",
    "                          'Owned (%)':'Dwelling owned (%)',\n",
    "                          'Lot Size':\"Commercial Lot Size (㎡)\",\n",
    "                          '% of HH with a mortgage':'Household with Mortgage (%)',\n",
    "                          'Percentage Occupied (%)':'Dwelling Occupied (%)'\n",
    "                          }, inplace=True)\n",
    "score2016=score2016.round(2)\n",
    "\n",
    "score2016.drop_duplicates(subset =\"Neighbourhood\", \n",
    "                     keep = False, inplace = True) \n",
    "\n",
    "score2016.sort_values(['Neighbourhood'], inplace=True ,ascending=True)\n",
    "score2016.reset_index(drop=True, inplace=True)\n",
    "columns_titles = ['Neighbourhood','Millennials Per Net Residential Hectare',\n",
    "                  'Commercial Lot Size (㎡)','Commercial Assessment Number',\n",
    "                  '2019 LRT Passanger Boarding/Alighting','University+ (%)',\n",
    "                  'Middle-class (%)','1 person household (%)','Without children (%)',\n",
    "                  'Dwelling owned (%)','Household with Mortgage (%)',\n",
    "                  'Dwelling Occupied (%)','Classification']\n",
    "score2016=score2016.reindex(columns=columns_titles)\n",
    "score2016#.head(10)"
   ]
  },
  {
   "cell_type": "code",
   "execution_count": null,
   "metadata": {},
   "outputs": [],
   "source": [
    "score2016 = pd.merge(ownership2016[['Neighbourhood','Dwelling Ownership score']],marital2016[['Neighbourhood','Single score']],on='Neighbourhood')\n",
    "score2016 = pd.merge(score2016,income2016[['Neighbourhood','Middle-class score']],on='Neighbourhood')\n",
    "score2016 = pd.merge(score2016,educ2016[['Neighbourhood','Education level score']],on='Neighbourhood')\n",
    "score2016 = pd.merge(score2016,children2016[['Neighbourhood','Without children score']],on='Neighbourhood')\n",
    "score2016 = pd.merge(score2016,occupy2019[['Neighbourhood','Dwelling occupied score']],on='Neighbourhood')\n",
    "score2016 = pd.merge(score2016,mortgage2016[['Neighbourhood','Dwelling mortgage score']],on='Neighbourhood')\n",
    "score2016 = pd.merge(score2016,urban2017[['Neighbourhood','Urban score']],on='Neighbourhood')\n",
    "score2016 = pd.merge(score2016,Mdensity2019[['Neighbourhood','Millennials density score']],on='Neighbourhood')\n",
    "score2016 = pd.merge(score2016,Business_lotsize2019[['Neighbourhood','Business score']],on='Neighbourhood')\n",
    "score2016 = pd.merge(score2016,lrtscore2019[['Neighbourhood','LRT score']],on='Neighbourhood')\n",
    "\n",
    "#score2016['University+ (%)'] = score2016['University+ (%)'].fillna(0)\n",
    "cols_to_sum = score2016.columns[ 1: score2016.shape[1]]\n",
    "score2016['Total Score']=score2016[cols_to_sum].sum(axis=1)\n",
    "score2016=score2016.round(2)\n",
    "\n",
    "score2016.drop_duplicates(subset =\"Neighbourhood\", \n",
    "                     keep = False, inplace = True) \n",
    "\n",
    "score2016.sort_values(['Total Score'], inplace=True ,ascending=False)\n",
    "score2016.reset_index(drop=True, inplace=True)\n",
    "columns_titles = ['Neighbourhood','Millennials density score','Business score','LRT score','Education level score','Middle-class score','Single score','Without children score','Dwelling Ownership score','Dwelling mortgage score','Dwelling occupied score','Urban score','Total Score']\n",
    "score2016=score2016.reindex(columns=columns_titles)\n",
    "score2016#.head(10)"
   ]
  },
  {
   "cell_type": "code",
   "execution_count": null,
   "metadata": {},
   "outputs": [],
   "source": [
    "sum_score=score2016.describe().round(2)\n",
    "sum_score"
   ]
  },
  {
   "cell_type": "code",
   "execution_count": null,
   "metadata": {},
   "outputs": [],
   "source": [
    "desireN=score2016.copy()\n",
    "desireN = desireN[desireN['Education level score'] >= 1.8] #over 45% of the population in the selected neighbourhood have University + education\n",
    "desireN = desireN[desireN['Middle-class score'] >= 1.2] #over 40% of the population in the selected neighbourhood are within middle income class\n",
    "desireN = desireN[desireN['Single score'] >= 1.2] #over 40% of the population in the selected neighbourhood are one household\n",
    "desireN = desireN[desireN['Without children score'] >= 1.2] #over 40% of the population in the selected neighbourhood are without children\n",
    "desireN = desireN[desireN['Total Score'] >= sum_score.loc['mean']['Total Score']]\n",
    "desireN.reset_index(drop=True, inplace=True)\n",
    "desireN#.tail()"
   ]
  },
  {
   "cell_type": "markdown",
   "metadata": {},
   "source": [
    "## C10. Journey to work\n",
    "Based on mode to work, we could decide the opening hour of the restaurant.\n",
    "Reference:\n",
    " - https://data.edmonton.ca/Census/2016-Census-Population-by-Mode-of-Transportation-N/h7iv-tgcw 2016 Census - Population by Mode of Transportation (Neighbourhood/Ward)"
   ]
  },
  {
   "cell_type": "code",
   "execution_count": null,
   "metadata": {},
   "outputs": [],
   "source": [
    "d_journey = pd.read_csv(\"https://data.edmonton.ca/api/views/h7iv-tgcw/rows.csv?accessType=DOWNLOAD\")\n",
    "d_journey.tail()"
   ]
  },
  {
   "cell_type": "markdown",
   "metadata": {},
   "source": [
    "### C10.1 Clean data"
   ]
  },
  {
   "cell_type": "code",
   "execution_count": null,
   "metadata": {},
   "outputs": [],
   "source": [
    "d_journey.rename(columns={'Neighbourhood Name':'Neighbourhood'}, inplace=True)\n",
    "d_journey['Neighbourhood']=d_journey['Neighbourhood'].str.title()\n",
    "d_journey.drop(['Ward','Neighbourhood Number'],axis=1, inplace=True)\n",
    "\n",
    "d_journey['Neighbourhood']=d_marital['Neighbourhood'].replace({'Mcconachie Area':'McConachie Area','Macewan':'MacEwan','Glenridding Area':'Glenridding Heights','Central Mcdougall': 'Central McDougall'})\n",
    "d_journey.sort_values(['Neighbourhood'], inplace=True ,ascending=True)\n",
    "\n",
    "journey2016 = pd.merge(d_journey,\n",
    "                desireN[['Neighbourhood']],\n",
    "                 on='Neighbourhood')\n",
    "journey2016.tail()"
   ]
  },
  {
   "cell_type": "code",
   "execution_count": null,
   "metadata": {},
   "outputs": [],
   "source": [
    "dm1=journey2016.copy()\n",
    "dm2=desireN.copy()\n",
    "dm1=dm1[['Neighbourhood']]\n",
    "dm2=dm2[['Neighbourhood']]\n",
    "\n",
    "dmiss=dm2[~dm2.apply(tuple,1).isin(dm1.apply(tuple,1))]\n",
    "\n",
    "dmiss.reset_index(drop=True, inplace=True)\n",
    "dmiss.tail()"
   ]
  },
  {
   "cell_type": "code",
   "execution_count": null,
   "metadata": {},
   "outputs": [],
   "source": [
    "journey2016.set_index('Neighbourhood', inplace=True)\n",
    "journey2016.tail()"
   ]
  },
  {
   "cell_type": "code",
   "execution_count": null,
   "metadata": {},
   "outputs": [],
   "source": [
    "#check whether respondse% over 25% of the total population\n",
    "check = pd.merge(journey2016,\n",
    "                dN_2016n2[['Neighbourhood','Total']],\n",
    "                 on='Neighbourhood')\n",
    "check['% respond']=(check['Car/Truck/Van (as Driver)']+check['Car/Truck/Van (as Passenger)']+check['Public Transit']+check['Walk']+check['Bicycle']+check['Other'])/check['Total']\n"
   ]
  },
  {
   "cell_type": "markdown",
   "metadata": {},
   "source": [
    "### Since the data from city is not complete, import data from Federal census 2016"
   ]
  },
  {
   "cell_type": "markdown",
   "metadata": {},
   "source": [
    "Reference：\n",
    " - https://public.tableau.com/profile/city.of.edmonton#!/vizhome/NeighbourhoodProfiles_FederalCensus2016/FamilyandLanguage\n",
    "1. Download Tableau from the website\n",
    "2. Access data by clicking 'data' from tableau and explore all into csv\n",
    "3. upload to IBM_Cloud→Db2-vs→Manage→Open console→Load data (under GLN55437)"
   ]
  },
  {
   "cell_type": "markdown",
   "metadata": {},
   "source": [
    "### Import new set of data"
   ]
  },
  {
   "cell_type": "markdown",
   "metadata": {},
   "source": [
    "###### M1c.1 Connect to the database from SQL"
   ]
  },
  {
   "cell_type": "markdown",
   "metadata": {},
   "source": [
    "Import data from SQL SERVER"
   ]
  },
  {
   "cell_type": "code",
   "execution_count": null,
   "metadata": {},
   "outputs": [],
   "source": [
    "#query statement to retrieve all rows in INSTRUCTOR table\n",
    "selectQuery = \"select * from JOURNEY_WORK\"\n",
    "\n",
    "#retrieve the query results into a pandas dataframe\n",
    "f_jour = pandas.read_sql(selectQuery, pconn)\n",
    "\n",
    "#print just the LNAME for first row in the pandas data frame\n",
    "f_jour.head(8)"
   ]
  },
  {
   "cell_type": "markdown",
   "metadata": {},
   "source": [
    "### Clean data (Federal census)"
   ]
  },
  {
   "cell_type": "code",
   "execution_count": null,
   "metadata": {},
   "outputs": [],
   "source": [
    "f_jour.rename(columns={'NAME':'Neighbourhood','Mode_Commuting_Percentage':'Mode Commuting (%)'}, inplace=True)\n",
    "f_jour['Neighbourhood']=f_jour['Neighbourhood'].str.title()\n",
    "f_jour.drop(['Flag','Mode_Commuting_POP','Nbhd_Num','Number_of_Records'],axis=1, inplace=True)\n",
    "f_jour['Neighbourhood']=f_jour['Neighbourhood'].replace({'Macewan':'MacEwan','Central Mcdougall': 'Central McDougall','Mcconachie Area':'McConachie Area'})\n",
    "f_jour.sort_values(['Neighbourhood'], inplace=True ,ascending=True)\n",
    "\n",
    "\n",
    "jour2016 = pd.merge(f_jour,\n",
    "                      desireN[['Neighbourhood']],\n",
    "                      on='Neighbourhood')\n",
    "jour2016.head(6)"
   ]
  },
  {
   "cell_type": "code",
   "execution_count": null,
   "metadata": {},
   "outputs": [],
   "source": [
    "dm1=jour2016.copy()\n",
    "dm2=desireN.copy()\n",
    "dm1=dm1.groupby('Neighbourhood',axis=0)['Mode Commuting (%)'].sum().reset_index()\n",
    "dm1=dm1[['Neighbourhood']]\n",
    "dm2=dm2[['Neighbourhood']]\n",
    "dmiss=dm2[~dm2.apply(tuple,1).isin(dm1.apply(tuple,1))]\n",
    "\n",
    "dmiss.reset_index(drop=True, inplace=True)\n",
    "dmiss.tail()"
   ]
  },
  {
   "cell_type": "code",
   "execution_count": null,
   "metadata": {},
   "outputs": [],
   "source": [
    "S_jour2016=jour2016.copy()\n",
    "S_jour2016=S_jour2016.pivot(index='Neighbourhood',columns='Commuing_Modes',values='Mode Commuting (%)')\n",
    "\n",
    "S_jour2016=S_jour2016.astype(float)\n",
    "S_jour2016.rename(columns={'Bicycle':'Bicycle (%)',\n",
    "                       'Car, truck, van - as a driver':'Car, truck, van - as a driver (%)',\n",
    "                       'Car, truck, van - as a passenger':'Car, truck, van - as a passenger (%)',\n",
    "                       'Other method':'Other method (%)',\n",
    "                       'Public transit':'Public transit (%)',\n",
    "                       'Walked':'Walked (%)'}, inplace=True)\n",
    "\n",
    "S_jour2016['Walked/Bicycle (%)']=S_jour2016['Walked (%)']+S_jour2016['Bicycle (%)']\n",
    "S_jour2016['Car, truck, van (%)']=S_jour2016['Car, truck, van - as a driver (%)']+S_jour2016['Car, truck, van - as a passenger (%)']\n",
    "S_jour2016['Other method (%)']=S_jour2016['Other method (%)']\n",
    "\n",
    "S_jour2016.sort_values([\"Car, truck, van - as a driver (%)\"], inplace=True ,ascending=True)\n",
    "columns_titles = ['Car, truck, van - as a driver (%)','Car, truck, van - as a passenger (%)','Public transit (%)','Bicycle (%)','Walked (%)','Walked/Bicycle (%)','Car, truck, van (%)','Other method (%)']\n",
    "S_jour2016=S_jour2016.reindex(columns=columns_titles)\n",
    "S_jour2016"
   ]
  },
  {
   "cell_type": "code",
   "execution_count": null,
   "metadata": {},
   "outputs": [],
   "source": [
    "a=S_jour2016.copy()\n",
    "a=a['Walked/Bicycle (%)'].reset_index()\n",
    "d=S_jour2016.copy()\n",
    "d=d['Public transit (%)'].reset_index()\n",
    "b=S_jour2016.copy()\n",
    "b=b['Car, truck, van (%)'].reset_index()\n",
    "c=S_jour2016.copy()\n",
    "c=c['Other method (%)'].reset_index()\n",
    "jouney2016 = pd.merge(a,\n",
    "                d,\n",
    "                 on='Neighbourhood')\n",
    "jouney2016 = pd.merge(jouney2016,\n",
    "                b,\n",
    "                 on='Neighbourhood')\n",
    "jouney2016 = pd.merge(jouney2016,\n",
    "                c,\n",
    "                 on='Neighbourhood')\n",
    "jouney2016.set_index('Neighbourhood', inplace=True)\n",
    "jouney2016.tail()"
   ]
  },
  {
   "cell_type": "code",
   "execution_count": null,
   "metadata": {},
   "outputs": [],
   "source": [
    "color_list = ['khaki','sandybrown','steelblue','lightseagreen','lightpink']\n",
    "ax = jouney2016.plot(kind = 'bar',figsize = (20, 8), width = 0.8, color = color_list, edgecolor = None)\n",
    "\n",
    "\n",
    "ax.set_title(\"2016 Mode Commuting to Work \", fontsize = 16)#use font size 16 for the title\n",
    "ax.legend(fontsize='14',facecolor='white')#use font size 14 for legend\n",
    "ax.tick_params(axis='x', labelsize=14)#use font size 14 for axis-lable\n",
    "#ax.set_xlabel('') \n",
    "\n",
    "#Putting the percentage values on top of each bar\n",
    "for p in ax.patches:\n",
    "    ax.annotate(str(p.get_height().round(1)), (p.get_x() * 1.005, p.get_height() * 1.005), fontsize = 14) #use font size 14 for percentages\n",
    "    \n",
    "# remove the left, top, and right borders; make sure the color of x axix labels is black\n",
    "ax.set_facecolor('xkcd:white') # change background to white  #ax.set_facecolor('xkcd:white')\n",
    "ax.set_yticklabels([]) # turn off y ticks\n",
    "ax.tick_params(left=False)\n",
    "ax.axhline(0, color='black') # draw an x axix line \n",
    "ax.tick_params(axis='x', colors='black') # make sure the color of x axix labels is black   \n",
    "\n",
    "ax.spines['left'].set_visible(False)\n",
    "ax.spines['bottom'].set_visible(False)\n",
    "ax.spines['top'].set_visible(False)\n",
    "ax.spines['right'].set_visible(False)"
   ]
  },
  {
   "cell_type": "code",
   "execution_count": null,
   "metadata": {},
   "outputs": [],
   "source": [
    "S_jour2016=jour2016.copy()\n",
    "S_jour2016=S_jour2016.pivot(index='Neighbourhood',columns='Commuing_Modes',values='Mode Commuting (%)')\n",
    "\n",
    "S_jour2016=S_jour2016.astype(float)\n",
    "S_jour2016.rename(columns={'Bicycle':'Bicycle (%)',\n",
    "                       'Car, truck, van - as a driver':'Car, truck, van - as a driver (%)',\n",
    "                       'Car, truck, van - as a passenger':'Car, truck, van - as a passenger (%)',\n",
    "                       'Other method':'Other method (%)',\n",
    "                       'Public transit':'Public transit (%)',\n",
    "                       'Walked':'Walked (%)'}, inplace=True)\n",
    "\n",
    "S_jour2016.sort_values([\"Car, truck, van - as a driver (%)\"], inplace=True ,ascending=True)\n",
    "columns_titles = ['Car, truck, van - as a driver (%)','Car, truck, van - as a passenger (%)','Public transit (%)','Bicycle (%)','Walked (%)',]\n",
    "S_jour2016=S_jour2016.reindex(columns=columns_titles)\n",
    "S_jour2016"
   ]
  },
  {
   "cell_type": "code",
   "execution_count": null,
   "metadata": {},
   "outputs": [],
   "source": [
    "color_list = ['khaki','sandybrown','steelblue','lightseagreen','lightpink']\n",
    "ax = S_jour2016.plot(kind = 'bar',figsize = (20, 8), width = 0.8, color = color_list, edgecolor = None)\n",
    "\n",
    "\n",
    "ax.set_title(\"2016 Mode Commuting to Work \", fontsize = 16)#use font size 16 for the title\n",
    "ax.legend(fontsize='14',facecolor='white')#use font size 14 for legend\n",
    "ax.tick_params(axis='x', labelsize=14)#use font size 14 for axis-lable\n",
    "#ax.set_xlabel('') \n",
    "\n",
    "#Putting the percentage values on top of each bar\n",
    "for p in ax.patches:\n",
    "    ax.annotate(str(p.get_height().round(1)), (p.get_x() * 1.005, p.get_height() * 1.005), fontsize = 14) #use font size 14 for percentages\n",
    "    \n",
    "# remove the left, top, and right borders; make sure the color of x axix labels is black\n",
    "ax.set_facecolor('xkcd:white') # change background to white  #ax.set_facecolor('xkcd:white')\n",
    "ax.set_yticklabels([]) # turn off y ticks\n",
    "ax.tick_params(left=False)\n",
    "ax.axhline(0, color='black') # draw an x axix line \n",
    "ax.tick_params(axis='x', colors='black') # make sure the color of x axix labels is black   \n",
    "\n",
    "ax.spines['left'].set_visible(False)\n",
    "ax.spines['bottom'].set_visible(False)\n",
    "ax.spines['top'].set_visible(False)\n",
    "ax.spines['right'].set_visible(False)"
   ]
  },
  {
   "cell_type": "markdown",
   "metadata": {},
   "source": [
    "## C12. Immigration, language"
   ]
  },
  {
   "cell_type": "markdown",
   "metadata": {},
   "source": [
    "### C12a.Citizenship"
   ]
  },
  {
   "cell_type": "markdown",
   "metadata": {},
   "source": [
    "###### M1c.1 Connect to the database from SQL"
   ]
  },
  {
   "cell_type": "markdown",
   "metadata": {},
   "source": [
    "Import data from SQL SERVER"
   ]
  },
  {
   "cell_type": "code",
   "execution_count": null,
   "metadata": {},
   "outputs": [],
   "source": [
    "#query statement to retrieve all rows in INSTRUCTOR table\n",
    "selectQuery = \"select * from CITIZENSHIP_2016\"\n",
    "\n",
    "#retrieve the query results into a pandas dataframe\n",
    "f_citiz = pandas.read_sql(selectQuery, pconn)\n",
    "\n",
    "#print just the LNAME for first row in the pandas data frame\n",
    "f_citiz.head()"
   ]
  },
  {
   "cell_type": "markdown",
   "metadata": {},
   "source": [
    "### Clean data (Federal census)"
   ]
  },
  {
   "cell_type": "code",
   "execution_count": null,
   "metadata": {},
   "outputs": [],
   "source": [
    "f_citiz.rename(columns={'Name':'Neighbourhood','Citizenship_PT':\"Non-Citizenship over the total neighbourhood's population(%)\"}, inplace=True)\n",
    "f_citiz['Neighbourhood']=f_citiz['Neighbourhood'].str.title()\n",
    "f_citiz.drop(['COE_Citizenship_PT','COE_Citizenship_POP','Calculation1','Citizenship_POP','Nbhd_Num','Number_of_Records','Total_Citizenship'],axis=1, inplace=True)\n",
    "f_citiz['Neighbourhood']=f_citiz['Neighbourhood'].replace({'Macewan':'MacEwan','Central Mcdougall': 'Central McDougall','Mcconachie Area':'McConachie Area'})\n",
    "f_citiz.sort_values(['Neighbourhood'], inplace=True ,ascending=True)\n",
    "\n",
    "\n",
    "citiz2016 = pd.merge(f_citiz,\n",
    "                      desireN[['Neighbourhood']],\n",
    "                      on='Neighbourhood')\n",
    "citiz2016=citiz2016[~citiz2016.Citizenship_Status.str.contains(\"18\")]\n",
    "citiz2016.reset_index(drop=True, inplace=True)\n",
    "citiz2016"
   ]
  },
  {
   "cell_type": "code",
   "execution_count": null,
   "metadata": {},
   "outputs": [],
   "source": [
    "dm1=citiz2016.copy()\n",
    "dm2=desireN.copy()\n",
    "dm1=dm1[['Neighbourhood']]\n",
    "dm2=dm2[['Neighbourhood']]\n",
    "dmiss=dm2[~dm2.apply(tuple,1).isin(dm1.apply(tuple,1))]\n",
    "\n",
    "dmiss.reset_index(drop=True, inplace=True)\n",
    "dmiss.tail()"
   ]
  },
  {
   "cell_type": "code",
   "execution_count": null,
   "metadata": {},
   "outputs": [],
   "source": [
    "citiz2016=citiz2016.pivot(index='Neighbourhood',columns='Citizenship_Status',values=\"Non-Citizenship over the total neighbourhood's population(%)\")\n",
    "citiz2016=citiz2016.astype(float)\n",
    "citiz2016.sort_values([\"Not Canadian citizens\"], inplace=True ,ascending=True)\n",
    "columns_titles = ['Not Canadian citizens','Canadian citizens']\n",
    "citiz2016=citiz2016.reindex(columns=columns_titles)\n",
    "citiz2016"
   ]
  },
  {
   "cell_type": "code",
   "execution_count": null,
   "metadata": {},
   "outputs": [],
   "source": [
    "color_list = ['yellowgreen','green']\n",
    "\n",
    "ax = citiz2016.plot.barh(stacked=True,figsize = (15, 5), width = 0.8, color = color_list, align='center', edgecolor = None);\n",
    "\n",
    "\n",
    "\n",
    "ax.set_title(\"2016 Non-Citizenship\", fontsize = 11)#use font size 16 for the title\n",
    "ax.legend(fontsize='10',facecolor='white',loc=\"lower right\")#use font size 14 for legend\n",
    "ax.tick_params(axis='x', labelsize=14)#use font size 14 for axis-lable\n",
    "ax.set_xlabel(\"Percentage of Non-Citizenship over the total neighbourhood's population\") \n",
    "ax.spines['left'].set_visible(True)\n",
    "ax.spines['bottom'].set_visible(True)\n",
    "ax.spines['top'].set_visible(False)\n",
    "ax.spines['right'].set_visible(False)\n",
    "\n",
    "for p in ax.patches:\n",
    "    left, bottom, width, height = p.get_bbox().bounds\n",
    "    ax.annotate(str(width.round(1))+'%', xy=(left+width/2, bottom+height/2), \n",
    "                ha='center', va='center')\n",
    "    \n",
    "#ax.set_xlim(0, 35)\n",
    "    \n",
    "# remove the left, top, and right borders; make sure the color of x axix labels is black\n",
    "ax.set_facecolor('xkcd:white') # change background to white  #ax.set_facecolor('xkcd:white')\n",
    "#ax.set_xticklabels([]) # turn off y ticks\n",
    "ax.tick_params(left=False)\n",
    "ax.axvline(13.1, color='black',linestyle='dashed', alpha=0.5) # draw an x axix line \n",
    "ax.text(10, y=0, s='Non-Citizenship over the total citywise population is 13.1%', alpha=0.7, color='white')\n",
    "\n",
    "ax.tick_params(axis='x', colors='black') # make sure the color of x axix labels is black    \n"
   ]
  },
  {
   "cell_type": "markdown",
   "metadata": {},
   "source": [
    "### C12b. Place of Birth"
   ]
  },
  {
   "cell_type": "code",
   "execution_count": null,
   "metadata": {},
   "outputs": [],
   "source": [
    "#query statement to retrieve all rows in INSTRUCTOR table\n",
    "selectQuery = \"select * from PLACEBIRTH_2016\"\n",
    "\n",
    "#retrieve the query results into a pandas dataframe\n",
    "f_PlBir = pandas.read_sql(selectQuery, pconn)\n",
    "\n",
    "#print just the LNAME for first row in the pandas data frame\n",
    "f_PlBir.head()"
   ]
  },
  {
   "cell_type": "markdown",
   "metadata": {},
   "source": [
    "### Clean data (Federal census)"
   ]
  },
  {
   "cell_type": "code",
   "execution_count": null,
   "metadata": {},
   "outputs": [],
   "source": [
    "f_PlBir.rename(columns={'Name':'Neighbourhood','Pob_Pt':\"Neighbourhood's population percentage\"}, inplace=True)\n",
    "f_PlBir['Neighbourhood']=f_PlBir['Neighbourhood'].str.title()\n",
    "f_PlBir.drop(['COE_Immigr_POP','Coe_Pob_Pop','Coe_Pob_Pt','ZeroAxis','Number_of_Records','Pob_Pop','Total_Immigrants'],axis=1, inplace=True)\n",
    "f_PlBir['Neighbourhood']=f_PlBir['Neighbourhood'].replace({'Macewan':'MacEwan','Central Mcdougall': 'Central McDougall','Mcconachie Area':'McConachie Area'})\n",
    "f_PlBir.sort_values(['Neighbourhood'], inplace=True ,ascending=True)\n",
    "\n",
    "\n",
    "PlBir2016 = pd.merge(f_PlBir,\n",
    "                      desireN[['Neighbourhood']],\n",
    "                      on='Neighbourhood')\n",
    "\n",
    "PlBir2016.reset_index(drop=True, inplace=True)\n",
    "PlBir2016.head()"
   ]
  },
  {
   "cell_type": "code",
   "execution_count": null,
   "metadata": {},
   "outputs": [],
   "source": [
    "dm1=PlBir2016.copy()\n",
    "dm2=desireN.copy()\n",
    "dm1=dm1[['Neighbourhood']]\n",
    "dm2=dm2[['Neighbourhood']]\n",
    "dmiss=dm2[~dm2.apply(tuple,1).isin(dm1.apply(tuple,1))]\n",
    "\n",
    "dmiss.reset_index(drop=True, inplace=True)\n",
    "dmiss.tail()"
   ]
  },
  {
   "cell_type": "code",
   "execution_count": null,
   "metadata": {},
   "outputs": [],
   "source": [
    "PlBir2016=PlBir2016.pivot(index='Neighbourhood',columns='Place_Of_Birth',values=\"Neighbourhood's population percentage\")\n",
    "PlBir2016=PlBir2016.astype(float)\n",
    "PlBir2016.sort_values([\"Asia\"], inplace=True ,ascending=True)\n",
    "columns_titles = ['Asia','Europe','Africa','Americas','Oceania and other places of birth']\n",
    "PlBir2016=PlBir2016.reindex(columns=columns_titles)\n",
    "PlBir2016"
   ]
  },
  {
   "cell_type": "code",
   "execution_count": null,
   "metadata": {},
   "outputs": [],
   "source": [
    "color_list = ['khaki','sandybrown','steelblue','lightseagreen','lightpink']\n",
    "ax = PlBir2016.plot(kind = 'bar',figsize = (20, 8), width = 0.8, color = color_list, edgecolor = None)\n",
    "\n",
    "\n",
    "ax.set_title(\"2016 Immigrant Population by Place of Birth \", fontsize = 16)#use font size 16 for the title\n",
    "ax.legend(fontsize='14',facecolor='white')#use font size 14 for legend\n",
    "ax.tick_params(axis='x', labelsize=14)#use font size 14 for axis-lable\n",
    "#ax.set_xlabel('') \n",
    "\n",
    "#Putting the percentage values on top of each bar\n",
    "for p in ax.patches:\n",
    "    ax.annotate(str(p.get_height().round(1))+'%', (p.get_x() * 1.005, p.get_height() * 1.005), fontsize = 14) #use font size 14 for percentages\n",
    "    \n",
    "# remove the left, top, and right borders; make sure the color of x axix labels is black\n",
    "ax.set_facecolor('xkcd:white') # change background to white  #ax.set_facecolor('xkcd:white')\n",
    "ax.set_yticklabels([]) # turn off y ticks\n",
    "ax.tick_params(left=False)\n",
    "ax.axhline(0, color='black') # draw an x axix line \n",
    "ax.tick_params(axis='x', colors='black') # make sure the color of x axix labels is black   \n",
    "\n",
    "ax.spines['left'].set_visible(False)\n",
    "ax.spines['bottom'].set_visible(False)\n",
    "ax.spines['top'].set_visible(False)\n",
    "ax.spines['right'].set_visible(False)"
   ]
  },
  {
   "cell_type": "markdown",
   "metadata": {},
   "source": [
    "### C12d. Language"
   ]
  },
  {
   "cell_type": "code",
   "execution_count": null,
   "metadata": {},
   "outputs": [],
   "source": [
    "#query statement to retrieve all rows in INSTRUCTOR table\n",
    "selectQuery = \"select * from LANGUAGE_2016\"\n",
    "\n",
    "#retrieve the query results into a pandas dataframe\n",
    "f_langu = pandas.read_sql(selectQuery, pconn)\n",
    "\n",
    "#print just the LNAME for first row in the pandas data frame\n",
    "f_langu.head()"
   ]
  },
  {
   "cell_type": "markdown",
   "metadata": {},
   "source": [
    "### Clean data (Federal census)"
   ]
  },
  {
   "cell_type": "code",
   "execution_count": null,
   "metadata": {},
   "outputs": [],
   "source": [
    "f_langu.rename(columns={'NAME':'Neighbourhood','MotherTong_ForTop5_Percentage':\"MotherTong_Top5 (%)\"}, inplace=True)\n",
    "f_langu['Neighbourhood']=f_langu['Neighbourhood'].str.title()\n",
    "f_langu.drop(['MotherTong_ForTop5_POP','Nbhd_Num'],axis=1, inplace=True)\n",
    "f_langu['Neighbourhood']=f_langu['Neighbourhood'].replace({'Macewan':'MacEwan','Central Mcdougall': 'Central McDougall','Mcconachie Area':'McConachie Area'})\n",
    "f_langu.sort_values(['Neighbourhood'], inplace=True ,ascending=True)\n",
    "\n",
    "\n",
    "language2016 = pd.merge(f_langu,\n",
    "                      desireN[['Neighbourhood']],\n",
    "                      on='Neighbourhood')\n",
    "\n",
    "language2016.reset_index(drop=True, inplace=True)\n",
    "language2016.head()"
   ]
  },
  {
   "cell_type": "code",
   "execution_count": null,
   "metadata": {},
   "outputs": [],
   "source": [
    "dm1=language2016.copy()\n",
    "dm2=desireN.copy()\n",
    "dm1=dm1[['Neighbourhood']]\n",
    "dm2=dm2[['Neighbourhood']]\n",
    "dmiss=dm2[~dm2.apply(tuple,1).isin(dm1.apply(tuple,1))]\n",
    "\n",
    "dmiss.reset_index(drop=True, inplace=True)\n",
    "dmiss.tail()"
   ]
  },
  {
   "cell_type": "code",
   "execution_count": null,
   "metadata": {},
   "outputs": [],
   "source": [
    "lang2016=language2016.copy()\n",
    "lang2016=lang2016.pivot(index='Neighbourhood',columns='Mother_Tongue_Language',values=\"MotherTong_Top5 (%)\")\n",
    "lang2016=lang2016.astype(float)\n",
    "columns_titles = ['English','Mandarin','Cantonese','Tagalog (Pilipino, Filipino)','Korean','Spanish','French','German','Persian (Farsi)']\n",
    "lang2016=lang2016.reindex(columns=columns_titles)\n",
    "lang2016=lang2016.fillna(0)\n",
    "lang2016.sort_values([\"English\"], inplace=True ,ascending=True)\n",
    "lang2016"
   ]
  },
  {
   "cell_type": "code",
   "execution_count": null,
   "metadata": {},
   "outputs": [],
   "source": [
    "#fig, ax = plt.subplots()\n",
    "\n",
    "fig, ax = plt.subplots(figsize=(40,15))\n",
    "ax = sns.heatmap(lang2016,vmin=0, vmax=10,annot = lang2016,fmt = '',linewidths=1, linecolor='white',cbar=False,cmap=\"RdYlGn\",)\n",
    "\n",
    "#sns.set(font_scale=2)\n",
    "ax.set_xticklabels(ax.get_xticklabels(), rotation=30,fontsize = 25)\n",
    "ax.set_yticklabels(ax.get_yticklabels(), rotation=30,fontsize = 25)\n",
    "\n",
    "plt.xlabel(\"The frequency of occurrence of each category (%)\",fontsize = 25)\n",
    "#sns.heatmap(z, annot=False)"
   ]
  },
  {
   "cell_type": "code",
   "execution_count": null,
   "metadata": {},
   "outputs": [],
   "source": [
    "language2016=language2016.pivot(index='Neighbourhood',columns='Mother_Tongue_Language',values=\"MotherTong_Top5 (%)\")\n",
    "language2016=language2016.astype(float)\n",
    "columns_titles = ['Mandarin','Cantonese','Tagalog (Pilipino, Filipino)','Korean','Spanish','French','German','Persian (Farsi)']\n",
    "language2016=language2016.reindex(columns=columns_titles)\n",
    "language2016=language2016.fillna(0)\n",
    "language2016.sort_values([\"Mandarin\"], inplace=True ,ascending=True)\n",
    "language2016"
   ]
  },
  {
   "cell_type": "code",
   "execution_count": null,
   "metadata": {},
   "outputs": [],
   "source": [
    "color_list = ['khaki','khaki','steelblue','lightseagreen','sandybrown','darkorange','chocolate','lightpink']\n",
    "\n",
    "ax = language2016.plot.barh(stacked=True,figsize = (15, 5), width = 0.8, color = color_list, align='center', edgecolor = None);\n",
    "\n",
    "\n",
    "\n",
    "ax.set_title(\"2016 Non-Citizenship\", fontsize = 11)#use font size 16 for the title\n",
    "ax.legend(fontsize='10',facecolor='white',loc=\"lower right\")#use font size 14 for legend\n",
    "ax.tick_params(axis='x', labelsize=14)#use font size 14 for axis-lable\n",
    "ax.set_xlabel(\"Percentage of Non-Citizenship over the total neighbourhood's population\") \n",
    "ax.spines['left'].set_visible(True)\n",
    "ax.spines['bottom'].set_visible(True)\n",
    "ax.spines['top'].set_visible(False)\n",
    "ax.spines['right'].set_visible(False)\n",
    "\n",
    "for p in ax.patches:\n",
    "    left, bottom, width, height = p.get_bbox().bounds\n",
    "    ax.annotate(str(width.round(1))+'%', xy=(left+width/2, bottom+height/2), \n",
    "                ha='center', va='center')\n",
    "    \n",
    "#ax.set_xlim(0, 35)\n",
    "    \n",
    "# remove the left, top, and right borders; make sure the color of x axix labels is black\n",
    "ax.set_facecolor('xkcd:white') # change background to white  #ax.set_facecolor('xkcd:white')\n",
    "#ax.set_xticklabels([]) # turn off y ticks\n",
    "ax.tick_params(left=False)\n",
    "ax.axvline(13.1, color='black',linestyle='dashed', alpha=0.5) # draw an x axix line \n",
    "ax.text(10, y=0, s='Non-Citizenship over the total citywise population is 13.1%', alpha=0.7, color='white')\n",
    "\n",
    "ax.tick_params(axis='x', colors='black') # make sure the color of x axix labels is black    \n"
   ]
  },
  {
   "cell_type": "code",
   "execution_count": null,
   "metadata": {},
   "outputs": [],
   "source": [
    "color_list = ['khaki','sandybrown','steelblue','lightseagreen','lightpink']\n",
    "ax = language2016.plot(kind = 'bar',figsize = (20, 8), width = 0.8, color = color_list, edgecolor = None)\n",
    "\n",
    "\n",
    "ax.set_title(\"2016 Immigrant Population by Place of Birth \", fontsize = 16)#use font size 16 for the title\n",
    "ax.legend(fontsize='14',facecolor='white')#use font size 14 for legend\n",
    "ax.tick_params(axis='x', labelsize=14)#use font size 14 for axis-lable\n",
    "#ax.set_xlabel('') \n",
    "\n",
    "#Putting the percentage values on top of each bar\n",
    "for p in ax.patches:\n",
    "    ax.annotate(str(p.get_height().round(1))+'%', (p.get_x() * 1.005, p.get_height() * 1.005), fontsize = 14) #use font size 14 for percentages\n",
    "    \n",
    "# remove the left, top, and right borders; make sure the color of x axix labels is black\n",
    "ax.set_facecolor('xkcd:white') # change background to white  #ax.set_facecolor('xkcd:white')\n",
    "ax.set_yticklabels([]) # turn off y ticks\n",
    "ax.tick_params(left=False)\n",
    "ax.axhline(0, color='black') # draw an x axix line \n",
    "ax.tick_params(axis='x', colors='black') # make sure the color of x axix labels is black   \n",
    "\n",
    "ax.spines['left'].set_visible(False)\n",
    "ax.spines['bottom'].set_visible(False)\n",
    "ax.spines['top'].set_visible(False)\n",
    "ax.spines['right'].set_visible(False)"
   ]
  },
  {
   "cell_type": "markdown",
   "metadata": {},
   "source": [
    "## Ca. Bussiness revitalization zone\n",
    "Reference:    \n",
    "Note: The name BRZ was changed to BIA on July 1, 2016\n",
    " - https://tram.mcgill.ca/Teaching/srp/documents/Ilja.pdf General idea what is BIA\n",
    " - https://www.edmonton.ca/business_economy/business_resources/business-improvement-areas.aspx Edmonton BIA info\n",
    " - https://www.edmonton.ca/business_economy/business_resources/business-improvement-area-contacts.aspx detail of wach BIA zone\n",
    " - https://www.edmonton.ca/business_economy/documents/BIAmap2018.pdf 2018 BIA ZONE\n",
    " - https://www.edmonton.ca/city_government/documents/PDF/04110_Business_Revitalization_Zone_Area.pdf 2015 BRZ ZONE"
   ]
  },
  {
   "cell_type": "markdown",
   "metadata": {},
   "source": [
    "### Ca.1 HEAT MAP - BIA zone"
   ]
  },
  {
   "cell_type": "markdown",
   "metadata": {},
   "source": [
    "1. Method to creat your own GeoJson file\n",
    " - http://blog.infographics.tw/2016/01/draw-map-with-geojson-io/\n",
    "2. After obtaining all geometries, save as GeoJson, then upload the file on Github\n",
    "3. Method to read GeoJson files create from http://geojson.io/    \n",
    " - https://stackoverflow.com/questions/60219180/importing-json-file-from-github-into-python-getting-error-jsondecodeerror-exp\n",
    " \n",
    " Reference:\n",
    " - https://data.edmonton.ca/Sustainable-Development/Business-Improvement-Areas-Business-Licenses/eqs3-bp4i\n",
    " - https://data.edmonton.ca/Geospatial-Boundaries/Business-Improvement-Areas/34cp-nvx7"
   ]
  },
  {
   "cell_type": "code",
   "execution_count": null,
   "metadata": {},
   "outputs": [],
   "source": [
    "import geopandas as gpd\n",
    "#response = requests.get(r\"https://raw.githubusercontent.com/cgao2/BIA-map-/master/BIA_MAP.geojson\") #create by me\n",
    "response = requests.get(r\"https://data.edmonton.ca/api/geospatial/34cp-nvx7?method=export&format=GeoJSON\") #provde by city of Edmonton\n",
    "\n",
    "data = response.json()\n",
    "BIA = gpd.GeoDataFrame.from_features(data, crs='EPSG:4326')\n",
    "\n",
    "BIA#.head()"
   ]
  },
  {
   "cell_type": "code",
   "execution_count": null,
   "metadata": {},
   "outputs": [],
   "source": [
    "#dataward = {'name':  ['124 Street and Area BIA', 'Alberta Avenue BIA', 'Beverly BIA','Chinatown and Area BIA', 'Downtown BIA','Fort Road and Area BIA', 'French Quarter and Area BIA','Kingsway BIA', 'North Edge BIA','Northwest Industrial BIA', 'Old Strathcona BIA','Stony Plain Road and Area BIA','The Crossroads BIA'],\n",
    "#        'BIA_ID': [1,2,3,4,5,6,7,8,9,10,11,12,13],\n",
    "#        }\n",
    "dataward = {'name':  ['124 Street and Area', 'Alberta Avenue', 'Beverly','Chinatown and Area', 'Downtown','Fort Road and Area', 'French Quarter and Area','Kingsway', 'North Edge','Northwest Industrial', 'Old Strathcona','Stony Plain Road and Area','The Crossroads'],\n",
    "        'BIA_ID': list(range(1,len(BIA)+1))\n",
    "        }\n",
    "\n",
    "df_BIA = pd.DataFrame (dataward, columns = ['name','BIA_ID'])\n",
    "df_BIA#.head()"
   ]
  },
  {
   "cell_type": "code",
   "execution_count": null,
   "metadata": {},
   "outputs": [],
   "source": [
    "BIAmerge = pd.merge(BIA,\n",
    "                df_BIA,\n",
    "                 on='name')\n",
    "BIAmerge"
   ]
  },
  {
   "cell_type": "code",
   "execution_count": null,
   "metadata": {},
   "outputs": [],
   "source": [
    "import geopandas as gpd\n",
    "response = requests.get(r\"https://data.edmonton.ca/api/geospatial/tvcx-3vrx?method=export&format=GeoJSON\")\n",
    "data = response.json()\n",
    "NeisA = gpd.GeoDataFrame.from_features(data, crs='EPSG:4326')\n",
    "\n",
    "NeisA.tail()"
   ]
  },
  {
   "cell_type": "code",
   "execution_count": null,
   "metadata": {},
   "outputs": [],
   "source": [
    "NeisA.rename(columns={'name':'Neighbourhood'}, inplace=True)\n",
    "NeiAmerge = pd.merge(NeisA,\n",
    "                #dtopNei,\n",
    "                     desireN[['Neighbourhood']],\n",
    "                 on='Neighbourhood')\n",
    "NeiAmerge.drop(['area_km2','number'],axis=1, inplace=True)\n",
    "NeiAmerge.rename(columns={'Neighbourhood':'name'}, inplace=True)\n",
    "NeiAmerge['BIA_ID']=[1]*len(NeiAmerge)\n",
    "NeiAmerge.tail()"
   ]
  },
  {
   "cell_type": "markdown",
   "metadata": {},
   "source": [
    "NeiBIAmerge = NeiAmerge.append(BIAmerge, ignore_index=True)"
   ]
  },
  {
   "cell_type": "code",
   "execution_count": null,
   "metadata": {},
   "outputs": [],
   "source": [
    "import branca.colormap as cm\n",
    "#colormap = cm.linear.YlGnBu_09\n",
    "colormap = cm.linear.Paired_12.scale(BIAmerge['BIA_ID'].min(), BIAmerge['BIA_ID'].max()).to_step(BIAmerge['BIA_ID'].max()) \n",
    "colormap"
   ]
  },
  {
   "cell_type": "code",
   "execution_count": null,
   "metadata": {},
   "outputs": [],
   "source": [
    "from folium.features import GeoJson, GeoJsonTooltip, GeoJsonPopup\n",
    "\n",
    "# create a plain world map\n",
    "edm_map = folium.Map(location=[latitude, longitude], zoom_start=10, tiles='CartoDB positron') #, tiles = 'Stamen Toner')\n",
    "\n",
    "\n",
    "style_function = lambda x: {\"weight\":0.5, \n",
    "                            'color':'black',\n",
    "                            'fillColor':colormap(x['properties']['BIA_ID']), \n",
    "                            'fillOpacity':0.75}\n",
    "highlight_function = lambda x: {'fillColor': '#000000', \n",
    "                                'color':'#000000', \n",
    "                                'fillOpacity': 0.50, \n",
    "                                'weight': 0.1}\n",
    "\n",
    "\n",
    "\n",
    "# tooltip=folium.features.GeoJsonTooltip(fields=['Ward','WardID'],\n",
    "#            aliases=['Ward','Ward number'],\n",
    "#            style=(\"background-color: white; color: #333333; font-family: arial; font-size: 12px; padding: 10px;\"),\n",
    "#            sticky=True\n",
    "#        )\n",
    "\n",
    "\n",
    "g = folium.GeoJson(\n",
    "    BIAmerge,\n",
    "    style_function=style_function,\n",
    "    control=False,\n",
    "    highlight_function=highlight_function,\n",
    "    tooltip=folium.features.GeoJsonTooltip(\n",
    "        fields=['name','BIA_ID'],\n",
    "        aliases=['name','BIA ID'],\n",
    "        style=(\"background-color: white; color: #333333; font-family: arial; font-size: 12px; padding: 10px;\"),\n",
    "        sticky=True\n",
    "        )).add_to(edm_map)\n",
    "folium.GeoJson(\n",
    "    NeiAmerge,\n",
    "    style_function = lambda x: {\n",
    "        'color': 'black',\n",
    "        'weight': 2.5,\n",
    "        'fillOpacity': 0\n",
    "    }).add_to(edm_map)\n",
    "colormap.add_to(edm_map)\n",
    "\n",
    "#edm_map"
   ]
  },
  {
   "cell_type": "code",
   "execution_count": null,
   "metadata": {},
   "outputs": [],
   "source": [
    "from branca.element import Template, MacroElement\n",
    "\n",
    "template = \"\"\"\n",
    "{% macro html(this, kwargs) %}\n",
    "\n",
    "<!doctype html>\n",
    "<html lang=\"en\">\n",
    "<head>\n",
    "  <meta charset=\"utf-8\">\n",
    "  <meta name=\"viewport\" content=\"width=device-width, initial-scale=1\">\n",
    "  <title>jQuery UI Draggable - Default functionality</title>\n",
    "  <link rel=\"stylesheet\" href=\"//code.jquery.com/ui/1.12.1/themes/base/jquery-ui.css\">\n",
    "\n",
    "  <script src=\"https://code.jquery.com/jquery-1.12.4.js\"></script>\n",
    "  <script src=\"https://code.jquery.com/ui/1.12.1/jquery-ui.js\"></script>\n",
    "  \n",
    "  <script>\n",
    "  $( function() {\n",
    "    $( \"#maplegend\" ).draggable({\n",
    "                    start: function (event, ui) {\n",
    "                        $(this).css({\n",
    "                            right: \"auto\",\n",
    "                            top: \"auto\",\n",
    "                            bottom: \"auto\"\n",
    "                        });\n",
    "                    }\n",
    "                });\n",
    "});\n",
    "\n",
    "  </script>\n",
    "</head>\n",
    "<body>\n",
    "\n",
    " \n",
    "<div id='maplegend' class='maplegend' \n",
    "    style='position: absolute; z-index:9999; border:2px solid grey; background-color:rgba(255, 255, 255, 0.8);\n",
    "     border-radius:6px; padding: 10px; font-size:14px; right: 20px; bottom: 20px;'>\n",
    "     \n",
    "<div class='legend-title'>Business Improvement Area (BIA)</div>\n",
    "<div class='legend-scale'>\n",
    "  <ul class='legend-labels'>\n",
    "    <li><span style='background:#a6cee3;opacity:0.7;'></span>124 Street Area</li>\n",
    "    <li><span style='background:#1f78b4;opacity:0.7;'></span>Alberta Avenue</li>\n",
    "    <li><span style='background:#b2df8a;opacity:0.7;'></span>Beverly</li>\n",
    "    <li><span style='background:#33a02c;opacity:0.7;'></span>Chinatown Area</li>\n",
    "    \n",
    "    <li><span style='background:#dfc27d;opacity:0.7;'></span>Downtown</li>\n",
    "    <li><span style='background:tomato;opacity:0.7;'></span>Fort Road Area</li>\n",
    "    <li><span style='background:chocolate;opacity:0.7;'></span>French Quarter Area</li>\n",
    "    <li><span style='background:orange;opacity:0.7;'></span>Kingsway</li>\n",
    "    <li><span style='background:darkorange;opacity:0.7;'></span>North Edge</li>\n",
    "    \n",
    "    <li><span style='background:#cab2d6;opacity:0.7;'></span>Northwest Industrial</li>\n",
    "    <li><span style='background:#6a3d9a;opacity:0.7;'></span>Old Strathcona</li>\n",
    "    <li><span style='background:#ffff99;opacity:0.7;'></span>Stony Plain Road Area</li>\n",
    "    <li><span style='background:#b15928;opacity:0.7;'></span>The Crossroads</li>\n",
    "    \n",
    "\n",
    "\n",
    "  </ul>\n",
    "</div>\n",
    "</div>\n",
    " \n",
    "</body>\n",
    "</html>\n",
    "\n",
    "<style type='text/css'>\n",
    "  .maplegend .legend-title {\n",
    "    text-align: left;\n",
    "    margin-bottom: 5px;\n",
    "    font-weight: bold;\n",
    "    font-size: 90%;\n",
    "    }\n",
    "  .maplegend .legend-scale ul {\n",
    "    margin: 0;\n",
    "    margin-bottom: 5px;\n",
    "    padding: 0;\n",
    "    float: left;\n",
    "    list-style: none;\n",
    "    }\n",
    "  .maplegend .legend-scale ul li {\n",
    "    font-size: 80%;\n",
    "    list-style: none;\n",
    "    margin-left: 0;\n",
    "    line-height: 18px;\n",
    "    margin-bottom: 2px;\n",
    "    }\n",
    "  .maplegend ul.legend-labels li span {\n",
    "    display: block;\n",
    "    float: left;\n",
    "    height: 16px;\n",
    "    width: 30px;\n",
    "    margin-right: 5px;\n",
    "    margin-left: 0;\n",
    "    border: 1px solid #999;\n",
    "    }\n",
    "  .maplegend .legend-source {\n",
    "    font-size: 80%;\n",
    "    color: #777;\n",
    "    clear: both;\n",
    "    }\n",
    "  .maplegend a {\n",
    "    color: #777;\n",
    "    }\n",
    "</style>\n",
    "{% endmacro %}\"\"\"\n",
    "\n",
    "macro = MacroElement()\n",
    "macro._template = Template(template)\n",
    "\n",
    "edm_map.get_root().add_child(macro)\n",
    "\n",
    "edm_map"
   ]
  },
  {
   "cell_type": "code",
   "execution_count": null,
   "metadata": {},
   "outputs": [],
   "source": []
  },
  {
   "cell_type": "code",
   "execution_count": null,
   "metadata": {},
   "outputs": [],
   "source": [
    "scoreBIA = {'Neighbourhood':  ['Westmount','Oliver','Downtown','Queen Alexandra','Strathcona','Paisley','Empire Park'],\n",
    "        'BIA score': [1,1,1,1,1,0,0]\n",
    "        }\n",
    "\n",
    "dw_BIA = pd.DataFrame (scoreBIA, columns = ['Neighbourhood','BIA score'])\n",
    "dw_BIA"
   ]
  },
  {
   "cell_type": "markdown",
   "metadata": {},
   "source": [
    "## Cb. Bussiness zoning bylaw"
   ]
  },
  {
   "cell_type": "markdown",
   "metadata": {},
   "source": [
    "### Cb.1 Visualized resturant/special food permit in residential zones and commercial zones\n",
    "1. Most Residential Zones\n",
    "2. All Industrial Zones\n",
    "3. All Urban Service Zones\n",
    "4. All Agricultural and Reserve Zones      \n",
    "\n",
    "**are not counted in the following discussion**  "
   ]
  },
  {
   "cell_type": "code",
   "execution_count": null,
   "metadata": {},
   "outputs": [],
   "source": [
    "import geopandas as gpd\n",
    "response = requests.get(r\"https://data.edmonton.ca/api/geospatial/b4f2-gf2b?method=export&format=GeoJSON\") #provde by city of Edmonton\n",
    "\n",
    "data = response.json()\n",
    "BIA = gpd.GeoDataFrame.from_features(data, crs='EPSG:4326')\n",
    "\n",
    "BIA.head()"
   ]
  },
  {
   "cell_type": "code",
   "execution_count": null,
   "metadata": {},
   "outputs": [],
   "source": [
    "a=BIA[BIA.descript.str.contains(\"Commercial\")]\n",
    "a=a.append(BIA[BIA.descript.str.contains(\"Business\")], ignore_index=True)\n",
    "a=a.append(BIA[BIA.descript.str.contains(\"Corridor\")], ignore_index=True)\n",
    "a=a.append(BIA[BIA.descript.str.contains(\"Shopping\")], ignore_index=True)\n",
    "a=a.append(BIA[BIA.zoning.str.contains(\"UW\")], ignore_index=True)\n",
    "a=a.append(BIA[BIA.descript.str.contains(\"Griesbach Village Centre Zone\")], ignore_index=True)\n",
    "a=a.append(BIA[BIA.descript.str.contains(\"Heritage Area Zone\")], ignore_index=True)\n",
    "a=a.append(BIA[BIA.descript.str.contains(\"Marquis\")], ignore_index=True)\n",
    "a=a.append(BIA[BIA.descript.str.contains(\"Mixed Use Zone\")], ignore_index=True)\n",
    "a=a.append(BIA[BIA.descript.str.contains(\"Arena and Entertainment District Zone\")], ignore_index=True)\n",
    "\n",
    "a=a[~a.descript.str.contains(\"Industrial\")]\n",
    "a=a[~a.zoning.str.contains(\"MA3\")]\n",
    "#a['id']=a['id'].astype(int)\n",
    "\n",
    "a['ID']=[1]*len(a)\n",
    "#a = pd.merge(a, b[['zoning','ID']],on='zoning')\n",
    "a.tail()"
   ]
  },
  {
   "cell_type": "code",
   "execution_count": null,
   "metadata": {},
   "outputs": [],
   "source": [
    "a1=BIA[BIA.zoning.str.contains(\"DC1\")]\n",
    "a1=a1.append(BIA[BIA.zoning.str.contains(\"DC2\")], ignore_index=True)\n",
    "\n",
    "a1['ID']=[2]*len(a1)\n",
    "a1.tail()"
   ]
  },
  {
   "cell_type": "code",
   "execution_count": null,
   "metadata": {},
   "outputs": [],
   "source": [
    "b=BIA[BIA.zoning.str.contains(\"RA7\")]\n",
    "b=b.append(BIA[BIA.zoning.str.contains(\"RA8\")], ignore_index=True)\n",
    "b=b.append(BIA[BIA.zoning.str.contains(\"RA9\")], ignore_index=True)\n",
    "b=b.append(BIA[BIA.zoning.str.contains(\"BLMR\")], ignore_index=True)\n",
    "b=b.append(BIA[BIA.zoning.str.contains(\"CCHD\")], ignore_index=True)\n",
    "b=b.append(BIA[BIA.zoning.str.contains(\"CCMD\")], ignore_index=True)\n",
    "b=b[~b.descript.str.contains(\"Ambleside Low Rise Apartment Zone\")]\n",
    "\n",
    "\n",
    "b['ID']=[3]*len(b)\n",
    "b.tail()"
   ]
  },
  {
   "cell_type": "code",
   "execution_count": null,
   "metadata": {},
   "outputs": [],
   "source": [
    "c=a.append([a1,b], ignore_index=True)"
   ]
  },
  {
   "cell_type": "code",
   "execution_count": null,
   "metadata": {},
   "outputs": [],
   "source": [
    "import geopandas as gpd\n",
    "response = requests.get(r\"https://data.edmonton.ca/api/geospatial/tvcx-3vrx?method=export&format=GeoJSON\")\n",
    "data = response.json()\n",
    "NeisA = gpd.GeoDataFrame.from_features(data, crs='EPSG:4326')\n",
    "\n",
    "NeisA.tail()"
   ]
  },
  {
   "cell_type": "code",
   "execution_count": null,
   "metadata": {},
   "outputs": [],
   "source": [
    "NeisA.rename(columns={'name':'Neighbourhood'}, inplace=True)\n",
    "NeiAmerge = pd.merge(NeisA,\n",
    "                     desireN[['Neighbourhood']],\n",
    "                 on='Neighbourhood')\n",
    "NeiAmerge.drop(['area_km2','number'],axis=1, inplace=True)\n",
    "NeiAmerge.rename(columns={'Neighbourhood':'descript'}, inplace=True)\n",
    "NeiAmerge['ID']=[4]*len(NeiAmerge)\n",
    "NeiAmerge['zoning']=['Neighbourhood']*len(NeiAmerge)\n",
    "NeiAmerge"
   ]
  },
  {
   "cell_type": "code",
   "execution_count": null,
   "metadata": {},
   "outputs": [],
   "source": [
    "NeiBIAmerge = c.append(NeiAmerge, ignore_index=True)\n",
    "NeiBIAmerge.tail(10)"
   ]
  },
  {
   "cell_type": "code",
   "execution_count": null,
   "metadata": {},
   "outputs": [],
   "source": [
    "import branca.colormap as cm\n",
    "#colormap = cm.linear.YlGnBu_09\n",
    "colormap = cm.linear.Paired_09.scale(0, NeiBIAmerge['ID'].max()).to_step(4) \n",
    "colormap"
   ]
  },
  {
   "cell_type": "code",
   "execution_count": null,
   "metadata": {},
   "outputs": [],
   "source": [
    "from folium.features import GeoJson, GeoJsonTooltip, GeoJsonPopup\n",
    "\n",
    "# create a plain world map\n",
    "edm_map = folium.Map(location=[latitude, longitude], zoom_start=10, tiles='CartoDB positron')\n",
    "\n",
    "\n",
    "style_function = lambda x: {\"weight\":0.5, \n",
    "                            'color':'black',\n",
    "                            'fillColor':colormap(x['properties']['ID']), \n",
    "                            'fillOpacity':0.75}\n",
    "highlight_function = lambda x: {'fillColor': '#000000', \n",
    "                                'color':'#000000', \n",
    "                                'fillOpacity': 0.50, \n",
    "                                'weight': 0.1}\n",
    "\n",
    "\n",
    "\n",
    "# tooltip=folium.features.GeoJsonTooltip(fields=['Ward','WardID'],\n",
    "#            aliases=['Ward','Ward number'],\n",
    "#            style=(\"background-color: white; color: #333333; font-family: arial; font-size: 12px; padding: 10px;\"),\n",
    "#            sticky=True\n",
    "#        )\n",
    "\n",
    "\n",
    "g = folium.GeoJson(\n",
    "    NeiBIAmerge,\n",
    "    style_function=style_function,\n",
    "    control=False,\n",
    "    highlight_function=highlight_function,\n",
    "    tooltip=folium.features.GeoJsonTooltip(\n",
    "        fields=['zoning','descript','ID'],\n",
    "        aliases=['zoning','descript','ID'],\n",
    "        style=(\"background-color: white; color: #333333; font-family: arial; font-size: 12px; padding: 10px;\"),\n",
    "        sticky=True\n",
    "        )).add_to(edm_map)\n",
    "\n",
    "colormap.add_to(edm_map)\n",
    "\n",
    "edm_map"
   ]
  },
  {
   "cell_type": "markdown",
   "metadata": {},
   "source": [
    "## C11. Food license visualization\n",
    "Reference:\n",
    " - https://data.edmonton.ca/Sustainable-Development/City-of-Edmonton-Business-Licenses/qhi4-bdpu/data"
   ]
  },
  {
   "cell_type": "code",
   "execution_count": null,
   "metadata": {},
   "outputs": [],
   "source": [
    "d_license = pd.read_csv(\"https://data.edmonton.ca/api/views/qhi4-bdpu/rows.csv?accessType=DOWNLOAD\")\n",
    "d_license.tail()"
   ]
  },
  {
   "cell_type": "markdown",
   "metadata": {},
   "source": [
    "### C11.1 Clean data"
   ]
  },
  {
   "cell_type": "markdown",
   "metadata": {},
   "source": [
    "Check is there any Licence expired"
   ]
  },
  {
   "cell_type": "code",
   "execution_count": null,
   "metadata": {},
   "outputs": [],
   "source": [
    "d_food=d_license.copy()\n",
    "d_food['Expiry date'] = d_food['Expiry Date'].str.strip().str[6:10]+d_food['Expiry Date'].str.strip().str[0:2]+d_food['Expiry Date'].str.strip().str[3:5]\n",
    "d_food['Expiry date'] =d_food['Expiry date'].astype(int)\n",
    "d_food = d_food[d_food['Expiry date'] > 20200801] #enter current date (date before the current date means the license is expired, and the row will be droped)\n",
    "\n",
    "a = d_food[d_food['Category'] == \"Restaurant or Food Service\"]\n",
    "b = d_food[d_food['Category'] == \"Food Processing\"]\n",
    "\n",
    "d_food=a.append(b, ignore_index=True)\n",
    "d_food = d_food[d_food['Expiry Date'].str.strip().str[6:11] >= '2020'] #drop expiry date before year 2020\n",
    "\n",
    "d_food.drop(['Ward','Licence Number','Count','Neighbourhood ID','Licence Status','Issue Date','Expiry Date','Expiry date'],axis=1, inplace=True)\n",
    "d_food.reset_index(drop=True, inplace=True)\n",
    "\n",
    "d_food.head()"
   ]
  },
  {
   "cell_type": "markdown",
   "metadata": {},
   "source": [
    "rows in d_food dataframe without latitude, longitude, address information"
   ]
  },
  {
   "cell_type": "code",
   "execution_count": null,
   "metadata": {},
   "outputs": [],
   "source": [
    "foodnull2019=d_food.copy()\n",
    "foodnull2019 = foodnull2019[foodnull2019['Latitude'].isnull()]"
   ]
  },
  {
   "cell_type": "markdown",
   "metadata": {},
   "source": [
    "rows in d_food dataframe with latitude, longitude, address information"
   ]
  },
  {
   "cell_type": "code",
   "execution_count": null,
   "metadata": {},
   "outputs": [],
   "source": [
    "food2019=d_food.copy()\n",
    "food2019 = food2019[food2019['Latitude'].notnull()]"
   ]
  },
  {
   "cell_type": "code",
   "execution_count": null,
   "metadata": {},
   "outputs": [],
   "source": [
    "locations = food2019[['Latitude', 'Longitude']]\n",
    "locationlist = locations.values.tolist()\n",
    "len(locationlist)\n",
    "locationlist[4]"
   ]
  },
  {
   "cell_type": "code",
   "execution_count": null,
   "metadata": {},
   "outputs": [],
   "source": [
    "from folium.plugins import MarkerCluster"
   ]
  },
  {
   "cell_type": "code",
   "execution_count": null,
   "metadata": {},
   "outputs": [],
   "source": [
    "map = folium.Map(location=[53.535411, -113.507996], \n",
    "                 #name=\"Light Map\", \n",
    "                 tiles='CartoDB positron',\n",
    "                 zoom_start=12)\n",
    "marker_cluster = MarkerCluster().add_to(map)\n",
    "\n",
    "for point in range(0, len(locationlist)):\n",
    "    folium.Marker(locationlist[point], popup=food2019.iloc[point][1]).add_to(marker_cluster) \n",
    "map\n"
   ]
  },
  {
   "cell_type": "code",
   "execution_count": null,
   "metadata": {},
   "outputs": [],
   "source": [
    "neighborhoods=d_food.copy()\n",
    "neighborhoods=neighborhoods[['Neighbourhood','Latitude','Longitude']]\n",
    "neighborhoods['Borough']=['Edmonton']*len(d_food)\n",
    "neighborhoods.rename(columns={'Neighbourhood':'Neighborhood'}, inplace=True)\n",
    "neighborhoods=neighborhoods.dropna()\n",
    "# create map of Edmonton using latitude and longitude values\n",
    "map_edmonton = folium.Map(location=[latitude, longitude], zoom_start=10)\n",
    "\n",
    "# add markers to map\n",
    "for lat, lng, borough, neighborhood in zip(neighborhoods['Latitude'], neighborhoods['Longitude'], neighborhoods['Borough'], neighborhoods['Neighborhood']):\n",
    "    label = '{}, {}'.format(neighborhood, borough)\n",
    "    label = folium.Popup(label, parse_html=True)\n",
    "    folium.CircleMarker(\n",
    "        [lat, lng],\n",
    "        radius=0.1,\n",
    "        popup=label,\n",
    "        color='blue',\n",
    "        fill=True,\n",
    "        fill_color='#3186cc',\n",
    "        fill_opacity=0.7,\n",
    "        parse_html=False).add_to(map_edmonton)  \n",
    "    \n",
    "map_edmonton"
   ]
  },
  {
   "cell_type": "markdown",
   "metadata": {},
   "source": [
    "### Food service in selected neighbourhood"
   ]
  },
  {
   "cell_type": "code",
   "execution_count": null,
   "metadata": {},
   "outputs": [],
   "source": [
    "Ndisired_food = pd.merge(d_food,\n",
    "                        desireN[['Neighbourhood']],\n",
    "                        on='Neighbourhood')\n",
    "#Ndisired_food.drop(['Latitude','Longitude','Location'],axis=1, inplace=True)\n",
    "Ndisired_food.sort_values(['Trade Name'], inplace=True ,ascending=True)\n",
    "Ndisired_food.reset_index(drop=True, inplace=True)\n",
    "#Ndisired_food.drop_duplicates(subset =\"First Name\", \n",
    "#                     keep = False, inplace = True) \n",
    "Ndisired_food.head()"
   ]
  },
  {
   "cell_type": "code",
   "execution_count": null,
   "metadata": {},
   "outputs": [],
   "source": [
    "len(Ndisired_food)"
   ]
  },
  {
   "cell_type": "code",
   "execution_count": null,
   "metadata": {},
   "outputs": [],
   "source": [
    "dulicatefood = Ndisired_food[Ndisired_food.duplicated(['Trade Name', 'Address'])]\n",
    "dulicatefood.tail()"
   ]
  },
  {
   "cell_type": "code",
   "execution_count": null,
   "metadata": {},
   "outputs": [],
   "source": [
    "Ndisired_food = Ndisired_food[~Ndisired_food.duplicated(['Trade Name', 'Address'])]\n",
    "len(Ndisired_food)"
   ]
  },
  {
   "cell_type": "markdown",
   "metadata": {},
   "source": [
    "### !!!!!!Store Ndisired_food: food license in selected Neighbouthood"
   ]
  },
  {
   "cell_type": "code",
   "execution_count": null,
   "metadata": {},
   "outputs": [],
   "source": [
    "%store Ndisired_food"
   ]
  },
  {
   "cell_type": "code",
   "execution_count": null,
   "metadata": {},
   "outputs": [],
   "source": [
    "Ndisired_food.to_csv(\"Restaurant.csv\",index=False)"
   ]
  },
  {
   "cell_type": "code",
   "execution_count": null,
   "metadata": {},
   "outputs": [],
   "source": [
    "C_NeiFood=Ndisired_food.groupby('Neighbourhood',axis=0)['Trade Name'].count().reset_index()\n",
    "C_NeiFood"
   ]
  },
  {
   "cell_type": "markdown",
   "metadata": {},
   "source": [
    "### Clean crape data from Yelp.ca and Zomato.com"
   ]
  },
  {
   "cell_type": "code",
   "execution_count": null,
   "metadata": {},
   "outputs": [],
   "source": [
    "SelectNei_Res=pd.read_csv(\"SelectNei_restaurant.csv\")\n",
    "SelectNei_Res.head()"
   ]
  },
  {
   "cell_type": "code",
   "execution_count": null,
   "metadata": {},
   "outputs": [],
   "source": [
    "SelectNei_Restype=SelectNei_Res.groupby('Type',axis=0)['Trade Name'].count().reset_index()\n",
    "SelectNei_Restype"
   ]
  },
  {
   "cell_type": "markdown",
   "metadata": {},
   "source": [
    "### Casual dinings with/without wine/liquior service in selected neighbourhoods"
   ]
  },
  {
   "cell_type": "code",
   "execution_count": null,
   "metadata": {},
   "outputs": [],
   "source": [
    "SelectNei_OpenRes=SelectNei_Res[SelectNei_Res.Type.str.contains(\"Dining\")]\n",
    "SelectNei_OpenRes=SelectNei_OpenRes.append(SelectNei_Res[SelectNei_Res.Type.str.contains(\"Pub\")], ignore_index=True)\n",
    "SelectNei_OpenRes=SelectNei_OpenRes.append(SelectNei_Res[SelectNei_Res.Type.str.contains(\"Bar\")], ignore_index=True)"
   ]
  },
  {
   "cell_type": "code",
   "execution_count": null,
   "metadata": {},
   "outputs": [],
   "source": [
    "SelectNei_Restype=SelectNei_OpenRes.groupby('Type',axis=0)['Trade Name'].count().reset_index()\n",
    "SelectNei_Restype"
   ]
  },
  {
   "cell_type": "code",
   "execution_count": null,
   "metadata": {},
   "outputs": [],
   "source": [
    "SelectNei_Restype=SelectNei_OpenRes.groupby('Neighbourhood',axis=0)['Trade Name'].count().reset_index()\n",
    "SelectNei_Restype"
   ]
  },
  {
   "cell_type": "code",
   "execution_count": null,
   "metadata": {},
   "outputs": [],
   "source": [
    "SelectNei_OpenRes['category']=SelectNei_OpenRes['cuisines'].str.title()+','+SelectNei_OpenRes['cuisines.1'].str.title()+','\n",
    "SelectNei_OpenRes['category']=SelectNei_OpenRes['category'].astype(str)\n",
    "SelectNei_OpenRes['category']=SelectNei_OpenRes['category'].str.replace(\"New\",\"\",case=False)\n",
    "SelectNei_OpenRes['category']=SelectNei_OpenRes['category'].str.replace('\\\\(|\\\\)',\"\")\n",
    "SelectNei_OpenRes['category']=SelectNei_OpenRes['category'].str.replace('Newcanadian','Canadian',case=False)\n",
    "SelectNei_OpenRes['category']=SelectNei_OpenRes['category'].str.replace(\"Traditional\",\"\",case=False)\n",
    "SelectNei_OpenRes['category']=SelectNei_OpenRes['category'].str.replace('Asian Fusion','Asian',case=False)\n",
    "SelectNei_OpenRes['category']=SelectNei_OpenRes['category'].str.replace('Ramen','Japanese',case=False)\n",
    "SelectNei_OpenRes['category']=SelectNei_OpenRes['category'].str.replace('Noodle','Chinese',case=False)\n",
    "SelectNei_OpenRes['category']=SelectNei_OpenRes['category'].str.replace('Creperies','French',case=False)\n",
    "SelectNei_OpenRes['category']=SelectNei_OpenRes['category'].str.replace('Crepes','French',case=False)\n",
    "SelectNei_OpenRes['category']=SelectNei_OpenRes['category'].str.replace('Cantonese','Chinese',case=False)\n",
    "SelectNei_OpenRes['category']=SelectNei_OpenRes['category'].str.replace('Chineses','Chinese',case=False)\n",
    "SelectNei_OpenRes['category']=SelectNei_OpenRes['category'].str.replace(',0','',case=False)\n",
    "SelectNei_OpenRes['category']=SelectNei_OpenRes['category'].str.replace('Modern European','European',case=False)\n",
    "SelectNei_OpenRes['category']=SelectNei_OpenRes['category'].str.replace('Cajun/Creole','Cajun',case=False)\n",
    "SelectNei_OpenRes['category']=SelectNei_OpenRes['category'].str.replace('Barbeque','BBQ',case=False)\n",
    "SelectNei_OpenRes['category']=SelectNei_OpenRes['category'].str.replace('Fish & Chip','British',case=False)\n",
    "SelectNei_OpenRes['category']=SelectNei_OpenRes['category'].str.replace('\\\\?',\"\")\n",
    "SelectNei_OpenRes['category']=SelectNei_OpenRes['category'].str.replace('s,',\",\")\n",
    "SelectNei_OpenRes['category']=SelectNei_OpenRes['category'].str.title()\n",
    "SelectNei_OpenRes.head()"
   ]
  },
  {
   "cell_type": "code",
   "execution_count": null,
   "metadata": {},
   "outputs": [],
   "source": [
    "SelectNei_OpenRes.shape"
   ]
  },
  {
   "cell_type": "markdown",
   "metadata": {},
   "source": [
    "### keyword of resturant"
   ]
  },
  {
   "cell_type": "code",
   "execution_count": null,
   "metadata": {},
   "outputs": [],
   "source": [
    "SelectNei_OpenRes['category']=SelectNei_OpenRes['category'].astype(str)\n",
    "a=SelectNei_OpenRes.iloc[3][12]\n",
    "print(a)\n",
    "count = a.count(',')\n",
    "print(count)\n",
    "a=a.split(\",\")\n",
    "print(a[0])\n",
    "b=a[0].strip()\n",
    "#b=b.title()\n",
    "print(b)"
   ]
  },
  {
   "cell_type": "code",
   "execution_count": null,
   "metadata": {},
   "outputs": [],
   "source": [
    "keyword=[]\n",
    "for i in range(len(SelectNei_OpenRes)):\n",
    "    colmn=SelectNei_OpenRes.shape[1]-1\n",
    "    a=SelectNei_OpenRes.iloc[i][colmn]\n",
    "    word=a.split(\",\")\n",
    "    count = a.count(',')\n",
    "    for j in range((count)):\n",
    "        b=word[j]\n",
    "        c=b.strip()\n",
    "        #c=c.title()\n",
    "        keyword.append(c)"
   ]
  },
  {
   "cell_type": "code",
   "execution_count": null,
   "metadata": {},
   "outputs": [],
   "source": [
    "from collections import Counter\n",
    "counts = Counter(keyword)\n",
    "counts=pd.DataFrame(counts.items())\n",
    "counts.sort_values([0], inplace=True ,ascending=True)\n",
    "counts.reset_index(drop=True, inplace=True)\n",
    "counts"
   ]
  },
  {
   "cell_type": "markdown",
   "metadata": {},
   "source": [
    "### Catergory by country"
   ]
  },
  {
   "cell_type": "code",
   "execution_count": null,
   "metadata": {},
   "outputs": [],
   "source": [
    "country=[\"African\",\"American\",\"Asian\",\"Australian\",\"Brazilian\",\"British\",\"Cajun\",\"Canadian\",\"Caribbean\",\"Chinese\",\"Czech\",\n",
    "        \"Ethiopian\",\"European\",\"Filipino\",\"French\",\"German\",\"Greek\",\"Hala\",\"Hawaiian\",\"Indian\",\"Irish\",\"Italian\",\n",
    "        \"Jamaican\",\"Japanese\",\"Korean\",\"Latin American\",\"Laotian\",\"Lebanese\",\"Mediterranean\",\"Mexican\",\"Middle Eastern\",\n",
    "        \"Pakistani\",\"Portuguese\",\"Southern\",\"Spanish\",\"Thai\",\"Turkish\",\"Tex-Mex\",\"Vietnamese\"]\n",
    "country[0]"
   ]
  },
  {
   "cell_type": "code",
   "execution_count": null,
   "metadata": {},
   "outputs": [],
   "source": [
    "SelectNei_Rescountry=SelectNei_OpenRes[SelectNei_OpenRes.category.str.contains('test')]\n",
    "SelectNei_Rescountry"
   ]
  },
  {
   "cell_type": "code",
   "execution_count": null,
   "metadata": {},
   "outputs": [],
   "source": [
    "SelectNei_Rescountry=SelectNei_OpenRes[SelectNei_OpenRes.category.str.contains('test')]\n",
    "rec_country=[]\n",
    "for i in range(len(country)):\n",
    "    region=country[i]\n",
    "    a=SelectNei_OpenRes[SelectNei_OpenRes.category.str.contains(region)]\n",
    "    SelectNei_Rescountry=SelectNei_Rescountry.append(a, ignore_index=True)\n",
    "    b=[region]*len(a)\n",
    "    rec_country.extend(b)\n",
    "#print(rec_country)\n",
    "SelectNei_Rescountry['region']=rec_country\n",
    "SelectNei_Rescountry.tail()"
   ]
  },
  {
   "cell_type": "code",
   "execution_count": null,
   "metadata": {},
   "outputs": [],
   "source": [
    "len(SelectNei_Rescountry)"
   ]
  },
  {
   "cell_type": "code",
   "execution_count": null,
   "metadata": {},
   "outputs": [],
   "source": [
    "dm1=SelectNei_Rescountry.copy()\n",
    "dm2=SelectNei_OpenRes.copy()\n",
    "dm1.drop(['region'],axis=1, inplace=True)\n",
    "dmiss=dm2[~dm2.apply(tuple,1).isin(dm1.apply(tuple,1))]\n",
    "dmiss.reset_index(drop=True, inplace=True)\n",
    "dmiss['region']=['American']*len(dmiss)\n",
    "dmiss.tail()"
   ]
  },
  {
   "cell_type": "code",
   "execution_count": null,
   "metadata": {},
   "outputs": [],
   "source": [
    "restotal=SelectNei_Rescountry.append(dmiss, ignore_index=True)\n",
    "Summary_region=restotal.groupby(['Neighbourhood','region'],axis=0)['Trade Name'].count().reset_index()\n",
    "\n",
    "Summary_region=Summary_region.pivot(index='Neighbourhood',columns='region',values='Trade Name')\n",
    "#Summary_region.sort_values(['Trade Name'], inplace=True ,ascending=True)\n",
    "Summary_region=Summary_region.fillna(0)\n",
    "Summary_region=Summary_region.astype(int)\n",
    "\n",
    "Summary_region"
   ]
  },
  {
   "cell_type": "code",
   "execution_count": null,
   "metadata": {},
   "outputs": [],
   "source": [
    "Summary_region=Summary_region/Summary_region.sum(axis=1)[:,None]*100\n",
    "Summary_region=Summary_region.round(0)\n",
    "Summary_region"
   ]
  },
  {
   "cell_type": "code",
   "execution_count": null,
   "metadata": {},
   "outputs": [],
   "source": [
    "#fig, ax = plt.subplots()\n",
    "\n",
    "fig, ax = plt.subplots(figsize=(40,8))\n",
    "ax = sns.heatmap(Summary_region,vmin=0, vmax=30,annot = Summary_region,fmt = '',linewidths=1, linecolor='white',cbar=False,cmap=\"YlOrBr\",)\n",
    "#heatmap.set_xticklabels(heatmap.get_xticklabels(), rotation=30) \n",
    "#heatmap.set_yticklabels(heatmap.get_yticklabels(), rotation=90)\n",
    "sns.set(font_scale=1)\n",
    "ax.set_xticklabels(ax.get_xticklabels(), rotation=30,fontsize = 18)\n",
    "ax.set_yticklabels(ax.get_yticklabels(), rotation=30,fontsize = 18)\n",
    "\n",
    "plt.xlabel(\"The frequency of occurrence of each category (%)\",fontsize = 18)\n",
    "#sns.heatmap(z, annot=False)"
   ]
  },
  {
   "cell_type": "markdown",
   "metadata": {},
   "source": [
    "## **Appendix**"
   ]
  },
  {
   "cell_type": "markdown",
   "metadata": {},
   "source": [
    "## C.A.1 Import Marital status    "
   ]
  },
  {
   "cell_type": "markdown",
   "metadata": {},
   "source": [
    "#### Year 2016"
   ]
  },
  {
   "cell_type": "markdown",
   "metadata": {},
   "source": [
    "###### Import data from SQL SERVER"
   ]
  },
  {
   "cell_type": "markdown",
   "metadata": {},
   "source": [
    "#query statement to retrieve all rows in INSTRUCTOR table\n",
    "selectQuery = \"select * from MARITAL_2016\"\n",
    "\n",
    "#retrieve the query results into a pandas dataframe\n",
    "d_marital = pandas.read_sql(selectQuery, pconn)\n",
    "\n",
    "#print just the LNAME for first row in the pandas data frame\n",
    "d_marital.tail()"
   ]
  },
  {
   "cell_type": "markdown",
   "metadata": {},
   "source": [
    "###### Import data from City of Edmonton open data bank"
   ]
  },
  {
   "cell_type": "code",
   "execution_count": null,
   "metadata": {},
   "outputs": [],
   "source": [
    "d_marital = pd.read_csv(\"https://data.edmonton.ca/api/views/fcvm-p6fa/rows.csv?accessType=DOWNLOAD\")\n",
    "d_marital.tail()"
   ]
  },
  {
   "cell_type": "markdown",
   "metadata": {},
   "source": [
    "#### Year 2001    \n",
    "Reference:\n",
    "https://www.edmonton.ca/business_economy/documents/InfraPlan/HholdsizeIncome.pdf"
   ]
  },
  {
   "cell_type": "markdown",
   "metadata": {},
   "source": [
    "###### Import data from SQL"
   ]
  },
  {
   "cell_type": "code",
   "execution_count": null,
   "metadata": {},
   "outputs": [],
   "source": [
    "#query statement to retrieve all rows in INSTRUCTOR table\n",
    "selectQuery = \"select * from HOUSEHOLD_SIZE2001\"\n",
    "\n",
    "#retrieve the query results into a pandas dataframe\n",
    "d_mari2001 = pandas.read_sql(selectQuery, pconn)\n",
    "\n",
    "#print just the LNAME for first row in the pandas data frame\n",
    "d_mari2001.tail()"
   ]
  },
  {
   "cell_type": "markdown",
   "metadata": {},
   "source": [
    "### C.A.1 Clean data 2001"
   ]
  },
  {
   "cell_type": "code",
   "execution_count": null,
   "metadata": {},
   "outputs": [],
   "source": [
    "len(d_mari2001)"
   ]
  },
  {
   "cell_type": "code",
   "execution_count": null,
   "metadata": {},
   "outputs": [],
   "source": [
    "f_mari2001=d_mari2001.copy()\n",
    "f_mari2001.rename(columns={'Neighbourhoods':'Neighbourhood'}, inplace=True)\n",
    "f_mari2001.drop(['Household_Size','Income_Average__','Income_Median__','Column_10'],axis=1, inplace=True)\n",
    "f_mari2001.drop(f_mari2001.tail(1).index,inplace=True)\n",
    "f_mari2001 = f_mari2001.astype(str)\n",
    "import re\n",
    "f_mari2001 = f_mari2001.applymap(lambda x: re.sub(r'^-$', str(0), x))\n",
    "\n",
    "f_mari2001['Households']= f_mari2001['Households'].astype(float)\n",
    "f_mari2001['1 person']= f_mari2001['1 person'].astype(float)\n",
    "f_mari2001['2 persons']= f_mari2001['2 persons'].astype(float)\n",
    "f_mari2001['3 persons']= f_mari2001['3 persons'].astype(float)\n",
    "f_mari2001['4-5 persons']= f_mari2001['4-5 persons'].astype(float)\n",
    "f_mari2001['6 or more']= f_mari2001['6 or more'].astype(float)\n",
    "\n",
    "f_mari2001['1 person household (%)']=f_mari2001['1 person']/f_mari2001['Households']*100\n",
    "f_mari2001['≥2 person household (%)']=(f_mari2001['2 persons']+f_mari2001['3 persons']+f_mari2001['4-5 persons']+f_mari2001['6 or more'])/f_mari2001['Households']*100\n",
    "\n",
    "f_mari2001['1 person household (%)']=f_mari2001['1 person household (%)'].round(1)\n",
    "f_mari2001.sort_values(['Neighbourhood'], inplace=True ,ascending=True)\n",
    "f_mari2001.tail()"
   ]
  },
  {
   "cell_type": "markdown",
   "metadata": {},
   "source": [
    "### HEAT MAP - 2001"
   ]
  },
  {
   "cell_type": "code",
   "execution_count": null,
   "metadata": {},
   "outputs": [],
   "source": [
    "import geopandas as gpd\n",
    "response = requests.get(r\"https://data.edmonton.ca/api/geospatial/tvcx-3vrx?method=export&format=GeoJSON\")\n",
    "data = response.json()\n",
    "NeisB = gpd.GeoDataFrame.from_features(data, crs='EPSG:4326')\n",
    "\n",
    "NeisB.tail()"
   ]
  },
  {
   "cell_type": "code",
   "execution_count": null,
   "metadata": {},
   "outputs": [],
   "source": [
    "NeisB.rename(columns={'name':'Neighbourhood'}, inplace=True)\n",
    "NeiAmerge = pd.merge(NeisB,\n",
    "                f_mari2001[['Neighbourhood','1 person household (%)']],\n",
    "                 on='Neighbourhood')\n",
    "\n",
    "NeiAmerge.tail()"
   ]
  },
  {
   "cell_type": "code",
   "execution_count": null,
   "metadata": {},
   "outputs": [],
   "source": [
    "import branca.colormap as cm\n",
    "#colormap = cm.linear.YlGnBu_09\n",
    "colormap = cm.linear.RdPu_08.scale(0, 60).to_step(6) \n",
    "colormap"
   ]
  },
  {
   "cell_type": "code",
   "execution_count": null,
   "metadata": {},
   "outputs": [],
   "source": [
    "from folium.features import GeoJson, GeoJsonTooltip, GeoJsonPopup\n",
    "\n",
    "# create a plain world map\n",
    "edmA_map = folium.Map(location=[latitude, longitude], zoom_start=10, tiles='CartoDB positron')\n",
    "colormap.caption = \"Percentage of 1 person household by neighbourhood in 2016\"\n",
    "\n",
    "style_function = lambda x: {\"weight\":0.5, \n",
    "                            'color':'black',\n",
    "                            'fillColor':colormap(x['properties']['1 person household (%)']), \n",
    "                            'fillOpacity':0.75}\n",
    "highlight_function = lambda x: {'fillColor': '#000000', \n",
    "                                'color':'#000000', \n",
    "                                'fillOpacity': 0.50, \n",
    "                                'weight': 0.1}\n",
    "\n",
    "\n",
    "\n",
    "g = folium.GeoJson(\n",
    "    NeiAmerge,\n",
    "    style_function=style_function,\n",
    "    control=False,\n",
    "    highlight_function=highlight_function,\n",
    "    tooltip=folium.features.GeoJsonTooltip(\n",
    "        fields=['Neighbourhood','1 person household (%)'],\n",
    "        aliases=['Neighbourhood','1 person household (%)'],\n",
    "        style=(\"background-color: white; color: #333333; font-family: arial; font-size: 12px; padding: 10px;\"),\n",
    "        sticky=True\n",
    "        )).add_to(edmA_map)\n",
    "\n",
    "colormap.add_to(edmA_map)\n",
    "#edmA_map"
   ]
  },
  {
   "cell_type": "code",
   "execution_count": null,
   "metadata": {},
   "outputs": [],
   "source": [
    "from branca.element import Template, MacroElement\n",
    "\n",
    "template = \"\"\"\n",
    "{% macro html(this, kwargs) %}\n",
    "\n",
    "<!doctype html>\n",
    "<html lang=\"en\">\n",
    "<head>\n",
    "  <meta charset=\"utf-8\">\n",
    "  <meta name=\"viewport\" content=\"width=device-width, initial-scale=1\">\n",
    "  <title>jQuery UI Draggable - Default functionality</title>\n",
    "  <link rel=\"stylesheet\" href=\"//code.jquery.com/ui/1.12.1/themes/base/jquery-ui.css\">\n",
    "\n",
    "  <script src=\"https://code.jquery.com/jquery-1.12.4.js\"></script>\n",
    "  <script src=\"https://code.jquery.com/ui/1.12.1/jquery-ui.js\"></script>\n",
    "  \n",
    "  <script>\n",
    "  $( function() {\n",
    "    $( \"#maplegend\" ).draggable({\n",
    "                    start: function (event, ui) {\n",
    "                        $(this).css({\n",
    "                            right: \"auto\",\n",
    "                            top: \"auto\",\n",
    "                            bottom: \"auto\"\n",
    "                        });\n",
    "                    }\n",
    "                });\n",
    "});\n",
    "\n",
    "  </script>\n",
    "</head>\n",
    "<body>\n",
    "\n",
    " \n",
    "<div id='maplegend' class='maplegend' \n",
    "    style='position: absolute; z-index:9999; border:2px solid grey; background-color:rgba(255, 255, 255, 0.8);\n",
    "     border-radius:6px; padding: 10px; font-size:14px; right: 20px; bottom: 20px;'>\n",
    "     \n",
    "<div class='legend-title'>1 person household (%)</div>\n",
    "<div class='legend-scale'>\n",
    "  <ul class='legend-labels'>\n",
    "    <li><span style='background:#FEEBE2;opacity:0.7;'></span><10%</li>\n",
    "    <li><span style='background:#FCC5C0;opacity:0.7;'></span>10% to 20%</li>\n",
    "    <li><span style='background:#FA9FB5;opacity:0.7;'></span>20% to 30%</li>\n",
    "    <li><span style='background:#F768A1;opacity:0.7;'></span>30% to 40%</li>\n",
    "    <li><span style='background:#AE017E;opacity:0.7;'></span>40% to 50%</li>\n",
    "    <li><span style='background:#7A0177;opacity:0.7;'></span>>50%</li>\n",
    "\n",
    "\n",
    "  </ul>\n",
    "</div>\n",
    "</div>\n",
    " \n",
    "</body>\n",
    "</html>\n",
    "\n",
    "<style type='text/css'>\n",
    "  .maplegend .legend-title {\n",
    "    text-align: left;\n",
    "    margin-bottom: 5px;\n",
    "    font-weight: bold;\n",
    "    font-size: 90%;\n",
    "    }\n",
    "  .maplegend .legend-scale ul {\n",
    "    margin: 0;\n",
    "    margin-bottom: 5px;\n",
    "    padding: 0;\n",
    "    float: left;\n",
    "    list-style: none;\n",
    "    }\n",
    "  .maplegend .legend-scale ul li {\n",
    "    font-size: 80%;\n",
    "    list-style: none;\n",
    "    margin-left: 0;\n",
    "    line-height: 18px;\n",
    "    margin-bottom: 2px;\n",
    "    }\n",
    "  .maplegend ul.legend-labels li span {\n",
    "    display: block;\n",
    "    float: left;\n",
    "    height: 16px;\n",
    "    width: 30px;\n",
    "    margin-right: 5px;\n",
    "    margin-left: 0;\n",
    "    border: 1px solid #999;\n",
    "    }\n",
    "  .maplegend .legend-source {\n",
    "    font-size: 80%;\n",
    "    color: #777;\n",
    "    clear: both;\n",
    "    }\n",
    "  .maplegend a {\n",
    "    color: #777;\n",
    "    }\n",
    "</style>\n",
    "{% endmacro %}\"\"\"\n",
    "\n",
    "macro = MacroElement()\n",
    "macro._template = Template(template)\n",
    "\n",
    "edmA_map.get_root().add_child(macro)\n",
    "\n",
    "edmA_map"
   ]
  },
  {
   "cell_type": "markdown",
   "metadata": {},
   "source": [
    "### C.A.1 Clean data 2016    \n",
    "Reference:\n",
    "https://data.edmonton.ca/Census/2016-Census-Population-by-Marital-Status-Neighbour/fcvm-p6fa/data"
   ]
  },
  {
   "cell_type": "markdown",
   "metadata": {},
   "source": [
    "#### 2016 Stat Canada"
   ]
  },
  {
   "cell_type": "markdown",
   "metadata": {},
   "source": [
    "d_marital.rename(columns={'NAME':'Neighbourhood'}, inplace=True)\n",
    "d_marital['Neighbourhood']=d_marital['Neighbourhood'].str.title()\n",
    "d_marital.drop(['1','Flag','Marital_Status_POP','Nbhd_Num'],axis=1, inplace=True)\n",
    "\n",
    "d_marital['Neighbourhood']=d_marital['Neighbourhood'].replace({'Mccauley':'McCauley',\n",
    "                                                             'Mckernan':'McKernan',\n",
    "                                                             'Mcleod':'McLeod',\n",
    "                                                             'Mcqueen':'McQueen',\n",
    "                                                             'Place Larue':'Place LaRue',\n",
    "                                                             'Rapperswil':'Rapperswill',\n",
    "                                                             \"River'S Edge\":\"River's Edge\",\n",
    "                                                             'Westbrook Estate':'Westbrook Estates',\n",
    "                                                             'Mcconachie Area':'McConachie Area',\n",
    "                                                             'University Of Alberta Farm':'University of Alberta Farm',\n",
    "                                                             'University Of Alberta':'University of Alberta',\n",
    "                                                             'Glenridding Area':'Glenridding Heights',\n",
    "                                                             'Macewan':'MacEwan',\n",
    "                                                             'Central Mcdougall': 'Central McDougall'})\n",
    "d_marital=d_marital.groupby(['Neighbourhood','Marital_Status'],axis=0)['Marital_Status_Percentage'].sum().reset_index()\n",
    "d_marital.sort_values(['Neighbourhood'], inplace=True ,ascending=True)\n",
    "\n",
    "marital2016 = pd.merge(d_marital,\n",
    "                dclassMED[['Neighbourhood']],\n",
    "                 on='Neighbourhood')\n",
    "marital2016.tail(6)"
   ]
  },
  {
   "cell_type": "markdown",
   "metadata": {},
   "source": [
    "dm1=marital2016.copy()\n",
    "dm2=dtopNei.copy()\n",
    "dm1=dm1.groupby('Neighbourhood',axis=0)['Marital_Status_Percentage'].sum().reset_index()\n",
    "dm1=dm1[['Neighbourhood']]\n",
    "dmiss=dm2[~dm2.apply(tuple,1).isin(dm1.apply(tuple,1))]\n",
    "\n",
    "dmiss.reset_index(drop=True, inplace=True)\n",
    "dmiss.tail()"
   ]
  },
  {
   "cell_type": "markdown",
   "metadata": {},
   "source": [
    "S_mari2016=marital2016.copy()\n",
    "S_mari2016=S_mari2016.pivot(index='Neighbourhood',columns='Marital_Status',values='Marital_Status_Percentage')\n",
    "\n",
    "S_mari2016=S_mari2016.astype(float)\n",
    "S_mari2016['1 person household (%)']=S_mari2016['Never married']\n",
    "S_mari2016['≥2 person household (%)']=S_mari2016['Married']+S_mari2016['Living common law']\n",
    "S_mari2016['other (%)']=S_mari2016['Divorced']+S_mari2016['Separated']+S_mari2016['Widowed']\n",
    "\n",
    "S_mari2016.sort_values(['1 person household (%)'], inplace=True ,ascending=True)\n",
    "\n",
    "S_mari2016.tail()"
   ]
  },
  {
   "cell_type": "markdown",
   "metadata": {},
   "source": [
    "a=S_mari2016.copy()\n",
    "a=a['1 person household (%)'].reset_index()\n",
    "b=S_mari2016.copy()\n",
    "b=b['≥2 person household (%)'].reset_index()\n",
    "c=S_mari2016.copy()\n",
    "c=c['other (%)'].reset_index()\n",
    "marital2016c = pd.merge(a,\n",
    "                b,\n",
    "                 on='Neighbourhood')\n",
    "marital2016c= pd.merge(marital2016c,\n",
    "                c,\n",
    "                 on='Neighbourhood')\n",
    "marital2016c['1 person household (%)']=marital2016c['1 person household (%)'].astype(float).round(1)\n",
    "#marital2016c.set_index('Neighbourhood', inplace=True)\n",
    "marital2016c.tail()"
   ]
  },
  {
   "cell_type": "markdown",
   "metadata": {},
   "source": [
    "#### 2016 City of Edmonton"
   ]
  },
  {
   "cell_type": "code",
   "execution_count": null,
   "metadata": {},
   "outputs": [],
   "source": [
    "d_marital.rename(columns={'Neighbourhood Name':'Neighbourhood'}, inplace=True)\n",
    "d_marital['Neighbourhood']=d_marital['Neighbourhood'].str.title()\n",
    "d_marital.drop(['Ward','Neighbourhood Number'],axis=1, inplace=True)\n",
    "\n",
    "d_marital['Neighbourhood']=d_marital['Neighbourhood'].replace({'Mccauley':'McCauley',\n",
    "                                                             'Mckernan':'McKernan',\n",
    "                                                             'Mcleod':'McLeod',\n",
    "                                                             'Mcqueen':'McQueen',\n",
    "                                                             'Place Larue':'Place LaRue',\n",
    "                                                             'Rapperswil':'Rapperswill',\n",
    "                                                             \"River'S Edge\":\"River's Edge\",\n",
    "                                                             'Westbrook Estate':'Westbrook Estates',\n",
    "                                                             'Mcconachie Area':'McConachie Area',\n",
    "                                                             'University Of Alberta Farm':'University of Alberta Farm',\n",
    "                                                             'University Of Alberta':'University of Alberta',\n",
    "                                                             'Glenridding Area':'Glenridding Heights',\n",
    "                                                             'Macewan':'MacEwan',\n",
    "                                                             'Central Mcdougall': 'Central McDougall'})\n",
    "\n",
    "d_marital.sort_values(['Neighbourhood'], inplace=True ,ascending=True)\n",
    "\n",
    "marital2016 = pd.merge(d_marital,\n",
    "                dclassMED[['Neighbourhood']],\n",
    "                 on='Neighbourhood')\n",
    "marital2016.tail(6)"
   ]
  },
  {
   "cell_type": "code",
   "execution_count": null,
   "metadata": {},
   "outputs": [],
   "source": [
    "dm1=marital2016.copy()\n",
    "dm2=dclassMED.copy()\n",
    "dm1=dm1[['Neighbourhood']]\n",
    "dm2=dm2[['Neighbourhood']]\n",
    "\n",
    "dmiss=dm2[~dm2.apply(tuple,1).isin(dm1.apply(tuple,1))]\n",
    "\n",
    "dmiss.reset_index(drop=True, inplace=True)\n",
    "dmiss#.tail()"
   ]
  },
  {
   "cell_type": "code",
   "execution_count": null,
   "metadata": {},
   "outputs": [],
   "source": [
    "marital2016c=marital2016.copy()\n",
    "marital2016c.drop(['No Response'],axis=1, inplace=True)\n",
    "cols_to_sum = marital2016c.columns[ 0: marital2016.shape[1]]\n",
    "marital2016c['Total']=marital2016c[cols_to_sum].sum(axis=1)\n",
    "\n",
    "marital2016c['Married (%)']=marital2016c['Married']/marital2016c['Total']*100\n",
    "marital2016c['Common Law (%)']=marital2016c['Common Law']/marital2016c['Total']*100\n",
    "\n",
    "marital2016c['Separated/Divorced (%)']=marital2016c['Separated/Divorced']/marital2016c['Total']*100\n",
    "marital2016c['Widowed (%)']=marital2016c['Widowed']/marital2016c['Total']*100\n",
    "\n",
    "marital2016c['1 person household (%)']=marital2016c['Never Married']/marital2016c['Total']*100\n",
    "marital2016c['≥2 person household (%)']=marital2016c['Married (%)']+marital2016c['Common Law (%)']\n",
    "marital2016c['other (%)']=marital2016c['Separated/Divorced (%)']+marital2016c['Widowed (%)']\n",
    "marital2016c=marital2016c.fillna(0)\n",
    "marital2016c=marital2016c.round(1)\n",
    "marital2016c.drop(['Married','Common Law','Separated/Divorced','Widowed','Total','Never Married','Married (%)','Common Law (%)','Separated/Divorced (%)','Widowed (%)'],axis=1, inplace=True)\n",
    "marital2016c.sort_values(['1 person household (%)'], inplace=True ,ascending=True)\n",
    "marital2016c.tail()"
   ]
  },
  {
   "cell_type": "markdown",
   "metadata": {},
   "source": [
    "### HEAT MAP - 2016"
   ]
  },
  {
   "cell_type": "code",
   "execution_count": null,
   "metadata": {},
   "outputs": [],
   "source": [
    "import geopandas as gpd\n",
    "response = requests.get(r\"https://data.edmonton.ca/api/geospatial/tvcx-3vrx?method=export&format=GeoJSON\")\n",
    "data = response.json()\n",
    "NeisB = gpd.GeoDataFrame.from_features(data, crs='EPSG:4326')\n",
    "\n",
    "NeisB.tail()"
   ]
  },
  {
   "cell_type": "code",
   "execution_count": null,
   "metadata": {},
   "outputs": [],
   "source": [
    "NeisB.rename(columns={'name':'Neighbourhood'}, inplace=True)\n",
    "NeiAmerge = pd.merge(NeisB,\n",
    "                marital2016c[['Neighbourhood','1 person household (%)']],\n",
    "                 on='Neighbourhood')\n",
    "NeiAmerge.loc[NeiAmerge['Neighbourhood'] == 'Cavanagh', '1 person household (%)'] = 20.8 #reference: stat canada 2016 census\n",
    "NeiAmerge.loc[NeiAmerge['Neighbourhood'] == 'University of Alberta Farm', '1 person household (%)'] = 40.3\n",
    "NeiAmerge.loc[NeiAmerge['Neighbourhood'] == 'University of Alberta', '1 person household (%)'] = 88.6\n",
    "NeiAmerge.loc[NeiAmerge['Neighbourhood'] == 'Place LaRue', '1 person household (%)'] = 7.1\n",
    "NeiAmerge.loc[NeiAmerge['Neighbourhood'] == 'Crystalliana Nera East', '1 person household (%)'] =44 \n",
    "\n",
    "NeiAmerge.tail()"
   ]
  },
  {
   "cell_type": "code",
   "execution_count": null,
   "metadata": {},
   "outputs": [],
   "source": [
    "import branca.colormap as cm\n",
    "#colormap = cm.linear.YlGnBu_09\n",
    "colormap = cm.linear.RdPu_08.scale(0, 60).to_step(6) \n",
    "colormap"
   ]
  },
  {
   "cell_type": "code",
   "execution_count": null,
   "metadata": {},
   "outputs": [],
   "source": [
    "from folium.features import GeoJson, GeoJsonTooltip, GeoJsonPopup\n",
    "\n",
    "# create a plain world map\n",
    "edmA_map = folium.Map(location=[latitude, longitude], zoom_start=10, tiles='CartoDB positron')\n",
    "colormap.caption = \"Percentage of 1 person household by neighbourhood in 2016\"\n",
    "\n",
    "style_function = lambda x: {\"weight\":0.5, \n",
    "                            'color':'black',\n",
    "                            'fillColor':colormap(x['properties']['1 person household (%)']), \n",
    "                            'fillOpacity':0.75}\n",
    "highlight_function = lambda x: {'fillColor': '#000000', \n",
    "                                'color':'#000000', \n",
    "                                'fillOpacity': 0.50, \n",
    "                                'weight': 0.1}\n",
    "\n",
    "\n",
    "\n",
    "g = folium.GeoJson(\n",
    "    NeiAmerge,\n",
    "    style_function=style_function,\n",
    "    control=False,\n",
    "    highlight_function=highlight_function,\n",
    "    tooltip=folium.features.GeoJsonTooltip(\n",
    "        fields=['Neighbourhood','1 person household (%)'],\n",
    "        aliases=['Neighbourhood','1 person household (%)'],\n",
    "        style=(\"background-color: white; color: #333333; font-family: arial; font-size: 12px; padding: 10px;\"),\n",
    "        sticky=True\n",
    "        )).add_to(edmA_map)\n",
    "\n",
    "colormap.add_to(edmA_map)\n",
    "#edmA_map"
   ]
  },
  {
   "cell_type": "code",
   "execution_count": null,
   "metadata": {},
   "outputs": [],
   "source": [
    "from branca.element import Template, MacroElement\n",
    "\n",
    "template = \"\"\"\n",
    "{% macro html(this, kwargs) %}\n",
    "\n",
    "<!doctype html>\n",
    "<html lang=\"en\">\n",
    "<head>\n",
    "  <meta charset=\"utf-8\">\n",
    "  <meta name=\"viewport\" content=\"width=device-width, initial-scale=1\">\n",
    "  <title>jQuery UI Draggable - Default functionality</title>\n",
    "  <link rel=\"stylesheet\" href=\"//code.jquery.com/ui/1.12.1/themes/base/jquery-ui.css\">\n",
    "\n",
    "  <script src=\"https://code.jquery.com/jquery-1.12.4.js\"></script>\n",
    "  <script src=\"https://code.jquery.com/ui/1.12.1/jquery-ui.js\"></script>\n",
    "  \n",
    "  <script>\n",
    "  $( function() {\n",
    "    $( \"#maplegend\" ).draggable({\n",
    "                    start: function (event, ui) {\n",
    "                        $(this).css({\n",
    "                            right: \"auto\",\n",
    "                            top: \"auto\",\n",
    "                            bottom: \"auto\"\n",
    "                        });\n",
    "                    }\n",
    "                });\n",
    "});\n",
    "\n",
    "  </script>\n",
    "</head>\n",
    "<body>\n",
    "\n",
    " \n",
    "<div id='maplegend' class='maplegend' \n",
    "    style='position: absolute; z-index:9999; border:2px solid grey; background-color:rgba(255, 255, 255, 0.8);\n",
    "     border-radius:6px; padding: 10px; font-size:14px; right: 20px; bottom: 20px;'>\n",
    "     \n",
    "<div class='legend-title'>1 person household (%)</div>\n",
    "<div class='legend-scale'>\n",
    "  <ul class='legend-labels'>\n",
    "    <li><span style='background:#FEEBE2;opacity:0.7;'></span><10%</li>\n",
    "    <li><span style='background:#FCC5C0;opacity:0.7;'></span>10% to 20%</li>\n",
    "    <li><span style='background:#FA9FB5;opacity:0.7;'></span>20% to 30%</li>\n",
    "    <li><span style='background:#F768A1;opacity:0.7;'></span>30% to 40%</li>\n",
    "    <li><span style='background:#AE017E;opacity:0.7;'></span>40% to 50%</li>\n",
    "    <li><span style='background:#7A0177;opacity:0.7;'></span>>50%</li>\n",
    "\n",
    "\n",
    "  </ul>\n",
    "</div>\n",
    "</div>\n",
    " \n",
    "</body>\n",
    "</html>\n",
    "\n",
    "<style type='text/css'>\n",
    "  .maplegend .legend-title {\n",
    "    text-align: left;\n",
    "    margin-bottom: 5px;\n",
    "    font-weight: bold;\n",
    "    font-size: 90%;\n",
    "    }\n",
    "  .maplegend .legend-scale ul {\n",
    "    margin: 0;\n",
    "    margin-bottom: 5px;\n",
    "    padding: 0;\n",
    "    float: left;\n",
    "    list-style: none;\n",
    "    }\n",
    "  .maplegend .legend-scale ul li {\n",
    "    font-size: 80%;\n",
    "    list-style: none;\n",
    "    margin-left: 0;\n",
    "    line-height: 18px;\n",
    "    margin-bottom: 2px;\n",
    "    }\n",
    "  .maplegend ul.legend-labels li span {\n",
    "    display: block;\n",
    "    float: left;\n",
    "    height: 16px;\n",
    "    width: 30px;\n",
    "    margin-right: 5px;\n",
    "    margin-left: 0;\n",
    "    border: 1px solid #999;\n",
    "    }\n",
    "  .maplegend .legend-source {\n",
    "    font-size: 80%;\n",
    "    color: #777;\n",
    "    clear: both;\n",
    "    }\n",
    "  .maplegend a {\n",
    "    color: #777;\n",
    "    }\n",
    "</style>\n",
    "{% endmacro %}\"\"\"\n",
    "\n",
    "macro = MacroElement()\n",
    "macro._template = Template(template)\n",
    "\n",
    "edmA_map.get_root().add_child(macro)\n",
    "\n",
    "edmA_map"
   ]
  },
  {
   "cell_type": "markdown",
   "metadata": {},
   "source": [
    "### comparison 2001 and 2016"
   ]
  },
  {
   "cell_type": "code",
   "execution_count": null,
   "metadata": {},
   "outputs": [],
   "source": [
    "f_marri2001=f_mari2001.copy()\n",
    "\n",
    "\n",
    "f_marri2001['Neighbourhood']=f_marri2001['Neighbourhood'].replace({'Thorncliffe':'Thorncliff',\n",
    "                                                                'Westbrook Estate':'Westbrook Estates',\n",
    "                                                                'CFB Griesbach':'Griesbach',\n",
    "                                                                 'Mcleod':'McLeod',\n",
    "                                                                 'Millwoods Town Centre':'Mill Woods Town Centre',\n",
    "                                                                 'Clareview Business Park':'Clareview Town Centre',\n",
    "                                                                 'Place La Rue':'Place LaRue',\n",
    "                                                                 'Eaux Claires - Belle Rive':'Eaux Claires',\n",
    "                                                                 'Mayliewan - Ozerna':'Mayliewan',\n",
    "                                                                 'Hollick Kenyon':'Hollick-Kenyon',\n",
    "                                                                   'Rural West':'Rural West Big Lake',\n",
    "                                                                   'Rural NE - Horse Hill':'Rural North East Horse Hill',\n",
    "                                                                   'Rural NE - South Sturgeon':'Rural North East South Sturgeon'\n",
    "                                                                })\n",
    "f_marri2001=f_marri2001.append(f_mari2001[f_mari2001.Neighbourhood.str.contains(\"Eaux Claires - Belle Rive\")], ignore_index=True)\n",
    "f_marri2001['Neighbourhood']=f_marri2001['Neighbourhood'].replace({'Eaux Claires - Belle Rive':'Belle Rive'})\n",
    "f_marri2001=f_marri2001.append(f_mari2001[f_mari2001.Neighbourhood.str.contains(\"Mayliewan - Ozerna\")], ignore_index=True)\n",
    "f_marri2001['Neighbourhood']=f_marri2001['Neighbourhood'].replace({'Mayliewan - Ozerna':'Ozerna'})\n",
    "f_marri2001=f_marri2001.append(f_mari2001[f_mari2001.Neighbourhood.str.contains(\"Millwoods Town Centre\")], ignore_index=True)\n",
    "f_marri2001['Neighbourhood']=f_marri2001['Neighbourhood'].replace({'Millwoods Town Centre':'Mill Woods Park'})\n",
    "\n",
    "single01and16 = pd.merge(marital2016c[['Neighbourhood','1 person household (%)']],\n",
    "                f_marri2001[['Neighbourhood','1 person household (%)']],\n",
    "                 on='Neighbourhood')\n",
    "single01and16['1 person household percentage difference between 2001 to 2016 (%)']=single01and16['1 person household (%)_x']-single01and16['1 person household (%)_y']\n",
    "single01and16.tail()"
   ]
  },
  {
   "cell_type": "code",
   "execution_count": null,
   "metadata": {},
   "outputs": [],
   "source": [
    "single01and16.drop(['1 person household (%)_x','1 person household (%)_y'],axis=1, inplace=True)\n",
    "single01and16.sort_values(['1 person household percentage difference between 2001 to 2016 (%)'], inplace=True ,ascending=True)\n",
    "single01and16.reset_index(drop=True, inplace=True)\n",
    "single01and16.tail()"
   ]
  },
  {
   "cell_type": "code",
   "execution_count": null,
   "metadata": {},
   "outputs": [],
   "source": [
    "dm1=single01and16.copy()\n",
    "dm2=f_marri2001.copy()\n",
    "\n",
    "dm1=dm1[['Neighbourhood']]\n",
    "dm2=dm2[['Neighbourhood']]\n",
    "\n",
    "dmiss=dm2[~dm2.apply(tuple,1).isin(dm1.apply(tuple,1))]\n",
    "#dmiss=dm1[~dm1.apply(tuple,1).isin(dm2.apply(tuple,1))]\n",
    "\n",
    "dmiss.sort_values(['Neighbourhood'], inplace=True ,ascending=True)\n",
    "dmiss.reset_index(drop=True, inplace=True)\n",
    "dmiss#.tail()"
   ]
  },
  {
   "cell_type": "code",
   "execution_count": null,
   "metadata": {},
   "outputs": [],
   "source": [
    "dm1=single01and16.copy()\n",
    "#dm2=single01and16.copy()\n",
    "dm2=dclassMED.copy()\n",
    "\n",
    "dm1=dm1[['Neighbourhood']]\n",
    "dm2=dm2[['Neighbourhood']]\n",
    "\n",
    "dmiss=dm2[~dm2.apply(tuple,1).isin(dm1.apply(tuple,1))]\n",
    "#dmiss=dm1[~dm1.apply(tuple,1).isin(dm2.apply(tuple,1))]\n",
    "\n",
    "dmiss['1 person household percentage difference between 2001 to 2016 (%)']=[100]*len(dmiss)\n",
    "dmiss.sort_values(['Neighbourhood'], inplace=True ,ascending=True)\n",
    "dmiss.reset_index(drop=True, inplace=True)\n",
    "dmiss.tail()"
   ]
  },
  {
   "cell_type": "markdown",
   "metadata": {},
   "source": [
    "single01to16=single01and16.append(dmiss, ignore_index=True)"
   ]
  },
  {
   "cell_type": "markdown",
   "metadata": {},
   "source": [
    "### HEAT MAP - % change"
   ]
  },
  {
   "cell_type": "code",
   "execution_count": null,
   "metadata": {},
   "outputs": [],
   "source": [
    "import geopandas as gpd\n",
    "response = requests.get(r\"https://data.edmonton.ca/api/geospatial/tvcx-3vrx?method=export&format=GeoJSON\")\n",
    "data = response.json()\n",
    "NeisA = gpd.GeoDataFrame.from_features(data, crs='EPSG:4326')\n",
    "\n",
    "NeisA.tail()"
   ]
  },
  {
   "cell_type": "code",
   "execution_count": null,
   "metadata": {},
   "outputs": [],
   "source": [
    "NeisA.rename(columns={'name':'Neighbourhood'}, inplace=True)\n",
    "NeiAmerge = pd.merge(NeisA,\n",
    "                single01and16,\n",
    "                 on='Neighbourhood')\n",
    "#NeiAmerge = pd.merge(NeiAmerge,\n",
    "#                dmiss,\n",
    "#                 on='Neighbourhood')\n",
    "#NeiAmerge.loc[NeiAmerge['Neighbourhood'] == 'Mill Woods Park', '1 person household percentage difference between 2001 to 2016 (%)'] = 0\n",
    "#NeiAmerge.loc[NeiAmerge['Neighbourhood'] == 'University of Alberta Farm', '1 person household percentage difference between 2001 to 2016 (%)'] = 0\n",
    "#NeiAmerge.loc[NeiAmerge['Neighbourhood'] == 'University of Alberta', '1 person household percentage difference between 2001 to 2016 (%)'] = 0\n",
    "#NeiAmerge.loc[NeiAmerge['Neighbourhood'] == 'Place LaRue', '1 person household percentage difference between 2001 to 2016 (%)'] = 0\n",
    "NeiAmerge.tail()"
   ]
  },
  {
   "cell_type": "code",
   "execution_count": null,
   "metadata": {},
   "outputs": [],
   "source": [
    "NeisB.rename(columns={'name':'Neighbourhood'}, inplace=True)\n",
    "NeiBmerge = pd.merge(NeisB,\n",
    "                dmiss,\n",
    "                 on='Neighbourhood')\n",
    "NeiBmerge.tail()"
   ]
  },
  {
   "cell_type": "code",
   "execution_count": null,
   "metadata": {},
   "outputs": [],
   "source": [
    "import branca.colormap as cm\n",
    "#colormap = cm.linear.YlGnBu_09\n",
    "#colormap = cm.linear.Paired_12.scale(-41, 81.4).to_step(12) \n",
    "colormap = cm.linear.PiYG_06.scale(-45, 45).to_step(6) \n",
    "colormap"
   ]
  },
  {
   "cell_type": "code",
   "execution_count": null,
   "metadata": {},
   "outputs": [],
   "source": [
    "from folium.features import GeoJson, GeoJsonTooltip, GeoJsonPopup\n",
    "\n",
    "# create a plain world map\n",
    "edmA_map = folium.Map(location=[latitude, longitude], zoom_start=10, tiles='CartoDB positron')\n",
    "colormap.caption = \"% change\"\n",
    "\n",
    "style_function = lambda x: {\"weight\":0.5, \n",
    "                            'color':'black',\n",
    "                            'fillColor':colormap(x['properties']['1 person household percentage difference between 2001 to 2016 (%)']), \n",
    "                            'fillOpacity':0.75}\n",
    "highlight_function = lambda x: {'fillColor': '#000000', \n",
    "                                'color':'#000000', \n",
    "                                'fillOpacity': 0.50, \n",
    "                                'weight': 0.1}\n",
    "\n",
    "\n",
    "\n",
    "g = folium.GeoJson(\n",
    "    NeiAmerge,\n",
    "    style_function=style_function,\n",
    "    control=False,\n",
    "    highlight_function=highlight_function,\n",
    "    tooltip=folium.features.GeoJsonTooltip(\n",
    "        fields=['Neighbourhood','1 person household percentage difference between 2001 to 2016 (%)'],\n",
    "        aliases=['Neighbourhood','1 person household percentage difference between 2001 to 2016 (%)'],\n",
    "        style=(\"background-color: white; color: #333333; font-family: arial; font-size: 12px; padding: 10px;\"),\n",
    "        sticky=True\n",
    "        )).add_to(edmA_map)\n",
    "\n",
    "from folium import plugins\n",
    "\n",
    "def style_zero_function(feature):\n",
    "    default_style = {\n",
    "        'fillOpacity': 0.5,\n",
    "        'color': 'grey',\n",
    "        'weight': 0.1\n",
    "    }\n",
    "        \n",
    "    default_style['fillPattern'] = plugins.pattern.StripePattern(angle=-45)\n",
    "        \n",
    "    return default_style\n",
    "\n",
    "folium.GeoJson(\n",
    "    NeiBmerge,\n",
    "    style_function=style_zero_function,\n",
    "    tooltip=folium.GeoJsonTooltip(\n",
    "        fields=['Neighbourhood'],\n",
    "        aliases=['Neighbourhood'],\n",
    "        localize=False\n",
    "    ),\n",
    "    ).add_to(edmA_map)\n",
    "\n",
    "colormap.add_to(edmA_map)\n",
    "edmA_map"
   ]
  },
  {
   "cell_type": "code",
   "execution_count": null,
   "metadata": {},
   "outputs": [],
   "source": [
    "from branca.element import Template, MacroElement\n",
    "\n",
    "template = \"\"\"\n",
    "{% macro html(this, kwargs) %}\n",
    "\n",
    "<!doctype html>\n",
    "<html lang=\"en\">\n",
    "<head>\n",
    "  <meta charset=\"utf-8\">\n",
    "  <meta name=\"viewport\" content=\"width=device-width, initial-scale=1\">\n",
    "  <title>jQuery UI Draggable - Default functionality</title>\n",
    "  <link rel=\"stylesheet\" href=\"//code.jquery.com/ui/1.12.1/themes/base/jquery-ui.css\">\n",
    "\n",
    "  <script src=\"https://code.jquery.com/jquery-1.12.4.js\"></script>\n",
    "  <script src=\"https://code.jquery.com/ui/1.12.1/jquery-ui.js\"></script>\n",
    "  \n",
    "  <script>\n",
    "  $( function() {\n",
    "    $( \"#maplegend\" ).draggable({\n",
    "                    start: function (event, ui) {\n",
    "                        $(this).css({\n",
    "                            right: \"auto\",\n",
    "                            top: \"auto\",\n",
    "                            bottom: \"auto\"\n",
    "                        });\n",
    "                    }\n",
    "                });\n",
    "});\n",
    "\n",
    "  </script>\n",
    "</head>\n",
    "<body>\n",
    "\n",
    " \n",
    "<div id='maplegend' class='maplegend' \n",
    "    style='position: absolute; z-index:9999; border:2px solid grey; background-color:rgba(255, 255, 255, 0.8);\n",
    "     border-radius:6px; padding: 10px; font-size:14px; right: 20px; bottom: 20px;'>\n",
    "     \n",
    "<div class='legend-title'>Percentage change in 1 person household (%)</div>\n",
    "<div class='legend-scale'>\n",
    "  <ul class='legend-labels'>\n",
    "    <li><span style='background:#c51b7d;opacity:0.7;'></span><-30%</li>\n",
    "    <li><span style='background:#e9a3c9;opacity:0.7;'></span>-30% to -15%</li>\n",
    "    <li><span style='background:#fde0ef;opacity:0.7;'></span>-15% to 0%</li>\n",
    "    <li><span style='background:#e6f5d0;opacity:0.7;'></span>0% to 15%</li>\n",
    "    <li><span style='background:#a1d76a;opacity:0.7;'></span>15% to 30%</li>\n",
    "    <li><span style='background:#4d9221;opacity:0.7;'></span>>30%</li>\n",
    "    <li><span style='background:grey;opacity:0.7;'></span>new neighbourhood</li>\n",
    "\n",
    "\n",
    "  </ul>\n",
    "</div>\n",
    "</div>\n",
    " \n",
    "</body>\n",
    "</html>\n",
    "\n",
    "<style type='text/css'>\n",
    "  .maplegend .legend-title {\n",
    "    text-align: left;\n",
    "    margin-bottom: 5px;\n",
    "    font-weight: bold;\n",
    "    font-size: 90%;\n",
    "    }\n",
    "  .maplegend .legend-scale ul {\n",
    "    margin: 0;\n",
    "    margin-bottom: 5px;\n",
    "    padding: 0;\n",
    "    float: left;\n",
    "    list-style: none;\n",
    "    }\n",
    "  .maplegend .legend-scale ul li {\n",
    "    font-size: 80%;\n",
    "    list-style: none;\n",
    "    margin-left: 0;\n",
    "    line-height: 18px;\n",
    "    margin-bottom: 2px;\n",
    "    }\n",
    "  .maplegend ul.legend-labels li span {\n",
    "    display: block;\n",
    "    float: left;\n",
    "    height: 16px;\n",
    "    width: 30px;\n",
    "    margin-right: 5px;\n",
    "    margin-left: 0;\n",
    "    border: 1px solid #999;\n",
    "    }\n",
    "  .maplegend .legend-source {\n",
    "    font-size: 80%;\n",
    "    color: #777;\n",
    "    clear: both;\n",
    "    }\n",
    "  .maplegend a {\n",
    "    color: #777;\n",
    "    }\n",
    "</style>\n",
    "{% endmacro %}\"\"\"\n",
    "\n",
    "macro = MacroElement()\n",
    "macro._template = Template(template)\n",
    "\n",
    "edmA_map.get_root().add_child(macro)\n",
    "\n",
    "edmA_map"
   ]
  },
  {
   "cell_type": "code",
   "execution_count": null,
   "metadata": {},
   "outputs": [],
   "source": []
  },
  {
   "cell_type": "markdown",
   "metadata": {},
   "source": [
    "## C6. Family with/without children\n",
    "Reference：\n",
    " - https://public.tableau.com/profile/city.of.edmonton#!/vizhome/NeighbourhoodProfiles_FederalCensus2016/FamilyandLanguage\n",
    "1. Download Tableau from the website\n",
    "2. Access data by clicking 'data' from tableau and explore all into csv\n",
    "3. upload to IBM_Cloud→Db2-vs→Manage→Open console→Load data (under GLN55437)"
   ]
  },
  {
   "cell_type": "markdown",
   "metadata": {},
   "source": [
    "### Import data 2016"
   ]
  },
  {
   "cell_type": "markdown",
   "metadata": {},
   "source": [
    "Import data from SQL SERVER"
   ]
  },
  {
   "cell_type": "code",
   "execution_count": null,
   "metadata": {},
   "outputs": [],
   "source": [
    "#query statement to retrieve all rows in INSTRUCTOR table\n",
    "selectQuery = \"select * from FAMILY_COUPLE\"\n",
    "\n",
    "#retrieve the query results into a pandas dataframe\n",
    "f_couple = pandas.read_sql(selectQuery, pconn)\n",
    "\n",
    "#print just the LNAME for first row in the pandas data frame\n",
    "f_couple.head()"
   ]
  },
  {
   "cell_type": "code",
   "execution_count": null,
   "metadata": {},
   "outputs": [],
   "source": [
    "#query statement to retrieve all rows in INSTRUCTOR table\n",
    "selectQuery = \"select * from FAMILY_LONEPARENT\"\n",
    "\n",
    "#retrieve the query results into a pandas dataframe\n",
    "f_lone = pandas.read_sql(selectQuery, pconn)\n",
    "\n",
    "#print just the LNAME for first row in the pandas data frame\n",
    "f_lone.head()"
   ]
  },
  {
   "cell_type": "markdown",
   "metadata": {},
   "source": [
    "### Clean data 2016"
   ]
  },
  {
   "cell_type": "code",
   "execution_count": null,
   "metadata": {},
   "outputs": [],
   "source": [
    "f_couple.rename(columns={'NAME':'Neighbourhood','Couple_Children_POP':'Family Number','Couple_Children_Group':'Children Group'}, inplace=True)\n",
    "f_couple['Neighbourhood']=f_couple['Neighbourhood'].str.title()\n",
    "f_couple.drop(['Nbhd_Num','Couple_Children_Percentage'],axis=1, inplace=True)\n",
    "f_couple['Neighbourhood']=f_couple['Neighbourhood'].replace({'Mccauley':'McCauley',\n",
    "                                                             'Mckernan':'McKernan',\n",
    "                                                             'Mcleod':'McLeod',\n",
    "                                                             'Mcqueen':'McQueen',\n",
    "                                                             'Place Larue':'Place LaRue',\n",
    "                                                             'Rapperswil':'Rapperswill',\n",
    "                                                             \"River'S Edge\":\"River's Edge\",\n",
    "                                                             'Westbrook Estate':'Westbrook Estates',\n",
    "                                                             'Mcconachie Area':'McConachie Area',\n",
    "                                                             'University Of Alberta Farm':'University of Alberta Farm',\n",
    "                                                             'University Of Alberta':'University of Alberta',\n",
    "                                                             'Glenridding Area':'Glenridding Heights',\n",
    "                                                             'Macewan':'MacEwan',\n",
    "                                                             'Central Mcdougall': 'Central McDougall'})\n",
    "f_couple.sort_values(['Neighbourhood'], inplace=True ,ascending=True)\n",
    "\n",
    "\n",
    "couple2016 = pd.merge(f_couple,\n",
    "                      dclassMED[['Neighbourhood']],\n",
    "                      on='Neighbourhood')\n",
    "couple2016.tail()"
   ]
  },
  {
   "cell_type": "code",
   "execution_count": null,
   "metadata": {},
   "outputs": [],
   "source": [
    "dm1=couple2016.copy()\n",
    "dm2=dclassMED.copy()\n",
    "dm1=dm1.groupby('Neighbourhood',axis=0)['Family Number'].sum().reset_index()\n",
    "dm1=dm1[['Neighbourhood']]\n",
    "dm2=dm2[['Neighbourhood']]\n",
    "dmiss=dm2[~dm2.apply(tuple,1).isin(dm1.apply(tuple,1))]\n",
    "\n",
    "dmiss.reset_index(drop=True, inplace=True)\n",
    "dmiss.tail()"
   ]
  },
  {
   "cell_type": "code",
   "execution_count": null,
   "metadata": {},
   "outputs": [],
   "source": [
    "f_lone.rename(columns={'NAME':'Neighbourhood','Lone_Parent_Children_POP':'Family Number','Lone_Parent_Children':'Children Group'}, inplace=True)\n",
    "f_lone['Neighbourhood']=f_lone['Neighbourhood'].str.title()\n",
    "f_lone.drop(['Nbhd_Num','Lone_Parent_Children_Percentage'],axis=1, inplace=True)\n",
    "f_lone['Neighbourhood']=f_lone['Neighbourhood'].replace({'Mccauley':'McCauley',\n",
    "                                                             'Mckernan':'McKernan',\n",
    "                                                             'Mcleod':'McLeod',\n",
    "                                                             'Mcqueen':'McQueen',\n",
    "                                                             'Place Larue':'Place LaRue',\n",
    "                                                             'Rapperswil':'Rapperswill',\n",
    "                                                             \"River'S Edge\":\"River's Edge\",\n",
    "                                                             'Westbrook Estate':'Westbrook Estates',\n",
    "                                                             'Mcconachie Area':'McConachie Area',\n",
    "                                                             'University Of Alberta Farm':'University of Alberta Farm',\n",
    "                                                             'University Of Alberta':'University of Alberta',\n",
    "                                                             'Glenridding Area':'Glenridding Heights',\n",
    "                                                             'Macewan':'MacEwan',\n",
    "                                                             'Central Mcdougall': 'Central McDougall'})\n",
    "f_lone.sort_values(['Neighbourhood'], inplace=True ,ascending=True)\n",
    "\n",
    "\n",
    "lone2016 = pd.merge(f_lone,\n",
    "                      dclassMED[['Neighbourhood']],\n",
    "                      on='Neighbourhood')\n",
    "lone2016.tail()"
   ]
  },
  {
   "cell_type": "code",
   "execution_count": null,
   "metadata": {},
   "outputs": [],
   "source": [
    "fami2016=couple2016.copy()\n",
    "fami2016= fami2016.append(lone2016, ignore_index=True)\n",
    "fami2016.sort_values(['Neighbourhood'], inplace=True ,ascending=True)\n",
    "fami2016.reset_index(drop=True, inplace=True)\n",
    "fami2016.head(10)"
   ]
  },
  {
   "cell_type": "code",
   "execution_count": null,
   "metadata": {},
   "outputs": [],
   "source": [
    "fami2016['Family Number']=fami2016['Family Number'].astype(float)\n",
    "fami2016 = fami2016.groupby(['Children Group','Neighbourhood'],axis=0)['Family Number'].sum().reset_index()\n",
    "fami2016.sort_values(['Neighbourhood'], inplace=True ,ascending=True)\n",
    "fami2016.reset_index(drop=True, inplace=True)\n",
    "fami2016.head(10)"
   ]
  },
  {
   "cell_type": "code",
   "execution_count": null,
   "metadata": {},
   "outputs": [],
   "source": [
    "S_fami2016=fami2016.copy()\n",
    "S_fami2016=S_fami2016.pivot(index='Neighbourhood',columns='Children Group',values='Family Number')\n",
    "S_fami2016['Total']=S_fami2016.sum(axis=1)\n",
    "S_fami2016['Without children (%)']=(S_fami2016['Without children']/S_fami2016['Total']*100).round(2)\n",
    "S_fami2016['With children (%)']=((S_fami2016['One child']+S_fami2016['Two children']+S_fami2016['Three or more children'])/S_fami2016['Total']*100).round(2)\n",
    "S_fami2016=S_fami2016.fillna(0)\n",
    "S_fami2016.sort_values(['Without children (%)'], inplace=True ,ascending=True)\n",
    "S_fami2016.head(10)"
   ]
  },
  {
   "cell_type": "code",
   "execution_count": null,
   "metadata": {},
   "outputs": [],
   "source": [
    "\n",
    "a=S_fami2016.copy()\n",
    "a=a['Without children (%)'].reset_index()\n",
    "b=S_fami2016.copy()\n",
    "b=b['With children (%)'].reset_index()\n",
    "family2016 = pd.merge(a,\n",
    "                b,\n",
    "                 on='Neighbourhood')\n",
    "#family2016.set_index('Neighbourhood', inplace=True)\n",
    "family2016.tail()"
   ]
  },
  {
   "cell_type": "markdown",
   "metadata": {},
   "source": [
    "### HEAT MAP - 2016"
   ]
  },
  {
   "cell_type": "code",
   "execution_count": null,
   "metadata": {},
   "outputs": [],
   "source": [
    "import geopandas as gpd\n",
    "response = requests.get(r\"https://data.edmonton.ca/api/geospatial/tvcx-3vrx?method=export&format=GeoJSON\")\n",
    "data = response.json()\n",
    "NeisB = gpd.GeoDataFrame.from_features(data, crs='EPSG:4326')\n",
    "\n",
    "NeisB.tail()"
   ]
  },
  {
   "cell_type": "code",
   "execution_count": null,
   "metadata": {},
   "outputs": [],
   "source": [
    "NeisB.rename(columns={'name':'Neighbourhood'}, inplace=True)\n",
    "NeiAmerge = pd.merge(NeisB,\n",
    "                family2016[['Neighbourhood','Without children (%)']],\n",
    "                 on='Neighbourhood')\n",
    "\n",
    "#NeiAmerge.loc[NeiAmerge['Neighbourhood'] == 'Mill Woods Park', 'Without children (%)'] = 7.1 #reference: stat canada 2016 census\n",
    "#NeiAmerge.loc[NeiAmerge['Neighbourhood'] == 'University of Alberta Farm', 'Without children (%)'] = 40.3\n",
    "#NeiAmerge.loc[NeiAmerge['Neighbourhood'] == 'University of Alberta', 'Without children (%)'] = 88.6\n",
    "#NeiAmerge.loc[NeiAmerge['Neighbourhood'] == 'Place LaRue', 'Without children (%)'] = 0\n",
    "NeiAmerge.tail()"
   ]
  },
  {
   "cell_type": "code",
   "execution_count": null,
   "metadata": {},
   "outputs": [],
   "source": [
    "import branca.colormap as cm\n",
    "#colormap = cm.linear.YlGnBu_09\n",
    "colormap = cm.linear.RdPu_08.scale(0, 60).to_step(6) \n",
    "colormap"
   ]
  },
  {
   "cell_type": "code",
   "execution_count": null,
   "metadata": {},
   "outputs": [],
   "source": [
    "from folium.features import GeoJson, GeoJsonTooltip, GeoJsonPopup\n",
    "\n",
    "# create a plain world map\n",
    "edmA_map = folium.Map(location=[latitude, longitude], zoom_start=10, tiles='CartoDB positron')\n",
    "colormap.caption = \"Percentage of Census Families without children by neighbourhood\"\n",
    "\n",
    "style_function = lambda x: {\"weight\":0.5, \n",
    "                            'color':'black',\n",
    "                            'fillColor':colormap(x['properties']['Without children (%)']), \n",
    "                            'fillOpacity':0.75}\n",
    "highlight_function = lambda x: {'fillColor': '#000000', \n",
    "                                'color':'#000000', \n",
    "                                'fillOpacity': 0.50, \n",
    "                                'weight': 0.1}\n",
    "\n",
    "\n",
    "\n",
    "g = folium.GeoJson(\n",
    "    NeiAmerge,\n",
    "    style_function=style_function,\n",
    "    control=False,\n",
    "    highlight_function=highlight_function,\n",
    "    tooltip=folium.features.GeoJsonTooltip(\n",
    "        fields=['Neighbourhood','Without children (%)'],\n",
    "        aliases=['Neighbourhood','Without children (%)'],\n",
    "        style=(\"background-color: white; color: #333333; font-family: arial; font-size: 12px; padding: 10px;\"),\n",
    "        sticky=True\n",
    "        )).add_to(edmA_map)\n",
    "\n",
    "colormap.add_to(edmA_map)"
   ]
  },
  {
   "cell_type": "code",
   "execution_count": null,
   "metadata": {},
   "outputs": [],
   "source": [
    "from branca.element import Template, MacroElement\n",
    "\n",
    "template = \"\"\"\n",
    "{% macro html(this, kwargs) %}\n",
    "\n",
    "<!doctype html>\n",
    "<html lang=\"en\">\n",
    "<head>\n",
    "  <meta charset=\"utf-8\">\n",
    "  <meta name=\"viewport\" content=\"width=device-width, initial-scale=1\">\n",
    "  <title>jQuery UI Draggable - Default functionality</title>\n",
    "  <link rel=\"stylesheet\" href=\"//code.jquery.com/ui/1.12.1/themes/base/jquery-ui.css\">\n",
    "\n",
    "  <script src=\"https://code.jquery.com/jquery-1.12.4.js\"></script>\n",
    "  <script src=\"https://code.jquery.com/ui/1.12.1/jquery-ui.js\"></script>\n",
    "  \n",
    "  <script>\n",
    "  $( function() {\n",
    "    $( \"#maplegend\" ).draggable({\n",
    "                    start: function (event, ui) {\n",
    "                        $(this).css({\n",
    "                            right: \"auto\",\n",
    "                            top: \"auto\",\n",
    "                            bottom: \"auto\"\n",
    "                        });\n",
    "                    }\n",
    "                });\n",
    "});\n",
    "\n",
    "  </script>\n",
    "</head>\n",
    "<body>\n",
    "\n",
    " \n",
    "<div id='maplegend' class='maplegend' \n",
    "    style='position: absolute; z-index:9999; border:2px solid grey; background-color:rgba(255, 255, 255, 0.8);\n",
    "     border-radius:6px; padding: 10px; font-size:14px; right: 20px; bottom: 20px;'>\n",
    "     \n",
    "<div class='legend-title'>Family without child (%)</div>\n",
    "<div class='legend-scale'>\n",
    "  <ul class='legend-labels'>\n",
    "    <li><span style='background:#FEEBE2;opacity:0.7;'></span><10%</li>\n",
    "    <li><span style='background:#FCC5C0;opacity:0.7;'></span>10% to 20%</li>\n",
    "    <li><span style='background:#FA9FB5;opacity:0.7;'></span>20% to 30%</li>\n",
    "    <li><span style='background:#F768A1;opacity:0.7;'></span>30% to 40%</li>\n",
    "    <li><span style='background:#AE017E;opacity:0.7;'></span>40% to 50%</li>\n",
    "    <li><span style='background:#7A0177;opacity:0.7;'></span>>50%</li>\n",
    "\n",
    "\n",
    "  </ul>\n",
    "</div>\n",
    "</div>\n",
    " \n",
    "</body>\n",
    "</html>\n",
    "\n",
    "<style type='text/css'>\n",
    "  .maplegend .legend-title {\n",
    "    text-align: left;\n",
    "    margin-bottom: 5px;\n",
    "    font-weight: bold;\n",
    "    font-size: 90%;\n",
    "    }\n",
    "  .maplegend .legend-scale ul {\n",
    "    margin: 0;\n",
    "    margin-bottom: 5px;\n",
    "    padding: 0;\n",
    "    float: left;\n",
    "    list-style: none;\n",
    "    }\n",
    "  .maplegend .legend-scale ul li {\n",
    "    font-size: 80%;\n",
    "    list-style: none;\n",
    "    margin-left: 0;\n",
    "    line-height: 18px;\n",
    "    margin-bottom: 2px;\n",
    "    }\n",
    "  .maplegend ul.legend-labels li span {\n",
    "    display: block;\n",
    "    float: left;\n",
    "    height: 16px;\n",
    "    width: 30px;\n",
    "    margin-right: 5px;\n",
    "    margin-left: 0;\n",
    "    border: 1px solid #999;\n",
    "    }\n",
    "  .maplegend .legend-source {\n",
    "    font-size: 80%;\n",
    "    color: #777;\n",
    "    clear: both;\n",
    "    }\n",
    "  .maplegend a {\n",
    "    color: #777;\n",
    "    }\n",
    "</style>\n",
    "{% endmacro %}\"\"\"\n",
    "\n",
    "macro = MacroElement()\n",
    "macro._template = Template(template)\n",
    "\n",
    "edmA_map.get_root().add_child(macro)\n",
    "\n",
    "edmA_map"
   ]
  },
  {
   "cell_type": "markdown",
   "metadata": {},
   "source": [
    "### Import data 2001"
   ]
  },
  {
   "cell_type": "markdown",
   "metadata": {},
   "source": [
    "Import data from SQL SERVER    \n",
    "Reference:\n",
    "https://www.edmonton.ca/business_economy/documents/InfraPlan/FamilyHholds.pdf"
   ]
  },
  {
   "cell_type": "code",
   "execution_count": null,
   "metadata": {},
   "outputs": [],
   "source": [
    "#query statement to retrieve all rows in INSTRUCTOR table\n",
    "selectQuery = \"select * from FAMILY_SIZE2001\"\n",
    "\n",
    "#retrieve the query results into a pandas dataframe\n",
    "f_children = pandas.read_sql(selectQuery, pconn)\n",
    "\n",
    "#print just the LNAME for first row in the pandas data frame\n",
    "f_children.head()"
   ]
  },
  {
   "cell_type": "markdown",
   "metadata": {},
   "source": [
    "### Clean data 2001"
   ]
  },
  {
   "cell_type": "code",
   "execution_count": null,
   "metadata": {},
   "outputs": [],
   "source": [
    "f_children.drop(f_children.head(2).index,inplace=True) # drop first n rows\n",
    "f_children=f_children[['Neighbourhood','No_children','Total']]\n",
    "f_children['No_children (%)']=f_children['No_children']/f_children['Total']*100\n",
    "f_children.sort_values(['No_children (%)'], inplace=True ,ascending=True)\n",
    "f_children.reset_index(drop=True, inplace=True)\n",
    "f_children.tail()"
   ]
  },
  {
   "cell_type": "markdown",
   "metadata": {},
   "source": [
    "### HEAT MAP - 2001"
   ]
  },
  {
   "cell_type": "code",
   "execution_count": null,
   "metadata": {},
   "outputs": [],
   "source": [
    "import geopandas as gpd\n",
    "response = requests.get(r\"https://data.edmonton.ca/api/geospatial/tvcx-3vrx?method=export&format=GeoJSON\")\n",
    "data = response.json()\n",
    "NeisB = gpd.GeoDataFrame.from_features(data, crs='EPSG:4326')\n",
    "\n",
    "NeisB.tail()"
   ]
  },
  {
   "cell_type": "code",
   "execution_count": null,
   "metadata": {},
   "outputs": [],
   "source": [
    "NeisB.rename(columns={'name':'Neighbourhood'}, inplace=True)\n",
    "NeiAmerge = pd.merge(NeisB,\n",
    "                f_children[['Neighbourhood','No_children (%)']],\n",
    "                 on='Neighbourhood')\n",
    "\n",
    "NeiAmerge.tail()"
   ]
  },
  {
   "cell_type": "code",
   "execution_count": null,
   "metadata": {},
   "outputs": [],
   "source": [
    "import branca.colormap as cm\n",
    "#colormap = cm.linear.YlGnBu_09\n",
    "colormap = cm.linear.RdPu_08.scale(0, 60).to_step(6) \n",
    "colormap"
   ]
  },
  {
   "cell_type": "code",
   "execution_count": null,
   "metadata": {},
   "outputs": [],
   "source": [
    "from folium.features import GeoJson, GeoJsonTooltip, GeoJsonPopup\n",
    "\n",
    "# create a plain world map\n",
    "edmA_map = folium.Map(location=[latitude, longitude], zoom_start=10, tiles='CartoDB positron')\n",
    "colormap.caption = \"Percentage of 1 person household by neighbourhood in 2016\"\n",
    "\n",
    "style_function = lambda x: {\"weight\":0.5, \n",
    "                            'color':'black',\n",
    "                            'fillColor':colormap(x['properties']['No_children (%)']), \n",
    "                            'fillOpacity':0.75}\n",
    "highlight_function = lambda x: {'fillColor': '#000000', \n",
    "                                'color':'#000000', \n",
    "                                'fillOpacity': 0.50, \n",
    "                                'weight': 0.1}\n",
    "\n",
    "\n",
    "\n",
    "g = folium.GeoJson(\n",
    "    NeiAmerge,\n",
    "    style_function=style_function,\n",
    "    control=False,\n",
    "    highlight_function=highlight_function,\n",
    "    tooltip=folium.features.GeoJsonTooltip(\n",
    "        fields=['Neighbourhood','No_children (%)'],\n",
    "        aliases=['Neighbourhood','No_children (%)'],\n",
    "        style=(\"background-color: white; color: #333333; font-family: arial; font-size: 12px; padding: 10px;\"),\n",
    "        sticky=True\n",
    "        )).add_to(edmA_map)\n",
    "\n",
    "colormap.add_to(edmA_map)\n",
    "#edmA_map"
   ]
  },
  {
   "cell_type": "code",
   "execution_count": null,
   "metadata": {},
   "outputs": [],
   "source": [
    "from branca.element import Template, MacroElement\n",
    "\n",
    "template = \"\"\"\n",
    "{% macro html(this, kwargs) %}\n",
    "\n",
    "<!doctype html>\n",
    "<html lang=\"en\">\n",
    "<head>\n",
    "  <meta charset=\"utf-8\">\n",
    "  <meta name=\"viewport\" content=\"width=device-width, initial-scale=1\">\n",
    "  <title>jQuery UI Draggable - Default functionality</title>\n",
    "  <link rel=\"stylesheet\" href=\"//code.jquery.com/ui/1.12.1/themes/base/jquery-ui.css\">\n",
    "\n",
    "  <script src=\"https://code.jquery.com/jquery-1.12.4.js\"></script>\n",
    "  <script src=\"https://code.jquery.com/ui/1.12.1/jquery-ui.js\"></script>\n",
    "  \n",
    "  <script>\n",
    "  $( function() {\n",
    "    $( \"#maplegend\" ).draggable({\n",
    "                    start: function (event, ui) {\n",
    "                        $(this).css({\n",
    "                            right: \"auto\",\n",
    "                            top: \"auto\",\n",
    "                            bottom: \"auto\"\n",
    "                        });\n",
    "                    }\n",
    "                });\n",
    "});\n",
    "\n",
    "  </script>\n",
    "</head>\n",
    "<body>\n",
    "\n",
    " \n",
    "<div id='maplegend' class='maplegend' \n",
    "    style='position: absolute; z-index:9999; border:2px solid grey; background-color:rgba(255, 255, 255, 0.8);\n",
    "     border-radius:6px; padding: 10px; font-size:14px; right: 20px; bottom: 20px;'>\n",
    "     \n",
    "<div class='legend-title'>Family without child (%)</div>\n",
    "<div class='legend-scale'>\n",
    "  <ul class='legend-labels'>\n",
    "    <li><span style='background:#FEEBE2;opacity:0.7;'></span><10%</li>\n",
    "    <li><span style='background:#FCC5C0;opacity:0.7;'></span>10% to 20%</li>\n",
    "    <li><span style='background:#FA9FB5;opacity:0.7;'></span>20% to 30%</li>\n",
    "    <li><span style='background:#F768A1;opacity:0.7;'></span>30% to 40%</li>\n",
    "    <li><span style='background:#AE017E;opacity:0.7;'></span>40% to 50%</li>\n",
    "    <li><span style='background:#7A0177;opacity:0.7;'></span>>50%</li>\n",
    "\n",
    "\n",
    "  </ul>\n",
    "</div>\n",
    "</div>\n",
    " \n",
    "</body>\n",
    "</html>\n",
    "\n",
    "<style type='text/css'>\n",
    "  .maplegend .legend-title {\n",
    "    text-align: left;\n",
    "    margin-bottom: 5px;\n",
    "    font-weight: bold;\n",
    "    font-size: 90%;\n",
    "    }\n",
    "  .maplegend .legend-scale ul {\n",
    "    margin: 0;\n",
    "    margin-bottom: 5px;\n",
    "    padding: 0;\n",
    "    float: left;\n",
    "    list-style: none;\n",
    "    }\n",
    "  .maplegend .legend-scale ul li {\n",
    "    font-size: 80%;\n",
    "    list-style: none;\n",
    "    margin-left: 0;\n",
    "    line-height: 18px;\n",
    "    margin-bottom: 2px;\n",
    "    }\n",
    "  .maplegend ul.legend-labels li span {\n",
    "    display: block;\n",
    "    float: left;\n",
    "    height: 16px;\n",
    "    width: 30px;\n",
    "    margin-right: 5px;\n",
    "    margin-left: 0;\n",
    "    border: 1px solid #999;\n",
    "    }\n",
    "  .maplegend .legend-source {\n",
    "    font-size: 80%;\n",
    "    color: #777;\n",
    "    clear: both;\n",
    "    }\n",
    "  .maplegend a {\n",
    "    color: #777;\n",
    "    }\n",
    "</style>\n",
    "{% endmacro %}\"\"\"\n",
    "\n",
    "macro = MacroElement()\n",
    "macro._template = Template(template)\n",
    "\n",
    "edmA_map.get_root().add_child(macro)\n",
    "\n",
    "edmA_map"
   ]
  },
  {
   "cell_type": "markdown",
   "metadata": {},
   "source": [
    "### comparison 2001 and 2016"
   ]
  },
  {
   "cell_type": "code",
   "execution_count": null,
   "metadata": {},
   "outputs": [],
   "source": [
    "f_children2001=f_children.copy()\n",
    "\n",
    "\n",
    "f_children2001['Neighbourhood']=f_children2001['Neighbourhood'].replace({'Thorncliffe':'Thorncliff',\n",
    "                                                                'Westbrook Estate':'Westbrook Estates',\n",
    "                                                                'CFB Griesbach':'Griesbach',\n",
    "                                                                 'Mcleod':'McLeod',\n",
    "                                                                 'Millwoods Town Centre':'Mill Woods Town Centre',\n",
    "                                                                 'Clareview Business Park':'Clareview Town Centre',\n",
    "                                                                 'Place La Rue':'Place LaRue',\n",
    "                                                                 'Eaux Claires - Belle Rive':'Eaux Claires',\n",
    "                                                                 'Mayliewan - Ozerna':'Mayliewan',\n",
    "                                                                 'Hollick Kenyon':'Hollick-Kenyon',\n",
    "                                                                   'Rural West':'Rural West Big Lake',\n",
    "                                                                   'Rural NE - Horse Hill':'Rural North East Horse Hill',\n",
    "                                                                   'Rural NE - South Sturgeon':'Rural North East South Sturgeon'\n",
    "                                                                })\n",
    "f_children2001=f_children2001.append(f_children[f_children.Neighbourhood.str.contains(\"Eaux Claires - Belle Rive\")], ignore_index=True)\n",
    "f_children2001['Neighbourhood']=f_children2001['Neighbourhood'].replace({'Eaux Claires - Belle Rive':'Belle Rive'})\n",
    "f_children2001=f_children2001.append(f_children[f_children.Neighbourhood.str.contains(\"Mayliewan - Ozerna\")], ignore_index=True)\n",
    "f_children2001['Neighbourhood']=f_children2001['Neighbourhood'].replace({'Mayliewan - Ozerna':'Ozerna'})\n",
    "f_children2001=f_children2001.append(f_children[f_children.Neighbourhood.str.contains(\"Millwoods Town Centre\")], ignore_index=True)\n",
    "f_children2001['Neighbourhood']=f_children2001['Neighbourhood'].replace({'Millwoods Town Centre':'Mill Woods Park'})\n",
    "\n",
    "child01and16 = pd.merge(family2016[['Neighbourhood','Without children (%)']],\n",
    "                f_children2001[['Neighbourhood','No_children (%)']],\n",
    "                 on='Neighbourhood')\n",
    "child01and16['No children percentage difference between 2001 to 2016 (%)']=child01and16['Without children (%)']-child01and16['No_children (%)']\n",
    "child01and16.tail()"
   ]
  },
  {
   "cell_type": "code",
   "execution_count": null,
   "metadata": {},
   "outputs": [],
   "source": [
    "child01and16.drop(['Without children (%)','No_children (%)'],axis=1, inplace=True)\n",
    "child01and16=child01and16.round(1)\n",
    "child01and16.sort_values(['No children percentage difference between 2001 to 2016 (%)'], inplace=True ,ascending=True)\n",
    "child01and16.reset_index(drop=True, inplace=True)\n",
    "child01and16.tail()"
   ]
  },
  {
   "cell_type": "code",
   "execution_count": null,
   "metadata": {},
   "outputs": [],
   "source": [
    "dm1=child01and16.copy()\n",
    "dm2=f_children2001.copy()\n",
    "\n",
    "dm1=dm1[['Neighbourhood']]\n",
    "dm2=dm2[['Neighbourhood']]\n",
    "\n",
    "dmiss=dm2[~dm2.apply(tuple,1).isin(dm1.apply(tuple,1))]\n",
    "#dmiss=dm1[~dm1.apply(tuple,1).isin(dm2.apply(tuple,1))]\n",
    "\n",
    "dmiss.sort_values(['Neighbourhood'], inplace=True ,ascending=True)\n",
    "dmiss.reset_index(drop=True, inplace=True)\n",
    "dmiss#.tail()"
   ]
  },
  {
   "cell_type": "code",
   "execution_count": null,
   "metadata": {},
   "outputs": [],
   "source": [
    "dm1=child01and16.copy()\n",
    "#dm2=single01and16.copy()\n",
    "dm2=dclassMED.copy()\n",
    "\n",
    "dm1=dm1[['Neighbourhood']]\n",
    "dm2=dm2[['Neighbourhood']]\n",
    "\n",
    "dmiss=dm2[~dm2.apply(tuple,1).isin(dm1.apply(tuple,1))]\n",
    "#dmiss=dm1[~dm1.apply(tuple,1).isin(dm2.apply(tuple,1))]\n",
    "\n",
    "dmiss['No children percentage difference between 2001 to 2016 (%)']=[100]*len(dmiss)\n",
    "dmiss.sort_values(['Neighbourhood'], inplace=True ,ascending=True)\n",
    "dmiss.reset_index(drop=True, inplace=True)\n",
    "dmiss.tail()"
   ]
  },
  {
   "cell_type": "markdown",
   "metadata": {},
   "source": [
    "child01and16=child01and16.append(dmiss, ignore_index=True)"
   ]
  },
  {
   "cell_type": "markdown",
   "metadata": {},
   "source": [
    "### HEAT MAP - % change"
   ]
  },
  {
   "cell_type": "code",
   "execution_count": null,
   "metadata": {},
   "outputs": [],
   "source": [
    "import geopandas as gpd\n",
    "response = requests.get(r\"https://data.edmonton.ca/api/geospatial/tvcx-3vrx?method=export&format=GeoJSON\")\n",
    "data = response.json()\n",
    "NeisB = gpd.GeoDataFrame.from_features(data, crs='EPSG:4326')\n",
    "\n",
    "NeisB.tail()"
   ]
  },
  {
   "cell_type": "code",
   "execution_count": null,
   "metadata": {},
   "outputs": [],
   "source": [
    "NeisB.rename(columns={'name':'Neighbourhood'}, inplace=True)\n",
    "NeiAmerge = pd.merge(NeisB,\n",
    "                child01and16,\n",
    "                 on='Neighbourhood')\n",
    "\n",
    "NeiAmerge.loc[NeiAmerge['Neighbourhood'] == 'Mill Woods Park', 'No children percentage difference between 2001 to 2016 (%)'] = 0\n",
    "NeiAmerge.loc[NeiAmerge['Neighbourhood'] == 'University of Alberta Farm', 'No children percentage difference between 2001 to 2016 (%)'] = 0\n",
    "NeiAmerge.loc[NeiAmerge['Neighbourhood'] == 'University of Alberta', 'No children percentage difference between 2001 to 2016 (%)'] = 0\n",
    "NeiAmerge.loc[NeiAmerge['Neighbourhood'] == 'Place LaRue', 'No children percentage difference between 2001 to 2016 (%)'] = 0\n",
    "NeiAmerge.tail()"
   ]
  },
  {
   "cell_type": "code",
   "execution_count": null,
   "metadata": {},
   "outputs": [],
   "source": [
    "NeisB.rename(columns={'name':'Neighbourhood'}, inplace=True)\n",
    "NeiBmerge = pd.merge(NeisB,\n",
    "                dmiss,\n",
    "                 on='Neighbourhood')\n",
    "NeiBmerge.tail()"
   ]
  },
  {
   "cell_type": "code",
   "execution_count": null,
   "metadata": {},
   "outputs": [],
   "source": [
    "import branca.colormap as cm\n",
    "#colormap = cm.linear.YlGnBu_09\n",
    "colormap = cm.linear.PiYG_06.scale(-30, 30).to_step(6) \n",
    "colormap"
   ]
  },
  {
   "cell_type": "code",
   "execution_count": null,
   "metadata": {},
   "outputs": [],
   "source": [
    "from folium.features import GeoJson, GeoJsonTooltip, GeoJsonPopup\n",
    "\n",
    "# create a plain world map\n",
    "edmA_map = folium.Map(location=[latitude, longitude], zoom_start=10, tiles='CartoDB positron')\n",
    "colormap.caption = \"% change\"\n",
    "\n",
    "style_function = lambda x: {\"weight\":0.5, \n",
    "                            'color':'black',\n",
    "                            'fillColor':colormap(x['properties']['No children percentage difference between 2001 to 2016 (%)']), \n",
    "                            'fillOpacity':0.75}\n",
    "highlight_function = lambda x: {'fillColor': '#000000', \n",
    "                                'color':'#000000', \n",
    "                                'fillOpacity': 0.50, \n",
    "                                'weight': 0.1}\n",
    "\n",
    "g = folium.GeoJson(\n",
    "    NeiAmerge,\n",
    "    style_function=style_function,\n",
    "    control=False,\n",
    "    highlight_function=highlight_function,\n",
    "    tooltip=folium.features.GeoJsonTooltip(\n",
    "        fields=['Neighbourhood','No children percentage difference between 2001 to 2016 (%)'],\n",
    "        aliases=['Neighbourhood','No children percentage difference between 2001 to 2016 (%)'],\n",
    "        style=(\"background-color: white; color: #333333; font-family: arial; font-size: 12px; padding: 10px;\"),\n",
    "        sticky=True\n",
    "        )).add_to(edmA_map)\n",
    "\n",
    "from folium import plugins\n",
    "\n",
    "def style_zero_function(feature):\n",
    "    default_style = {\n",
    "        'fillOpacity': 0.5,\n",
    "        'color': 'grey',\n",
    "        'weight': 0.1\n",
    "    }\n",
    "        \n",
    "    default_style['fillPattern'] = plugins.pattern.StripePattern(angle=-45)\n",
    "        \n",
    "    return default_style\n",
    "\n",
    "folium.GeoJson(\n",
    "    NeiBmerge,\n",
    "    style_function=style_zero_function,\n",
    "    tooltip=folium.GeoJsonTooltip(\n",
    "        fields=['Neighbourhood'],\n",
    "        aliases=['Neighbourhood'],\n",
    "        localize=False\n",
    "    ),\n",
    "    ).add_to(edmA_map)\n",
    "\n",
    "colormap.add_to(edmA_map)\n",
    "edmA_map"
   ]
  },
  {
   "cell_type": "code",
   "execution_count": null,
   "metadata": {},
   "outputs": [],
   "source": [
    "from branca.element import Template, MacroElement\n",
    "\n",
    "template = \"\"\"\n",
    "{% macro html(this, kwargs) %}\n",
    "\n",
    "<!doctype html>\n",
    "<html lang=\"en\">\n",
    "<head>\n",
    "  <meta charset=\"utf-8\">\n",
    "  <meta name=\"viewport\" content=\"width=device-width, initial-scale=1\">\n",
    "  <title>jQuery UI Draggable - Default functionality</title>\n",
    "  <link rel=\"stylesheet\" href=\"//code.jquery.com/ui/1.12.1/themes/base/jquery-ui.css\">\n",
    "\n",
    "  <script src=\"https://code.jquery.com/jquery-1.12.4.js\"></script>\n",
    "  <script src=\"https://code.jquery.com/ui/1.12.1/jquery-ui.js\"></script>\n",
    "  \n",
    "  <script>\n",
    "  $( function() {\n",
    "    $( \"#maplegend\" ).draggable({\n",
    "                    start: function (event, ui) {\n",
    "                        $(this).css({\n",
    "                            right: \"auto\",\n",
    "                            top: \"auto\",\n",
    "                            bottom: \"auto\"\n",
    "                        });\n",
    "                    }\n",
    "                });\n",
    "});\n",
    "\n",
    "  </script>\n",
    "</head>\n",
    "<body>\n",
    "\n",
    " \n",
    "<div id='maplegend' class='maplegend' \n",
    "    style='position: absolute; z-index:9999; border:2px solid grey; background-color:rgba(255, 255, 255, 0.8);\n",
    "     border-radius:6px; padding: 10px; font-size:14px; right: 20px; bottom: 20px;'>\n",
    "     \n",
    "<div class='legend-title'>Percentage change in family without child (%)</div>\n",
    "<div class='legend-scale'>\n",
    "  <ul class='legend-labels'>\n",
    "    <li><span style='background:#c51b7d;opacity:0.7;'></span><-20%</li>\n",
    "    <li><span style='background:#e9a3c9;opacity:0.7;'></span>-20% to -10%</li>\n",
    "    <li><span style='background:#fde0ef;opacity:0.7;'></span>-10% to 0%</li>\n",
    "    <li><span style='background:#e6f5d0;opacity:0.7;'></span>0% to 10%</li>\n",
    "    <li><span style='background:#a1d76a;opacity:0.7;'></span>10% to 20%</li>\n",
    "    <li><span style='background:#4d9221;opacity:0.7;'></span>>20%</li>\n",
    "    <li><span style='background:grey;opacity:0.7;'></span>new neighbourhood</li>\n",
    "\n",
    "\n",
    "  </ul>\n",
    "</div>\n",
    "</div>\n",
    " \n",
    "</body>\n",
    "</html>\n",
    "\n",
    "<style type='text/css'>\n",
    "  .maplegend .legend-title {\n",
    "    text-align: left;\n",
    "    margin-bottom: 5px;\n",
    "    font-weight: bold;\n",
    "    font-size: 90%;\n",
    "    }\n",
    "  .maplegend .legend-scale ul {\n",
    "    margin: 0;\n",
    "    margin-bottom: 5px;\n",
    "    padding: 0;\n",
    "    float: left;\n",
    "    list-style: none;\n",
    "    }\n",
    "  .maplegend .legend-scale ul li {\n",
    "    font-size: 80%;\n",
    "    list-style: none;\n",
    "    margin-left: 0;\n",
    "    line-height: 18px;\n",
    "    margin-bottom: 2px;\n",
    "    }\n",
    "  .maplegend ul.legend-labels li span {\n",
    "    display: block;\n",
    "    float: left;\n",
    "    height: 16px;\n",
    "    width: 30px;\n",
    "    margin-right: 5px;\n",
    "    margin-left: 0;\n",
    "    border: 1px solid #999;\n",
    "    }\n",
    "  .maplegend .legend-source {\n",
    "    font-size: 80%;\n",
    "    color: #777;\n",
    "    clear: both;\n",
    "    }\n",
    "  .maplegend a {\n",
    "    color: #777;\n",
    "    }\n",
    "</style>\n",
    "{% endmacro %}\"\"\"\n",
    "\n",
    "macro = MacroElement()\n",
    "macro._template = Template(template)\n",
    "\n",
    "edmA_map.get_root().add_child(macro)\n",
    "\n",
    "edmA_map"
   ]
  },
  {
   "cell_type": "markdown",
   "metadata": {},
   "source": [
    "# **End**"
   ]
  },
  {
   "cell_type": "code",
   "execution_count": null,
   "metadata": {},
   "outputs": [],
   "source": []
  },
  {
   "cell_type": "code",
   "execution_count": null,
   "metadata": {},
   "outputs": [],
   "source": []
  }
 ],
 "metadata": {
  "kernelspec": {
   "display_name": "Python",
   "language": "python",
   "name": "conda-env-python-py"
  },
  "language_info": {
   "codemirror_mode": {
    "name": "ipython",
    "version": 3
   },
   "file_extension": ".py",
   "mimetype": "text/x-python",
   "name": "python",
   "nbconvert_exporter": "python",
   "pygments_lexer": "ipython3",
   "version": "3.6.11"
  },
  "toc-autonumbering": false,
  "toc-showcode": false,
  "toc-showmarkdowntxt": false
 },
 "nbformat": 4,
 "nbformat_minor": 4
}
